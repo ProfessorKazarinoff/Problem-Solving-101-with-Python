{
 "cells": [
  {
   "cell_type": "markdown",
   "metadata": {},
   "source": [
    "# Combine two notebooks into one"
   ]
  },
  {
   "cell_type": "code",
   "execution_count": 2,
   "metadata": {},
   "outputs": [],
   "source": [
    "#!/usr/bin/env python\n",
    "# Note, updated version of \n",
    "# https://github.com/ipython/ipython-in-depth/blob/master/tools/nbmerge.py\n",
    "\"\"\"\n",
    "usage:\n",
    "python nbmerge.py A.ipynb B.ipynb C.ipynb > merged.ipynb\n",
    "\"\"\"\n",
    "\n",
    "import io\n",
    "import os\n",
    "import sys\n",
    "\n",
    "import nbformat\n",
    "import nbconvert\n",
    "from nbconvert.writers import FilesWriter\n",
    "\n",
    "def merge_notebooks(filenames):\n",
    "    \"\"\"\n",
    "    function takes in a list of notebook file names and outputs a NotebookNode object\n",
    "    which is all the notebooks combined into one.\n",
    "    \"\"\"\n",
    "    merged = None\n",
    "    for fname in filenames:\n",
    "        with io.open(fname, 'r', encoding='utf-8') as f:\n",
    "            nb = nbformat.read(f, as_version=4)\n",
    "        if merged is None:\n",
    "            merged = nb\n",
    "        else:\n",
    "            # TODO: add an optional marker between joined notebooks\n",
    "            # like an horizontal rule, for example, or some other arbitrary\n",
    "            # (user specified) markdown cell)\n",
    "            merged.cells.extend(nb.cells)\n",
    "    if not hasattr(merged.metadata, 'name'):\n",
    "        merged.metadata.name = ''\n",
    "    merged.metadata.name += \"_merged\"\n",
    "    #print(nbformat.writes(merged))\n",
    "    \n",
    "    return merged\n",
    "\n",
    "#if __name__ == '__main__':\n",
    "#    notebooks = sys.argv[1:]\n",
    "#    if not notebooks:\n",
    "#        print(__doc__, file=sys.stderr)\n",
    "#        sys.exit(1)\n",
    "#       \n",
    "#    merge_notebooks(notebooks)"
   ]
  },
  {
   "cell_type": "code",
   "execution_count": 4,
   "metadata": {},
   "outputs": [
    {
     "name": "stdout",
     "output_type": "stream",
     "text": [
      "{\n",
      " \"cells\": [\n",
      "  {\n",
      "   \"cell_type\": \"markdown\",\n",
      "   \"metadata\": {},\n",
      "   \"source\": [\n",
      "    \"# Title NB 1\"\n",
      "   ]\n",
      "  },\n",
      "  {\n",
      "   \"cell_type\": \"code\",\n",
      "   \"execution_count\": 1,\n",
      "   \"metadata\": {},\n",
      "   \"outputs\": [\n",
      "    {\n",
      "     \"name\": \"stdout\",\n",
      "     \"output_type\": \"stream\",\n",
      "     \"text\": [\n",
      "      \"The Zen of Python, by Tim Peters\\n\",\n",
      "      \"\\n\",\n",
      "      \"Beautiful is better than ugly.\\n\",\n",
      "      \"Explicit is better than implicit.\\n\",\n",
      "      \"Simple is better than complex.\\n\",\n",
      "      \"Complex is better than complicated.\\n\",\n",
      "      \"Flat is better than nested.\\n\",\n",
      "      \"Sparse is better than dense.\\n\",\n",
      "      \"Readability counts.\\n\",\n",
      "      \"Special cases aren't special enough to break the rules.\\n\",\n",
      "      \"Although practicality beats purity.\\n\",\n",
      "      \"Errors should never pass silently.\\n\",\n",
      "      \"Unless explicitly silenced.\\n\",\n",
      "      \"In the face of ambiguity, refuse the temptation to guess.\\n\",\n",
      "      \"There should be one-- and preferably only one --obvious way to do it.\\n\",\n",
      "      \"Although that way may not be obvious at first unless you're Dutch.\\n\",\n",
      "      \"Now is better than never.\\n\",\n",
      "      \"Although never is often better than *right* now.\\n\",\n",
      "      \"If the implementation is hard to explain, it's a bad idea.\\n\",\n",
      "      \"If the implementation is easy to explain, it may be a good idea.\\n\",\n",
      "      \"Namespaces are one honking great idea -- let's do more of those!\\n\"\n",
      "     ]\n",
      "    }\n",
      "   ],\n",
      "   \"source\": [\n",
      "    \"import this\"\n",
      "   ]\n",
      "  },\n",
      "  {\n",
      "   \"cell_type\": \"code\",\n",
      "   \"execution_count\": null,\n",
      "   \"metadata\": {},\n",
      "   \"outputs\": [],\n",
      "   \"source\": []\n",
      "  },\n",
      "  {\n",
      "   \"cell_type\": \"markdown\",\n",
      "   \"metadata\": {},\n",
      "   \"source\": [\n",
      "    \"# Title NB2\"\n",
      "   ]\n",
      "  },\n",
      "  {\n",
      "   \"cell_type\": \"code\",\n",
      "   \"execution_count\": 2,\n",
      "   \"metadata\": {},\n",
      "   \"outputs\": [],\n",
      "   \"source\": [\n",
      "    \"import matplotlib.pyplot as plt\\n\",\n",
      "    \"%matplotlib inline\"\n",
      "   ]\n",
      "  },\n",
      "  {\n",
      "   \"cell_type\": \"code\",\n",
      "   \"execution_count\": 3,\n",
      "   \"metadata\": {},\n",
      "   \"outputs\": [\n",
      "    {\n",
      "     \"data\": {\n",
      "      \"image/png\": \"iVBORw0KGgoAAAANSUhEUgAAAXQAAAD8CAYAAABn919SAAAABHNCSVQICAgIfAhkiAAAAAlwSFlz\\nAAALEgAACxIB0t1+/AAAADl0RVh0U29mdHdhcmUAbWF0cGxvdGxpYiB2ZXJzaW9uIDIuMi4yLCBo\\ndHRwOi8vbWF0cGxvdGxpYi5vcmcvhp/UCwAAIABJREFUeJzt3Xl4lfW57vHvk4F5JglDAoQZmQkR\\nFapFUYuKY7BbbXtarZvqFovbOrZabbu73bbWXY+e3VOOWttdRSVBnBXrPNUhK4R5HlcCJAwhTCHD\\nes4fib0sGwskK3nXWrk/18VFsrLIe18hufnxrPf9vebuiIhI/EsKOoCIiESHCl1EJEGo0EVEEoQK\\nXUQkQajQRUQShApdRCRBqNBFRBKECl1EJEGo0EVEEkRKSx4sLS3Ns7OzW/KQIiJxr7CwcKe7px/r\\neS1a6NnZ2Xz++ecteUgRkbhnZpuP53kauYiIJAgVuohIglChi4gkCBW6iEiCUKGLiCQIFbqISIJQ\\noYuIJAgVuohIM9p7qIZ7X1hOZVVNsx9LhS4i0kyKt1Yw4+H3+fNfN/Ppht3NfrwWvVJURKQ1cHce\\n+2Aj97+2iozO7XjmB6cxcUD3Zj+uCl1EJIr2HKjmlvnFvLmqjHNH9uLXM8fRtUNqixxbhS4iEiWf\\nbdrND+cVsWt/NfdeOJLvTs7GzFrs+Cp0EZEmikSc3727ngffWENW9/YUXD+ZMVldWzyHCl1EpAnK\\n9x3m5mcX8/7ancwY24f7LhtD53YtM2I5kgpdRKSRPlq3kznPLKbyUA33XTaGK07u16IjliOp0EVE\\nTlBdxHnozbU8/NZaBqV15L+/P4kRvbsEHUuFLiJyIrbvrWLO00V8snE3Mydm8fOLR9GhTWxUaWyk\\nEBGJA2+vLuNHzxZTVVPHby4fR97ErKAj/R0VuojIMdTURXhg0Wp+/+4GRvTuzCNX5TAko1PQsf6H\\nY176b2aPm1mZmS07ysduMTM3s7TmiSciEqzwnoN88/cf8/t3N/CtU/qz8IYpMVnmcHwr9CeAR4A/\\nfflBM+sHnANsiX4sEZHgvb58O7fOL8YdHrlqAjPG9g060j90zEJ39/fMLPsoH/pP4Dbg+ShnEhEJ\\n1OHaOu57ZRVPfLSJMZldeeSqCQzo2THoWMfUqBm6mV0ElLh78bHOuTSzWcAsgP79+zfmcCIiLWbT\\nzgPMnhdiWUkl10wZyO3nDadtSnLQsY7LCRe6mXUAfgKcezzPd/e5wFyA3NxcP9HjiYi0lBeKS/nx\\ngqUkJxlzvzORc0f1DjrSCWnMCn0wMBD4YnWeBYTMbJK7b49mOBGRllBVU8fPXlzBvE+3kNO/Gw9f\\nlUNmt/ZBxzphJ1zo7r4UyPjifTPbBOS6+84o5hIRaRHryvZxw5NFrN6xj+unDubmc4aRmhyf9/45\\nZqGb2TxgKpBmZmHgHnd/rLmDiYg0t/zCMHcvXEaHNsk8cfXJTB2ecew/FMOO5yyXK4/x8eyopRER\\naQEHDtdy9/PLWBAq4dRBPXjoign06tIu6FhNpitFRaRVWbmtkhueCrFx5wFuOnsoN541lOSk4HZI\\njCYVuoi0Cu7OU59u4WcvrqBb+1SevPYUJg9OrIvcVegikvAqq2q4c8FSXl6yjTOGpfPgN8eR1qlt\\n0LGiToUuIgltSbiC2U8VUVJxiNumD+e6MwaTlCAjliOp0EUkIbk7f/hwE/e9upL0Tm15Ztap5Gb3\\nCDpWs1Khi0jCqThYzS3zl/CXlTs4+6QMfj1zHN07tgk6VrNToYtIQincvJsbnyqifP9h7p4xkmum\\nZAd6n8+WpEIXkYRwuLaOxz7YyG8WrSGzW3sKrp/M2KxuQcdqUSp0EYlb7s7irRUUhMK8WLyNvYdq\\nuGBMH+7LG0OXdqlBx2txKnQRiTvb9h5iQaiEBaEw68sP0DYliW+M6s3MiVmcPjSt1YxYjqRCF5G4\\ncLC6lteXb6egsIQP1+/EHU7O7s4/nz6I88f2aZUr8iOp0EUkZkUizqebdlNQGOaVpds4UF1HVvf2\\n3HjWUPJyMuPiLkItSYUuIjFn864DFIRKeK4ozNbdh+jYJpnzx/Qhb2IWk7J7JOyFQU2lQheRmFBZ\\nVcMrS7ZREArz2aY9mMGUwWncfM4wvjGqNx3aqK6ORV8hEQlMXcT5YN1OCgrDvL58O4drIwxK78it\\n3xjOpRMy6RuHdw0KkgpdRFrc2h37yA+FWVhUwo7Kw3Rtn8rluVnk5WQxvl+3VnuWSlOp0EWkRew5\\nUM0LxaUUhMIsCe8lOcmYOiydey7MYtpJGbRNSQ46YtxToYtIs6mpi/D2qjIKQmHeWlVGTZ1zUp8u\\n3HXBSVw8PpP0zom3hW2QVOgiElXuzvLSSvILw7xQXMruA9WkdWrD/zotm7ycLEb27RJ0xIR1PDeJ\\nfhyYAZS5++iGx34NXAhUA+uBq929ojmDikhsK6usYuHiEgoKS1i9Yx9tkpM4e2QGeTlZnDEsndTk\\npKAjJrzjWaE/ATwC/OlLj70B3OnutWZ2P3AncHv044lILKuqqeONFTsoCIV5b005EYfx/brxi0tG\\nc+HYPnTrkPhb1saSYxa6u79nZtlHPLboS+/+FZgZ3VgiEqvcndCWCvILw7y0pJR9VbX06dqO674+\\nmMtyshiS0SnoiK1WNGbo1wDPROHziEiM23+4lrsXLuO5ohLapSZx3ug+5OVkcdrgniTr6s3ANanQ\\nzewnQC3w5D94zixgFkD//v2bcjgRCdDy0r3c+FQRm3YdYM60ofzzGYPo1FbnVcSSRv9tmNl3qX+x\\ndJq7+1c9z93nAnMBcnNzv/J5IhKb3J0/f7KFX7y0gm7tU3ny2lM5bXDPoGPJUTSq0M1sOvUvgn7d\\n3Q9GN5KIxIq9h2q4c8ESXlm6na8PS+fBb46jZyedOx6rjue0xXnAVCDNzMLAPdSf1dIWeKPhEt2/\\nuvt1zZhTRFpY8dYKZs8LUVpRxR3njWDW6YO0y2GMO56zXK48ysOPNUMWEYkB7s5jH2zk/tdWkdG5\\nHc/+4DQmDugedCw5DnpFQ0T+Zs+Bam6ZX8ybq8o4d2QvfjVzrM4ljyMqdBEB4PNNu7lxXhG79ldz\\n74Uj+e7kbO16GGdU6CKtXCTi/O7d9Tz4xhqyuren4PrJjMnqGnQsaQQVukgrVr7vMDc/u5j31+5k\\nxtg+3HfZGDrrZstxS4Uu0kp9tG4nc55ZTOWhGu67bAxXnNxPI5Y4p0IXaWXqIs5Db67l4bfWMiit\\nI//9/UmM6K0tbROBCl2kFdm+t4o5TxfxycbdzJyYxc8vHqWbLycQ/U2KtBJvry7jR88Wc6i6jt9c\\nPo68iVlBR5IoU6GLJLiauggPLFrN79/dwIjenXnkqhxtcZugVOgiCSy85yA3ziuiaEsFV53Sn5/O\\nGEm7VN2MOVGp0EUS1KLl27k1fwl1EefhKydw4bi+QUeSZqZCF0kwh2vr+I9XV/GHDzcxJrMrj1w1\\ngQE9OwYdS1qACl0kgWzaeYDZ80IsK6nkmikDuf284bRN0YiltVChiySIF4tLuXPBUpKTjLnfmci5\\no3oHHUlamApdJM5V1dTxsxdXMO/TLeT078bDV+WQ2a190LEkACp0kTi2rmwfs58qYtX2fVw/dTA3\\nnzOM1OSkoGNJQFToInEqvzDM3QuX0aFNMk9cfTJTh2cEHUkCpkIXiTMHDtdy9/PLWBAq4dRBPXjo\\nign06tIu6FgSA1ToInFk5bZKZj8VYsPOA9x09lBuPGsoybrPpzQ45rDNzB43szIzW/alx3qY2Rtm\\ntrbhd91wUKQZuTtPfbKFS/7Ph1RW1fLktadw09nDVObyd47n1ZMngOlHPHYH8Ka7DwXebHhfRJrB\\nvqoabpxXxI+fW8qkgT14dc7pTB6cFnQsiUHHHLm4+3tmln3EwxcDUxve/iPwDnB7FHOJCLA0vJfZ\\n80KE9xzitunDue6MwSRpVS5fobEz9F7uvg3A3beZmV5eF4mSSMT564Zd5IfCvFhcSnqntjwz61Ry\\ns3sEHU1iXLO/KGpms4BZAP3792/uw4nErQ3l+1kQKuG5ohJKKg7RuW0K38ztxy3nDqd7xzZBx5M4\\n0NhC32FmfRpW532Asq96orvPBeYC5ObmeiOPJ5KQ9h6q4aUlpRQUhgltqSDJ4PSh6dx+3gjOHdlL\\nW93KCWlsob8AfBf4j4bfn49aIpEEV1sX4f21O8kPhXljxQ6qayMM69WJO88bwSUTMnVOuTTaMQvd\\nzOZR/wJompmFgXuoL/Jnzez7wBbg8uYMKZIIVm2vpKAwzMLFpZTvO0z3DqlcNak/eTlZjM7sgple\\n7JSmOZ6zXK78ig9Ni3IWkYSza/9hnl9cSkEozPLSSlKTjTOHZ5A3MYszh2fQJkX7rkj06EpRkSg7\\nXFvH26vKyC8s4Z3VZdRGnDGZXbn3wpFcND6THnqBU5qJCl0kCtydJeG9FITCvFBcSsXBGjI6t+X7\\nXxtI3sQshvXqHHREaQVU6CJNsH1vFc8VlVAQCrOubD9tU5I4d1Rv8nIy+dqQNFK0la20IBW6yAk6\\nVF3HohXbyS8M8+G6nUQccgd0577LxnDB2D50aZcadERppVToIsfB3fls0x4KCsO8vHQb+w/Xktmt\\nPbPPHMJlOVlkp+kmzBI8FbrIP7B190EKQmEWhErYsvsgHdokc/6YPuTlZHHKwB7aV0Viigpd5Aj7\\nqmp4del28kNhPt24GzOYPLgnN509lOmje9OhjX5sJDbpO1MEqIs4H63fSUFhmNeWb6eqJsKgtI7c\\n+o3hXDIhUzddlrigQpdWbV3ZfgpCYRYWlbBtbxVd2qWQl5NF3sQsJvTrpqs3Ja6o0KXVqThYzYvF\\npeSHSijeWkFykvH1YencdcFIpp2UoQ2xJG6p0KVVqKmL8O7qcgpCYd5cWUZ1XYQRvTtz1wUncdH4\\nvmR01oZYEv9U6JLQlpfupaCwhBeKS9i5v5qeHdvw7VMHkDcxk1F9uwYdTySqVOiScMr3Heb5xSXk\\nF4ZZtX0fbZKTmHZSBnk5WXx9eDqpunpTEpQKXRJCVU0db64soyAU5t015dRFnHH9uvGLi0dx4bi+\\ndOugDbEk8anQJW65O0VbKygorL/3ZmVVLb27tGPWGYPIy8lkSIY2xJLWRYUucae04lD9hliFYTbs\\nPEC71CSmj+pN3sQsJg9OI1lXb0orpUKXuHCwupbXlm2nIBTmo/W7cIdJA3tw3dcHc96Y3nTWhlgi\\nKnSJXZGI88nG3RSEwry6dBsHquvo36MDc6YN5bIJWfTv2SHoiCIxRYUuMWfTzgMsCIUpCJVQUnGI\\nTm1TmDG2L3kTszg5u7uu3hT5Ck0qdDP7V+BawIGlwNXuXhWNYNK67D1Uw8tLtlEQClO4eQ9m8LUh\\nadw2fTjnjuxN+za6elPkWBpd6GaWCfwQGOnuh8zsWeAK4IkoZZMEV1sX4f119RtivbFiB4drIwzJ\\n6MTt00dw6YRMenfV1ZsiJ6KpI5cUoL2Z1QAdgNKmR5JEt3r7vr9tiFW27zDdOqTyTyf3Iy8ni7FZ\\nXTVSEWmkRhe6u5eY2QPAFuAQsMjdF0UtmSSU3QeqeWFxCQWhEpaW7CUlyZg6PIOZEzM5c0QGbVM0\\nUhFpqqaMXLoDFwMDgQpgvpl9293/fMTzZgGzAPr379+EqBJvqmsjvL26jPzCMG+vKqM24ozq24Wf\\nzhjJReP7ktapbdARRRJKU0YuZwMb3b0cwMwWAJOBvyt0d58LzAXIzc31JhxP4oC7s6ykkoJQmOcX\\nl7DnYA1pndpy9ZRs8iZmMaJ3l6AjiiSsphT6FuBUM+tA/chlGvB5VFJJ3NlRWcXCohIKQmHW7NhP\\nm5QkzhnZi5k5WZw+NI0UbYgl0uyaMkP/xMzygRBQCxTRsBKX1qGqpo5FK3ZQUBjm/bXlRBxy+nfj\\nl5eOZsaYvnTtoKs3RVpSk85ycfd7gHuilEXigLtTuHkPBaEwLy3Zxr6qWvp2bce/TB3CZTmZDErv\\nFHREkVZLV4rKcdm6+yDPFZWwIBRm066DtE9N5rzRvZk5MYtTB/UkSRtiiQROhS5f6cDhWl5ZWn/1\\n5l837Abg1EE9uOHMIZw3pg+d2urbRySW6CdS/k4k4ny8YRcFhWFeXbadQzV1ZPfswM3nDOPSCZn0\\n66ENsURilQpdANhQvp+CUJjnQiWU7q2ic9sULpnQl7ycLCYO0IZYIvFAhd6K7T1Yw4tLSikIhSna\\nUkGSwelD07nj/JM4d2Qv2qXq6k2ReKJCb2Vq6yK8t7acgsIS3li5g+raCMN6deLO80ZwyYRMenXR\\nhlgi8UqF3kqs3FZJQWGYhYtL2bn/MN07pHLVpP7k5WQxOrOLRioiCUCFnsB27j/M84tLKSgMs2Jb\\nJSlJxlkjMsibmMWZwzNok6KrN0USiQo9AS0r2ctv/7KWd1bXb4g1JrMr9144kovGZ9KjY5ug44lI\\nM1GhJxB354mPNvHvr6ykS7tUvv+1gVyWk8Xw3p2DjiYiLUCFniAqDlZza/4S3lixg7NPyuDXM8fR\\nXatxkVZFhZ4ACjfv4YfziijbV8XdM0ZyzZRsvcgp0gqp0ONYJOL8/r0NPLBoNX27tSP/usmM69ct\\n6FgiEhAVepzauf8wNz9bzHtryjl/TG/+I28sXdppu1qR1kyFHoc+Xr+LOU8XUXGohn+7ZDTfOqW/\\nRiwiokKPJ3UR5+G31vK/31xLds+OPHH1JEb21S3dRKSeCj1O7Kis4qanF/Pxhl1cOiGTf7tkNB21\\nfa2IfIkaIQ68u6acm59ZzMHqOn49cywzJ2ZpxCIi/4MKPYbV1kX4zRtr+N076xnWqxNPX5XD0F66\\nSEhEjk6FHqNKKw7xw3lFfL55D1ec3I97LhxF+zbazlZEvlqTCt3MugGPAqMBB65x94+jEaw1+8uK\\nHdySX0xNbYSHrhjPxeMzg44kInGgqSv0h4DX3H2mmbUBdH+yJqiujXD/a6t47IONjOrbhUeuymFg\\nWsegY4lInGh0oZtZF+AM4HsA7l4NVEcnVuuzZddBZs8LsSS8l+9NzubO80fQNkUjFhE5fk1ZoQ8C\\nyoE/mNk4oBCY4+4HvvwkM5sFzALo379/Ew6XuF5eso07CpZgBv/32zlMH90n6EgiEoeacoeDFCAH\\n+J27TwAOAHcc+SR3n+vuue6em56e3oTDJZ6qmjruWriUG54KMTijEy//8HSVuYg0WlNW6GEg7O6f\\nNLyfz1EKXY5uffl+bngyxKrt+/jBGYO45RvDSU3WHYREpPEaXejuvt3MtprZcHdfDUwDVkQvWuJa\\nEApz18JltE1J4g/fO5kzR2QEHUlEEkBTz3K5EXiy4QyXDcDVTY+UuA5W1/LT55eTXxhmUnYPHrpy\\nPH26tg86logkiCYVursvBnKjlCWhrdpeyeynilhfvp8bzxrCnGlDSdGIRUSiSFeKNjN35+nPtnLv\\nC8vp3C6V/77mFL42NC3oWCKSgFTozWhfVQ0/fm4ZLxaXMmVIT/7zn8aT0bld0LFEJEGp0JvJspK9\\nzH4qxJbdB7nl3GFcP3UIyUnaIVFEmo8KPcrcnT99vJlfvrySHh3b8PSs05g0sEfQsUSkFVChR9He\\ngzXcVlDM68t3cNaIDB64fBw9OrYJOpaItBIq9CgJbdnDjU8VsaOyip+cfxLf/9pAkjRiEZEWpEJv\\nokjEefSDDfzqtdX07tqO+dedxoT+3YOOJSKtkAq9CfYcqObmZxfz9upypo/qzf0zx9K1fWrQsUSk\\nlVKhN1Ik4syeF+KzjXv4+cWj+M6pA3SfTxEJlAq9kZ78dAsfrtvFLy8dzbdOGRB0HBGRJm2f22pt\\n2XWQ+15ZydeGpHHVJO3xLiKxQYV+giIR59b8YpLNuH/mWI1ZRCRmqNBP0B8/3sQnG3dz94yRZHbT\\nTokiEjtU6CdgQ/l+7n9tFWcOT+fy3Kyg44iI/B0V+nGqizi35i+hTXIS912mUYuIxB6d5XKcHvtg\\nA4Wb9/DgN8fRu6t2TBSR2KMV+nFYV7aPBxat4ZyRvbh0QmbQcUREjkqFfgy1dRF+NH8JHdok88tL\\nR2vUIiIxSyOXY/j9exso3lrBw1dO0M0pRCSmNXmFbmbJZlZkZi9FI1AsWbW9kt/+ZQ3nj+nNjLF9\\ngo4jIvIPRWPkMgdYGYXPE1Nq6iL86NliurRL5RcXa9QiIrGvSYVuZlnABcCj0YkTO/7r7fUsL63k\\nl5eOpmentkHHERE5pqau0H8L3AZEopAlZiwr2cvDb63l4vF9mT5aoxYRiQ+NLnQzmwGUuXvhMZ43\\ny8w+N7PPy8vLG3u4FlNdG+GW+cV079iGey8cFXQcEZHj1pQV+hTgIjPbBDwNnGVmfz7ySe4+191z\\n3T03PT29CYdrGQ+/tZZV2/dx36Vj6K77gYpIHGl0obv7ne6e5e7ZwBXAW+7+7aglC0Dx1gr+6531\\n5OVkcfbIXkHHERE5IbqwqEFVTR23zC8mvVNbfnrhyKDjiIicsKhcWOTu7wDvRONzBeU//7KGtWX7\\neeLqk3VfUBGJS1qhA4Wb9/D/3tvAFSf3Y+rwjKDjiIg0Sqsv9EPVddw6v5g+XdvzkwtOCjqOiEij\\ntfq9XB5YtJoNOw/w5LWn0LmdRi0iEr9a9Qr90427efzDjXzn1AFMGZIWdBwRkSZptYV+sLqWW/OL\\n6de9A3ecNyLoOCIiTdZqRy73v7qKzbsO8sysU+nYttV+GUQkgbTKFfpH63byx483c/WUbE4Z1DPo\\nOCIiUdHqCn3/4VpuzV/CwLSO3PYNjVpEJHG0ulnDL19eyba9h5h/3Wm0b5McdBwRkahpVSv099aU\\nM+/TLfzz6YOYOKBH0HFERKKq1RR6ZVUNtxcsYXB6R/71nGFBxxERibpWM3L5xYsr2FFZxYJ/mUK7\\nVI1aRCTxtIoV+lurdjC/MMz1Uwczvl+3oOOIiDSLhC/0ioPV3FGwlBG9O/PDaUODjiMi0mwSfuTy\\nsxdXsPtANY9/72TapmjUIiKJK6FX6K8v385zRSXccOYQRmd2DTqOiEizSthC332gmp88t5SRfbow\\n+6whQccREWl2CTty+enzy9h7qIY/X3sKqckJ+++WiMjfJGTTvbxkGy8t2cZNZw9jRO8uQccREWkR\\njS50M+tnZm+b2UozW25mc6IZrLHK9x3mroVLGZfVlR+cMSjoOCIiLaYpI5da4EfuHjKzzkChmb3h\\n7iuilO2EuTt3LVzKgeo6Hrh8HCkatYhIK9LoxnP3be4eanh7H7ASyIxWsMZ4obiU15fv4EfnDGNo\\nr85BRhERaXFRWcKaWTYwAfgkGp+vMXZUVvHT55eT078b156uUYuItD5NLnQz6wQUADe5e+VRPj7L\\nzD43s8/Ly8uberijcnd+vGApVTX1o5bkJGuW44iIxLImFbqZpVJf5k+6+4KjPcfd57p7rrvnpqen\\nN+VwX6kgVMKbq8q4bfoIBqV3apZjiIjEuqac5WLAY8BKd38wepFOzLa9h/jZi8uZlN2DqydnBxVD\\nRCRwTVmhTwG+A5xlZosbfp0fpVzHxd25vWAptXXOry8fS5JGLSLSijX6tEV3/wAItEGf/mwr760p\\n5xcXj2JAz45BRhERCVzcnqgd3nOQf3tpBZMH9+RbpwwIOo6ISODistAjEee2/CUA/GqmRi0iIhCn\\nhf7kJ5v5aP0u7poxkqzuHYKOIyISE+Ku0LfsOsi/v7KKM4alc8XJ/YKOIyISM+Kq0CMR55b8YlKS\\njfvzxlB/5qSIiECcFfoTH23i0427uefCUfTp2j7oOCIiMSVuCn1D+X5+9foqpo3IIC8n0D3ARERi\\nUlwUel3EuWV+MW1TkrnvMo1aRESOJi5uQffo+xsIbangoSvGk9GlXdBxRERiUlys0DO6tOXyiVlc\\nNK5v0FFERGJWXKzQL52QxaUTsoKOISIS0+JihS4iIsemQhcRSRAqdBGRBKFCFxFJECp0EZEEoUIX\\nEUkQKnQRkQShQhcRSRDm7i13MLNyYHMj/3gasDOKcaJFuU6Mcp0Y5ToxsZoLmpZtgLunH+tJLVro\\nTWFmn7t7btA5jqRcJ0a5ToxynZhYzQUtk00jFxGRBKFCFxFJEPFU6HODDvAVlOvEKNeJUa4TE6u5\\noAWyxc0MXURE/rF4WqGLiMg/EBeFbmbTzWy1ma0zszuCzgNgZo+bWZmZLQs6y5eZWT8ze9vMVprZ\\ncjObE3QmADNrZ2afmllxQ66fBZ3py8ws2cyKzOyloLN8wcw2mdlSM1tsZp8HnecLZtbNzPLNbFXD\\n99lpMZBpeMPX6YtflWZ2U9C5AMzsXxu+55eZ2Twza7bbrsX8yMXMkoE1wDlAGPgMuNLdVwSc6wxg\\nP/Andx8dZJYvM7M+QB93D5lZZ6AQuCQGvl4GdHT3/WaWCnwAzHH3vwaZ6wtmdjOQC3Rx9xlB54H6\\nQgdy3T2mzqs2sz8C77v7o2bWBujg7hVB5/pCQ2eUAKe4e2Ove4lWlkzqv9dHuvshM3sWeMXdn2iO\\n48XDCn0SsM7dN7h7NfA0cHHAmXD394DdQec4krtvc/dQw9v7gJVAZrCpwOvtb3g3teFXTKwmzCwL\\nuAB4NOgssc7MugBnAI8BuHt1LJV5g2nA+qDL/EtSgPZmlgJ0AEqb60DxUOiZwNYvvR8mBgoqHphZ\\nNjAB+CTYJPUaxhqLgTLgDXePiVzAb4HbgEjQQY7gwCIzKzSzWUGHaTAIKAf+0DCietTMOgYd6ghX\\nAPOCDgHg7iXAA8AWYBuw190XNdfx4qHQ7SiPxcTKLpaZWSegALjJ3SuDzgPg7nXuPh7IAiaZWeCj\\nKjObAZS5e2HQWY5iirvnAOcBNzSM+YKWAuQAv3P3CcABICZe1wJoGAFdBMwPOguAmXWnfqIwEOgL\\ndDSzbzfX8eKh0MNAvy+9n0Uz/pclETTMqAuAJ919QdB5jtTwX/R3gOkBRwGYAlzUMK9+GjjLzP4c\\nbKR67l7a8HsZ8Bz148eghYHwl/53lU99wceK84CQu+8IOkiDs4GN7l7u7jXAAmBycx0sHgr9M2Co\\nmQ1s+Nf3CuCFgDPFrIYXHx8DVrr7g0Hn+YKZpZtZt4a321P/jb4q2FTg7ne6e5a7Z1P/vfWWuzfb\\nCup4mVnHhhe1aRhpnAsEfkaapfGvAAAA4ElEQVSVu28HtprZ8IaHpgGBvuB+hCuJkXFLgy3AqWbW\\noeFncxr1r2s1i5Tm+sTR4u61ZjYbeB1IBh539+UBx8LM5gFTgTQzCwP3uPtjwaYC6lec3wGWNsyr\\nAX7s7q8EmAmgD/DHhjMQkoBn3T1mThGMQb2A5+o7gBTgKXd/LdhIf3Mj8GTDAmsDcHXAeQAwsw7U\\nnw33g6CzfMHdPzGzfCAE1AJFNOMVozF/2qKIiByfeBi5iIjIcVChi4gkCBW6iEiCUKGLiCQIFbqI\\nSIJQoYuIJAgVuohIglChi4gkiP8PylB+v6hrUqYAAAAASUVORK5CYII=\\n\",\n",
      "      \"text/plain\": [\n",
      "       \"<Figure size 432x288 with 1 Axes>\"\n",
      "      ]\n",
      "     },\n",
      "     \"metadata\": {},\n",
      "     \"output_type\": \"display_data\"\n",
      "    }\n",
      "   ],\n",
      "   \"source\": [\n",
      "    \"a = [1,5,7,8,9,10,12,13,15]\\n\",\n",
      "    \"plt.plot(a)\\n\",\n",
      "    \"plt.show()\"\n",
      "   ]\n",
      "  },\n",
      "  {\n",
      "   \"cell_type\": \"code\",\n",
      "   \"execution_count\": null,\n",
      "   \"metadata\": {},\n",
      "   \"outputs\": [],\n",
      "   \"source\": []\n",
      "  }\n",
      " ],\n",
      " \"metadata\": {\n",
      "  \"kernelspec\": {\n",
      "   \"display_name\": \"Python 3\",\n",
      "   \"language\": \"python\",\n",
      "   \"name\": \"python3\"\n",
      "  },\n",
      "  \"language_info\": {\n",
      "   \"codemirror_mode\": {\n",
      "    \"name\": \"ipython\",\n",
      "    \"version\": 3\n",
      "   },\n",
      "   \"file_extension\": \".py\",\n",
      "   \"mimetype\": \"text/x-python\",\n",
      "   \"name\": \"python\",\n",
      "   \"nbconvert_exporter\": \"python\",\n",
      "   \"pygments_lexer\": \"ipython3\",\n",
      "   \"version\": \"3.6.3\"\n",
      "  },\n",
      "  \"name\": \"_merged\"\n",
      " },\n",
      " \"nbformat\": 4,\n",
      " \"nbformat_minor\": 2\n",
      "}\n"
     ]
    }
   ],
   "source": [
    "merged_nbs = merge_notebooks(['nb1.ipynb','nb2.ipynb'])"
   ]
  },
  {
   "cell_type": "code",
   "execution_count": 5,
   "metadata": {},
   "outputs": [
    {
     "data": {
      "text/plain": [
       "nbformat.notebooknode.NotebookNode"
      ]
     },
     "execution_count": 5,
     "metadata": {},
     "output_type": "execute_result"
    }
   ],
   "source": [
    "type(merged_nbs)"
   ]
  },
  {
   "cell_type": "code",
   "execution_count": null,
   "metadata": {},
   "outputs": [],
   "source": []
  },
  {
   "cell_type": "code",
   "execution_count": 13,
   "metadata": {},
   "outputs": [],
   "source": []
  },
  {
   "cell_type": "code",
   "execution_count": 14,
   "metadata": {},
   "outputs": [
    {
     "data": {
      "text/plain": [
       "'combined.ipynb.ipynb'"
      ]
     },
     "execution_count": 14,
     "metadata": {},
     "output_type": "execute_result"
    }
   ],
   "source": [
    "e = nbconvert.NotebookExporter()\n",
    "body, resources = e.from_notebook_node(merged_nbs)\n",
    "writer = FilesWriter()\n",
    "writer.write(body, resources, notebook_name='combined.ipynb')  # will end up with .tex extension\n"
   ]
  },
  {
   "cell_type": "code",
   "execution_count": 12,
   "metadata": {},
   "outputs": [
    {
     "data": {
      "text/plain": [
       "['ASCIIDocExporter',\n",
       " 'Exporter',\n",
       " 'ExporterNameError',\n",
       " 'FilenameExtension',\n",
       " 'HTMLExporter',\n",
       " 'LatexExporter',\n",
       " 'MarkdownExporter',\n",
       " 'NotebookExporter',\n",
       " 'PDFExporter',\n",
       " 'PythonExporter',\n",
       " 'RSTExporter',\n",
       " 'ScriptExporter',\n",
       " 'SlidesExporter',\n",
       " 'TemplateExporter',\n",
       " '__builtins__',\n",
       " '__cached__',\n",
       " '__doc__',\n",
       " '__file__',\n",
       " '__loader__',\n",
       " '__name__',\n",
       " '__package__',\n",
       " '__path__',\n",
       " '__spec__',\n",
       " '__version__',\n",
       " '_version',\n",
       " 'asciidoc',\n",
       " 'base',\n",
       " 'export',\n",
       " 'export_by_name',\n",
       " 'exporter',\n",
       " 'exporter_locator',\n",
       " 'exporters',\n",
       " 'filters',\n",
       " 'get_export_names',\n",
       " 'get_exporter',\n",
       " 'html',\n",
       " 'latex',\n",
       " 'markdown',\n",
       " 'notebook',\n",
       " 'pdf',\n",
       " 'postprocessors',\n",
       " 'preprocessors',\n",
       " 'python',\n",
       " 'resources',\n",
       " 'rst',\n",
       " 'script',\n",
       " 'slides',\n",
       " 'templateexporter',\n",
       " 'utils',\n",
       " 'version_info',\n",
       " 'writers']"
      ]
     },
     "execution_count": 12,
     "metadata": {},
     "output_type": "execute_result"
    }
   ],
   "source": [
    "dir(nbconvert)"
   ]
  },
  {
   "cell_type": "code",
   "execution_count": null,
   "metadata": {},
   "outputs": [],
   "source": []
  }
 ],
 "metadata": {
  "kernelspec": {
   "display_name": "Python 3",
   "language": "python",
   "name": "python3"
  },
  "language_info": {
   "codemirror_mode": {
    "name": "ipython",
    "version": 3
   },
   "file_extension": ".py",
   "mimetype": "text/x-python",
   "name": "python",
   "nbconvert_exporter": "python",
   "pygments_lexer": "ipython3",
   "version": "3.6.3"
  }
 },
 "nbformat": 4,
 "nbformat_minor": 2
}
