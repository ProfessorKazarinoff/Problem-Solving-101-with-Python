{
 "cells": [
  {
   "cell_type": "markdown",
   "metadata": {},
   "source": [
    "# Working up removing sections from the table of contents of a latex doc\n",
    "\n",
    "from this:\n",
    "\n",
    "```\n",
    "\\section{Contents}\\label{contents}\n",
    "```   \n",
    "\n",
    "to this:\n",
    "\n",
    "```\n",
    "\\section*{Contents}\\label{contents}\n",
    "\t\\addcontentsline{toc}{section}{Contents}\n",
    "```\n"
   ]
  },
  {
   "cell_type": "code",
   "execution_count": 7,
   "metadata": {},
   "outputs": [],
   "source": [
    "def out_of_toc(source,modified):\n",
    "    r1 = '\\\\chapter*{Preface}\\\\label{preface}'+'\\n'+'\\\\'+'addcontentsline{toc}{chapter}{Preface}'\n",
    "    r2 = '\\\\chapter*{Appendix}\\\\label{appendix} \\n \\\\addcontentsline{toc}{chapter}{Appendix}'\n",
    "    with open(modified,'w+') as outfile:\n",
    "        with open(source,'r') as infile:\n",
    "            for line in infile.readlines():\n",
    "                if line:\n",
    "                    rl = line.rstrip()\n",
    "                    sl = rl.strip()\n",
    "                    if '\\\\chapter{Preface}\\\\label{preface}' in sl:\n",
    "                        outline = r1\n",
    "                        outfile.write(outline+'\\n')\n",
    "                    elif '\\\\chapter{Appendix}\\\\label{appendix}' in sl:\n",
    "                        outline = r2\n",
    "                        outfile.write(outline+'\\n')\n",
    "                    else:\n",
    "                        outfile.write(line)\n",
    "    "
   ]
  },
  {
   "cell_type": "code",
   "execution_count": 8,
   "metadata": {},
   "outputs": [
    {
     "data": {
      "text/plain": [
       "'C:\\\\Users\\\\peter.kazarinoff\\\\Documents\\\\book101\\\\conversion_tools'"
      ]
     },
     "execution_count": 8,
     "metadata": {},
     "output_type": "execute_result"
    }
   ],
   "source": [
    "import os\n",
    "os.getcwd()"
   ]
  },
  {
   "cell_type": "code",
   "execution_count": 9,
   "metadata": {},
   "outputs": [],
   "source": [
    "from pathlib import Path\n",
    "from pathlib import PurePath"
   ]
  },
  {
   "cell_type": "code",
   "execution_count": 10,
   "metadata": {},
   "outputs": [],
   "source": [
    "par_dir = Path.cwd().parent\n",
    "source = Path(par_dir, 'pdf','pdfout3.tex')\n",
    "outfile = Path(par_dir, 'pdf','pdfout4.tex')\n",
    "#source.exists()\n",
    "out_of_toc(source,outfile)\n",
    "#source.exists()"
   ]
  },
  {
   "cell_type": "code",
   "execution_count": null,
   "metadata": {},
   "outputs": [],
   "source": []
  }
 ],
 "metadata": {
  "kernelspec": {
   "display_name": "Python 3",
   "language": "python",
   "name": "python3"
  },
  "language_info": {
   "codemirror_mode": {
    "name": "ipython",
    "version": 3
   },
   "file_extension": ".py",
   "mimetype": "text/x-python",
   "name": "python",
   "nbconvert_exporter": "python",
   "pygments_lexer": "ipython3",
   "version": "3.6.4"
  }
 },
 "nbformat": 4,
 "nbformat_minor": 2
}
