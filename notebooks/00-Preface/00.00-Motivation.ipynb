{
 "cells": [
  {
   "cell_type": "markdown",
   "metadata": {},
   "source": [
    "# Preface"
   ]
  },
  {
   "cell_type": "markdown",
   "metadata": {},
   "source": [
    "## Motivation"
   ]
  },
  {
   "cell_type": "markdown",
   "metadata": {},
   "source": [
    "The motivation for writing this book is that many undergraduate engineering students have to complete some problem solving with computer programming as part of their introductory coursework. At may colleges, MATLAB is used as the computer programming language to solve these problems in undergraduate engineering courses. MATLAB is a great piece of software, but it currently costs $49.00 for a student license and requires a group academic site license to be installed in college computer labs. Subsequently, it is costly for a student to use MATLAB and it is costly for a college to support a course that uses MATLAB. \n",
    "\n",
    "The Python programming language on the other hand is open source and free. The cost to both the student and the college to download and use Python is zero. By moving undergraduate engineering programming problem solving from MATLAB to Python, students save money and have greater access to the software they use in class. Further in their engineering education, students can continue to use Python for free. Python and the wealth of 3rd party libraries such as **numpy** and **matplotlib** have served to solve any problem I've assigned that MATLAB was used to solve. "
   ]
  }
 ],
 "metadata": {
  "kernelspec": {
   "display_name": "Python 3",
   "language": "python",
   "name": "python3"
  },
  "language_info": {
   "codemirror_mode": {
    "name": "ipython",
    "version": 3
   },
   "file_extension": ".py",
   "mimetype": "text/x-python",
   "name": "python",
   "nbconvert_exporter": "python",
   "pygments_lexer": "ipython3",
   "version": "3.6.4"
  }
 },
 "nbformat": 4,
 "nbformat_minor": 2
}
