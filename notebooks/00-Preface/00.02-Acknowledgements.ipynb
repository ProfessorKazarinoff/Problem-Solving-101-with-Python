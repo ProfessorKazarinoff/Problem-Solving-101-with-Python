{
 "cells": [
  {
   "cell_type": "markdown",
   "metadata": {},
   "source": [
    "## Acknowledgements"
   ]
  },
  {
   "cell_type": "markdown",
   "metadata": {},
   "source": [
    "The creation of this book and supporting material would not be possible without the gracious support of my wife and family. Students at Portland Community College continue to give me hope that the next generation of engineers will be a diverse group of team problem solvers.\n",
    "\n",
    "The Python Data Science Handbook by Jake VanderPlas, Machine Learning in Python by Sebastian Raschka and Vahid Mirjalili as well as The Riemann Problem for Hyperbolic PDEs: Theory and Approximate Solvers in Python by David I. Ketcheson, Randall J. LeVeque, and Mauricio del Razo Sarminaserved served as inspiration and examples of using Jupyter notebooks to construct a book. The bookbook repository on github provided a starting point for the tooling to convert the book from jupyter notebooks to the web and into print."
   ]
  }
 ],
 "metadata": {
  "kernelspec": {
   "display_name": "Python 3",
   "language": "python",
   "name": "python3"
  },
  "language_info": {
   "codemirror_mode": {
    "name": "ipython",
    "version": 3
   },
   "file_extension": ".py",
   "mimetype": "text/x-python",
   "name": "python",
   "nbconvert_exporter": "python",
   "pygments_lexer": "ipython3",
   "version": "3.6.4"
  }
 },
 "nbformat": 4,
 "nbformat_minor": 2
}
