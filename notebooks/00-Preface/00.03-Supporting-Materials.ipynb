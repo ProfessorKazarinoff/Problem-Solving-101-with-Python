{
 "cells": [
  {
   "cell_type": "markdown",
   "metadata": {},
   "source": [
    "## Supporting Materials"
   ]
  },
  {
   "cell_type": "markdown",
   "metadata": {},
   "source": [
    "Supporting materials for this text can be found at the textbook website:\n",
    "\n",
    " > [https://professorkazarinoff.github.io/Problem-Solving-101-with-Python/](https://professorkazarinoff.github.io/Problem-Solving-101-with-Python/)\n",
    "        \n",
    "The textbook website contains all of the text in web format. Code Examples and Jupyter notebooks for the text can be found on the GitHub repository for the book:\n",
    "\n",
    " > [https://github.com/ProfessorKazarinoff/Problem-Solving-101-with-Python](https://github.com/ProfessorKazarinoff/Problem-Solving-101-with-Python)\n",
    "    \n",
    "Live notebooks where you can run the code examples found in the text without installing any software are available at:\n",
    "\n",
    " > [https://mybinder.org/v2/gh/ProfessorKazarinoff/Problem-Solving-101-with-Python/master?filepath=notebooks](https://mybinder.org/v2/gh/ProfessorKazarinoff/Problem-Solving-101-with-Python/master?filepath=notebooks)\n",
    "    \n",
    "If you are an instructor and using this book in your course with students, please send me an email with your school email address. In the email include the course your are teaching and term, enrollment, and a link to the course listing on your school website. I am happy to reply with a solution key for the end of chapter review problems as well as quiz and exam question banks."
   ]
  }
 ],
 "metadata": {
  "kernelspec": {
   "display_name": "Python 3",
   "language": "python",
   "name": "python3"
  },
  "language_info": {
   "codemirror_mode": {
    "name": "ipython",
    "version": 3
   },
   "file_extension": ".py",
   "mimetype": "text/x-python",
   "name": "python",
   "nbconvert_exporter": "python",
   "pygments_lexer": "ipython3",
   "version": "3.6.4"
  }
 },
 "nbformat": 4,
 "nbformat_minor": 2
}
