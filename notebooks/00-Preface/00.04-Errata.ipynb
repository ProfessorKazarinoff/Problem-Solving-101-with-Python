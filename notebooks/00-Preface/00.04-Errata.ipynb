{
 "cells": [
  {
   "cell_type": "markdown",
   "metadata": {},
   "source": [
    "## Errata"
   ]
  },
  {
   "cell_type": "markdown",
   "metadata": {},
   "source": [
    "Errata including any typos, code errors and formatting inconsistencies can be submitted to:\n",
    "\n",
    " > [errata@pythonforundergraduateengineers.com](errata@pythonforundergraduateengineers.com)\n",
    " \n",
    "Please note the chapter number and section number in your email. Thank-you in advanced for helping to improve this text for future readers."
   ]
  }
 ],
 "metadata": {
  "kernelspec": {
   "display_name": "Python 3",
   "language": "python",
   "name": "python3"
  },
  "language_info": {
   "codemirror_mode": {
    "name": "ipython",
    "version": 3
   },
   "file_extension": ".py",
   "mimetype": "text/x-python",
   "name": "python",
   "nbconvert_exporter": "python",
   "pygments_lexer": "ipython3",
   "version": "3.6.4"
  }
 },
 "nbformat": 4,
 "nbformat_minor": 2
}
