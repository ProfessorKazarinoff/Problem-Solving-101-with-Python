{
 "cells": [
  {
   "cell_type": "markdown",
   "metadata": {},
   "source": [
    "## Formatting Conventions"
   ]
  },
  {
   "cell_type": "markdown",
   "metadata": {},
   "source": [
    "This book and supporting materials use the following convenstions:"
   ]
  },
  {
   "cell_type": "markdown",
   "metadata": {},
   "source": [
    "### Web Address\n",
    "\n",
    "Web address will be shown as:\n",
    " \n",
    "https://github.com/professorkazarinoff/PythonForUndergraduateEngineers\n",
    " "
   ]
  },
  {
   "cell_type": "markdown",
   "metadata": {},
   "source": [
    "### Import terms and vocabulary\n",
    " \n",
    "Important terms and vocabulary is shown in _italic text_\n",
    " \n",
    " \n",
    "There is a difference between _local variables_ and _global variables_ in Python code\n",
    "  "
   ]
  },
  {
   "cell_type": "markdown",
   "metadata": {},
   "source": [
    "### File Names\n",
    " \n",
    "File Names are  shown in __**bold and italic text**__\n",
    "\n",
    "After completing the code, save the file as __**hello.py**__ in the current directory."
   ]
  },
  {
   "cell_type": "markdown",
   "metadata": {},
   "source": [
    "### Module and Package Names\n",
    " \n",
    " Module and Package names will be shown in **bold text**\n",
    " \n",
    " **Numpy** and **matplotlib** are two useful packages for engineers\n",
    "  \n",
    " "
   ]
  },
  {
   "cell_type": "markdown",
   "metadata": {},
   "source": [
    "### Inline code\n",
    " \n",
    "Inline code including variable names and extensions are shown in ```monospace font```\n",
    "\n",
    "To compare a variable use ```var == 'string'``` and make sure to include ```==```, the doouble equals sign\n",
    "  "
   ]
  },
  {
   "cell_type": "markdown",
   "metadata": {},
   "source": [
    "### Seperate code blocks\n",
    "  \n",
    "  Separate code blocks will appear in their own boxes in `` monospaced font```\n",
    "\n",
    "```\n",
    "import numpy as np\n",
    "import pandas as pd\n",
    "import matplotlib.pyplot as plt\n",
    "```"
   ]
  },
  {
   "cell_type": "markdown",
   "metadata": {},
   "source": [
    "### Terminal and Anaconda Prompt Commands\n",
    " \n",
    " Commands typed into the terminal or **Anaconda Prompt** will be in seperate boxes which contain ```$``` the dollar sign before each line. Note the ```$``` dollar sign should not be typed. It is included to indicate the terminal or Anaconda prompt, not a character for the user to enter\n",
    " \n",
    "```\n",
    "$ conda creat -n newenv pyton=3.6\n",
    "$ conda activate newenv\n",
    "```"
   ]
  },
  {
   "cell_type": "markdown",
   "metadata": {},
   "source": [
    "### Python REPL Commands\n",
    "\n",
    "Commands typed into the Python REPL, or Python Interperator will be in seperate code boxes which contain >>> the triple arrow prompt. Note the >>> triple arrow sign should not be typed. It is included to indicate the Python REPL prompt, not a character for the user to enter. The output from the Python REPL will be shown on a separate line below the command, without the >>> prompt.\n",
    "\n",
    "```python\n",
    ">>> 2 + 2\n",
    "4\n",
    ">>> print('Python for Undergraduate Engineers')\n",
    "Python for Undergraduate Engineers\n",
    "```"
   ]
  },
  {
   "cell_type": "markdown",
   "metadata": {},
   "source": [
    "### Jupyter Notebook cells\n",
    "\n",
    "Commands typed into **Jupyter Notebook** cells will apprear with an label ```In [#]:``` and ```Out [#]:```. Output from a jupyter notebook cell will be shown after the input cell. You only need to run the code in the input cell. The output cell will be prodoced automatically when the you click the run button or type ```[shift]+[Enter]```"
   ]
  },
  {
   "cell_type": "code",
   "execution_count": 2,
   "metadata": {},
   "outputs": [
    {
     "name": "stdout",
     "output_type": "stream",
     "text": [
      "5\n"
     ]
    }
   ],
   "source": [
    "A = 2\n",
    "B = 3\n",
    "C = A + B\n",
    "print(C)"
   ]
  },
  {
   "cell_type": "code",
   "execution_count": null,
   "metadata": {},
   "outputs": [],
   "source": []
  }
 ],
 "metadata": {
  "kernelspec": {
   "display_name": "Python 3",
   "language": "python",
   "name": "python3"
  },
  "language_info": {
   "codemirror_mode": {
    "name": "ipython",
    "version": 3
   },
   "file_extension": ".py",
   "mimetype": "text/x-python",
   "name": "python",
   "nbconvert_exporter": "python",
   "pygments_lexer": "ipython3",
   "version": "3.6.3"
  }
 },
 "nbformat": 4,
 "nbformat_minor": 2
}
