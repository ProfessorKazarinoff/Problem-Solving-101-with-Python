{
 "cells": [
  {
   "cell_type": "markdown",
   "metadata": {},
   "source": [
    "## Installing Python"
   ]
  },
  {
   "cell_type": "markdown",
   "metadata": {},
   "source": [
    "Below are the recommended ways to install a new version of Python on the three major operating systems: Windows, Mac OSx and Linux. This book is based on Python version 3.6.  Some of the problems may not work properly on legacy Python (version 2.7).  I recommend using the Anaconda distribution of Pytho on Windows and MacOSX. The installation of Anaconda is detailed in the next section. \n",
    "\n",
    "### Installing Python on Windows\n",
    "\n",
    "Go to [https://Pyton.org/downloads) download the latest release. Make sure to select the box [add Python to my path]. \n",
    "\n",
    "[image of Python.org]\n",
    "\n",
    "### Installing Python on Mac OSX\n",
    "\n",
    "Go to [https://anaconda.com](https://anaconda.com) and download the latest release. \n",
    "\n",
    "[image of anaconda.com]\n",
    "\n",
    "### Installing Python on Linux\n",
    "\n",
    "Go to open a terminal and enter ```$ python``` to see if a version of Python is already installed on the system. If the Python version is 2.7 or below, download the newest release in the apt repositories with and download the latest release.\n",
    "\n",
    "```\n",
    "$ sudo apt-get Python\n",
    "```"
   ]
  },
  {
   "cell_type": "code",
   "execution_count": null,
   "metadata": {},
   "outputs": [],
   "source": []
  }
 ],
 "metadata": {
  "kernelspec": {
   "display_name": "Python 3",
   "language": "python",
   "name": "python3"
  },
  "language_info": {
   "codemirror_mode": {
    "name": "ipython",
    "version": 3
   },
   "file_extension": ".py",
   "mimetype": "text/x-python",
   "name": "python",
   "nbconvert_exporter": "python",
   "pygments_lexer": "ipython3",
   "version": "3.6.5"
  }
 },
 "nbformat": 4,
 "nbformat_minor": 2
}
