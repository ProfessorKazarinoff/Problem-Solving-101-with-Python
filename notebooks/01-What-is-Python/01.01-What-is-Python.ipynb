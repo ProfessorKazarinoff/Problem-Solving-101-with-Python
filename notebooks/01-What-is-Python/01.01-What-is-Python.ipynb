{
 "cells": [
  {
   "cell_type": "markdown",
   "metadata": {},
   "source": [
    "## What is Python?"
   ]
  },
  {
   "cell_type": "markdown",
   "metadata": {},
   "source": [
    "You might be wondering \"What is Python?\""
   ]
  },
  {
   "cell_type": "markdown",
   "metadata": {},
   "source": [
    "### Python is a computer programming language\n",
    "\n",
    "Python is a computer programming language. Other computer programming languages include C++, Java, Javascript and MATLAB. \n",
    "\n",
    "When you download and install Python, you install the _Python Interpreter_. The Python interpreter is a program that runs on your computer. Other programs running on your computer include Microsoft Word, Microsoft Excel and web browsers like Google Chrome or Firefox. Each of these programs uses a different file type. The file type the Python Interpreter runs are files that contain Python code. You can think of the Python Interpreter like a cook in a restaurant that only does exactly as what is given in a recipe. The recipe is kind of like Python code. The cook is kind of like the Python interpreter."
   ]
  },
  {
   "cell_type": "markdown",
   "metadata": {},
   "source": [
    "### Python can use over 100,000 external modules\n",
    "\n",
    "When you install Python on your computer you typically get the Python Interpreter and the _Python Standard Library_. The Python Standard Library contains all the code that can be run by the Python Interpreter. But in addition to the Python Standard Library, there are over 100,000 external modules (many available on PyPI.org) that can be downloaded and used for free. "
   ]
  },
  {
   "cell_type": "markdown",
   "metadata": {},
   "source": [
    "### Brief History of Python\n",
    "Python was created by Guido van Rossum, a Dutch computer programmer, and was first released in 1991. The name _Python_ is attributed to _Monte Python_ the British comedy troupe that became popular in the 1970's and 80's for their TV show _Monte Python's Flying Circus_ and movies like _Monty Python and the Holy Grail_."
   ]
  },
  {
   "cell_type": "markdown",
   "metadata": {},
   "source": [
    "### Why was Python created?\n",
    "Guido created Python based on his experience working with another earlier computer programming language called ABC. Guido had a couple of \"gripes\" with the ABC programming language including its lack of extensibility. He wrote Python partly in response to this problem. Unlike ABC, Python is indeed very extensible. It can be extended with additional packages downloaded from the PyPI.org and runs on servers, desktop computers, laptops and tiny microcontrollers."
   ]
  },
  {
   "cell_type": "code",
   "execution_count": null,
   "metadata": {},
   "outputs": [],
   "source": []
  }
 ],
 "metadata": {
  "kernelspec": {
   "display_name": "Python 3",
   "language": "python",
   "name": "python3"
  },
  "language_info": {
   "codemirror_mode": {
    "name": "ipython",
    "version": 3
   },
   "file_extension": ".py",
   "mimetype": "text/x-python",
   "name": "python",
   "nbconvert_exporter": "python",
   "pygments_lexer": "ipython3",
   "version": "3.6.4"
  }
 },
 "nbformat": 4,
 "nbformat_minor": 2
}
