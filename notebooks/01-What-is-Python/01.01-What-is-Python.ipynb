{
 "cells": [
  {
   "cell_type": "markdown",
   "metadata": {},
   "source": [
    "## What is Python?"
   ]
  },
  {
   "cell_type": "markdown",
   "metadata": {},
   "source": [
    "You might be wondering \"What is Python?\""
   ]
  },
  {
   "cell_type": "markdown",
   "metadata": {},
   "source": [
    "### Python is a computer programming language\n",
    "\n",
    "Python is a computer programming language. Other computer programming languages include C++, Java, Javascript and MATLAB. \n",
    "\n",
    "When you download and install Python, you install the _Python Interpreter_. The Python interpreter is a program that run on your computer. Other programs running on your computer include Microsoft Word, Microsoft Excel and a web browser like Google Chrome or Firefox. Each of these prgrams use a different file type. The file type the Python Interpreter run are files that contain Python code. You can think of the Python Interpreter like a cook in a resteraunt that only does exactly as the cook reads in the recipie. The recipie is kind of like Python code. It contains instructions for the cook to run. "
   ]
  },
  {
   "cell_type": "markdown",
   "metadata": {},
   "source": [
    "### Python can use over 100,000 external modules\n",
    "\n",
    "When you install Python on your computer you typically get the Python Interpreter which includes what is know as the standard libary. The standard library contains all the code that can be run by the interpreter. But in addition to the code that comes with Python, there are over 100,000 external modules that you can download and use. "
   ]
  },
  {
   "cell_type": "markdown",
   "metadata": {},
   "source": [
    "### Brief History of Python\n",
    "Python was created by Guido van Rossum, a Dutch computer programmer, and was first released in 1991. The name _Python_ is attributed to _Monte Python_, <cite data-cite=\"https://docs.python.org/3.6/faq/general.html#why-is-it-called-python\"><sup><1></sup></cite>\n",
    " <cite></cite> the British commedy troupe that became popular in the 1970's and 80's for their TV show _Monte Python's Flying Circus_ and movies like _Monty Python and the Holy Grail_."
   ]
  },
  {
   "cell_type": "markdown",
   "metadata": {},
   "source": [
    "### Why was Python created?\n",
    "Guido created Python based on his experience working with another earlier computer programming language called ABC. Guido had a couple of \"gripes\" with the ABC programming language including it's lack of extensability<cite data-cite=\"https://docs.python.org/3.6/faq/general.html#why-was-python-created-in-the-first-place\"><sup><1></sup></cite>. He wrote Python partly in response to this problem. Unlike ABC, Python is indeed very extensible. It can be extended with additional packages downloaded from the PyPI.org and runs on servers, desktop computers, laptops and tiny microcontrollers."
   ]
  },
  {
   "cell_type": "code",
   "execution_count": null,
   "metadata": {
    "collapsed": true
   },
   "outputs": [],
   "source": []
  }
 ],
 "metadata": {
  "kernelspec": {
   "display_name": "Python 3",
   "language": "python",
   "name": "python3"
  },
  "language_info": {
   "codemirror_mode": {
    "name": "ipython",
    "version": 3
   },
   "file_extension": ".py",
   "mimetype": "text/x-python",
   "name": "python",
   "nbconvert_exporter": "python",
   "pygments_lexer": "ipython3",
   "version": "3.6.4"
  }
 },
 "nbformat": 4,
 "nbformat_minor": 2
}
