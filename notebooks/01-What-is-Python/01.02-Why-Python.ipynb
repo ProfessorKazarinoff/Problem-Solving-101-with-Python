{
 "cells": [
  {
   "cell_type": "markdown",
   "metadata": {},
   "source": [
    "## Why Python?"
   ]
  },
  {
   "cell_type": "markdown",
   "metadata": {},
   "source": [
    "You might be wondering \"Why should I learn Python?\" There are other programming languages in the engineering world such as MATLAB, LabView, C++ and Java. What makes Python useful for problem solving?"
   ]
  },
  {
   "cell_type": "markdown",
   "metadata": {},
   "source": [
    "### Python is a powerful programming language\n",
    "\n",
    "Python has an extensive standard library. A huge number of object types, functions and methods are available for use without importing any external modules or packages. These include math functions, list methods, and calls to a computer's system. There is a lot that can be done with the Python Standard Library. The first couple chapters of this book will just use the Python Standard Library. It can do a lot.\n",
    "\n",
    "Python defines the types of objects you build into your code. Unlike some other languages such as C, you do not need to declare the object type. The object type is also mutable, you can change the type of object easily and on the fly. There is a wide array of object types built into Python. Objects can change in size. Python objects can also contain mixed data types. For example, strings and floating point numbers can be items in the same list.\n",
    "\n",
    "Python has over 100,000 external packages available for download and use. They are easy to install off of the Python Package Index, commonly called PyPI (\"pie pee eye\"). There is a Python package for just about everything. There are packages which can help you: interact with the web, make complex computations, do unit conversions, plot data, work with .csv, .xls, and .pdf files, manipulate images and video, read data from sensors and test equipment, train machine learning algorithms, design web apps, work with GIS data, work with astronautical data, and many more added every day. In this book we will use some of the more useful Python packages for problem solving such as **numpy** and **matplotlib**."
   ]
  },
  {
   "cell_type": "markdown",
   "metadata": {},
   "source": [
    "### Python is easy to learn and use\n",
    "\n",
    "Engineers solve the world's problems in teams. One way Python helps solve these problems faster than other programming languages is that it is easy to learn and use. A Python program tends to be shorter and quicker to write than a program that does a similar function written in other computer programming language. In the rapid design, prototype, test, iterate cycle programming solutions made with Python can be spun up quickly. Python is also an easy language for fellow engineers on your team to learn. It is also quite human readable. While programmers can become preoccupied with a program's running speed, it is program development time that takes the longest.\n",
    "\n",
    "#### Python is transportable\n",
    "\n",
    "Python can be installed and run on each of the three major operating systems: Windows, MacOS and Linux. On MacOS and Linux, Python comes installed out of the box. Just open up a terminal in on a MacOS or Linux machine and type:\n",
    "\n",
    "```\n",
    "$ python\n",
    "```\n",
    "That's it, you are now using Python. On Windows, I recommend downloading and using the Ananaconda distribution of Python. The Anaconda distribution is free and can be installed on all three major operating systems. The same programming environment can be replicated across the three different operating systems.\n",
    "\n",
    "#### Python is free\n",
    "\n",
    "MATLAB and LabView cost students to use and cost companies and colleges even more. Python is free to download and use. It is also open source and users are free to modify, contribute, and propose improvements to Python. All of the packages available for download on the Python Package Index, PyPI (pronouced pie-pee-eye) are free to download and install. Many more packages, scripts and utilities can be found in open source repositories on github, gitlab and bitbucket. \n",
    "\n",
    "#### Python is growing\n",
    "\n",
    "Python is growing in popularity. Python is particularly growing in the data sciences and in use with GIS systems, physical modeling, machine learning and computer vision. These are growing team problem solving areas for engineers.  "
   ]
  },
  {
   "cell_type": "markdown",
   "metadata": {},
   "source": [
    "### Python has extensive standard library of modules and a vast array of external modules"
   ]
  },
  {
   "cell_type": "markdown",
   "metadata": {},
   "source": [
    "#### Pythons Standard Library\n",
    "\n",
    "Python Standard Library Modules include:\n",
    "    \n",
    "math, statistics, os, urllib, table for what they are used for. \n",
    "\n",
    "| Python Standard Library Module | Purpose |\n",
    "| --- | --- |\n",
    "| ```math``` | math functions |\n",
    "| ```statistics``` | statistics functions |\n",
    "| ```os``` | operating system functions |\n",
    "| ```urllib``` | web URL's and web access |\n",
    "| ```path``` | file path objects and functions |\n",
    "\n",
    "\n",
    "More Standard Library modules can be found on the [Python Read-the-docs](https://python.readthedocs.io/en/latest/library/index.html)\n",
    "    \n",
    "#### External Modules available on PyPI\n",
    "\n",
    "There are over 100,000 external modules available for Python on [PyPI.org](https://pypi.org/). External modules useful for engineers include: **numpy**, **pandas**, **matplotlib**, and **jupyter**\n",
    "\n",
    "| External Module | Purpose |\n",
    "| --- | --- |\n",
    "| ```numpy``` | n-dimensional arrays |\n",
    "| ```pandas``` | tabular functions |\n",
    "| ```matplotlib``` | plots and charts |\n",
    "| ```jupyter``` | interactive notebooks |\n",
    "\n",
    "Installing external Python modules can be done on the command line or at the Anaconda Prompt using:\n",
    "\n",
    "```text\n",
    "$ pip install <module_name>\n",
    "```\n",
    "\n",
    "where ```<module_name>``` is the name of the module you want to install."
   ]
  },
  {
   "cell_type": "code",
   "execution_count": null,
   "metadata": {
    "collapsed": true
   },
   "outputs": [],
   "source": []
  }
 ],
 "metadata": {
  "kernelspec": {
   "display_name": "Python 3",
   "language": "python",
   "name": "python3"
  },
  "language_info": {
   "codemirror_mode": {
    "name": "ipython",
    "version": 3
   },
   "file_extension": ".py",
   "mimetype": "text/x-python",
   "name": "python",
   "nbconvert_exporter": "python",
   "pygments_lexer": "ipython3",
   "version": "3.6.4"
  }
 },
 "nbformat": 4,
 "nbformat_minor": 2
}
