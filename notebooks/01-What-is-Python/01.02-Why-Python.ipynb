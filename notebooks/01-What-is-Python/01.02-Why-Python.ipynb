{
 "cells": [
  {
   "cell_type": "markdown",
   "metadata": {},
   "source": [
    "## Why Python?"
   ]
  },
  {
   "cell_type": "markdown",
   "metadata": {},
   "source": [
    "You might be wondering \"Why should I learn Python?\" There are other programming languages in the engineering world such as MATLAB, LabView, C++ and Java. What makes Python useful for problem solving?"
   ]
  },
  {
   "cell_type": "markdown",
   "metadata": {},
   "source": [
    "### Python is a powerful programming language\n",
    "\n",
    "Python can be used for large projects that run at scale. Some companies and websites that use Python are YouTube, Instagram, Facebook, Netflix and Dropbox. \n",
    "\n",
    "Python is also used in cutting edge scientific research at CERN to investigate sub-atomic particles and was part of the analysis to prove the existence of gravitational waves using data from the LIGO experiment.\n"
   ]
  },
  {
   "cell_type": "markdown",
   "metadata": {},
   "source": [
    "### Python is easy to learn and use\n",
    "\n",
    "Problem solvers work to solve the world's problems in temas. One way Python helps solve these problems faster than other programming languages is that it is easy to learn and use. A Python program tends to be shorter and quicker to write than a program that solves the same problem written in other computer programming language. In the rapid design, prototype, test, iterate cycle programming solutions made with Python can be spun up quickly. Python is also an easy language for fellow engineers on your team to learn. Python code is also quite human readable. While programmers can become preoccupied with a program's execution speed, development time takes the longest. Shorter development times mean problems are often solved faster using Python.\n",
    "\n",
    "#### Python is transportable\n",
    "\n",
    "Python can be installed and run on each of the three major operating systems: Windows, MacOS and Linux. On MacOS and Linux, Python comes installed right out of the box.  On Windows, I recommend downloading and using the _Anaconda distribution of Python_. The Anaconda distribution of Python is free and can be installed on each of the three major operating systems, Windows, MacOS and Linux. The same Python programming environment can be replicated across these three operating systems.\n",
    "\n",
    "#### Python is free\n",
    "\n",
    "Some computer programming languages such as MATLAB and LabView cost students money to use and cost companies and colleges even more. Python is free to download and use. Python is also open source, and users are free to modify, contribute, and propose improvements to Python. All of the packages available for download on the Python Package Index, PyPI (pronounced pie-pee-eye) are free to download and install as well. Many more packages, scripts and utilities can be found in free open source repositories on GitHub, GitLab and Bitbucket. \n",
    "\n",
    "### Python is growing\n",
    "\n",
    "Python is growing in popularity. Python is particularly growing in the area of data science and in use with GIS systems, physical modeling, machine learning and computer vision. These are growing team problem solving areas for engineers. "
   ]
  },
  {
   "cell_type": "markdown",
   "metadata": {},
   "source": [
    "### Python has extensive standard library of modules and a vast array of external modules"
   ]
  },
  {
   "cell_type": "markdown",
   "metadata": {},
   "source": [
    "#### The Python Standard Library\n",
    "\n",
    "Python has an extensive _Standard Library_. The modules available in the Python Standard Library can be used without any additional installation. Standard Library modules are built into Python. A huge number of object types, functions and methods are available for use without importing any external modules. Some functions and methods in the Python Standard Library include math functions, list methods, calls to a computer's operating system and much more. A lot of problem solving can be done just with the Python Standard Library. The first couple chapters of this book will just use Python's built-in functions and modules in the Standard Library. \n",
    "\n",
    "A table of useful Python Standard Library modules for problem solving is below:\n",
    "\n",
    "| Standard Library module | utility |\n",
    "| --- | --- |\n",
    "| ```math``` | mathematical functions |\n",
    "| ```statistics``` | statistical functions |\n",
    "| ```sys``` | system functions |\n",
    "| ```os``` | operating system functions |\n",
    "| ```datetime``` | date and time functions |\n",
    "| ```string``` | string functions |\n",
    "| ```random``` | pseudo random numbers |\n",
    "| ```csv``` | reading and writing **_.csv_** files |\n",
    "| ```urllib``` | web address functions |\n",
    "\n",
    "The complete Standard Library can be found on Python Read-the-docs: [https://docs.python.org](https://docs.python.org)"
   ]
  },
  {
   "cell_type": "markdown",
   "metadata": {},
   "source": [
    "#### External Modules available on PyPI\n",
    "\n",
    "Python has over 100,000 external packages available for download and use. These external packages are easy to install from the Python Package Index, commonly called PyPI (\"pie pee eye\"). There is a Python package for just about everything. There are packages which can help you with: web interactions, complex computations, unit conversions, plotting, working with .csv, .xls, and .pdf files, images manipulation, sensors and test equipment, machine learning, web apps, GIS data and many more added every day. In this book, we will use some of the more useful Python packages for engineers such as Jupyter, NumPy, and Matplotlib.\n",
    "\n",
    "A table of useful third-party packages for problem solving is below:\n",
    "\n",
    "| package | utility |\n",
    "| --- | --- |\n",
    "| NumPy | numerical calculations with homogenous arrays |\n",
    "| Matplotlib | plotting and data visualization |\n",
    "| Jupyter | interactive notebook computing environment |\n",
    "| Pandas | dataframe functionality |\n",
    "| SymPy | symbolic Math |\n",
    "| PySerial | serial port communication |\n",
    "| flask | web framework |\n",
    "| pint | unit conversions |\n",
    "| schemdraw | circuity diagrams |\n",
    "\n",
    "External modules from PyPI are downloaded and installed  using the command line or the Anaconda Prompt. To install a new module from PyPI use the command:\n",
    "\n",
    "```text\n",
    "> pip install module_name\n",
    "```\n",
    "\n",
    "Just change ```module_name``` to the name of the module you want to install."
   ]
  },
  {
   "cell_type": "markdown",
   "metadata": {},
   "source": [
    "One easy way to install modules, is to download and install a Python distribution that comes with many external modules pre-installed. I recommend that problem solvers install the Anaconda distribution of Python, which comes with about 600 modules pre-installed. The in the next section, you will learn about Anaconda."
   ]
  },
  {
   "cell_type": "code",
   "execution_count": null,
   "metadata": {},
   "outputs": [],
   "source": []
  }
 ],
 "metadata": {
  "kernelspec": {
   "display_name": "Python 3",
   "language": "python",
   "name": "python3"
  },
  "language_info": {
   "codemirror_mode": {
    "name": "ipython",
    "version": 3
   },
   "file_extension": ".py",
   "mimetype": "text/x-python",
   "name": "python",
   "nbconvert_exporter": "python",
   "pygments_lexer": "ipython3",
   "version": "3.6.7"
  }
 },
 "nbformat": 4,
 "nbformat_minor": 2
}
