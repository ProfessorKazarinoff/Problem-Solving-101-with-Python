{
 "cells": [
  {
   "cell_type": "markdown",
   "metadata": {},
   "source": [
    "## What is Anaconda?"
   ]
  },
  {
   "cell_type": "markdown",
   "metadata": {},
   "source": [
    "You might be wondering \"OK, I know what Python is. It is computer programming language\"\n",
    "\n",
    "\"But what is Anaconda? How is it different than Python?\""
   ]
  },
  {
   "cell_type": "markdown",
   "metadata": {},
   "source": [
    "### Anaconda is a Python Distribution\n",
    "\n",
    "Anaconda is a Python Distribution. When you downlod Anaconda you download a Python Interpreter plus a bunch of extra useful stuff. "
   ]
  },
  {
   "cell_type": "markdown",
   "metadata": {},
   "source": [
    "### How is Anaconda different from Python?\n",
    "\n",
    "When you download Python from Python.org you get the Python Interpreter, a little text editing program called IDLE and all of the Python Standard Library modules.\n",
    "\n",
    "When you download Anaconda from Anaconda.com, you get a Python Interpreter, a command line program called the Anaconda Prompt, a text editor called Spyder and about 200 extra Python modules that aren't included in The Standard Library. The Anaconda distribution of Python also includes a program called Anaconda Navigator that allows you to easily launch Jupyter Notebooks."
   ]
  },
  {
   "cell_type": "markdown",
   "metadata": {
    "collapsed": true
   },
   "source": [
    "### Why download Anaconda if I want to use is Python?\n",
    "\n",
    "Regardless if you download Python from Python.org or you download Anaconda (with all the extra stuff it comes with) from Anaconda.com, you will be able to write and execute Python code. However, there are a couple of advantages to using the Anaconda distribution of Python.\n",
    "\n",
    "#### Anaconda includes Python plus about 200 additional Python packages\n",
    "\n",
    "Anaconda is advantageous because it includes Python as well as about 200 additional Python packages. These additional packages are all free to use. The packages that come with Anaconda includes many of the most common Python packages use to solve problems. If you download Anaconda, you get Python including The Standard Library plus 200 extra packages. If you download Python from Python.org, you just get Python and The Standard Library but no additional modules. You could install the extra modules that come with Anaconda (that don't come with plain old Python), but why not save a step (or 200 steps) and download one thing (Anaconda) instead of downloading 201 and one things (200 extra modules + 1 Python download).\n",
    "\n",
    "#### Anaconda installs without administrator privileges\n",
    "Even if you don't have the ability to install program on a computer, like a computer in a school computer lab, you can still download and use Anaconda. The Anaconda distribution of Python will also allow you to install additional modules from the Python package index ([PyPI.org](https://pypi.org/)) and conda-forge, the conda package index.\n",
    "\n",
    "#### Anaconda works on MacOS\n",
    "\n",
    "If you use MacOS, you probably already have Python installed on you computer. Most MacOS installations comes with Python included. The problem is that the version of Python that comes with MacOS is old (usually legacy Python, Python 2) and the version of Python that comes with MacOS is locked up behind a set of administrator privileges. This means you can have trouble using the version of Python that comes on MacOS. Some things will seem to work fine, and then other things won't run at all or you will keep getting asked for an administrator password over and over. Downloading and installing Anaconda (separate from the version of Python that came with MacOS) prevents most of these problems.\n",
    "\n",
    "#### Anaconda makes package management and virtual environments easier\n",
    "\n",
    "Another advantage of Anaconda is that package management and virtual environments are a lot easier when you have Anaconda. This might not seem to make a huge difference right now. If you just downloaded Anaconda for the first time, you are probably not dealing with package management and virtual environments yet. (It's OK if you don't even know what those two things are yet). After you write a couple Python programs and start downloading a couple extra modules from PyPI or conda-forge, dealing with package management and virtual environments becomes more important. "
   ]
  },
  {
   "cell_type": "code",
   "execution_count": null,
   "metadata": {
    "collapsed": true
   },
   "outputs": [],
   "source": []
  }
 ],
 "metadata": {
  "kernelspec": {
   "display_name": "Python 3",
   "language": "python",
   "name": "python3"
  },
  "language_info": {
   "codemirror_mode": {
    "name": "ipython",
    "version": 3
   },
   "file_extension": ".py",
   "mimetype": "text/x-python",
   "name": "python",
   "nbconvert_exporter": "python",
   "pygments_lexer": "ipython3",
   "version": "3.6.4"
  }
 },
 "nbformat": 4,
 "nbformat_minor": 2
}
