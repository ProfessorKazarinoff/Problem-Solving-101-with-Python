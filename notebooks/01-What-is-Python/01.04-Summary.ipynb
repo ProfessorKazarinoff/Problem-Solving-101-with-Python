{
 "cells": [
  {
   "cell_type": "markdown",
   "metadata": {
    "latex": {
     "before_cell": "newpage"
    }
   },
   "source": [
    "## Summary"
   ]
  },
  {
   "cell_type": "markdown",
   "metadata": {},
   "source": [
    "This chapter was an introduction to Python, why Python is useful and an introduction to Anaconda.\n",
    "\n",
    "In the first section you learned that Python is a powerful and flexible programming language. Compared to other programming languages Python is relatively easy to learn and use. Python is also free and open-source.\n",
    "\n",
    "In the second part of the chapter, you learned that Python is a \"batteries included\" programming language. There are many useful modules in the Python standard library that comes with every installation of the Python. Some Standard Library modules you will see later in this text include the math and statistics modules. There are also over 100,000 external Python modules available for you to install. Two external modules you will see later in this text are NumPy and Matplotlib.\n",
    "\n",
    "In the last part of the chapter, you learned about the Anaconda distribution of Python. Anaconda is a distribution of Python which comes with about 600 packages pre-installed.  The pre-installed modules that come with Anaconda include NumPy, Pandas, Matplotlib and Jupyter notebooks. Jupyter notebooks will be discussed in a later chapter. This text recommends problem solvers install the Anaconda distribution of Python.\n",
    "\n",
    "The next chapter will detail how to install Python on your computer."
   ]
  },
  {
   "cell_type": "markdown",
   "metadata": {},
   "source": [
    "### Key Terms and Concepts"
   ]
  },
  {
   "cell_type": "markdown",
   "metadata": {
    "latex": {
     "environment": "key_terms"
    }
   },
   "source": [
    "Python\n",
    "\n",
    "Python Interpreter\n",
    "\n",
    "Python REPL\n",
    "\n",
    "Anaconda\n",
    "\n",
    "Anaconda Prompt\n",
    "\n",
    "runtime\n",
    "\n",
    "package\n",
    "\n",
    "installation\n",
    "\n",
    "programming language\n",
    "\n",
    "open source\n",
    "\n",
    "Python distribution"
   ]
  },
  {
   "cell_type": "markdown",
   "metadata": {
    "collapsed": true
   },
   "source": [
    "### Additional Resources"
   ]
  },
  {
   "cell_type": "markdown",
   "metadata": {},
   "source": [
    "_What is Python? Executive Summary_ on Python.org: \n",
    "\n",
    " > [https://www.python.org/doc/essays/blurb/](https://www.python.org/doc/essays/blurb/)\n",
    "\n",
    "_Comparing Python to Other Languages_ on Python.org:\n",
    "\n",
    " > [https://www.python.org/doc/essays/comparisons/](https://www.python.org/doc/essays/comparisons/)\n",
    "\n",
    "_History and License_. A history of the software licenses that cover the Python programming language\n",
    "\n",
    " > [https://docs.python.org/3/license.html](https://docs.python.org/3/license.html)\n",
    "\n",
    "_Think Python_ an introduction to Python programming for beginners by Allen Downey:\n",
    "\n",
    " > [https://greenteapress.com/wp/think-python/](https://greenteapress.com/wp/think-python/)"
   ]
  },
  {
   "cell_type": "code",
   "execution_count": null,
   "metadata": {},
   "outputs": [],
   "source": []
  }
 ],
 "metadata": {
  "celltoolbar": "Edit Metadata",
  "kernelspec": {
   "display_name": "Python 3",
   "language": "python",
   "name": "python3"
  },
  "language_info": {
   "codemirror_mode": {
    "name": "ipython",
    "version": 3
   },
   "file_extension": ".py",
   "mimetype": "text/x-python",
   "name": "python",
   "nbconvert_exporter": "python",
   "pygments_lexer": "ipython3",
   "version": "3.6.4"
  }
 },
 "nbformat": 4,
 "nbformat_minor": 2
}
