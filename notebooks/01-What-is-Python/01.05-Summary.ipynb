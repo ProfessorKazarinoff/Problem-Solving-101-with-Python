{
 "cells": [
  {
   "cell_type": "markdown",
   "metadata": {
    "latex": {
     "before_cell": "newpage"
    }
   },
   "source": [
    "## Summary"
   ]
  },
  {
   "cell_type": "markdown",
   "metadata": {},
   "source": [
    "### Key Terms and Concepts"
   ]
  },
  {
   "cell_type": "markdown",
   "metadata": {
    "latex": {
     "environment": "key_terms"
    }
   },
   "source": [
    "Python\n",
    "\n",
    "Python Interpreter\n",
    "\n",
    "Python REPL\n",
    "\n",
    "Anaconda\n",
    "\n",
    "Anaconda Prompt\n",
    "\n",
    "runtime\n",
    "\n",
    "package\n",
    "\n",
    "installation\n",
    "\n",
    "programming language\n",
    "\n",
    "open source\n",
    "\n",
    "Python distribution"
   ]
  },
  {
   "cell_type": "markdown",
   "metadata": {
    "collapsed": true
   },
   "source": [
    "### Additional Resources"
   ]
  },
  {
   "cell_type": "markdown",
   "metadata": {},
   "source": [
    "_What is Python? Executive Summary_ on Python.org: \n",
    "\n",
    " > [https://www.python.org/doc/essays/blurb/](https://www.python.org/doc/essays/blurb/)\n",
    "\n",
    "_Comparing Python to Other Languages_ on Python.org:\n",
    "\n",
    " > [https://www.python.org/doc/essays/comparisons/](https://www.python.org/doc/essays/comparisons/)\n",
    "\n",
    "_History and License_. A history of the software licenses that cover the Python programming language\n",
    "\n",
    " > [https://docs.python.org/3/license.html](https://docs.python.org/3/license.html)\n",
    "\n",
    "_Think Python_ an introduction to Python programming for beginners by Allen Downey:\n",
    "\n",
    " > [https://greenteapress.com/wp/think-python/](https://greenteapress.com/wp/think-python/)"
   ]
  },
  {
   "cell_type": "code",
   "execution_count": null,
   "metadata": {},
   "outputs": [],
   "source": []
  }
 ],
 "metadata": {
  "celltoolbar": "Edit Metadata",
  "kernelspec": {
   "display_name": "Python 3",
   "language": "python",
   "name": "python3"
  },
  "language_info": {
   "codemirror_mode": {
    "name": "ipython",
    "version": 3
   },
   "file_extension": ".py",
   "mimetype": "text/x-python",
   "name": "python",
   "nbconvert_exporter": "python",
   "pygments_lexer": "ipython3",
   "version": "3.6.5"
  }
 },
 "nbformat": 4,
 "nbformat_minor": 2
}
