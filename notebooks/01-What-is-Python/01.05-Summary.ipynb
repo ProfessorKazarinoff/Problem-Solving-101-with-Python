{
 "cells": [
  {
   "cell_type": "markdown",
   "metadata": {},
   "source": [
    "## Summary"
   ]
  },
  {
   "cell_type": "markdown",
   "metadata": {},
   "source": [
    "### Key Terms\n",
    "\n",
    "Python\n",
    "\n",
    "Python Interperater\n",
    "\n",
    "Python REPL\n",
    "\n",
    "Anaconda\n",
    "\n",
    "Anaconda Prompt\n",
    "\n",
    "CPython\n",
    "\n",
    "Runtime\n",
    "\n",
    "Package\n",
    "\n",
    "Installation\n",
    "\n",
    "Programming Language\n",
    "\n",
    "Open Source\n",
    "\n",
    "Contributer\n",
    "\n",
    "Python Distribution"
   ]
  },
  {
   "cell_type": "code",
   "execution_count": null,
   "metadata": {
    "collapsed": true
   },
   "outputs": [],
   "source": []
  }
 ],
 "metadata": {
  "kernelspec": {
   "display_name": "Python 3",
   "language": "python",
   "name": "python3"
  },
  "language_info": {
   "codemirror_mode": {
    "name": "ipython",
    "version": 3
   },
   "file_extension": ".py",
   "mimetype": "text/x-python",
   "name": "python",
   "nbconvert_exporter": "python",
   "pygments_lexer": "ipython3",
   "version": "3.6.4"
  }
 },
 "nbformat": 4,
 "nbformat_minor": 2
}
