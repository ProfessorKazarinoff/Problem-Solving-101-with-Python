{
 "cells": [
  {
   "cell_type": "markdown",
   "metadata": {},
   "source": [
    "## Review Questions"
   ]
  },
  {
   "cell_type": "markdown",
   "metadata": {},
   "source": [
    "1. What is Python? \n",
    "\n",
    "2. How is the Python language different than the Python Interperater?\n",
    "\n",
    "3. What is the difference between the version of Python at Python.org and the version of Python at Anaconda.com?\n",
    "\n",
    "4. Why is Python a good computer language to solve problems with?\n",
    "\n",
    "5. What does Anaconda come with that Python downloaded from Python.org does not?\n",
    "\n",
    "6. What are three advantages of using Anaconda compared to the using the version of Python at Python.org?\n",
    "\n",
    "7. Why is Python named Python?\n",
    "\n",
    "8. Who created Python and when?\n",
    "\n",
    "9. Why was Python created? What problem was the creator trying to solve?\n",
    "\n",
    "10. What are other computer programming languages besides Python?\n",
    "\n",
    "11. What computer programming lanuage did the creator of Python have \"gripes\" about? What were those \"gripes\"?\n",
    "\n",
    "12. Where is Python used?\n",
    "\n",
    "13. Which companies use Python?\n",
    "\n",
    "14. What are two ways Python is used in scientific research?"
   ]
  },
  {
   "cell_type": "code",
   "execution_count": null,
   "metadata": {
    "collapsed": true
   },
   "outputs": [],
   "source": []
  }
 ],
 "metadata": {
  "kernelspec": {
   "display_name": "Python 3",
   "language": "python",
   "name": "python3"
  },
  "language_info": {
   "codemirror_mode": {
    "name": "ipython",
    "version": 3
   },
   "file_extension": ".py",
   "mimetype": "text/x-python",
   "name": "python",
   "nbconvert_exporter": "python",
   "pygments_lexer": "ipython3",
   "version": "3.6.4"
  }
 },
 "nbformat": 4,
 "nbformat_minor": 2
}
