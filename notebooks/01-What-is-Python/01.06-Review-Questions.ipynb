{
 "cells": [
  {
   "cell_type": "markdown",
   "metadata": {},
   "source": [
    "## Review Questions"
   ]
  },
  {
   "cell_type": "markdown",
   "metadata": {
    "latex": {
     "environment": "problems"
    }
   },
   "source": [
    "1.01 What is Python? \n",
    "\n",
    "1.02 How is the Python programming language different than the Python Interpreter?\n",
    "\n",
    "1.03 What is the difference between the version of Python at Python.org and the version of Python at Anaconda.com?\n",
    "\n",
    "1.04 Why is Python a good computer language to solve problems with?\n",
    "\n",
    "1.05 What does Anaconda come with that Python downloaded from Python.org does not?\n",
    "\n",
    "1.06 What are three advantages of using Anaconda compared to the using the version of Python at Python.org?\n",
    "\n",
    "1.07 Why is Python named Python?\n",
    "\n",
    "1.08 Who created Python and when?\n",
    "\n",
    "1.09 Why was Python created? What problem was the creator trying to solve?\n",
    "\n",
    "1.10 What are other computer programming languages besides Python?\n",
    "\n",
    "1.11 What computer programming language did the creator of Python have \"gripes\" about? What were those \"gripes\"?\n",
    "\n",
    "1.12 Where is Python used?\n",
    "\n",
    "1.13 Which companies use Python?\n",
    "\n",
    "1.14 What are two ways Python is used in scientific research?"
   ]
  },
  {
   "cell_type": "code",
   "execution_count": null,
   "metadata": {
    "collapsed": true
   },
   "outputs": [],
   "source": []
  }
 ],
 "metadata": {
  "celltoolbar": "Edit Metadata",
  "kernelspec": {
   "display_name": "Python 3",
   "language": "python",
   "name": "python3"
  },
  "language_info": {
   "codemirror_mode": {
    "name": "ipython",
    "version": 3
   },
   "file_extension": ".py",
   "mimetype": "text/x-python",
   "name": "python",
   "nbconvert_exporter": "python",
   "pygments_lexer": "ipython3",
   "version": "3.6.5"
  }
 },
 "nbformat": 4,
 "nbformat_minor": 2
}
