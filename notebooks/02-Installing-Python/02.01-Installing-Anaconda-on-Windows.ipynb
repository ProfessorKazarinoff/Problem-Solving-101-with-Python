{
 "cells": [
  {
   "cell_type": "markdown",
   "metadata": {},
   "source": [
    "## Installing Anaconda on Windows"
   ]
  },
  {
   "cell_type": "markdown",
   "metadata": {},
   "source": [
    "For problem solving with Python, I recommend installing and using the Anaconda distribution of Python."
   ]
  },
  {
   "cell_type": "markdown",
   "metadata": {},
   "source": [
    "In this section, we will run through installing the Anaconda distribution of Python on Windows 10. I think the Anaconda distribution of Python is the best option for problem solvers who want to use Python. Anaconda is free (although the download is large which can take time) and can be installed on school or work computers where you don't have administrator access or the ability to install new programs. Anaconda comes bundled with over 200 packages pre-installed including **numpy**, **matplotlib** and **jupyter**. These three packages are handy for problem solvers and will be discussed in subsequent chapters.\n",
    "\n",
    "#### Steps:\n",
    "\n",
    "1. Visit [Anaconda.com/downloads](https://www.anaconda.com/download/)\n",
    "\n",
    "2. Select Windows\n",
    "\n",
    "3. Download the .exe installer\n",
    "\n",
    "4. Open and run the .exe installer\n",
    "\n",
    "5. Open the Anaconda Prompt and run some Python code"
   ]
  },
  {
   "cell_type": "markdown",
   "metadata": {},
   "source": [
    "#### 1. Visit the Anaconda downloads page\n",
    "\n",
    "Go to the following link: [Anaconda.com/downloads](https://www.anaconda.com/download/)\n",
    "\n",
    "The Anaconda Downloads Page will look something like this:\n",
    "\n",
    "![anaconda download page](images/anaconda_download_page.png)"
   ]
  },
  {
   "cell_type": "markdown",
   "metadata": {},
   "source": [
    "#### 2. Select Windows\n",
    "\n",
    "Scroll down and select Windows where the three operating systems are listed.\n",
    "\n",
    "![anaconda select Windows](images/anaconda_select_windows.png)"
   ]
  },
  {
   "cell_type": "markdown",
   "metadata": {},
   "source": [
    "#### 3. Download\n",
    "\n",
    "Download the most recent Python version. At the time of this writing, the most recent version is Python 3.6. Python 2.7 is legacy Python. If you are unsure if your computer is running a 64-bit or 32-bit version of Windows, select 64-bit as that is most common.\n",
    "\n",
    "![anaconda select python 3.6](images/anaconda_python3_or_python2.png)\n",
    "\n",
    "You may be prompted to enter your email. You can still download Anaconda if you click **No Thanks** and don't enter your Work Email address.\n",
    "\n",
    "![anaconda](images/anaconda_enter_email.png)\n",
    "\n",
    "The download is quite large (over 500 MB), so it may take a while for the download to complete.\n",
    "\n",
    "![anaconda downloading](images/anaconda_downloading.png)"
   ]
  },
  {
   "cell_type": "markdown",
   "metadata": {},
   "source": [
    "#### 4. Open and run the installer\n",
    "\n",
    "Once the download completes, open and run the .exe installer\n",
    "\n",
    "![Anaconda installer](images/anaconda_run_installer.png)\n",
    "\n",
    "At the beginning of the install you will need to click **Next** to confirm the installation\n",
    "\n",
    "![Anaconda installer click next](images/anaconda_installer_click_next.png)\n",
    "\n",
    "and agree to the license\n",
    "\n",
    "![Anaconda License](images/anaconda_agree_to_license.png)\n",
    "\n",
    "At the Advanced Installation Options screen, I recommend that you **do not check** \"Add Anaconda to my PATH environment variable\". Do check \"Register Anaconda as my default Python\"\n",
    "\n",
    "![Anaconda Advanced Options](images/anaconda_path2.png)"
   ]
  },
  {
   "cell_type": "markdown",
   "metadata": {},
   "source": [
    "#### 5. Open the Anaconda Conda prompt from the Windows start menu\n",
    "\n",
    "After the Anaconda installation is complete, you can go to the Windows start menu and select the Anaconda Prompt.\n",
    "\n",
    "![anaconda in start menu](images/anaconda_from_start_menu.png)\n",
    "\n",
    "This will open up the **Anaconda Prompt**, which is also often called the **conda prompt**. **Anaconda** is the Python distribution and the **Anaconda Prompt** is a command line shell (a program where you type in your commands instead of using a mouse). The black screen and text that makes up the **Anaconda Prompt** don't look like much, but it is beneficial for an undergraduate engineer using Python.\n",
    "\n",
    "![The Anaconda Prompt](images/anaconda_window.png)\n",
    "\n",
    "At the Anaconda prompt, type ```python```. This command starts the Python Interpreter, also called the Python REPL (for Read Evaluate Print Loop). \n",
    "\n",
    "![Anaconda Prompt > python](images/conda_prompt_type_python.png)\n",
    "\n",
    "Note the Python version. You should see something like ```Python 3.6.1```.  With the interpreter running, you will see a set of greater-than symbols ```>>>``` before the cursor. \n",
    "\n",
    "![Anaconda Prompt showing Python version](images/conda_type_python.png)\n",
    "\n",
    "Now you can type Python commands. Try typing ```import this```. You should see the **_Zen of Python_** by Tim Peters.\n",
    "\n",
    "![Anaconda Prompt showing the results of >>>import_this](images/conda_import_this_output.png)\n",
    "\n",
    "To close the Python interpreter, type ```exit()``` at the prompt ```>>>```.  Note the double parenthesis at the end of the ```exit()``` command. The ```()``` is needed to stop the Python interpreter and get back out to the **Anaconda Prompt**.\n",
    "\n",
    "To close the **Anaconda Prompt**, you can either close the window with the mouse, or type ```exit```, no parenthesis necessary."
   ]
  },
  {
   "cell_type": "markdown",
   "metadata": {},
   "source": [
    "#### Congratulations! You installed the Anaconda distribution on your Windows computer!\n",
    "\n",
    "When you want to use the Python interpreter again, click the Windows Start button, select the **Anaconda Prompt** and type ```python```."
   ]
  },
  {
   "cell_type": "code",
   "execution_count": null,
   "metadata": {},
   "outputs": [],
   "source": []
  }
 ],
 "metadata": {
  "kernelspec": {
   "display_name": "Python 3",
   "language": "python",
   "name": "python3"
  },
  "language_info": {
   "codemirror_mode": {
    "name": "ipython",
    "version": 3
   },
   "file_extension": ".py",
   "mimetype": "text/x-python",
   "name": "python",
   "nbconvert_exporter": "python",
   "pygments_lexer": "ipython3",
   "version": "3.6.4"
  }
 },
 "nbformat": 4,
 "nbformat_minor": 2
}
