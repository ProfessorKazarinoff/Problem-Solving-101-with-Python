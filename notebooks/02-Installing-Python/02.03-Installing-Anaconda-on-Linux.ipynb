{
 "cells": [
  {
   "cell_type": "markdown",
   "metadata": {},
   "source": [
    "## Installing Anaconda on Linux"
   ]
  },
  {
   "cell_type": "markdown",
   "metadata": {},
   "source": [
    "In this section, we will run through installing the **Anaconda** distribution of Python on Linux, specifically Ubuntu 16.04. Ubuntu 16.04 comes pre-installed with Python (Version 3.3) and legacy Python (Version 2.7). You can confirm this legacy version of Python is installed by opening up a terminal.\n",
    "\n",
    "In the terminal type:\n",
    "\n",
    "```text\n",
    "$ python\n",
    "```\n",
    "\n",
    "You will most likely see version 2.7 is installed. If you enter:\n",
    "\n",
    "```text\n",
    "$ python3\n",
    "```\n",
    "\n",
    "You will most likely see version 3.3 is installed. You can use this version of Python, but each time a new package needs to be downloaded, the ```$ pip3 install``` command must be used.\n",
    "\n",
    "Install the **Anaconda** distribution of Python to follow the examples in the book without the need to install additional external packages"
   ]
  },
  {
   "cell_type": "markdown",
   "metadata": {},
   "source": [
    "#### Steps:\n",
    "\n",
    "1. Visit [Anaconda.com/downloads](https://www.anaconda.com/download/)\n",
    "\n",
    "2. Select Linux\n",
    "\n",
    "3. Copy the bash (.sh file) installer link\n",
    "\n",
    "4. Use ```wget``` to download the bash installer\n",
    "\n",
    "5. Run the bash script to install **Anaconda3**\n",
    "\n",
    "6. ```source``` the ```.bash-rc``` file to add Anaconda to your ```PATH```\n",
    "\n",
    "7. Start the Python REPL"
   ]
  },
  {
   "cell_type": "markdown",
   "metadata": {},
   "source": [
    "#### 1. Visit the Anaconda downloads page\n",
    "\n",
    "Go to the following link: [Anaconda.com/downloads](https://www.anaconda.com/download/)\n",
    "\n",
    "The Anaconda Downloads Page will look something like this:\n",
    "\n",
    "![Anaconda downloads page](images/anaconda_download_page.png)"
   ]
  },
  {
   "cell_type": "markdown",
   "metadata": {},
   "source": [
    "#### 2. Select Linux\n",
    "\n",
    "On the downloads page, select the [Linux] operating system"
   ]
  },
  {
   "cell_type": "markdown",
   "metadata": {},
   "source": [
    "#### 3. Copy the bash (.sh file) installer link\n",
    "\n",
    "In the **Python 3.6 Version* ** box, right-click on the [64-Bit(x86) Installer] link. Select [copy link address].\n",
    "\n",
    "![Anaconda downloads page: copy link address](images/anaconda_install_linux_copy_link_address.png)"
   ]
  },
  {
   "cell_type": "markdown",
   "metadata": {},
   "source": [
    "#### 4. Use ```wget``` to download the bash installer\n",
    "\n",
    "Now that the bash installer (.sh file) link is stored on the clipboard, use ```wget``` to download the installer script. In a terminal, ```cd``` into the home directory and make a new directory called ```tmp```. ```cd``` into ```tmp``` and use ```wget``` to download the installer. Although the installer is a bash script, it is still quite large and the download will not be immediate.\n",
    "    \n",
    "```\n",
    "$ cd ~\n",
    "$ mkdir tmp\n",
    "$ cd tmp\n",
    "$ wget https://repo.anaconda.com/archive/Anaconda3-5.2.0-Linux-x86_64.sh \n",
    "```\n"
   ]
  },
  {
   "cell_type": "markdown",
   "metadata": {},
   "source": [
    "#### 5. Run the bash script to install **Anaconda3**\n",
    "\n",
    "With the bash installer script downloaded, run the **_.sh_** script to install **Anaconda3**. Ensure you are in the directory where the installer script downloaded:\n",
    "    \n",
    "```\n",
    "$ ls\n",
    "Anaconda3-5.2.0-Linux-x86_64.sh\n",
    "```\n",
    "\n",
    "Run the installer script with bash\n",
    "\n",
    "```\n",
    "$ bash Anaconda3-5.2.0-Linux-x86_64.sh\n",
    "```\n",
    "\n",
    "Accept the Licence Agreement and allow Anaconda to be added to your ```PATH```. By adding Anaconda to your ```PATH``` the Anaconda distribution of Python will be called when you type ```$ python```.\n"
   ]
  },
  {
   "cell_type": "markdown",
   "metadata": {
    "collapsed": true
   },
   "source": [
    "####  6. ```source``` the ```.bash-rc``` file to add Anaconda to your ```PATH```\n",
    "\n",
    "Now that **Anaconda3** is installed and **Anaconda3** is added to our ```PATH```, ```source``` the ```.bashrc``` file to load the new ```PATH``` environmnet variable into the current terminal session. Note the ```.bashrc``` file is in the home directory. You can see it with ```$ ls -a```.\n",
    "    \n",
    "```\n",
    "$ cd ~\n",
    "$ source .bashrc\n",
    "```"
   ]
  },
  {
   "cell_type": "markdown",
   "metadata": {},
   "source": [
    "#### 7. Start the Python REPL\n",
    "\n",
    "To verify the installation is complete, try to open Python from the command line:\n",
    "\n",
    "```\n",
    "$ python\n",
    "\n",
    "Python 3.6.5 |Anaconda, Inc.| (default, Mar 29 2018, 18:21:58)\n",
    "[GCC 7.2.0] on linux\n",
    "Type \"help\", \"copyright\", \"credits\" or \"license\" for more information.\n",
    ">>>\n",
    "```\n",
    "\n",
    "If you see Python 3.6 from Anaconda listed, your installation is complete. To exit the Python REPL, type:\n",
    "\n",
    "```text\n",
    ">>> exit()\n",
    "```"
   ]
  },
  {
   "cell_type": "code",
   "execution_count": null,
   "metadata": {},
   "outputs": [],
   "source": []
  }
 ],
 "metadata": {
  "kernelspec": {
   "display_name": "Python 3",
   "language": "python",
   "name": "python3"
  },
  "language_info": {
   "codemirror_mode": {
    "name": "ipython",
    "version": 3
   },
   "file_extension": ".py",
   "mimetype": "text/x-python",
   "name": "python",
   "nbconvert_exporter": "python",
   "pygments_lexer": "ipython3",
   "version": "3.6.4"
  }
 },
 "nbformat": 4,
 "nbformat_minor": 2
}
