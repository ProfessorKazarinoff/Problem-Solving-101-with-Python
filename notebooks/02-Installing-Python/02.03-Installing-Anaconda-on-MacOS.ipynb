{
 "cells": [
  {
   "cell_type": "markdown",
   "metadata": {},
   "source": [
    "## Installing Anaconda on MacOS"
   ]
  },
  {
   "cell_type": "markdown",
   "metadata": {},
   "source": [
    "In this section, we will run through installing the Anaconda distribution of Python on MacOS. Most versions of MacOS come pre-installed with legacy Python (Version 2.7). You can confirm this legacy version of Python is installed by opening the MacOS **terminal**. To open the MacOS terminal use [command]+[Space Bar] and type ```terminal``` in the Spotlight Search bar. \n",
    "\n",
    "In the MacOS Terminal type (note: the dollar sign ```$``` is used to indicate the terminal prompt. The dollar sign ```$``` does not need to be typed):\n",
    "\n",
    "```\n",
    "$ python\n",
    "```\n",
    "\n",
    "You will most likely see version 2.7 is installed. An issue for MacOS users is that the installed system version of Python has a set of permissions that will not always allow Python to run and may not allow Python to install external packages.  Therefore, I recommend the **Anaconda** distribution of Python is installed in addition to the system version of Python on MacOS. You will be able to run Python code using the **Anaconda** distribution of Python, and you will be able to install external packages on the**Anaconda** distribution of Python.\n",
    "\n",
    "To install the **Anaconda** distribution of Python follow the steps below:\n",
    "\n",
    "#### Steps:\n",
    "\n",
    "1. Visit [Anaconda.com/downloads](https://www.anaconda.com/download/)\n",
    "\n",
    "2. Select MacOS and Download the .pkg installer\n",
    "\n",
    "3. Open the .pkg installer\n",
    "\n",
    "4. Follow the installation instructions\n",
    "\n",
    "5. Source your .bash-rc file\n",
    "\n",
    "6. Open a terminal and type ```python``` and run some code."
   ]
  },
  {
   "cell_type": "markdown",
   "metadata": {},
   "source": [
    "#### 1. Visit the Anaconda downloads page\n",
    "\n",
    "Go to the following link: [Anaconda.com/downloads](https://www.anaconda.com/download/)\n",
    "\n",
    "The Anaconda Downloads Page will look something like this:\n",
    "\n",
    "![anaconda download page](images/anaconda_download_page.png)"
   ]
  },
  {
   "cell_type": "markdown",
   "metadata": {},
   "source": [
    "#### 2. Select MacOS and download the .pkg installer\n",
    "\n",
    "In the opperating systems box, select [MacOS]. Then download the most recent Python 3 distribution (at the time of this writing the most recent version is Python 3.6) graphical installer by clicking the Download link. Python 2.7 is legacy Python. For undergraduate engineers, select the most recent Python 3 version.\n",
    "\n",
    "![Anaconda select Python 3.6](images/anaconda_download_mac.png)\n",
    "\n",
    "You may be prompted to enter your email. You can still download Anaconda if you click **No Thanks** or [x] and don't enter your Work Email address.\n",
    "\n",
    "![Anaconda ask for email](images/anaconda_download_mac_ask_for_email.png)"
   ]
  },
  {
   "cell_type": "markdown",
   "metadata": {},
   "source": [
    "#### 3. Open the .pkg installer\n",
    "\n",
    "Using the MacOS finder, navigate to the downloads folder and double click the **_.pkg_** installer file you just downloaded. It may be helpful to order your downloads by date to find the **_.pkg_** file."
   ]
  },
  {
   "cell_type": "markdown",
   "metadata": {},
   "source": [
    "#### 4. Follow the installation instructions\n",
    "\n",
    "Follow the installation instructions. It is advised that you install **Anaconda** for the current user and that **Anaconda** **is added to your PATH**."
   ]
  },
  {
   "cell_type": "markdown",
   "metadata": {},
   "source": [
    "#### 5. Source your .bash-rc file\n",
    "\n",
    "Once Anaconda is installed, you need to load the changes to your ```PATH``` environment variable in the current terminal session.\n",
    "\n",
    "Open the MacOS Terminal and type:\n",
    "    \n",
    "```\n",
    "$ cd ~\n",
    "$ source .bashrc\n",
    "```"
   ]
  },
  {
   "cell_type": "markdown",
   "metadata": {
    "collapsed": true
   },
   "source": [
    "#### 6. Open a terminal and type ```python``` and run some code.\n",
    "\n",
    "Open the MacOS Terminal and type:\n",
    "    \n",
    "```\n",
    "$ python\n",
    "```\n",
    "\n",
    "You should see something like\n",
    "\n",
    "```\n",
    "Python 3.6.3 | Anaconda Inc. |\n",
    "```\n",
    "\n",
    "At the Python REPL (the Python ```>>>``` prompt) try:\n",
    "\n",
    "```\n",
    ">>> import this\n",
    "```\n",
    "\n",
    "If you see the Zen of Python, the installation was successful. Exit out of the Python REPL using ```>>> exit()```. Make sure to include the double parenthesis ```()``` after the ```exit``` command."
   ]
  },
  {
   "cell_type": "code",
   "execution_count": null,
   "metadata": {
    "collapsed": true
   },
   "outputs": [],
   "source": []
  }
 ],
 "metadata": {
  "kernelspec": {
   "display_name": "Python 3",
   "language": "python",
   "name": "python3"
  },
  "language_info": {
   "codemirror_mode": {
    "name": "ipython",
    "version": 3
   },
   "file_extension": ".py",
   "mimetype": "text/x-python",
   "name": "python",
   "nbconvert_exporter": "python",
   "pygments_lexer": "ipython3",
   "version": "3.6.4"
  }
 },
 "nbformat": 4,
 "nbformat_minor": 2
}
