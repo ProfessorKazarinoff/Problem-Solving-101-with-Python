{
 "cells": [
  {
   "cell_type": "markdown",
   "metadata": {},
   "source": [
    "## Installing Anaconda on Windows"
   ]
  },
  {
   "cell_type": "markdown",
   "metadata": {},
   "source": [
    "For undergraduate engineers, I recommend installing and using the Anaconda distribution of Python."
   ]
  },
  {
   "cell_type": "markdown",
   "metadata": {},
   "source": [
    "In this section, we will run through installing the Anaconda distribution of Python on Windows 10. I think the Anaconda distribution of Python is the the best option for undergraduate engineers who want to use Python. Anaconda is free (although the download is large which can take time) and can be installed on school or work computers where you don't have administrator access or the ability to install new programs. Anaconda comes bundled with over 100 packages pre-installed including **numpy**, **matplotlib** and **pandas**. These three packages are very useful for engineers and will be discussed in subsequent chapters.\n",
    "\n",
    "#### Steps:\n",
    "\n",
    "1. Visit [Anaconda.com/downloads](https://www.anaconda.com/download/)\n",
    "\n",
    "2. Select Windows\n",
    "\n",
    "3. Download the .exe installer\n",
    "\n",
    "4. Open and run the .exe installer\n",
    "\n",
    "5. Open the Anaconda prompt and run some Python code"
   ]
  },
  {
   "cell_type": "markdown",
   "metadata": {},
   "source": [
    "#### 1. Visit the Anaconda downloads page\n",
    "\n",
    "Go to the following link: [Anaconda.com/downloads](https://www.anaconda.com/download/)\n",
    "\n",
    "The Anaconda Downloads Page will look something like this:\n",
    "\n",
    "![anaconda download page](images/anaconda_download_page.png)"
   ]
  },
  {
   "cell_type": "markdown",
   "metadata": {},
   "source": [
    "#### 2. Select Windows\n",
    "\n",
    "Select Windows where the three opperating systems are listed.\n",
    "\n",
    "![anaconda select Windows](images/anaconda_select_windows.png)"
   ]
  },
  {
   "cell_type": "markdown",
   "metadata": {},
   "source": [
    "#### 3. Download\n",
    "\n",
    "Download the Python 3.6 distribution. Python 2.7 is legacy Python. For undergraduate engineers, select the Python 3.6 version.\n",
    "\n",
    "![anaconda select python 3.6](images/anaconda_python3_or_python2.png)\n",
    "\n",
    "You may be prompted to enter your email. You can still download Anaconda if you click **No Thanks** and don't enter your Work Email address.\n",
    "\n",
    "![anaconda](images/anaconda_enter_email.png)\n",
    "\n",
    "The download is quite large (over 500 MB) so it may take a while for the download to complete.\n",
    "\n",
    "![anaconda downloading](images/anaconda_downloading.png)"
   ]
  },
  {
   "cell_type": "markdown",
   "metadata": {},
   "source": [
    "#### 4. Open and run the installer\n",
    "\n",
    "Once the download completes, open and run the .exe installer\n",
    "\n",
    "![anaconda installer](images/anaconda_run_installer.png)\n",
    "\n",
    "At the beginning of the install you will need to click **Next** to confirm the installation\n",
    "\n",
    "![anaconda installer click next](images/anaconda_installer_click_next.png)\n",
    "\n",
    "and agree to the license\n",
    "\n",
    "![anaconda license](images/anaconda_agree_to_license.png)\n",
    "\n",
    "At the Advanced Installation Options screen, I recommend that you **do not check** \"Add Anaconda to my PATH environment variable\"\n",
    "\n",
    "![anaconda path variable](images/anaconda_path2.png)"
   ]
  },
  {
   "cell_type": "markdown",
   "metadata": {},
   "source": [
    "#### 5. Open the Conda prompt from the Windows start menu\n",
    "\n",
    "After the Anaconda install is complete, you can go to the Windows start menu and select the Anaconda Prompt\n",
    "\n",
    "![anaconda in start menu](images/anaconda_from_start_menu.png)\n",
    "\n",
    "This will open up the **Anaconda Prompt**, which is often called the **conda prompt**. **Anaconda** is the Python distribution and the **Anaconda Prompt** is a command line shell (a program where you type in your commands instead of using a mouse). The black screen and text that makes up the **Anaconda Prompt** doesn't look like much, but it is really helpful for an undergraduate engineer using Python.\n",
    "\n",
    "![anaconda prompt](images/anaconda_window.png)\n",
    "\n",
    "At the Anaconda prompt, type ```python```. This will start the Python interperater, also called the Python REPL (for Read Evaluate Print Loop). \n",
    "\n",
    "![conda prompt type python](images/conda_prompt_type_python.png)\n",
    "\n",
    "Note the Python version. You should see something like ```Python 3.6.1```.  With the interperter running, you will see a set of greater-than symbols ```>>>``` before the cursor. \n",
    "\n",
    "![anaconda prompt](images/conda_type_python.png)\n",
    "\n",
    "Now you can type Python commands. Try typing ```import this```. You should see the **_Zen of Python_** by Tim Peters\n",
    "\n",
    "![anaconda_import_this](images/conda_import_this_output.png)\n",
    "\n",
    "To close the Python interperater, type ```exit()``` at the interperator prompt ```>>>```.  Note the double parenthesis at the end of the ```exit()``` command. The ```()``` is needed to stop the Python interperator and get back out to the **Anaconda Prompt**.\n",
    "\n",
    "To close the **Anaconda Prompt**, you can either close the window with the mouse, or type ```exit```, no parenthesis necessary."
   ]
  },
  {
   "cell_type": "markdown",
   "metadata": {},
   "source": [
    "#### Congratulations! You installed the Anaconda distribution on your Windows computer!\n",
    "\n",
    "When you want to use the Python interperater again, just click the Windows Start button and select the **Anaconda Prompt** and type ```python```."
   ]
  },
  {
   "cell_type": "code",
   "execution_count": null,
   "metadata": {},
   "outputs": [],
   "source": []
  }
 ],
 "metadata": {
  "kernelspec": {
   "display_name": "Python 3",
   "language": "python",
   "name": "python3"
  },
  "language_info": {
   "codemirror_mode": {
    "name": "ipython",
    "version": 3
   },
   "file_extension": ".py",
   "mimetype": "text/x-python",
   "name": "python",
   "nbconvert_exporter": "python",
   "pygments_lexer": "ipython3",
   "version": "3.6.4"
  }
 },
 "nbformat": 4,
 "nbformat_minor": 2
}
