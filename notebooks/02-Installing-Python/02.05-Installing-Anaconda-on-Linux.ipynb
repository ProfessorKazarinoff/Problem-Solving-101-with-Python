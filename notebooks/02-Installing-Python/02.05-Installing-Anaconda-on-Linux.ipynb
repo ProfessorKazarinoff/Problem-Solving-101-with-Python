{
 "cells": [
  {
   "cell_type": "markdown",
   "metadata": {},
   "source": [
    "## Installing Anaconda on Linux"
   ]
  },
  {
   "cell_type": "markdown",
   "metadata": {},
   "source": [
    "In this section, we will run through installing the Anaconda distribution of Python on Linux, specifically Ubuntu 16.04. Ubuntu comes pre-installed with Python (Version 3.3) and legacy Python (Version 2.7). You can confirm this legacy version of Python is installed by opening up a terminal.\n",
    "\n",
    "In the terminal type:\n",
    "\n",
    "```\n",
    "$ python\n",
    "```\n",
    "\n",
    "You will most likely see version 2.7 is installed. If you enter:\n",
    "\n",
    "```\n",
    "$ python3\n",
    "```\n",
    "\n",
    "You will most likely see version 3.3 is installed.\n",
    "\n",
    "#### Steps:\n",
    "\n",
    "1. Visit [Anaconda.com/downloads](https://www.anaconda.com/download/)\n",
    "\n",
    "2. Select Mac OSX\n",
    "\n",
    "3. Download the .pkg installer\n",
    "\n",
    "4. Move the .pkg file to the Apps folder\n",
    "\n",
    "5. Open the Anaconda prompt and run some Python code"
   ]
  },
  {
   "cell_type": "markdown",
   "metadata": {},
   "source": [
    "#### 1. Visit the Anaconda downloads page\n",
    "\n",
    "Go to the following link: [Anaconda.com/downloads](https://www.anaconda.com/download/)\n",
    "\n",
    "The Anaconda Downloads Page will look something like this:\n",
    "\n",
    "![anaconda download page](images/anaconda_download_page.png)"
   ]
  },
  {
   "cell_type": "markdown",
   "metadata": {},
   "source": [
    "#### 2. Download\n",
    "\n",
    "Download the Python 3.6 distribution. Python 2.7 is legacy Python. For undergraduate engineers, select the Python 3.6 version.\n",
    "\n",
    "![anaconda select python 3.6](images/anaconda_python3_or_python2.png)\n",
    "\n",
    "You may be prompted to enter your email. You can still download Anaconda if you click **No Thanks** and don't enter your Work Email address.\n",
    "\n",
    "![anaconda](images/anaconda_enter_email.png)\n",
    "\n",
    "The download is quite large (over 500 MB) so it may take a while for the download to complete.\n",
    "\n",
    "![anaconda downloading](images/anaconda_downloading.png)"
   ]
  },
  {
   "cell_type": "markdown",
   "metadata": {},
   "source": [
    "#### 3. Move the .dkg pacakge to the app folder\n",
    "\n",
    "Move the .pdk package to the app folder. \n",
    "\n",
    "Put Image of .pdk package to app folder"
   ]
  },
  {
   "cell_type": "markdown",
   "metadata": {},
   "source": [
    "#### 4. Add conda to your PATH\n",
    "\n",
    "Open the OSX Terminal and type:\n",
    "    \n",
    "```\n",
    "$ export PATH = /usr/bin/Anaconda/python\n",
    "```\n",
    "\n"
   ]
  },
  {
   "cell_type": "markdown",
   "metadata": {},
   "source": [
    "#### 5. Open the the Python REPL\n",
    "\n",
    "Open the OSX Terminal and type:\n",
    "    \n",
    "```\n",
    "conda create -n env python=3.6\n",
    "```\n",
    "\n",
    "Type ```y``` after the prompts\n",
    "\n",
    "Then activate your environment with\n",
    "\n",
    "```\n",
    "$ conda activate env\n",
    "```\n",
    "\n",
    "You should now see ```(env)``` before the command prompt. At the prompt type:\n",
    "\n",
    "```\n",
    "$(env) Python\n",
    "```\n",
    "\n",
    "This will bring up the python prompt also called the Python REPL\n",
    "\n",
    "To exit the REPL type:\n",
    "\n",
    "```\n",
    ">>> exit()\n",
    "```\n"
   ]
  },
  {
   "cell_type": "code",
   "execution_count": null,
   "metadata": {
    "collapsed": true
   },
   "outputs": [],
   "source": []
  }
 ],
 "metadata": {
  "kernelspec": {
   "display_name": "Python 3",
   "language": "python",
   "name": "python3"
  },
  "language_info": {
   "codemirror_mode": {
    "name": "ipython",
    "version": 3
   },
   "file_extension": ".py",
   "mimetype": "text/x-python",
   "name": "python",
   "nbconvert_exporter": "python",
   "pygments_lexer": "ipython3",
   "version": "3.6.5"
  }
 },
 "nbformat": 4,
 "nbformat_minor": 2
}
