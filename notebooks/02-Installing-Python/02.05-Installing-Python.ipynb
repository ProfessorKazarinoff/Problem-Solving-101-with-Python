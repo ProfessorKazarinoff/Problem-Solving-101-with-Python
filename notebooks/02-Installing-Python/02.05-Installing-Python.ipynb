{
 "cells": [
  {
   "cell_type": "markdown",
   "metadata": {},
   "source": [
    "## Installing Python from Python.org"
   ]
  },
  {
   "cell_type": "markdown",
   "metadata": {},
   "source": [
    "Below are the recommended ways to install a new version of Python from Python.org on the three major operating systems: Windows, MacOS and Linux. \n",
    "\n",
    "This book is based on Python version 3.6.  Some of the problems may not work correctly on legacy Python (version 2.7). I recommend using the **Anaconda** distribution of Python on Windows and MacOS. The installation of **Anaconda** was detailed in previous sections of this chapter."
   ]
  },
  {
   "cell_type": "markdown",
   "metadata": {},
   "source": [
    "### Installing Python on Windows\n",
    "\n",
    "Go to [https://www.python.org/downloads/](https://www.python.org/downloads/) and download the latest release. Make sure to select the box [add Python to my path]. \n",
    "\n",
    "![Python.org download for Windows](images/python_dot_org_windows_download.PNG)"
   ]
  },
  {
   "cell_type": "markdown",
   "metadata": {},
   "source": [
    "### Installing Python on Mac OSX\n",
    "\n",
    "Go to [https://www.python.org/downloads/mac-osx/](https://www.python.org/downloads/mac-osx/) and download the latest release. \n",
    "\n",
    "![Python.org download for MacOS](images/python_dot_org_macos_download.PNG)"
   ]
  },
  {
   "cell_type": "markdown",
   "metadata": {},
   "source": [
    "### Installing Python on Linux\n",
    "\n",
    "Open a terminal and enter ```$ python``` to see if a version of Python is already installed on the system. If the Python version is 2.7 or below, download the newest release in the apt repositories.\n",
    "\n",
    "```text\n",
    "$ sudo apt-get python3.6\n",
    "```\n",
    "\n",
    "After installation, you will need to append your PATH environment variable to ensure the newly installed Python3.6 version is the version of Python called when using the terminal."
   ]
  },
  {
   "cell_type": "code",
   "execution_count": null,
   "metadata": {
    "collapsed": true
   },
   "outputs": [],
   "source": []
  }
 ],
 "metadata": {
  "kernelspec": {
   "display_name": "Python 3",
   "language": "python",
   "name": "python3"
  },
  "language_info": {
   "codemirror_mode": {
    "name": "ipython",
    "version": 3
   },
   "file_extension": ".py",
   "mimetype": "text/x-python",
   "name": "python",
   "nbconvert_exporter": "python",
   "pygments_lexer": "ipython3",
   "version": "3.6.4"
  }
 },
 "nbformat": 4,
 "nbformat_minor": 2
}
