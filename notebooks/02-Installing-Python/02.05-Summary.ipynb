{
 "cells": [
  {
   "cell_type": "markdown",
   "metadata": {
    "latex": {
     "before_cell": "newpage"
    }
   },
   "source": [
    "## Summary"
   ]
  },
  {
   "cell_type": "markdown",
   "metadata": {},
   "source": [
    "In this chapter you learned how to install the **Anaconda** distribution of Python on your computer. The Anaconda distribution of Python can be installed on the three major operating systems: Windows, MacOS, and Linux. The Anaconda distribution of Python is the recommended way to get Python running on your computer. Alternatively, if you decided to download and install Python from Python.org, one of sections of the chapter detailed how to install Python from Python.org on Windows, MacOS, and Linux."
   ]
  },
  {
   "cell_type": "markdown",
   "metadata": {},
   "source": [
    "### Key Terms and Concepts"
   ]
  },
  {
   "cell_type": "markdown",
   "metadata": {
    "latex": {
     "environment": "key_terms"
    }
   },
   "source": [
    "Anaconda\n",
    "\n",
    "download\n",
    "\n",
    "install\n",
    "\n",
    "Python\n",
    "\n",
    "operating system\n",
    "\n",
    "Windows\n",
    "\n",
    "MacOS\n",
    "\n",
    "Linux\n",
    "\n",
    "terminal\n",
    "\n",
    "PATH"
   ]
  },
  {
   "cell_type": "markdown",
   "metadata": {
    "collapsed": true
   },
   "source": [
    "### Additional Resources"
   ]
  },
  {
   "cell_type": "markdown",
   "metadata": {},
   "source": [
    "**Anaconda** official documentation: \n",
    "\n",
    " > [https://docs.anaconda.com/anaconda/](https://docs.anaconda.com/anaconda/)\n",
    "\n",
    "**Anaconda** Cheat Sheet from Anaconda.com:\n",
    "\n",
    " > [https://docs.anaconda.com/_downloads/Anaconda-Starter-Guide-Cheat-Sheet.pdf](https://docs.anaconda.com/_downloads/Anaconda-Starter-Guide-Cheat-Sheet.pdf)\n",
    "\n",
    "Official Python Version 3.7 documentation:\n",
    "\n",
    " > [https://docs.python.org/3.7/](https://docs.python.org/3.7/)\n",
    "\n",
    "**Conda** Command line application documentation:\n",
    "\n",
    " > [https://conda.io/docs/](https://conda.io/docs/)"
   ]
  },
  {
   "cell_type": "code",
   "execution_count": null,
   "metadata": {},
   "outputs": [],
   "source": []
  }
 ],
 "metadata": {
  "celltoolbar": "Edit Metadata",
  "kernelspec": {
   "display_name": "Python 3",
   "language": "python",
   "name": "python3"
  },
  "language_info": {
   "codemirror_mode": {
    "name": "ipython",
    "version": 3
   },
   "file_extension": ".py",
   "mimetype": "text/x-python",
   "name": "python",
   "nbconvert_exporter": "python",
   "pygments_lexer": "ipython3",
   "version": "3.6.5"
  }
 },
 "nbformat": 4,
 "nbformat_minor": 2
}
