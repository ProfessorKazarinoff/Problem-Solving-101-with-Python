{
 "cells": [
  {
   "cell_type": "markdown",
   "metadata": {},
   "source": [
    "## What is a Jupyter Notebook?"
   ]
  },
  {
   "cell_type": "markdown",
   "metadata": {},
   "source": [
    "A _Jupyter Notebook_ is a type of documenent or electronic file which contains both programming code and description. Jupyter Notebooks can also contain embedded chart, plots and images. Although _Jupyter Notebooks_ can contain many types of programming code, a lot of Jupyter Notebooks contain Python code. The same type of code that you would find in a .py file. The desciption sections of Jupyter Notebooks contain explanations and clarifications of the programming code in the _markdown_ format. _Markdown_ files have the extension ```.md```.\n",
    "\n",
    "So one way to think of a Jupyter Notebook is the combination of a ```.py``` file, a Python file, with a ```.md``` file, a markdown file. The Juptyter Notebook file extension is ```.ipynb``` which stands for IPython Notebook. Jupyter notebooks still use the .ipynb extension even if they contain code from a different programming language such as R.\n",
    "\n",
    "In the way that it functions, a Jupyter Notebook is sort of half way between the Python REPL and a Python module .py file. In the Python REPL, only one command can be typed at a time and only one line of output is shown at a time. In a ```.py``` file, the entire file is run at one time and the output of the entire file is produced at once. In a jupyter notebook, chucks of code 1 line to many lines long can be run without running all of the code in the jupyter notebook.\n",
    "\n",
    "Python .py files and markdown .md files are typically edited in a text editor like notepad. Jupyter notebooks run inside a web browser like Google Chrome. Regular .py files only contain Python commands and comments. Jupyter notebooks contain two types of cells: code cells and markdown cells. Lines of Python code are run in code cells. Markdown cells contain comment like descriptions to describe code cells. Out put from the code is also shown in the jupyter notebook. Charts, plots, commadline output and images can all be shown."
   ]
  },
  {
   "cell_type": "code",
   "execution_count": null,
   "metadata": {
    "collapsed": true
   },
   "outputs": [],
   "source": []
  }
 ],
 "metadata": {
  "kernelspec": {
   "display_name": "Python 3",
   "language": "python",
   "name": "python3"
  },
  "language_info": {
   "codemirror_mode": {
    "name": "ipython",
    "version": 3
   },
   "file_extension": ".py",
   "mimetype": "text/x-python",
   "name": "python",
   "nbconvert_exporter": "python",
   "pygments_lexer": "ipython3",
   "version": "3.6.4"
  }
 },
 "nbformat": 4,
 "nbformat_minor": 2
}
