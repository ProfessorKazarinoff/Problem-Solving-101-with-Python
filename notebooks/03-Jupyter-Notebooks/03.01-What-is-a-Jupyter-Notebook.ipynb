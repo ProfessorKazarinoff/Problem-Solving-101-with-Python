{
 "cells": [
  {
   "cell_type": "markdown",
   "metadata": {},
   "source": [
    "## What is a Jupyter Notebook?"
   ]
  },
  {
   "cell_type": "markdown",
   "metadata": {},
   "source": [
    "A _Jupyter notebook_ is a type of document or electronic file which can contain both programming code and text descriptions. Jupyter notebooks can also contain embedded charts, plots, images, videos and links. Although Jupyter notebooks can contain code for many different programming languages, a lot of Jupyter notebooks contain Python code. The same type of Python code found in a **_.py_** file. The text description sections of Jupyter notebooks contain explanations and clarifications of the programming code in the _markdown_ format. _Markdown_ files have the extension **_.md_**. Markdown sections of a Jupyter notebook can include formatting to make text bold, italic, form tables and lists, show code listings and images.\n",
    "\n",
    "One way to think of a Jupyter notebook is the combination of a **_.py_** file, a Python file, with a **_.md_** file, a markdown file. The Jupyter notebook file extension is **_.ipynb_** which stands for IPython Notebook. Jupyter notebooks still use the **_.ipynb_** extension even if they contain code from a different programming language such as R or Octave.\n",
    "\n",
    "Jupyter notebooks function sort of halfway between the Python REPL and a Python module **_.py_** file. In the Python REPL, only one command can be typed at a time, and only one line of output is shown at a time. In a **_.py_** file, the entire file is run at one time, and the output of the entire file is produced at once. In a Jupyter notebook, chunks of code one line or many lines long can be run individually and in any order without running all of the code in the jupyter notebook.\n",
    "\n",
    "Python **_.py_** files and markdown **_.md_** files are typically edited in a text editor like notepad. Jupyter notebooks run inside a web browser like Chrome or Firefox. Regular **_.py_** files only contain Python commands and comments. Jupyter notebooks contain two types of cells: code cells and markdown cells. Lines of Python code are run in code cells. Markdown cells contain text like descriptions of what will happens in subsequent code cells. The output from running the code cells is also shown in the Jupyter notebook. Charts, plots, command line output and images can all be shown in Jupyter notebooks as well."
   ]
  },
  {
   "cell_type": "code",
   "execution_count": null,
   "metadata": {
    "collapsed": true
   },
   "outputs": [],
   "source": []
  }
 ],
 "metadata": {
  "kernelspec": {
   "display_name": "Python 3",
   "language": "python",
   "name": "python3"
  },
  "language_info": {
   "codemirror_mode": {
    "name": "ipython",
    "version": 3
   },
   "file_extension": ".py",
   "mimetype": "text/x-python",
   "name": "python",
   "nbconvert_exporter": "python",
   "pygments_lexer": "ipython3",
   "version": "3.6.4"
  }
 },
 "nbformat": 4,
 "nbformat_minor": 2
}
