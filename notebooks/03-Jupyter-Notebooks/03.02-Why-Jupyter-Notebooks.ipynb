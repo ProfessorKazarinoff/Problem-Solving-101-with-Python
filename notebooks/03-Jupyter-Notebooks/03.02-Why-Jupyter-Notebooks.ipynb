{
 "cells": [
  {
   "cell_type": "markdown",
   "metadata": {},
   "source": [
    "## Why Jupyter Notebooks?"
   ]
  },
  {
   "cell_type": "markdown",
   "metadata": {},
   "source": [
    "There are a vast array of editors and IDE's (Integrated Development Environments) which can edit and run Python code. Why should engineers learn to use Jupyter notebooks? \n",
    " \n",
    "Below is a table of simple text editors and Integrated Development Environments (IDE's) that can edit and run Python code:\n",
    "\n",
    " | Simple Text Editors | \n",
    " | --- |\n",
    " | Notepad |\n",
    " | Idle |\n",
    " | Vim |\n",
    " | Sublime Text |\n",
    " | Atom |\n",
    " | Nano |\n",
    " \n",
    " An example of Python code in the Notepad text editor is below:\n",
    " \n",
    " ![Notepad text editor](images/notepad_text_editor.png)\n",
    " \n",
    " \n",
    " | IDE's |\n",
    " | --- |\n",
    " | PyCharm |\n",
    " | Visual Studio Code | \n",
    " | Spyder |\n",
    " | Thoney |\n",
    "\n",
    "An example of the PyCharm IDE is shown below:\n",
    "\n",
    "![PyCharm IDE](images/pycharm_IDE.png)\n",
    "\n",
    " \n",
    "A Jupyter notebook is neither a simple text editor nor a full-blown IDE. Jupyter notebooks provide a quick and streamlined way for engineers to prototype code and quickly share code.  Jupyter notebooks also provide a way for engineers to share solutions with team members, supervisors and customers.\n",
    "\n",
    "![Example Jupyter Notebook](images/jupyter_notebook_example.png)\n",
    "\n",
    "In a way, Jupyter notebooks strike a balance between simple text editors, which are fast to start and simple and easy to manipulate, and IDE's which tend to start slower and be feature-rich and complex. Simple text editors typically can only edit code, and cannot run code. A full IDE can edit code, run code, debug code, provide syntax highlighting and context help."
   ]
  },
  {
   "cell_type": "markdown",
   "metadata": {},
   "source": [
    "In the context of problem-solving, Jupyter Notebooks make much sense. They are quick to spin up and quick to provide output. Data exploration, data cleaning, and plot building can be accomplished in a Jupyter notebook easier and quicker than in a text editor or an IDE. \n",
    "\n",
    "In the context of sharing solutions to problems, Jupyter notebooks are also useful. Markdown cells can render text in different sizes, bold and italic. Tables and images can be, and plots and code output are all shown in the notebook."
   ]
  },
  {
   "cell_type": "code",
   "execution_count": null,
   "metadata": {},
   "outputs": [],
   "source": []
  }
 ],
 "metadata": {
  "kernelspec": {
   "display_name": "Python 3",
   "language": "python",
   "name": "python3"
  },
  "language_info": {
   "codemirror_mode": {
    "name": "ipython",
    "version": 3
   },
   "file_extension": ".py",
   "mimetype": "text/x-python",
   "name": "python",
   "nbconvert_exporter": "python",
   "pygments_lexer": "ipython3",
   "version": "3.6.4"
  }
 },
 "nbformat": 4,
 "nbformat_minor": 2
}
