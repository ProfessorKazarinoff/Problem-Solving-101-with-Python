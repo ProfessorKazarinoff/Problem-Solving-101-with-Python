{
 "cells": [
  {
   "cell_type": "markdown",
   "metadata": {},
   "source": [
    "## Opening a Jupyter Notebook"
   ]
  },
  {
   "cell_type": "markdown",
   "metadata": {},
   "source": [
    "In this section, we will run through how to open a _jupyter notebook_ on Windows 10 and MacOS.  Jupyter notebooks are one way problem solvers can write and execute Python code. Jupyter notebooks contain Python code, the output of that code produces when it is run and markdown cells to explain what the code means. On Windows 10, a Jupyter notebook can be started from the **Anaconda Prompt**, the Windows start menu and **Anaconda Navigator**."
   ]
  },
  {
   "cell_type": "markdown",
   "metadata": {},
   "source": [
    "#### 3 ways to open a **Jupyter notebook**:\n",
    "\n",
    "1. Windows Start Menu\n",
    "\n",
    "2. **Anaconda Prompt**\n",
    "\n",
    "3. Anaconda Navigator"
   ]
  },
  {
   "cell_type": "markdown",
   "metadata": {},
   "source": [
    "### Windows Start Menu"
   ]
  },
  {
   "cell_type": "markdown",
   "metadata": {},
   "source": [
    "A simple way to open a **Jupyter notebook** is to use the Windows start menu. \n",
    "\n",
    "Open the Windows start menu and select **[Anaconda3(64 bit)]** --> **[Jupyter Notebook]**\n",
    "\n",
    "![jupyter file browswer](images/windows_start_jupyter_notebook.png)\n",
    "\n",
    "This will open the **Jupyter file browser** in a web browser tab. \n",
    "\n",
    "In the upper right select **[New]** --> **[Python 3]**\n",
    "\n",
    "![jupyter file browswer](images/new_notebook_from_browser.png)\n",
    "\n",
    "A new **notebook** will open as a new tab in your web browser\n",
    "\n",
    "![jupyter file browswer](images/new_notebook.png)\n",
    "\n",
    "To rename the **Jupyter notebook**, click the file name at the top of the page to the right of the jupyter icon.\n",
    "\n",
    "![jupyter file browswer](images/click_change_name.png)\n",
    "\n",
    "This will open a dialog box where the new name can be typed.\n",
    "\n",
    "![jupyter file browswer](images/rename_window.png)\n",
    "\n",
    "Try typing this in the first cell in the **notebook** to the right of the ```In [ ]:``` prompt\n",
    "\n",
    "```python\n",
    "import this\n",
    "```\n",
    "\n",
    "Then click the run button in the middle of the menu at the top of the notebook\n",
    "\n",
    "![jupyter file browswer](images/run_import_this.png)"
   ]
  },
  {
   "cell_type": "markdown",
   "metadata": {},
   "source": [
    "### 2. **Anaconda Prompt**"
   ]
  },
  {
   "cell_type": "markdown",
   "metadata": {},
   "source": [
    "Another method to start a new Jupyter notebook is to use the **Anaconda Prompt**.\n",
    "\n",
    "Go to the Windows start menu and select **[Anaconda Prompt]** under **[Anaconda3]**.\n",
    "\n",
    "![anaconda in start menu](images/anaconda_start_menu.png)\n",
    "\n",
    "If you don't see the **Anaconda Prompt** in the Windows Start Menu, then you need to install **Anaconda**. Download **Anaconda** at the following link: [Anaconda.com/downloads](https://www.anaconda.com/download/)\n",
    "\n",
    "The **Anaconda Prompt** window should look something like:\n",
    "\n",
    "![anaconda prompt](images/jupyter_notebook_anaconda_prompt.png)\n",
    "\n",
    "At the **Anaconda Prompt** type:\n",
    "\n",
    "```\n",
    "> jupyter notebook\n",
    "```\n",
    "\n",
    "This will start the **jupyter notebook**. The output in the text terminal will look something like below:\n",
    "\n",
    "```\n",
    "Copy/paste this URL into your browser when you connect for the first time,\n",
    "    to login with a token:\n",
    "        http://localhost:8888/?token=6bdef677d3503fbb23e1b4fa0c802ee7c20bdcfd4d9b9951\n",
    "[I 16:14:12.661 NotebookApp] Accepting one-time-token-authenticated connection from ::1\n",
    "```\n",
    "\n",
    "A web browser should open and you should be able to see the **jupyter file browser**:\n",
    "\n",
    "![jupyter file browswer](images/new_notebook_from_browser.png)\n",
    "\n",
    "In the upper right select **[New]** --> **[Python 3]**\n",
    "\n",
    "You will see a new tab open in your web browser. This new page is a **jupyter notebook**.\n",
    "\n",
    "![jupyter file browswer](images/new_notebook.png)"
   ]
  },
  {
   "cell_type": "markdown",
   "metadata": {},
   "source": [
    "### 3. **Anaconda Navigator**"
   ]
  },
  {
   "cell_type": "markdown",
   "metadata": {},
   "source": [
    "One additional way to open a **jupyter notebook** is by using **Anaconda Navigator**. You can open **Anaconda Navigator** using the Windows start menu and select **[Anaconda3(64-bit)]** --> **[Anaconda Navigator]**\n",
    "\n",
    "![jupyter file browswer](images/windows_start_anaconda_navigator.png)\n",
    "\n",
    "This will open the **Anaconda Navigator**.  In the middle of the page, in the **jupyter notebook** tile, click **[Launch]**\n",
    "\n",
    "![jupyter file browswer](images/anaconda_navigator_jupyter_notebook_launch.png)\n",
    "\n",
    "This will open the **jupyter file browser** in a web browser tab. \n",
    "\n",
    "In the upper right select **[New]** --> **[Python 3]**\n",
    "\n",
    "![jupyter file browswer](images/new_notebook_from_browser.png)\n",
    "\n",
    "A new **notebook** will open as a new tab in your web browser\n",
    "\n",
    "![jupyter file browswer](images/new_notebook.png)\n",
    "\n",
    "\n",
    " "
   ]
  },
  {
   "cell_type": "markdown",
   "metadata": {},
   "source": [
    "### Opening a Jupyter Notebook on MacOS"
   ]
  },
  {
   "cell_type": "markdown",
   "metadata": {},
   "source": [
    "To open a jupyter notebook on MacOS, open a terminal and type:\n",
    "\n",
    "```\n",
    "$ jupyter notebook\n",
    "```\n",
    "\n",
    "If a web browser does not open, **jupyter** may not be installed. Refer to the previous section on how to install jupyter on MacOS. There also may be an issue using the system version of Python. A solution is to install the **Anaconda** distribution of Python or use homebrew to install Python."
   ]
  },
  {
   "cell_type": "markdown",
   "metadata": {},
   "source": [
    "### Opening a Jupyter Notebook on Linux"
   ]
  },
  {
   "cell_type": "markdown",
   "metadata": {},
   "source": [
    "To open a jupyter notebook on Linux, open a termial and type:\n",
    "\n",
    "```\n",
    "$ jupyter notebook\n",
    "```\n",
    "\n",
    "If a web browser does not open, copy the url listed in the termal when Jupyter starts into a browser window. "
   ]
  },
  {
   "cell_type": "code",
   "execution_count": null,
   "metadata": {
    "collapsed": true
   },
   "outputs": [],
   "source": []
  }
 ],
 "metadata": {
  "kernelspec": {
   "display_name": "Python 3",
   "language": "python",
   "name": "python3"
  },
  "language_info": {
   "codemirror_mode": {
    "name": "ipython",
    "version": 3
   },
   "file_extension": ".py",
   "mimetype": "text/x-python",
   "name": "python",
   "nbconvert_exporter": "python",
   "pygments_lexer": "ipython3",
   "version": "3.6.4"
  }
 },
 "nbformat": 4,
 "nbformat_minor": 2
}
