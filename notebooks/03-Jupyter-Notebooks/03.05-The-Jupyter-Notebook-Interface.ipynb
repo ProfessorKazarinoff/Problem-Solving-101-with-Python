{
 "cells": [
  {
   "cell_type": "markdown",
   "metadata": {},
   "source": [
    "## The Jupyter Notebook Interface\n",
    "\n",
    "When a new Jupyter notebook opens, you will see the Jupyter Notebook interface. Across the top of the notebook will be the Jupyter icon and the notebook name. Click on the notebook name field and change the name of the notebook. Note that the file extension **_.ipynb_** is not printed in the file name field, even though the **_.ipynb_** extension is part of the file name."
   ]
  },
  {
   "cell_type": "markdown",
   "metadata": {},
   "source": [
    "### Menus and Buttons\n",
    "\n",
    "A Jupyter notebook is made up of a bunch of cells which are arrayed one after another in boxes below the menu items and buttons. There are two main types of cells: Markdown cells and Code cells."
   ]
  },
  {
   "cell_type": "markdown",
   "metadata": {},
   "source": [
    "### Code Cells\n",
    "\n",
    "In code cells, you can write Python Code, then execute the code and see the resulting output. An example of a code cell is shown below. Note that the code cell has the text ```In[ ]``` to the left of it. In the top menu, the cell type drop down will read [Code] when you are editing a code cell.\n",
    "\n",
    "To run the code in a code cell push the [Run] button or type [Shift]+[Enter]. Hitting [Enter] when inside a code cell will only bring the cursor down to a new line."
   ]
  },
  {
   "cell_type": "markdown",
   "metadata": {},
   "source": [
    "###  Markdown Cells\n",
    "\n",
    "In markdown cells, you can type in markdown which will be richly formatted when \"run.\" Markdown cells are used for documentation and explaining code. An example of a markdown cell is shown below. The text in a markdown cell does not execute the same way code in code cells execute. In the top menu, the cell type drop down will read [Markdown] when you are editing a markdown cell. Markdown formatting includes a few special characters. To \"run\" a markdown cell push the [Run] button or type [Shift]+[Enter]. Hitting [Enter] when inside a markdown cell will only bring the cursor down to a new line.\n",
    "\n",
    "Markdown syntax includes formatting for headings, bold, italics, code blocks and tables.\n",
    "\n",
    "#### Headings\n",
    "\n",
    "```# H1 Heading```\n",
    "\n",
    " \n",
    "```## H2 Heading```\n",
    "\n",
    "\n",
    " \n",
    "```### H3 Heading```\n",
    "\n",
    " \n",
    "```#### H4 Heading```\n",
    "\n",
    "\n",
    "#### Bold and Itallic Text\n",
    "\n",
    "**Bold text** and _italic text_ can be written in markdown using the double asterisk ```**``` and the underscore ```_```\n",
    "\n",
    "Surround **bold text** with double asterisks ``**``. Make sure two asterists is used (one asterix will produce itallics).\n",
    "\n",
    "```\n",
    "**bold text**\n",
    "```\n",
    "\n",
    "Will result in:\n",
    "\n",
    "**Bold Text**\n",
    "\n",
    "Surround italic text with the underscore ```_``` character:\n",
    "\n",
    "```\n",
    "_italic text_\n",
    "```\n",
    "\n",
    "will result in\n",
    "\n",
    "_italic text_\n",
    "\n",
    "Bold and italics can be used by surrounding text with ```**_``` and ```_**```.\n",
    "\n",
    "```\n",
    "**_bold and italic_**\n",
    "```\n",
    "\n",
    "will result in\n",
    "\n",
    "**_bold and italic_**\n",
    "\n",
    "\n",
    "#### Code Blocks\n",
    "\n",
    "Inline code blocks need to be surrounded by a ``` ` ```, the character to the left of the number ```1```and above tab on most keyboards.\n",
    " \n",
    "\\`\\`\\` ```Inline code blocks``` \\`\\`\\`\n",
    " \n",
    "\n",
    "<br>\n",
    "\n",
    "Separated code blocks need to have a line of three left quote characters by itself, then the code then a line of three left quote character by itself.\n",
    "\n",
    "\\`\\`\\`\n",
    "  \n",
    "Seperated code blocks\n",
    "  \n",
    "\\`\\`\\`\n",
    "  \n",
    "```\n",
    "Seperated code blocks\n",
    "```\n",
    "\n",
    "#### Tables\n",
    "\n",
    "Tables can be formated in markdown cells with the pipe character  ```|```. The table header row needs to have ```|``` where you want vertical lines. The second line of a table needs the structure ```| --- | --- |```. All subsequent rows of the table need pipes between cells.\n",
    "\n",
    "```\n",
    "| Col 1 Header | Col 2 Header |\n",
    "| --- | --- |\n",
    "| row 1 col 1 | row 1 col 2 |\n",
    "| row 2 col 1 | row 2 col 2 |\n",
    "```\n",
    "\n",
    "will result in:\n",
    "\n",
    "| Col 1 Header | Col 2 Header |\n",
    "| --- | --- |\n",
    "| row 1 col 1 | row 1 col 2 |\n",
    "| row 2 col 1 | row 2 col 2 |"
   ]
  },
  {
   "cell_type": "markdown",
   "metadata": {},
   "source": [
    "### Saving Jupyter Notebooks in Other Formats\n",
    "\n",
    "Jupyter notebooks can be saved in other formats besides the native ```.ipynb``` format. These formats can be accessed on the **[File]** --> **[Download As]** menu.\n",
    "\n",
    "![Jupyter Notebook export options](images/jupyter_notebook_export_options.png)\n",
    "\n",
    "The available file types are:\n",
    "\n",
    " * Notebook (.ipynb) - The native Jupyter notebook format\n",
    " * Python (.py) - The native Python code file format.\n",
    " * HTML (.html) - An html web page\n",
    " * Markdown (.md) - Markdown format\n",
    " * reST (.rst) - Restructured text format\n",
    " * LaTeX (.tex) - LaTeX format\n",
    " * PDF via LaTeX - a pdf exported from LeTeX, requires a converter\n",
    " \n",
    "When a Notebook is saved as a **_.py_** file, any text in markdown cells is converted to comments, and any code cells are kept as Python code. The **_.py_** file after a notebook is ```Downloaded as``` a ```Python(.py)``` looks like:\n",
    "\n",
    "![Jupyter Notebook exported as a .py file](images/jupyter_notebook_markdown_cells_as_comments.png)"
   ]
  },
  {
   "cell_type": "code",
   "execution_count": null,
   "metadata": {
    "collapsed": true
   },
   "outputs": [],
   "source": []
  }
 ],
 "metadata": {
  "kernelspec": {
   "display_name": "Python 3",
   "language": "python",
   "name": "python3"
  },
  "language_info": {
   "codemirror_mode": {
    "name": "ipython",
    "version": 3
   },
   "file_extension": ".py",
   "mimetype": "text/x-python",
   "name": "python",
   "nbconvert_exporter": "python",
   "pygments_lexer": "ipython3",
   "version": "3.6.4"
  }
 },
 "nbformat": 4,
 "nbformat_minor": 2
}
