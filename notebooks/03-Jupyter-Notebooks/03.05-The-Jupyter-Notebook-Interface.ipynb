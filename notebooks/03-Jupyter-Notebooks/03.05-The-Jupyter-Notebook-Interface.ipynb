{
 "cells": [
  {
   "cell_type": "markdown",
   "metadata": {},
   "source": [
    "## The Jupyter Notebook Interface\n",
    "\n",
    "When a new notebook opens, you will see the Jupter Notebook interface. Accross the top of the notebook will the the Jupyter icon and the Notebook name. You can click in the notebook name field and change the name of the notebook. Note that the file extension ```.ipynb``` is not printed in the file name field, but if you look in the Home tab, you will see that the notebook is saved with the ```.ipynb``` extension."
   ]
  },
  {
   "cell_type": "markdown",
   "metadata": {},
   "source": [
    "### Menus and Buttons\n",
    "\n",
    "A jupyter notebook is comprised of a bunch of cells which are arrayed one after another in boxes below the menu items and buttons. There are two main types of cells: Markdown cells and Code cells."
   ]
  },
  {
   "cell_type": "markdown",
   "metadata": {},
   "source": [
    "### Code Cells\n",
    "\n",
    "In code cells you can type Python Code and see the output. An example of a code cell is shown below. Note that the code cell has an the text ```In[ ]``` to the left of it. \n",
    "\n",
    "To run the code in a code cell push the [Run] button or type [Shift]+[Enter]"
   ]
  },
  {
   "cell_type": "markdown",
   "metadata": {},
   "source": [
    "###  Markdown Cells\n",
    "\n",
    "In markdown cells you can type text and headings. Markdown cells are used for documentation and explaining your code. The text in a markdown cell is not executed. Markdown cells can be formatted with a few special characters\n",
    "\n",
    "```# H1 Heading```\n",
    "\n",
    " > # H1 Heading\n",
    " \n",
    "```## H2 Heading```\n",
    "\n",
    " > ## H2 Heading\n",
    " \n",
    "```### H3 Heading```\n",
    "\n",
    " > ### H3 Heading\n",
    " \n",
    " \n",
    "```#### H4 Heading```\n",
    "\n",
    " > #### H4 Heading\n",
    " \n",
    " \n",
    "Inline code blocks (use the \\` left qutoe character, the character to the left of one, and above tab on most keyboards)\n",
    " \n",
    " > ```Inline code blocks```\n",
    " \n",
    " \n",
    "  \\`\\`\\`\n",
    "  \n",
    "  Seperated code blocks\n",
    "  \n",
    "  \\`\\`\\`\n",
    "  \n",
    "  > ```\n",
    "    Seperated code blocks\n",
    "    ```"
   ]
  },
  {
   "cell_type": "markdown",
   "metadata": {},
   "source": [
    "### Saving Jupyter Notebooks in Other Formats\n",
    "\n",
    "Jupyter notebooks can be saved in other formats besides the native ```.ipynb``` format. These formats can be acceed on the [File] --> [Download As] menu.\n",
    "\n",
    "![Jupyter Notebook Export Optinos](images/jupyter_notebook_export_options.png)\n",
    "\n",
    "The available file types are:\n",
    "\n",
    " * Notebook (.ipynb) - The native jupyter notebook format\n",
    " * Python (.py) - The native Python code file type.\n",
    " * HTML (.html) - A web page\n",
    " * Markdown (.md) - Markdown format\n",
    " * reST (.rst) - Restructured text format\n",
    " * LaTeX (.tex) - LaTeX Artile format\n",
    " * PDF via LaTeX - a pdf exported from LeTeX, requires a converter\n",
    " \n",
    "When a Notebook is saved as a ```.py``` file, any text in Mardown Cells are converted to commments, and any code cells are kept as Python code. \n",
    "\n",
    "![Markdown Cells as Comments](images/jupyter_notebook_markdown_cells_as_comments.png)\n",
    "\n",
    "The ```.py``` file after this notebook is ```Downloaded as``` a ```Python(.py)``` looks like:\n",
    "\n",
    "![Image of Notebook](images/jupyter_notebook_dot_py_file.png)"
   ]
  }
 ],
 "metadata": {
  "kernelspec": {
   "display_name": "Python 3",
   "language": "python",
   "name": "python3"
  },
  "language_info": {
   "codemirror_mode": {
    "name": "ipython",
    "version": 3
   },
   "file_extension": ".py",
   "mimetype": "text/x-python",
   "name": "python",
   "nbconvert_exporter": "python",
   "pygments_lexer": "ipython3",
   "version": "3.6.5"
  }
 },
 "nbformat": 4,
 "nbformat_minor": 2
}
