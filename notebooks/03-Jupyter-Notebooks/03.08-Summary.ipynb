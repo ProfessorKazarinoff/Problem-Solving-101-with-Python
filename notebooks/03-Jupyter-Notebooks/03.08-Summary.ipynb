{
 "cells": [
  {
   "cell_type": "markdown",
   "metadata": {
    "latex": {
     "before_cell": "newpage"
    }
   },
   "source": [
    "## Summary"
   ]
  },
  {
   "cell_type": "markdown",
   "metadata": {},
   "source": [
    "In this chapter, you learned about Jupyter Notebooks.\n",
    "\n",
    "You learned that using Jupyter Notebooks is one way to write and run Python code. Jupyter Notebooks are divided into cells. There are three main types of cells: code cells, output cells, and markdown cells. Jupyter notebooks include Python code in code cells, the results of running Python code in output cells, and rich text descriptions in markdown cells.\n",
    "\n",
    "Jupyter Notebooks come pre-installed with the Anaconda distribution of Python. Jupyter notebooks can also be installed at the Anaconda prompt or installed with **pip**. Jupyter notebooks can be opened from the Windows Start Menu, the **Anaconda Prompt** and **Anaconda Navigator**.\n",
    "\n",
    "You learned about the Jupyter Notebook interface and how to select between code cells and markdown cells. Special formatting can be included in markdown cells to make rich text output.\n",
    "\n",
    "Jupyter Notebook magic commands run special functions. Magic cells can load and run Python code, add inline plots, and give information about the file structure.  \n",
    "\n",
    "The last section of the chapter detailed how to get help when you use using Jupyter Notebooks. The ```dir()``` and ```help()``` functions are two ways to get help. In Jupyter Notebooks, you can also get help by including a question mark ```?``` after a function or method name."
   ]
  },
  {
   "cell_type": "markdown",
   "metadata": {},
   "source": [
    "### Key Terms and Concepts"
   ]
  },
  {
   "cell_type": "markdown",
   "metadata": {
    "latex": {
     "environment": "key_terms"
    }
   },
   "source": [
    "kernal\n",
    "\n",
    "notebook\n",
    "\n",
    "Jupyter\n",
    "\n",
    "iPython\n",
    "\n",
    "execute\n",
    "\n",
    ".ipynb file\n",
    "\n",
    ".py file\n",
    "\n",
    "markdown\n",
    "\n",
    "code cell\n",
    "\n",
    "markdown cell\n",
    "\n",
    "output cell\n",
    "\n",
    "syntax\n",
    "\n",
    "web browser\n",
    "\n",
    "run\n",
    "\n",
    "download\n"
   ]
  },
  {
   "cell_type": "markdown",
   "metadata": {},
   "source": [
    "### Jupyter Notebook Download File Formats\n",
    "\n",
    "| File Format | extension | description | file type |\n",
    "| --- | --- | --- | --- |\n",
    "| Jupyter Notebook | ```.ipynb``` | Jupyter notebook native file type | json |\n",
    "| Python | ```.py``` | Python native file format | plain text |\n",
    "| HTML | ```.html``` | web browser format | plain text |\n",
    "| Reveal js slides | ```.html``` | Reveal js slide presentation type | plain text |\n",
    "| Markdown | ```.md``` | markdown text format | plain text |\n",
    "| reST | ```.rst``` | restructured text format | plain text |\n",
    "| LaTeX | ```.tex``` | LaTeX document format | plain text |\n",
    "| PDF via LaTeX | ```.pdf``` | Adobe PDF format | binary file |"
   ]
  },
  {
   "cell_type": "markdown",
   "metadata": {
    "collapsed": true
   },
   "source": [
    "### Additional Resources"
   ]
  },
  {
   "cell_type": "markdown",
   "metadata": {},
   "source": [
    "Jupyter Notebooks official documentation: \n",
    "\n",
    " > [https://jupyter-notebook.readthedocs.io/en/stable/](https://jupyter-notebook.readthedocs.io/en/stable/)\n",
    "\n",
    "Reference for Jupyter notebook markdown cell syntax on the Project Jupyter docs:\n",
    "\n",
    " > [https://jupyter-notebook.readthedocs.io/en/stable/examples/Notebook/Working%20With%20Markdown%20Cells.html](https://jupyter-notebook.readthedocs.io/en/stable/examples/Notebook/Working%20With%20Markdown%20Cells.html)\n",
    "\n",
    "_Jupyter Notebook 101_ by Mike Driscoll. A book about Jupyter notebooks.\n",
    "\n",
    " > [https://leanpub.com/jupyternotebook101](https://leanpub.com/jupyternotebook101)\n",
    "\n",
    "A gallery of \"awesome\" Jupyter notebooks on GitHub:\n",
    "\n",
    " > [https://github.com/markusschanta/awesome-jupyter](https://github.com/markusschanta/awesome-jupyter)"
   ]
  },
  {
   "cell_type": "code",
   "execution_count": null,
   "metadata": {},
   "outputs": [],
   "source": []
  }
 ],
 "metadata": {
  "celltoolbar": "Edit Metadata",
  "kernelspec": {
   "display_name": "Python 3",
   "language": "python",
   "name": "python3"
  },
  "language_info": {
   "codemirror_mode": {
    "name": "ipython",
    "version": 3
   },
   "file_extension": ".py",
   "mimetype": "text/x-python",
   "name": "python",
   "nbconvert_exporter": "python",
   "pygments_lexer": "ipython3",
   "version": "3.6.4"
  }
 },
 "nbformat": 4,
 "nbformat_minor": 2
}
