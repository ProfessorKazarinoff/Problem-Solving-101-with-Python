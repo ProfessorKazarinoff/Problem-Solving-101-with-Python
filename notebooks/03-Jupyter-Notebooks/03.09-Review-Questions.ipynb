{
 "cells": [
  {
   "cell_type": "markdown",
   "metadata": {},
   "source": [
    "## Review Questions"
   ]
  },
  {
   "cell_type": "markdown",
   "metadata": {
    "latex": {
     "environment": "problems"
    }
   },
   "source": [
    "3.01 The cells in a Jupyter notebook which contain text descriptions are written in what format?\n",
    "\n",
    "3.02 What is the file extension for a Jupyter notebook file?\n",
    "\n",
    "3.03 What program or utility do Jupyter notebooks run in?\n",
    "\n",
    "3.04 What does IDE stand for in the context of computer programming?\n",
    "\n",
    "3.05 What features does a Jupyter notebook have that a simple text editor like notepad does not?\n",
    "\n",
    "3.06 What are three ways to open a Jupyter notebook?\n",
    "\n",
    "3.07 What are the three main types of cells in a Jupyter Notebook\n",
    "\n",
    "3.08 What file types can a Jupyter notebook be exported to?\n",
    "\n",
    "3.09 What are three ways to get help in a Jupyter notebook?\n",
    "\n",
    "3.10 How do you run code cells in a Jupyter notebook?"
   ]
  },
  {
   "cell_type": "code",
   "execution_count": null,
   "metadata": {},
   "outputs": [],
   "source": []
  }
 ],
 "metadata": {
  "celltoolbar": "Edit Metadata",
  "kernelspec": {
   "display_name": "Python 3",
   "language": "python",
   "name": "python3"
  },
  "language_info": {
   "codemirror_mode": {
    "name": "ipython",
    "version": 3
   },
   "file_extension": ".py",
   "mimetype": "text/x-python",
   "name": "python",
   "nbconvert_exporter": "python",
   "pygments_lexer": "ipython3",
   "version": "3.6.4"
  }
 },
 "nbformat": 4,
 "nbformat_minor": 2
}
