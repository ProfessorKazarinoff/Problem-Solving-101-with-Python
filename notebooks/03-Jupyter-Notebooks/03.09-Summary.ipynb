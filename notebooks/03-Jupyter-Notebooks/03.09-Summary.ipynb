{
 "cells": [
  {
   "cell_type": "markdown",
   "metadata": {
    "latex": {
     "before_cell": "newpage"
    }
   },
   "source": [
    "## Summary"
   ]
  },
  {
   "cell_type": "markdown",
   "metadata": {},
   "source": [
    "In this chapter we learned..."
   ]
  },
  {
   "cell_type": "markdown",
   "metadata": {},
   "source": [
    "### Key Terms and Concepts"
   ]
  },
  {
   "cell_type": "markdown",
   "metadata": {
    "latex": {
     "environment": "key_terms"
    }
   },
   "source": [
    "kernal\n",
    "\n",
    "Notebook\n",
    "\n",
    "Jupyter\n",
    "\n",
    "iPython\n",
    "\n",
    "execute\n",
    "\n",
    ".ipynb file\n",
    "\n",
    ".py file\n",
    "\n",
    "markdown\n",
    "\n",
    "code cell\n",
    "\n",
    "markdown cell\n",
    "\n",
    "output cell\n",
    "\n",
    "syntax\n",
    "\n",
    "web browser\n",
    "\n",
    "run\n",
    "\n",
    "download\n"
   ]
  },
  {
   "cell_type": "markdown",
   "metadata": {},
   "source": [
    "### File Formats Jupyter Notebooks can be downloaded to\n",
    "\n",
    "| File Format | extension | description | file type |\n",
    "| --- | --- | --- | --- |\n",
    "| Jupyter Notebook | ```.ipynb``` | Jupyter notebook native file type | json |\n",
    "| Python | ```.py``` | Python native file format | plain text |\n",
    "| HTML | ```.html``` | web browser format | plain text |\n",
    "| Reveal js slides | ```.html``` | Reveal js slide presentation type | plain text |\n",
    "| Markdown | ```.md``` | markdown text format | plain text |\n",
    "| reST | ```.rst``` | restructured text format | plain text |\n",
    "| LaTeX | ```.tex``` | LaTeX document format | plain text |\n",
    "| PDF via LaTeX | ```.pdf``` | Adobe PDF format | binary file |"
   ]
  },
  {
   "cell_type": "code",
   "execution_count": null,
   "metadata": {
    "collapsed": true
   },
   "outputs": [],
   "source": []
  }
 ],
 "metadata": {
  "celltoolbar": "Edit Metadata",
  "kernelspec": {
   "display_name": "Python 3",
   "language": "python",
   "name": "python3"
  },
  "language_info": {
   "codemirror_mode": {
    "name": "ipython",
    "version": 3
   },
   "file_extension": ".py",
   "mimetype": "text/x-python",
   "name": "python",
   "nbconvert_exporter": "python",
   "pygments_lexer": "ipython3",
   "version": "3.6.4"
  }
 },
 "nbformat": 4,
 "nbformat_minor": 2
}
