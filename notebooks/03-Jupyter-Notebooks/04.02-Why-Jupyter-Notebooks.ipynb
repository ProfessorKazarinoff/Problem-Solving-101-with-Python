{
 "cells": [
  {
   "cell_type": "markdown",
   "metadata": {},
   "source": [
    "## Why Jupyter Notebooks?"
   ]
  },
  {
   "cell_type": "markdown",
   "metadata": {},
   "source": [
    " There is a vast array of editors and IDE's (Integrated Development Environments) which can be used to edit and run Python code. Why should engineers learn to use Jupyter Notebooks? \n",
    " \n",
    " Below is a table of simple text editors and IDE's which can be used to edit and run Python code:\n",
    "\n",
    " | Text Editors | \n",
    " | --- |\n",
    " | Notepad |\n",
    " | Idle |\n",
    " | Vim |\n",
    " | Sublime Text |\n",
    " | Atom |\n",
    " \n",
    " | IDE's |\n",
    " | --- |\n",
    " | PyCharm |\n",
    " | Visual Studio Code | \n",
    " | Spyder |\n",
    "\n",
    " \n",
    " Jupyter Notebooks provide a quick and streamlined way for engineers to prototype code and quickly share code.  Jupyter notebooks also provide a way for engineers to share solutions with team members, supervisors and customers."
   ]
  }
 ],
 "metadata": {
  "kernelspec": {
   "display_name": "Python 3",
   "language": "python",
   "name": "python3"
  },
  "language_info": {
   "codemirror_mode": {
    "name": "ipython",
    "version": 3
   },
   "file_extension": ".py",
   "mimetype": "text/x-python",
   "name": "python",
   "nbconvert_exporter": "python",
   "pygments_lexer": "ipython3",
   "version": "3.6.5"
  }
 },
 "nbformat": 4,
 "nbformat_minor": 2
}
