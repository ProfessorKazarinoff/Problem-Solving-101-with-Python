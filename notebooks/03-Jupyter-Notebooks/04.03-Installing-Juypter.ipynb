{
 "cells": [
  {
   "cell_type": "markdown",
   "metadata": {},
   "source": [
    "## Installing Juypter"
   ]
  },
  {
   "cell_type": "markdown",
   "metadata": {},
   "source": [
    "To install **Jupyter Notebooks**, the simplest way is to use the **Anaconda** distribution of Python. Anaconda has **Jupyter Notebooks** pre-installed and no further steps are necessary."
   ]
  },
  {
   "cell_type": "markdown",
   "metadata": {},
   "source": [
    "### Installing Jupyter on Windows\n",
    "\n",
    "To install jupyter on Windows, open the Anaconda prompt and type:\n",
    "\n",
    "```\n",
    "$ conda install jupyter\n",
    "```\n",
    "\n",
    "Type ```y``` for yes when prompted."
   ]
  },
  {
   "cell_type": "markdown",
   "metadata": {},
   "source": [
    "### Installing Jupyter on Mac OSX\n",
    "\n",
    "To install jupyter on Mac OSX, open the OSX terminal and type:\n",
    "\n",
    "```\n",
    "$ conda install jupyter\n",
    "```\n",
    "\n",
    "Type ```y``` for yes when prompted."
   ]
  },
  {
   "cell_type": "markdown",
   "metadata": {},
   "source": [
    "### Installing Jupyter on Ubuntu Linux\n",
    "\n",
    "To install jupyter on Ubuntu Linux, open a terminal and type:\n",
    "\n",
    "```\n",
    "$ conda install jupyter\n",
    "```\n",
    "\n",
    "Type ```y``` for yes when prompted."
   ]
  },
  {
   "cell_type": "code",
   "execution_count": null,
   "metadata": {},
   "outputs": [],
   "source": []
  }
 ],
 "metadata": {
  "kernelspec": {
   "display_name": "Python 3",
   "language": "python",
   "name": "python3"
  },
  "language_info": {
   "codemirror_mode": {
    "name": "ipython",
    "version": 3
   },
   "file_extension": ".py",
   "mimetype": "text/x-python",
   "name": "python",
   "nbconvert_exporter": "python",
   "pygments_lexer": "ipython3",
   "version": "3.6.5"
  }
 },
 "nbformat": 4,
 "nbformat_minor": 2
}
