{
 "cells": [
  {
   "cell_type": "markdown",
   "metadata": {},
   "source": [
    "## Opening a Jupyter Notebook"
   ]
  },
  {
   "cell_type": "markdown",
   "metadata": {},
   "source": [
    "One simple way to open a jupyter notebook on Windows is to click the Windows Start Button in the lower left-hand corner, select the Anaconda Foldfer, and click Jupyter Notebook."
   ]
  },
  {
   "cell_type": "markdown",
   "metadata": {},
   "source": [
    "### Open a Jupyter Notebook from the Anaconda prompt"
   ]
  },
  {
   "cell_type": "markdown",
   "metadata": {},
   "source": [
    "To Open a Jupyter notebook from the Anaconda prompt, first open the Anaconda prompt, then type:\n",
    "\n",
    "```\n",
    "$ jupyter notebook\n",
    "```\n",
    "\n",
    "This will produce output in the Anaconda Prompt Window which looks something like:\n",
    "\n",
    "![Anaconda Prompt Jupyter Notebook](images/Anaconda_Prompt_Jupyter_Notebook.png)"
   ]
  },
  {
   "cell_type": "markdown",
   "metadata": {},
   "source": [
    "A webbrowser will open and something which looks kind of like a file browser will be shown:\n",
    "\n",
    "![Jupyter File Browser](images/Jupyter_Home_Browser.png)\n",
    "\n",
    "Here you can select an exhisting jupyter notebook file which will end with the ```.ipynb``` extension (which stands for IPython Notebook). You can also start a new Jupyter Notebook my clicking the [New] button in the upper right and selecting [Python 3]"
   ]
  },
  {
   "cell_type": "code",
   "execution_count": null,
   "metadata": {},
   "outputs": [],
   "source": []
  }
 ],
 "metadata": {
  "kernelspec": {
   "display_name": "Python 3",
   "language": "python",
   "name": "python3"
  },
  "language_info": {
   "codemirror_mode": {
    "name": "ipython",
    "version": 3
   },
   "file_extension": ".py",
   "mimetype": "text/x-python",
   "name": "python",
   "nbconvert_exporter": "python",
   "pygments_lexer": "ipython3",
   "version": "3.6.5"
  }
 },
 "nbformat": 4,
 "nbformat_minor": 2
}
