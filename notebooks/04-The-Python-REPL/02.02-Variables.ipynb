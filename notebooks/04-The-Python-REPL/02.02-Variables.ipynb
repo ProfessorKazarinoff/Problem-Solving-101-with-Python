{
 "cells": [
  {
   "cell_type": "markdown",
   "metadata": {},
   "source": [
    "## Variables and Data Types"
   ]
  },
  {
   "cell_type": "markdown",
   "metadata": {},
   "source": [
    "Variables are assigned in Python using the ```=``` equals sign also called the assignment opperator. The statment:\n",
    "\n",
    "```\n",
    "a = 2\n",
    "```\n",
    "\n",
    "Assigns the integer ```2``` to the variable ```a```. Note this is different from the logical opperator ```==``` equivalent to."
   ]
  },
  {
   "cell_type": "markdown",
   "metadata": {
    "collapsed": true
   },
   "source": [
    "```python\n",
    ">>> a = 2\n",
    ">>> a\n",
    "2\n",
    "```"
   ]
  },
  {
   "cell_type": "markdown",
   "metadata": {},
   "source": [
    "```python\n",
    ">>> a == 2\n",
    "True\n",
    "```"
   ]
  },
  {
   "cell_type": "markdown",
   "metadata": {},
   "source": [
    "Problem: The Arrhenius relationship states that\n",
    "\n",
    "$$ n = n_{v}e^{-Q_v/(RT)} $$\n",
    "\n",
    "We can use variables to assign a value to each one of the constants in the problem.\n",
    "\n",
    "```python\n",
    ">>> nv = 2.0**(-0.3)\n",
    ">>> Qv = 5\n",
    ">>> R = 3.18\n",
    ">>> T = 293\n",
    ">>> n = nv*e**(-1*Qv/(R*T))\n",
    ">>> n\n",
    "0.8079052775625613\n",
    "```"
   ]
  },
  {
   "cell_type": "code",
   "execution_count": null,
   "metadata": {},
   "outputs": [],
   "source": []
  }
 ],
 "metadata": {
  "kernelspec": {
   "display_name": "Python 3",
   "language": "python",
   "name": "python3"
  },
  "language_info": {
   "codemirror_mode": {
    "name": "ipython",
    "version": 3
   },
   "file_extension": ".py",
   "mimetype": "text/x-python",
   "name": "python",
   "nbconvert_exporter": "python",
   "pygments_lexer": "ipython3",
   "version": "3.6.5"
  }
 },
 "nbformat": 4,
 "nbformat_minor": 2
}
