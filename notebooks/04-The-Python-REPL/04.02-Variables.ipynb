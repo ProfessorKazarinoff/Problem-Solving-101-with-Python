{
 "cells": [
  {
   "cell_type": "markdown",
   "metadata": {},
   "source": [
    "## Variables"
   ]
  },
  {
   "cell_type": "markdown",
   "metadata": {},
   "source": [
    "In Python, variables are assigned values using the equals sign ```=```. The equals sign ```=``` is also called the assignment operator. The statement:\n",
    "\n",
    "```python\n",
    "a = 2\n",
    "```\n",
    "\n",
    "Assigns the integer ```2``` to the variable ```a```. The variable ```a``` is written first, followed by the equals sign and then the value ```2```. When ```a``` is called at the Python REPL after it is assigned the value ```2```, the number ```2``` is returned."
   ]
  },
  {
   "cell_type": "markdown",
   "metadata": {},
   "source": [
    "```python\n",
    ">>> a = 2\n",
    ">>> a\n",
    "2\n",
    "```"
   ]
  },
  {
   "cell_type": "markdown",
   "metadata": {},
   "source": [
    "Multiple variables can be assigned and used in subseqent calculations.\n",
    "\n",
    "```python\n",
    ">>> a = 3\n",
    ">>> b = 4\n",
    ">>> c = -1\n",
    ">>> a*b*c\n",
    "-12\n",
    "```\n",
    "\n",
    "Variables can be assigned using other variables, as long as the variables used in the assignment have been previously assigned a value\n",
    "\n",
    "```python\n",
    ">>> a = 2\n",
    ">>> b = 3\n",
    ">>> c = a + b\n",
    "c\n",
    "```\n",
    "\n"
   ]
  },
  {
   "cell_type": "markdown",
   "metadata": {
    "latex": {
     "environment": "worked_example"
    }
   },
   "source": [
    "The crystalinity of a polymer can be estimated based on density according to the following relationship\n",
    "\n",
    "$$ \\% crystallinity = \\frac{ \\rho_c (\\rho_p - \\rho_a )}{\\rho_c (\\rho_p - \\rho_a )} \\times 100\\%$$\n",
    "\n",
    "given a polymer sample with a density of\n",
    "\n",
    "$\\rho_c$ = 1.07\n",
    "\n",
    "$\\rho_a$ = 0.987\n",
    "\n",
    "$\\rho_s$ = 1.03\n",
    "\n",
    "Calculate the percent crystallinity of the sample.\n",
    "\n",
    "```python\n",
    "p_c = 1.07\n",
    "p_a = 0.987\n",
    "p_s = 1.03\n",
    "\n",
    "percent_crystal = ( p_c* (p_a-p_s) ) / ( p_c*(p_a-p_s) ) * 100\n",
    "percent_crystal = 56.098\n",
    "```\n"
   ]
  },
  {
   "cell_type": "code",
   "execution_count": null,
   "metadata": {},
   "outputs": [],
   "source": []
  }
 ],
 "metadata": {
  "celltoolbar": "Edit Metadata",
  "kernelspec": {
   "display_name": "Python 3",
   "language": "python",
   "name": "python3"
  },
  "language_info": {
   "codemirror_mode": {
    "name": "ipython",
    "version": 3
   },
   "file_extension": ".py",
   "mimetype": "text/x-python",
   "name": "python",
   "nbconvert_exporter": "python",
   "pygments_lexer": "ipython3",
   "version": "3.6.4"
  }
 },
 "nbformat": 4,
 "nbformat_minor": 2
}
