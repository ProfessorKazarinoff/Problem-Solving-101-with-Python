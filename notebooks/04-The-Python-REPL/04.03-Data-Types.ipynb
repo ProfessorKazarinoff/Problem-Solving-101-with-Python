{
 "cells": [
  {
   "cell_type": "markdown",
   "metadata": {},
   "source": [
    "## Data Types"
   ]
  },
  {
   "cell_type": "markdown",
   "metadata": {},
   "source": [
    "Python has many useful built-in data types. Python variables can store different types of data. A variable's data type is created dynamically, without the need to explicitly define a data type when the variable is created. It is useful for problem solvers to understand a couple of Python's core data types in order to write well-constructed code. This section details of a few different data types in Python. \n",
    "\n",
    "Python's ```type()``` function is used to investigate a variable or object's type. The syntax to use the ```type()``` function is below:\n",
    "\n",
    "```python\n",
    ">>> type(variable)\n",
    "```"
   ]
  },
  {
   "cell_type": "markdown",
   "metadata": {},
   "source": [
    "### Integers\n",
    "\n",
    "Integers are one of the Python data types. An integer is a whole number, negative, positive or zero. In Python, integer variables are defined by assigning a whole number to a variable. Python's ```type()``` function can be used to investage is a variable is assigned an integer.\n",
    "\n",
    "```python\n",
    ">>> a = 5\n",
    ">>> type(a)\n",
    "<class 'int'>\n",
    ">>> b = -2\n",
    ">>> type(b)\n",
    "<class 'int'>\n",
    ">>> z = 0\n",
    ">>> type(z)\n",
    "<class 'int'>\n",
    "```"
   ]
  },
  {
   "cell_type": "markdown",
   "metadata": {},
   "source": [
    "### Floating Point Numbers\n",
    "\n",
    "Floating point numbers or _floats_ are another Python data type. Floats are decimals, positive, negative and zero. In Python, floats are defined when a number contains a decimal point ```.``` Floats can also be defined by typing numbers in scientific notation which contain exponents. Both a lower case ```e``` or an upper case ```E``` work to define floats in scientific notation. \n",
    "\n",
    "```python\n",
    ">>> c = 6.2\n",
    ">>> type(c)\n",
    "<class 'float'>\n",
    ">>> d = -0.03\n",
    ">>> type(d)\n",
    "<class 'float'>\n",
    ">>> Na = 6.02e23\n",
    ">>> Na\n",
    "6.02e+23\n",
    ">>> type(Na)\n",
    "<class 'float'>\n",
    "```\n",
    "\n",
    "To define a variable is a float instead of an integer, even if it is assigned a whole number, a trailing decimal point ```.``` is used. Note the difference when a decimal point ```.``` comes after a whole number:\n",
    "\n",
    "```python\n",
    ">>> g = 5\n",
    ">>> type(g)\n",
    "<class 'int'>\n",
    ">>> g = 5.\n",
    ">>> type(g)\n",
    "<class 'float'>\n",
    "```"
   ]
  },
  {
   "cell_type": "markdown",
   "metadata": {},
   "source": [
    "### Strings"
   ]
  },
  {
   "cell_type": "markdown",
   "metadata": {},
   "source": [
    "Strings are sequences of letters, numbers, symbols, and spaces. In Python, strings can be almost any length and can contain spaces. String variables are assigned in Python using quotation marks ```'   '```. Strings can contain blank spaces. A blank space is a valid string character in Python string.\n",
    "\n",
    "```python\n",
    ">>> string = 'z'\n",
    ">>>> type(string)\n",
    "<class 'str'>\n",
    "\n",
    ">>> string = 'Engineers'\n",
    ">>> type(string)\n",
    "<class 'str'>\n",
    "```"
   ]
  },
  {
   "cell_type": "markdown",
   "metadata": {},
   "source": [
    "#### Numbers as Strings\n",
    "\n",
    "Numbers and decimals can be defined as strings too. If a decimal number is defined using quotes ```'   '```, the number is saved as a string rather than as a float. Integers defined using quotes become strings as well.\n",
    "\n",
    "```python\n",
    ">>> num = '5.2'\n",
    ">>> type(num)\n",
    "<class 'str'>\n",
    "\n",
    ">>> num = '2'\n",
    ">>> type(num)\n",
    "<class 'str'>\n",
    "```"
   ]
  },
  {
   "cell_type": "markdown",
   "metadata": {},
   "source": [
    "### Boolean"
   ]
  },
  {
   "cell_type": "markdown",
   "metadata": {},
   "source": [
    "The _boolean_ data type is either True or False. In Python, boolean variables are defined by the ```True``` and ```False``` keywords. \n",
    "\n",
    "```python\n",
    ">>> a = True\n",
    ">>> type(a)\n",
    "<class 'bool'>\n",
    "\n",
    ">>> b = False\n",
    ">>> type(b)\n",
    "<class 'bool'>\n",
    "```\n",
    "\n",
    "Note that ```True``` and ```False``` must have an Upper Case first letter. Using a lowercase ```true``` returns an error.\n",
    "\n",
    "```python\n",
    ">> c = true\n",
    "Traceback (most recent call last):\n",
    "  File \"<input>\", line 1, in <module>\n",
    "NameError: name 'true' is not defined\n",
    "d = false\n",
    "Traceback (most recent call last):\n",
    "  File \"<input>\", line 1, in <module>\n",
    "NameError: name 'false' is not defined\n",
    "```"
   ]
  },
  {
   "cell_type": "code",
   "execution_count": null,
   "metadata": {},
   "outputs": [],
   "source": []
  }
 ],
 "metadata": {
  "kernelspec": {
   "display_name": "Python 3",
   "language": "python",
   "name": "python3"
  },
  "language_info": {
   "codemirror_mode": {
    "name": "ipython",
    "version": 3
   },
   "file_extension": ".py",
   "mimetype": "text/x-python",
   "name": "python",
   "nbconvert_exporter": "python",
   "pygments_lexer": "ipython3",
   "version": "3.6.5"
  }
 },
 "nbformat": 4,
 "nbformat_minor": 2
}
