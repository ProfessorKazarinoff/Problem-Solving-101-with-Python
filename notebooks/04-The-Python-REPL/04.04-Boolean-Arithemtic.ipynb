{
 "cells": [
  {
   "cell_type": "markdown",
   "metadata": {},
   "source": [
    "## Boolean Arithmetic"
   ]
  },
  {
   "cell_type": "markdown",
   "metadata": {},
   "source": [
    "The _boolean_ data type is either True or False. In Python, boolean variables are defined by the keywords ```True``` and ```False```. \n",
    "\n",
    "```python\n",
    ">>> a = True\n",
    ">>> type(a)\n",
    "<class 'bool'>\n",
    "\n",
    ">>> b = False\n",
    ">>> type(b)\n",
    "<class 'bool'>\n",
    "```\n",
    "\n",
    "Note that ```True``` and ```False``` must have an Upper Case first letter. Using a lowercase ```true``` returns an error.\n",
    "\n",
    "```python\n",
    ">> c = true\n",
    "Traceback (most recent call last):\n",
    "  File \"<input>\", line 1, in <module>\n",
    "NameError: name 'true' is not defined\n",
    "d = false\n",
    "Traceback (most recent call last):\n",
    "  File \"<input>\", line 1, in <module>\n",
    "NameError: name 'false' is not defined\n",
    "```"
   ]
  },
  {
   "cell_type": "markdown",
   "metadata": {},
   "source": [
    "### Integers and Floats as Booleans\n",
    "\n",
    "An int, float or complex number set to zero will always return ```False```. An int, float or complex number set to any other number, positive or negative, will return ```True```.\n",
    "\n",
    "```python\n",
    ">>> zero_int = 0\n",
    ">>> bool(zero_int)\n",
    "False\n",
    "```\n",
    "\n",
    "```python\n",
    ">>> pos_int = 1\n",
    ">>> bool(pos_int)\n",
    "True\n",
    "```\n",
    "\n",
    "```python\n",
    ">>> neg_flt = -5.1\n",
    ">>> bool(neg_flt)\n",
    "True\n",
    "```"
   ]
  },
  {
   "cell_type": "markdown",
   "metadata": {},
   "source": [
    "Boolean arithmetic is the arithmetic of logic, the arithmetic of ```True``` and ```False```. A boolean variable or logical value can either be ```True``` or ```False```. The keywords ```not```, ```or```, ```and``` are used to modify and combine boolean values. The double equals sign ```==``` is used to test for equality. Note this is different than variable assignment which is accomplished with a single equals sign ```=```. The symbol ```!=``` tests for inequality. If two boolean values are not than, ```!=``` between them will produce ```True```. \n",
    "\n",
    "Examples of boolean arithmetic are below: "
   ]
  },
  {
   "cell_type": "markdown",
   "metadata": {
    "latex": {
     "show_promt": "false"
    }
   },
   "source": [
    "```python\n",
    ">>> A = True\n",
    ">>> B = False\n",
    "```"
   ]
  },
  {
   "cell_type": "markdown",
   "metadata": {
    "latex": {
     "show_promt": "false"
    }
   },
   "source": [
    "```python\n",
    ">>> not A\n",
    "False\n",
    "```"
   ]
  },
  {
   "cell_type": "markdown",
   "metadata": {
    "latex": {
     "show_promt": "false"
    }
   },
   "source": [
    "```python\n",
    ">>> not B\n",
    "True\n",
    "```"
   ]
  },
  {
   "cell_type": "markdown",
   "metadata": {},
   "source": [
    "```python\n",
    ">>> A == B\n",
    "False\n",
    "````"
   ]
  },
  {
   "cell_type": "markdown",
   "metadata": {},
   "source": [
    "```python\n",
    ">>> A != B\n",
    "True\n",
    "```"
   ]
  },
  {
   "cell_type": "markdown",
   "metadata": {},
   "source": [
    "```python\n",
    ">>> A or B\n",
    "True\n",
    "```"
   ]
  },
  {
   "cell_type": "markdown",
   "metadata": {},
   "source": [
    "```python\n",
    ">>> A and B\n",
    "False\n",
    "```"
   ]
  },
  {
   "cell_type": "markdown",
   "metadata": {},
   "source": [
    "A summary of boolean arithmetic and operators is shown in the table below.\n",
    "\n",
    "| A | B | not A | not B | A == B | A =! B | A or B | A and B |\n",
    "| --- | --- | --- | --- | --- | --- | --- | --- |\n",
    "| T   |   F |   F |   T |   F |   T |   T |   F |\n",
    "| F   |   T |   T |   F |   F |   T |   T |   F |\n",
    "| T   |   T |   F |   F |   T |   F |   T |   T |\n",
    "| F   |   F |   T |   T |   T |   F |   F |   F |"
   ]
  },
  {
   "cell_type": "code",
   "execution_count": null,
   "metadata": {},
   "outputs": [],
   "source": []
  }
 ],
 "metadata": {
  "celltoolbar": "Edit Metadata",
  "kernelspec": {
   "display_name": "Python 3",
   "language": "python",
   "name": "python3"
  },
  "language_info": {
   "codemirror_mode": {
    "name": "ipython",
    "version": 3
   },
   "file_extension": ".py",
   "mimetype": "text/x-python",
   "name": "python",
   "nbconvert_exporter": "python",
   "pygments_lexer": "ipython3",
   "version": "3.6.4"
  }
 },
 "nbformat": 4,
 "nbformat_minor": 2
}
