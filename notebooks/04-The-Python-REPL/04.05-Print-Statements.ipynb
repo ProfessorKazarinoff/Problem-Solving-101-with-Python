{
 "cells": [
  {
   "cell_type": "markdown",
   "metadata": {},
   "source": [
    "## Print Statements"
   ]
  },
  {
   "cell_type": "markdown",
   "metadata": {},
   "source": [
    "Python's ```print()``` function prints output to the Python REPL. ```print()``` is an example of a _function_. A function is a core component of many programing languages that allow sections of code to be encapsulated in one command. Functions have three parts, some of which are optional. \n",
    "\n",
    "One required part of each function is a name. All functions need a name so that the can be called in a program or in the Python REPL. The name of the ```print()``` function is ```print```. \n",
    "\n",
    "An optional part of each function is input _arguments_. Input arguments are values, variables or objects passed to the function as input. In Python, input arguments are supplied to functions within parenthesis ```( )``` following the function name. For instance, in the function call ```print('Problem Solving in Teams')```, the input argument is the string ```'Problem Solving in Teams'```. Functions can accept mulitple input arguments and some function don't accept any input arguments.\n",
    "\n",
    "An optional part of each function is output. The output of a function can be assigned to a new variable. The ```print()``` function does not produce any output arguments that can be assigned to a new variable, but it does produce output in the Python REPL. \n"
   ]
  },
  {
   "cell_type": "markdown",
   "metadata": {},
   "source": [
    "The general format of the ```print()``` function is:\n",
    "\n",
    "```python\n",
    "print(<input_args>)\n",
    "```\n",
    "\n",
    "Where ```<input_args>``` are the values, variable, or object to be printed. "
   ]
  },
  {
   "cell_type": "markdown",
   "metadata": {},
   "source": [
    "### Printing Strings\n",
    "\n",
    "In order to print a string, the following syntax is used. Note how the word ```string``` is enclosed quotes ```' '``` and surrounded by parenthesis ```( )```:"
   ]
  },
  {
   "cell_type": "code",
   "execution_count": 1,
   "metadata": {},
   "outputs": [
    {
     "name": "stdout",
     "output_type": "stream",
     "text": [
      "string\n"
     ]
    }
   ],
   "source": [
    ">>> print('string')"
   ]
  },
  {
   "cell_type": "markdown",
   "metadata": {},
   "source": [
    "Any character that can be part of a string can be printed. This includes printing spaces and punctuation."
   ]
  },
  {
   "cell_type": "code",
   "execution_count": 2,
   "metadata": {},
   "outputs": [
    {
     "name": "stdout",
     "output_type": "stream",
     "text": [
      "A complex string with spaces, and punctuation!?!\n"
     ]
    }
   ],
   "source": [
    ">>> print('A complex string with spaces, and punctuation!?!')"
   ]
  },
  {
   "cell_type": "markdown",
   "metadata": {},
   "source": [
    "### Printing Variables\n",
    "\n",
    "In order to print a variable, the following syntax is used. Before a variable is printed, the variable needs to be assigned a value. Note that the variable ```a``` was not surrounded by quotes. "
   ]
  },
  {
   "cell_type": "code",
   "execution_count": 3,
   "metadata": {},
   "outputs": [
    {
     "name": "stdout",
     "output_type": "stream",
     "text": [
      "5\n"
     ]
    }
   ],
   "source": [
    ">>> a = 5\n",
    ">>> print(a)"
   ]
  },
  {
   "cell_type": "markdown",
   "metadata": {},
   "source": [
    "In the example below, the variable ```a``` is assigned the value ```5```. Then the value assigned to ```a``` is printed. Note how the output is different when quotes ```' '``` enclose ```'a'``` compared to when quotes ```' '``` don't enclose ```a```."
   ]
  },
  {
   "cell_type": "code",
   "execution_count": 4,
   "metadata": {},
   "outputs": [
    {
     "name": "stdout",
     "output_type": "stream",
     "text": [
      "5\n",
      "a\n"
     ]
    }
   ],
   "source": [
    ">>> a = 5\n",
    ">>> print(a)\n",
    ">>> print('a')"
   ]
  },
  {
   "cell_type": "markdown",
   "metadata": {},
   "source": [
    "### Printing Expressions\n",
    "\n",
    "Expressions, such as mathematical opperations like ```2+2``` can be included in ```print()``` statments. The results of the expression will be printed out. "
   ]
  },
  {
   "cell_type": "code",
   "execution_count": 5,
   "metadata": {},
   "outputs": [
    {
     "name": "stdout",
     "output_type": "stream",
     "text": [
      "4\n"
     ]
    }
   ],
   "source": [
    ">>> print(2+2)"
   ]
  },
  {
   "cell_type": "markdown",
   "metadata": {},
   "source": [
    "### Line Endings"
   ]
  },
  {
   "cell_type": "markdown",
   "metadata": {},
   "source": [
    "The ```print()``` function as an optional second input argument which controls line endings. By default, the ```print()``` function will print each print line on a seperate line."
   ]
  },
  {
   "cell_type": "code",
   "execution_count": 6,
   "metadata": {},
   "outputs": [
    {
     "name": "stdout",
     "output_type": "stream",
     "text": [
      "line 1\n",
      "line 2\n"
     ]
    }
   ],
   "source": [
    ">>> print('line 1')\n",
    ">>> print('line 2')"
   ]
  },
  {
   "cell_type": "markdown",
   "metadata": {},
   "source": [
    "By supplying an optional second input argument ```end= ```, multiple print lines will output on the same line. If ```end = ' '```, instead of a new line for each print output, the following print output will appear on the same line separated by a space."
   ]
  },
  {
   "cell_type": "code",
   "execution_count": 7,
   "metadata": {},
   "outputs": [
    {
     "name": "stdout",
     "output_type": "stream",
     "text": [
      "line 1 line 2 "
     ]
    }
   ],
   "source": [
    ">>> print('line 1', end=' ')\n",
    ">>> print('line 2', end=' ')"
   ]
  },
  {
   "cell_type": "code",
   "execution_count": null,
   "metadata": {
    "collapsed": true
   },
   "outputs": [],
   "source": []
  }
 ],
 "metadata": {
  "kernelspec": {
   "display_name": "Python 3",
   "language": "python",
   "name": "python3"
  },
  "language_info": {
   "codemirror_mode": {
    "name": "ipython",
    "version": 3
   },
   "file_extension": ".py",
   "mimetype": "text/x-python",
   "name": "python",
   "nbconvert_exporter": "python",
   "pygments_lexer": "ipython3",
   "version": "3.6.4"
  }
 },
 "nbformat": 4,
 "nbformat_minor": 2
}
