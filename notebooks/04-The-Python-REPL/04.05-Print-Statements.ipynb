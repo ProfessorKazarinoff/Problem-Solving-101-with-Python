{
 "cells": [
  {
   "cell_type": "markdown",
   "metadata": {},
   "source": [
    "## Print Statements"
   ]
  },
  {
   "cell_type": "markdown",
   "metadata": {},
   "source": [
    "Python's ```print()``` function prints output to the Python REPL."
   ]
  },
  {
   "cell_type": "markdown",
   "metadata": {},
   "source": [
    "The general format of the ```print()``` function is:\n",
    "\n",
    "```python\n",
    "print(expression)\n",
    "```\n",
    "\n",
    "Where ```expression`` is the value, variable, string or object to be printed. "
   ]
  },
  {
   "cell_type": "markdown",
   "metadata": {},
   "source": [
    "### Printing Strings\n",
    "\n",
    "In order to print a string, the following syntax is used. Note how the word ```string``` is enclosed quotes ```' '``` and surrounded by parenthesis ```( )```:"
   ]
  },
  {
   "cell_type": "code",
   "execution_count": 1,
   "metadata": {},
   "outputs": [
    {
     "name": "stdout",
     "output_type": "stream",
     "text": [
      "string\n"
     ]
    }
   ],
   "source": [
    ">>> print('string')"
   ]
  },
  {
   "cell_type": "markdown",
   "metadata": {},
   "source": [
    "Any character that can be part of a string can be printed. This includes printing spaces and punctuation."
   ]
  },
  {
   "cell_type": "code",
   "execution_count": 2,
   "metadata": {},
   "outputs": [
    {
     "name": "stdout",
     "output_type": "stream",
     "text": [
      "A complex string with spaces, and punctuation!?!\n"
     ]
    }
   ],
   "source": [
    ">>> print('A complex string with spaces, and punctuation!?!')"
   ]
  },
  {
   "cell_type": "markdown",
   "metadata": {},
   "source": [
    "### Printing Variables\n",
    "\n",
    "In order to print a variable, the following syntax is used. Before a variable is printed, the variable needs to be assigned a value. Note that the variable ```a``` was not surrounded by quotes. "
   ]
  },
  {
   "cell_type": "code",
   "execution_count": 3,
   "metadata": {},
   "outputs": [
    {
     "name": "stdout",
     "output_type": "stream",
     "text": [
      "5\n"
     ]
    }
   ],
   "source": [
    ">>> a = 5\n",
    ">>> print(a)"
   ]
  },
  {
   "cell_type": "markdown",
   "metadata": {},
   "source": [
    "In the example below, the variable ```a``` is assigned the value ```5```. Then the value assigned to ```a``` is printed. Note how the output is different when quotes ```' '``` enclose ```'a'``` compared to when quotes ```' '``` don't enclose ```a```."
   ]
  },
  {
   "cell_type": "code",
   "execution_count": 4,
   "metadata": {},
   "outputs": [
    {
     "name": "stdout",
     "output_type": "stream",
     "text": [
      "5\n",
      "a\n"
     ]
    }
   ],
   "source": [
    ">>> a = 5\n",
    ">>> print(a)\n",
    ">>> print('a')"
   ]
  },
  {
   "cell_type": "markdown",
   "metadata": {},
   "source": [
    "### Printing Expressions\n",
    "\n",
    "Expressions, such as mathematical opperations like ```2+2``` can be included in ```print()``` statments. The results of the expression will be printed out. "
   ]
  },
  {
   "cell_type": "code",
   "execution_count": 5,
   "metadata": {},
   "outputs": [
    {
     "name": "stdout",
     "output_type": "stream",
     "text": [
      "4\n"
     ]
    }
   ],
   "source": [
    ">>> print(2+2)"
   ]
  },
  {
   "cell_type": "markdown",
   "metadata": {},
   "source": [
    "### Line Endings"
   ]
  },
  {
   "cell_type": "markdown",
   "metadata": {},
   "source": [
    "The ```print()``` function as an optional second input argument which controls line endings. By default, the ```print()``` function will print each print line on a seperate line."
   ]
  },
  {
   "cell_type": "code",
   "execution_count": 6,
   "metadata": {},
   "outputs": [
    {
     "name": "stdout",
     "output_type": "stream",
     "text": [
      "line 1\n",
      "line 2\n"
     ]
    }
   ],
   "source": [
    ">>> print('line 1')\n",
    ">>> print('line 2')"
   ]
  },
  {
   "cell_type": "markdown",
   "metadata": {},
   "source": [
    "By supplying an optional second input argument ```end= ```, multiple print lines will output on the same line. If ```end = ' '```, instead of a new line for each print output, the following print output will appear on the same line separated by a space."
   ]
  },
  {
   "cell_type": "code",
   "execution_count": 7,
   "metadata": {},
   "outputs": [
    {
     "name": "stdout",
     "output_type": "stream",
     "text": [
      "line 1 line 2 "
     ]
    }
   ],
   "source": [
    ">>> print('line 1', end=' ')\n",
    ">>> print('line 2', end=' ')"
   ]
  },
  {
   "cell_type": "code",
   "execution_count": null,
   "metadata": {
    "collapsed": true
   },
   "outputs": [],
   "source": []
  }
 ],
 "metadata": {
  "kernelspec": {
   "display_name": "Python 3",
   "language": "python",
   "name": "python3"
  },
  "language_info": {
   "codemirror_mode": {
    "name": "ipython",
    "version": 3
   },
   "file_extension": ".py",
   "mimetype": "text/x-python",
   "name": "python",
   "nbconvert_exporter": "python",
   "pygments_lexer": "ipython3",
   "version": "3.6.5"
  }
 },
 "nbformat": 4,
 "nbformat_minor": 2
}
