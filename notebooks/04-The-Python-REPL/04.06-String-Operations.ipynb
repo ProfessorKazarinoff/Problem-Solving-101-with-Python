{
 "cells": [
  {
   "cell_type": "markdown",
   "metadata": {},
   "source": [
    "## String Operations"
   ]
  },
  {
   "cell_type": "markdown",
   "metadata": {},
   "source": [
    "Strings are sequences of letters, numbers, symbols, and spaces. In Python, strings can be almost any length. String variables are assigned in Python using quotation marks ```'   '```. Strings can contain blank spaces. A blank space is a valid string character in Python string.\n",
    "\n",
    "```python\n",
    ">>> string = 'z'\n",
    ">>>> type(string)\n",
    "<class 'str'>\n",
    "\n",
    ">>> string = 'Engineers'\n",
    ">>> type(string)\n",
    "<class 'str'>\n",
    "```"
   ]
  },
  {
   "cell_type": "markdown",
   "metadata": {},
   "source": [
    "Strings are sequences of letters, numbers, spaces, and punctuation. Operations that can be accomplished with strings include indexing, concatenation, and logical comparisons."
   ]
  },
  {
   "cell_type": "markdown",
   "metadata": {},
   "source": [
    "### Indexing\n",
    "\n",
    "Individual characters or groups of characters can be accessed from within a string using _indexing_. Indexing is the process of specifying a location within a string. Other words used for index include position and location. If we index the first location within a string, we are returned whatever character is stored at the first position. Indexing strings entails using square brackets ```[ ]``` immediately after the string. A number or range of numbers is specified within the square brackets."
   ]
  },
  {
   "cell_type": "markdown",
   "metadata": {},
   "source": [
    "```python\n",
    ">>> word = 'Solution'\n",
    ">>> word[0]\n",
    "'S'\n",
    "```"
   ]
  },
  {
   "cell_type": "markdown",
   "metadata": {},
   "source": [
    "```python\n",
    ">>> word[2]\n",
    "'1'\n",
    "```"
   ]
  },
  {
   "cell_type": "markdown",
   "metadata": {},
   "source": [
    "```python\n",
    ">>> word[-1]\n",
    "'n'\n",
    "```"
   ]
  },
  {
   "cell_type": "markdown",
   "metadata": {},
   "source": [
    "The colon operator ```:``` can be used when indexing strings and lists. In the statement:"
   ]
  },
  {
   "cell_type": "markdown",
   "metadata": {},
   "source": [
    "```python\n",
    ">>> word[0:3]\n",
    "'Sol'\n",
    "```"
   ]
  },
  {
   "cell_type": "markdown",
   "metadata": {},
   "source": [
    "the colon operator means \"thru\". In this case ```0``` thru ```3```. Remember that Python counting starts at zero and ends at n+1. ```0:3``` returns the first three characters in the string. With no numbers, the colon operator means \"all\""
   ]
  },
  {
   "cell_type": "markdown",
   "metadata": {},
   "source": [
    "```python\n",
    ">>> word[:]\n",
    "'Solution'\n",
    "```"
   ]
  },
  {
   "cell_type": "markdown",
   "metadata": {},
   "source": [
    "With three numbers the colon operator denotes ```start:stop+1:step```"
   ]
  },
  {
   "cell_type": "markdown",
   "metadata": {},
   "source": [
    "```python\n",
    ">>> word[0:8:2]  #start:stop+1:step\n",
    "'Slto'\n",
    "```"
   ]
  },
  {
   "cell_type": "markdown",
   "metadata": {},
   "source": [
    "Negative steps indicate returning the characters in the string backwards."
   ]
  },
  {
   "cell_type": "markdown",
   "metadata": {},
   "source": [
    "```python\n",
    ">>> word[::-1] # start=not specified :stop=not specified:step=-1\n",
    "'noituloS'\n",
    "```"
   ]
  },
  {
   "cell_type": "markdown",
   "metadata": {},
   "source": [
    "### Concatenation\n",
    "\n",
    "The word _concatenate_ means to combine. When Python strings are concatenated, two or more strings are combined into one long string."
   ]
  },
  {
   "cell_type": "markdown",
   "metadata": {},
   "source": [
    "In Python, strings can be concatenated with the addition operator, the plus sign ```+```."
   ]
  },
  {
   "cell_type": "markdown",
   "metadata": {},
   "source": [
    "```python\n",
    ">>> first ='Kendra '\n",
    ">>> last = 'Wong'\n",
    ">>> full = first + last\n",
    ">>> full\n",
    "'Kendra Wong'\n",
    "```"
   ]
  },
  {
   "cell_type": "markdown",
   "metadata": {},
   "source": [
    "Multipying a string by a number, repeats the string that number of times."
   ]
  },
  {
   "cell_type": "markdown",
   "metadata": {},
   "source": [
    "```python\n",
    ">>> alarm = 'Help! '\n",
    ">>> alarm*5\n",
    "'Help! Help! Help! Help! Help! '\n",
    "```"
   ]
  },
  {
   "cell_type": "code",
   "execution_count": null,
   "metadata": {
    "collapsed": true
   },
   "outputs": [],
   "source": []
  }
 ],
 "metadata": {
  "kernelspec": {
   "display_name": "Python 3",
   "language": "python",
   "name": "python3"
  },
  "language_info": {
   "codemirror_mode": {
    "name": "ipython",
    "version": 3
   },
   "file_extension": ".py",
   "mimetype": "text/x-python",
   "name": "python",
   "nbconvert_exporter": "python",
   "pygments_lexer": "ipython3",
   "version": "3.6.4"
  }
 },
 "nbformat": 4,
 "nbformat_minor": 2
}
