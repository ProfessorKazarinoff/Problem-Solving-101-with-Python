{
 "cells": [
  {
   "cell_type": "markdown",
   "metadata": {
    "latex": {
     "before_cell": "newpage"
    }
   },
   "source": [
    "## Summary"
   ]
  },
  {
   "cell_type": "markdown",
   "metadata": {},
   "source": [
    "In this chapter, you learned how to use the Python REPL, also called the Python prompt, to solve calculation problems. \n",
    "\n",
    "In the first section of the chapter, you learned what the Python is. REPL stands for Read Evaluate Print Loop. The Python REPL is also sometimes called the Python Prompt.\n",
    "\n",
    "You learned how to do arithmetic with Python. Addition and subtraction are completed with ```+``` and ```-```. Division and multiplication are completed with ```/``` and ```*```.  To raise a number to a power (exponents) in Python, use ```***```. \n",
    "\n",
    "You learned how to import Python's ```math``` module and use functions from the ```math``` module to complete problems with powers and logarithms, and trigonometry. Python ```statistics``` module includes statistical functions such as ```mean()```, ```median()```, ```mode()``` and ```std()``` (standard deviation). \n",
    "\n",
    "In the middle of the chapter, you learned about four data types in Python. Two numeric data types were integers and floats (decimals). Boolean values can only be ```True``` or ```False```. Strings are sequences of letters, numbers, symbols and spaces. In Python, strings can be defined with either single ```' '``` or double ```\" \"``` quotes.\n",
    "\n",
    "At the end of the chapter, you learned about Python's ```print()``` function. The chapter concluded with a couple string operations including concatenation (combining), repetition (using ```*```) and indexing. When a string is indexed, the general form is```string[index]``` or ```string[start:stop:step]```. Remember, in Python, counting starts at ```0``` and ends at ```n-1```. To call the first index in a string, use ```string[0]```. The second character in the string is accessed with the command ```string[1]```. "
   ]
  },
  {
   "cell_type": "markdown",
   "metadata": {},
   "source": [
    "### Key Terms and Concepts"
   ]
  },
  {
   "cell_type": "markdown",
   "metadata": {
    "latex": {
     "environment": "key_terms"
    }
   },
   "source": [
    "REPL\n",
    "\n",
    "operator\n",
    "\n",
    "variable\n",
    "\n",
    "mathematical operator\n",
    "\n",
    "command Line\n",
    "\n",
    "error\n",
    "\n",
    "module\n",
    "\n",
    "Standard Library\n",
    "\n",
    "import\n",
    "\n",
    "prompt\n",
    "\n",
    "print\n",
    "\n",
    "integer\n",
    "\n",
    "numeric data type\n",
    "\n",
    "scalar\n",
    "\n",
    "float\n",
    "\n",
    "floating point number\n",
    "\n",
    "complex number\n",
    "\n",
    "boolean\n",
    "\n",
    "True\n",
    "\n",
    "False\n",
    "\n",
    "index\n",
    "\n",
    "input\n",
    "\n",
    "output"
   ]
  },
  {
   "cell_type": "markdown",
   "metadata": {},
   "source": [
    "### Summary of Python Functions and Commands\n",
    "\n",
    "Below is a summary of the functions and operators used in this chapter:\n",
    "\n",
    "| Arithmetic Opperators | description |\n",
    "| --- | --- |\n",
    "| ```+``` | Addition |\n",
    "| ```-``` | Subtraction |\n",
    "| ```*``` | Multiplication |\n",
    "| ```/``` | Division |\n",
    "| ```**``` | Exponents |\n",
    "| ```_``` | answer in memory |\n",
    "\n",
    "| Trig Function | description |\n",
    "| --- | ---|\n",
    "| ```from math import *``` | |\n",
    "| ```sin``` | sine of angle in radians |\n",
    "| ```cos``` | cosine of angle in radians |\n",
    "| ```tan``` | tangent of angle in radians |\n",
    "| ```pi``` | $\\pi$ |\n",
    "| ```degrees``` | convert radians to degrees |\n",
    "| ```radians``` | convert degrees to radians |\n",
    "| ```asin``` |    inverse sine |\n",
    "| ```acos``` |    inverse cosine |\n",
    "| ```atan``` |   inverse tangent  |\n",
    "\n",
    "| Logarithms and Exponents Function | description |\n",
    "| --- | ---|\n",
    "| ```from math import *``` | |\n",
    "| ```log``` |  log base $e$, natural log | \n",
    "| ```log10``` |  log base 10 | \n",
    "| ```exp``` |  $e^{power}$ | \n",
    "|  ```e``` |  Euler's constant $e$ | \n",
    "|  ```pow(x,y)``` |  x raised to the y power | \n",
    "|  ```sqrt``` |  square root | \n",
    "\n",
    "| Statistical Function | description |\n",
    "| --- | ---|\n",
    "| ```from statistics import *``` | |\n",
    "| ```mean``` | mean (average) |\n",
    "| ```median``` | median (middle value) |\n",
    "| ```mode``` | (most often) |\n",
    "| ```stdev``` | standard deviation of a sample |\n",
    "| ```pstdev``` | standard deviation of a population |"
   ]
  },
  {
   "cell_type": "markdown",
   "metadata": {
    "collapsed": true
   },
   "source": [
    "### Additional Resoures"
   ]
  },
  {
   "cell_type": "markdown",
   "metadata": {},
   "source": [
    "Python's Built-in functions on the Python Docs: \n",
    "\n",
    " > [https://docs.python.org/3/library/functions.html](https://docs.python.org/3/library/functions.html)\n",
    "\n",
    "Documentation of the **math** module on the Python Docs:\n",
    "\n",
    " > [https://docs.python.org/3/library/math.html](https://docs.python.org/3/library/math.html)\n",
    "\n",
    "Documentation of the **statistics** module on the Python Docs:\n",
    "\n",
    " > [https://docs.python.org/3/library/statistics.html](https://docs.python.org/3/library/statistics.html)\n",
    "\n",
    "_How to Round Numbers in Python_ by David Amos on RealPython.com:\n",
    "\n",
    " > [https://realpython.com/python-rounding/](https://realpython.com/python-rounding/)"
   ]
  }
 ],
 "metadata": {
  "celltoolbar": "Edit Metadata",
  "kernelspec": {
   "display_name": "Python 3",
   "language": "python",
   "name": "python3"
  },
  "language_info": {
   "codemirror_mode": {
    "name": "ipython",
    "version": 3
   },
   "file_extension": ".py",
   "mimetype": "text/x-python",
   "name": "python",
   "nbconvert_exporter": "python",
   "pygments_lexer": "ipython3",
   "version": "3.6.4"
  }
 },
 "nbformat": 4,
 "nbformat_minor": 2
}
