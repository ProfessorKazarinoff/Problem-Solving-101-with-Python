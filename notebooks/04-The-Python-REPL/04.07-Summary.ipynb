{
 "cells": [
  {
   "cell_type": "markdown",
   "metadata": {
    "latex": {
     "before_cell": "newpage"
    }
   },
   "source": [
    "## Summary"
   ]
  },
  {
   "cell_type": "markdown",
   "metadata": {},
   "source": [
    "This is the text summary for the chapter. Will be about half a page long\n",
    "\n",
    "Lorem ipsum dolor sit amet, consectetur adipiscing elit, sed do eiusmod tempor incididunt ut labore et dolore magna aliqua. Ut enim ad minim veniam, quis nostrud exercitation ullamco laboris nisi ut aliquip ex ea commodo consequat. Duis aute irure dolor in reprehenderit in voluptate velit esse cillum dolore eu fugiat nulla pariatur. Excepteur sint occaecat cupidatat non proident, sunt in culpa qui officia deserunt mollit anim id est laborum."
   ]
  },
  {
   "cell_type": "markdown",
   "metadata": {},
   "source": [
    "### Key Terms and Concepts"
   ]
  },
  {
   "cell_type": "markdown",
   "metadata": {
    "latex": {
     "environment": "key_terms"
    }
   },
   "source": [
    "REPL\n",
    "\n",
    "operator\n",
    "\n",
    "variable\n",
    "\n",
    "mathematical operator\n",
    "\n",
    "command Line\n",
    "\n",
    "error\n",
    "\n",
    "module\n",
    "\n",
    "Standard Library\n",
    "\n",
    "import\n",
    "\n",
    "prompt\n",
    "\n",
    "print\n",
    "\n",
    "integer\n",
    "\n",
    "numeric data type\n",
    "\n",
    "scalar\n",
    "\n",
    "float\n",
    "\n",
    "floating point number\n",
    "\n",
    "complex number\n",
    "\n",
    "boolean\n",
    "\n",
    "True\n",
    "\n",
    "False\n",
    "\n",
    "index\n",
    "\n",
    "input\n",
    "\n",
    "output"
   ]
  },
  {
   "cell_type": "markdown",
   "metadata": {},
   "source": [
    "### Summary of Python Functions and Commands\n",
    "\n",
    "Below is a summary of the functions and operators used in this chapter:\n",
    "\n",
    "| Arithmetic Opperators | description |\n",
    "| --- | --- |\n",
    "| ```+``` | Addition |\n",
    "| ```-``` | Subtraction |\n",
    "| ```*``` | Multiplication |\n",
    "| ```/``` | Division |\n",
    "| ```**``` | Exponents |\n",
    "| ```_``` | answer in memory |\n",
    "\n",
    "| Trig Function | description |\n",
    "| --- | ---|\n",
    "| ```sin``` | sine of angle in radians |\n",
    "| ```cos``` | cosine of angle in radians |\n",
    "| ```tan``` | tangent of angle in radians |\n",
    "| ```pi``` | $\\pi$ |\n",
    "| ```degrees``` | convert radians to degrees |\n",
    "| ```radians``` | convert degrees to radians |\n",
    "| ```asin``` |    inverse sine |\n",
    "| ```acos``` |    inverse cosine |\n",
    "| ```atan``` |   inverse tangent  |\n",
    "\n",
    "| Logarithms and Exponents Function | description |\n",
    "| --- | ---|\n",
    "| ```from math import *``` | |\n",
    "| ```log``` |  log base e, natural log | \n",
    "| ```log10``` |  log base 10 | \n",
    "| ```exp``` |  $e^{power}$ | \n",
    "|  ```e``` |  the constant e | \n",
    "|  ```pow(x,y)``` |  x raised to the y power | \n",
    "|  ```sqrt``` |  square root | \n",
    "\n",
    "| Statistical Function | description |\n",
    "| --- | ---|\n",
    "| ```from statistics import *``` | |\n",
    "| ```mean``` | mean (average) |\n",
    "| ```median``` | median (middle value) |\n",
    "| ```mode``` | (most often) |\n",
    "| ```stdev``` | standard deviation of a sample |\n",
    "| ```pstdev``` | standard deviation of a population |"
   ]
  },
  {
   "cell_type": "markdown",
   "metadata": {
    "collapsed": true
   },
   "source": [
    "### Additional Resoures"
   ]
  },
  {
   "cell_type": "markdown",
   "metadata": {},
   "source": [
    "Python's Built-in functions on the Python Docs: \n",
    "\n",
    " > [https://docs.python.org/3/library/functions.html](https://docs.python.org/3/library/functions.html)\n",
    "\n",
    "Documentation of the **math** module on the Python Docs:\n",
    "\n",
    " > [https://docs.python.org/3/library/math.html](https://docs.python.org/3/library/math.html)\n",
    "\n",
    "Documentation of the **statistics** module on the Python Docs:\n",
    "\n",
    " > [https://docs.python.org/3/library/statistics.html](https://docs.python.org/3/library/statistics.html)\n",
    "\n",
    "_How to Round Numbers in Python_ by David Amos on RealPython.com:\n",
    "\n",
    " > [https://realpython.com/python-rounding/](https://realpython.com/python-rounding/)"
   ]
  }
 ],
 "metadata": {
  "celltoolbar": "Edit Metadata",
  "kernelspec": {
   "display_name": "Python 3",
   "language": "python",
   "name": "python3"
  },
  "language_info": {
   "codemirror_mode": {
    "name": "ipython",
    "version": 3
   },
   "file_extension": ".py",
   "mimetype": "text/x-python",
   "name": "python",
   "nbconvert_exporter": "python",
   "pygments_lexer": "ipython3",
   "version": "3.6.5"
  }
 },
 "nbformat": 4,
 "nbformat_minor": 2
}
