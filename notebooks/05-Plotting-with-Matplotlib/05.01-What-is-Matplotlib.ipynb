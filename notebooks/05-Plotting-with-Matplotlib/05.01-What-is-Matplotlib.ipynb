{
 "cells": [
  {
   "cell_type": "markdown",
   "metadata": {},
   "source": [
    "## What is Matplotlib?"
   ]
  },
  {
   "cell_type": "markdown",
   "metadata": {},
   "source": [
    "Matplotlib is a popular Python package used to plot data. Matplotlib started as a project in the early 2000's partly to use Python to visualize the electronic signals in the brains of epilepsy patients. Matplotlib's creator, John D. Hunter, was a neurobiologist. He was looking for a way to replicate MATLAB's plotting capability with Python. In addition to starting matplotlib, Dr. Hunter was part of the founding group that created Numfocus. The Numfocus group oversees some major Python projects including matplotlib, numpy, pandas, and Jupyter."
   ]
  },
  {
   "cell_type": "markdown",
   "metadata": {},
   "source": [
    "### Why use Matplotlib?"
   ]
  },
  {
   "cell_type": "markdown",
   "metadata": {},
   "source": [
    "Matplotlib is a Python plotting library. Matplotlib is useful for creating static 2D plots, the kind of plots included in scientific publications and presentations. Almost any plot created in Microsoft Excel can be replicated with matplotlib.  Matplotlib can produce publication quality plots using Python code.  These publication quality plots can be included in scientific papers, lab reports, and presentations. Matplotlib can also be used to make 3D plots and animations. There are other Python plotting libraries such as altair, ggplot, and bokeh, but matplotlib is the most widely used."
   ]
  },
  {
   "cell_type": "code",
   "execution_count": null,
   "metadata": {
    "collapsed": true
   },
   "outputs": [],
   "source": []
  }
 ],
 "metadata": {
  "kernelspec": {
   "display_name": "Python 3",
   "language": "python",
   "name": "python3"
  },
  "language_info": {
   "codemirror_mode": {
    "name": "ipython",
    "version": 3
   },
   "file_extension": ".py",
   "mimetype": "text/x-python",
   "name": "python",
   "nbconvert_exporter": "python",
   "pygments_lexer": "ipython3",
   "version": "3.6.4"
  }
 },
 "nbformat": 4,
 "nbformat_minor": 2
}
