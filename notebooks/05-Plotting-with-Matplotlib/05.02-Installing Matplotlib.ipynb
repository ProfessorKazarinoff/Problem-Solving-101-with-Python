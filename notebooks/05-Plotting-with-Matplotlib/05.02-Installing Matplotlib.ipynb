{
 "cells": [
  {
   "cell_type": "markdown",
   "metadata": {},
   "source": [
    "## Installing Matplotlib"
   ]
  },
  {
   "cell_type": "markdown",
   "metadata": {},
   "source": [
    "Matplotlib must be installed in the working Python environment before it can be used. There are three different ways to install matplotlib:\n",
    "\n",
    " * Install matplotlib with the Anaconda distribution of Python\n",
    " * Install matplotlib with the Anaconda Prompt\n",
    " * Install matplotlib with pip"
   ]
  },
  {
   "cell_type": "markdown",
   "metadata": {},
   "source": [
    "### Install matplotlib with the Anaconda distribution of Python\n",
    "\n",
    "If you downloaded and installed the Anaconda distribution of Python, matplotlib came with it and therefore matplotlib is already installed. No further installation is necessary unless a separate virtual environment is used. If you do not have the Anaconda distribution of Python, matplotlib can be installed by downloading and installing the Anaconda distribution of Python, as the matplotlib is part of the distribution."
   ]
  },
  {
   "cell_type": "markdown",
   "metadata": {},
   "source": [
    "### Installing matplotlib with the Anaconda Prompt\n",
    "\n",
    "To install matplotlib with the Anaconda Prompt, open the Anaconda Prompt and type:\n",
    "\n",
    "```\n",
    "> conda install matplotlib\n",
    "```\n",
    "\n",
    "Type ```y``` for yes when prompted."
   ]
  },
  {
   "cell_type": "markdown",
   "metadata": {},
   "source": [
    "### Installing Matplotlib with pip"
   ]
  },
  {
   "cell_type": "markdown",
   "metadata": {},
   "source": [
    "To install **matplotlib** with pip, open a terminal window and type:\n",
    "\n",
    "```\n",
    "$ pip install matplotlib\n",
    "```\n",
    "\n",
    "This command installs **matplotlib** in the current working python environment."
   ]
  },
  {
   "cell_type": "markdown",
   "metadata": {},
   "source": [
    "Once installed, you can confirm matplotlib is available for import by opening up the Python REPL or a Jupyter notebook and typing:"
   ]
  },
  {
   "cell_type": "code",
   "execution_count": 1,
   "metadata": {},
   "outputs": [
    {
     "data": {
      "text/plain": [
       "'2.1.2'"
      ]
     },
     "execution_count": 1,
     "metadata": {},
     "output_type": "execute_result"
    }
   ],
   "source": [
    ">>> import matplotlib\n",
    ">>> matplotlib.__version__"
   ]
  },
  {
   "cell_type": "markdown",
   "metadata": {
    "collapsed": true
   },
   "source": [
    "With matplotlib installed, you can start building line plots, bar charts, pie charts, and scatter plots. Each of these plot types will be described in a different section of this chapter. The simplest kind of plot to build with matplotlib is a line plot. A simple line plots is the first type of plot we'll create."
   ]
  }
 ],
 "metadata": {
  "kernelspec": {
   "display_name": "Python 3",
   "language": "python",
   "name": "python3"
  },
  "language_info": {
   "codemirror_mode": {
    "name": "ipython",
    "version": 3
   },
   "file_extension": ".py",
   "mimetype": "text/x-python",
   "name": "python",
   "nbconvert_exporter": "python",
   "pygments_lexer": "ipython3",
   "version": "3.6.4"
  }
 },
 "nbformat": 4,
 "nbformat_minor": 2
}
