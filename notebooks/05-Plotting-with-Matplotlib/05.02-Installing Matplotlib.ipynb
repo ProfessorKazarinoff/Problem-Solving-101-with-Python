{
 "cells": [
  {
   "cell_type": "markdown",
   "metadata": {},
   "source": [
    "## Installing Matplotlib"
   ]
  },
  {
   "cell_type": "markdown",
   "metadata": {},
   "source": [
    "Matplotlib must be installed in the working Python environment before it can be used. There are three different ways to install Matplotlib:\n",
    "\n",
    " * Install Matplotlib with the Anaconda distribution of Python\n",
    " * Install Matplotlib with the **Anaconda Prompt**\n",
    " * Install Matplotlib with **pip**"
   ]
  },
  {
   "cell_type": "markdown",
   "metadata": {},
   "source": [
    "### Install Matplotlib with the Anaconda distribution of Python\n",
    "\n",
    "Matplotlib comes pre-installed in the Anaconda distribution of Python. If you installed the Anaconda distribution of Python, no further steps are necessary to install Matplotlib (unless a separate virtual environment is used). If you do not have the Anaconda distribution of Python, Matplotlib can be installed by downloading and installing the Anaconda distribution of Python, as the Matplotlib is part of the distribution."
   ]
  },
  {
   "cell_type": "markdown",
   "metadata": {},
   "source": [
    "### Installing Matplotlib with the Anaconda Prompt\n",
    "\n",
    "To install Matplotlib with the Anaconda Prompt, open the **Anaconda Prompt** and type:\n",
    "\n",
    "```text\n",
    "> conda install matplotlib\n",
    "```\n",
    "\n",
    "Type ```y``` for yes when prompted."
   ]
  },
  {
   "cell_type": "markdown",
   "metadata": {},
   "source": [
    "### Installing Matplotlib with pip"
   ]
  },
  {
   "cell_type": "markdown",
   "metadata": {},
   "source": [
    "To install Matplotlib with **pip** (the Python package manager), open a terminal window and type:\n",
    "\n",
    "```\n",
    "$ pip install matplotlib\n",
    "```\n",
    "\n",
    "This command installs Matplotlib in the current working python environment."
   ]
  },
  {
   "cell_type": "markdown",
   "metadata": {},
   "source": [
    "Once installed, you can confirm Matplotlib is available for import by opening up the Python REPL or a Jupyter notebook and typing:"
   ]
  },
  {
   "cell_type": "code",
   "execution_count": 1,
   "metadata": {},
   "outputs": [
    {
     "data": {
      "text/plain": [
       "'3.1.1'"
      ]
     },
     "execution_count": 1,
     "metadata": {},
     "output_type": "execute_result"
    }
   ],
   "source": [
    ">>> import matplotlib\n",
    ">>> matplotlib.__version__"
   ]
  },
  {
   "cell_type": "markdown",
   "metadata": {
    "collapsed": true
   },
   "source": [
    "Once Matplotlib is installed, you can start building line plots, bar charts, pie charts, and scatter plots. Each of these plot types will be described in a different section of this chapter. The simplest kind of plot to build with Matplotlib is a line plot. A simple line plots is the first type of plot we'll create."
   ]
  }
 ],
 "metadata": {
  "kernelspec": {
   "display_name": "Python 3",
   "language": "python",
   "name": "python3"
  },
  "language_info": {
   "codemirror_mode": {
    "name": "ipython",
    "version": 3
   },
   "file_extension": ".py",
   "mimetype": "text/x-python",
   "name": "python",
   "nbconvert_exporter": "python",
   "pygments_lexer": "ipython3",
   "version": "3.7.4"
  }
 },
 "nbformat": 4,
 "nbformat_minor": 2
}
