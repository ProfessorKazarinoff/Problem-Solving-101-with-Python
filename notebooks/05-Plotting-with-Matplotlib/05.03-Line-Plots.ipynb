{
 "cells": [
  {
   "cell_type": "markdown",
   "metadata": {},
   "source": [
    "## Line Plots"
   ]
  },
  {
   "cell_type": "markdown",
   "metadata": {},
   "source": [
    "Line plots in matplotlib can be created using matplotlib's pyplot library. To create a line plot with Python and matplotlib, first import matplotlib's pyplot library using the line:\n",
    "\n",
    "```\n",
    "import matplot.pyplot as plt\n",
    "```\n",
    "\n",
    "It is common practice to use the alias ```plt``` for the ```matplotlib.pyplot``` library. Defining ```matplotlib.pyplot``` as ```plt``` allows us to use the syntax ```plt.<function name>``` instead of ```matplotlib.pyplot.<function name>``` in the rest of our code. See the differences below:\n",
    "\n",
    "importing ```matplotlib.pyplot``` with no alias\n",
    "\n",
    "```\n",
    "import matplotlib.pyplot\n",
    "\n",
    "matplotlib.pyplot.plot(x, y)\n",
    "```\n",
    "\n",
    "importing ```matplotlib.pyplot``` with the alias ```plt```\n",
    "\n",
    "```\n",
    "import matplotlib.pyplot as plt\n",
    "\n",
    "plt.plot(x, y)\n",
    "```\n",
    "\n",
    "Using the alias ```plt``` simplifies the look of code and cuts down the number of keystrokes needed to write a Python script. Any alias can be used, such as ```import matplotlib.pyplot as RainbowUnicorn```, but the ```plt``` alias is common convention.\n",
    "\n",
    "\n",
    "If building matplotlib plots in a jupyter notebook, include the line:\n",
    "\n",
    "```\n",
    "%matplotlib inline\n",
    "```\n",
    "\n",
    "below the import line. The ```%matplotlib inline``` line will output matplotlib plots directly in jupyter notebook output cells."
   ]
  },
  {
   "cell_type": "markdown",
   "metadata": {},
   "source": [
    "To build the first line plot, first import matplotlib. If using a jupyter notebook include the line ```%matplotlib inline```"
   ]
  },
  {
   "cell_type": "code",
   "execution_count": 1,
   "metadata": {
    "collapsed": true
   },
   "outputs": [],
   "source": [
    "import matplotlib.pyplot as plt\n",
    "# if using a jupyter notebook, include:\n",
    "%matplotlib inline"
   ]
  },
  {
   "cell_type": "markdown",
   "metadata": {},
   "source": [
    "Once matplotlib is imported and plots are set to display in jupyter notebook output cells, data is needed to plot. We will create this data as a Pyton _list_. A list is a built in data structure in Python that can store multiple values. Lists are defined in Python using square brackets ```[ ]```. The elements of a list are seperated using commas ```[item1, item2, item 3]```.\n",
    "\n",
    "An example line of code to create a list of numbers in Python is:\n",
    "\n",
    "```\n",
    "a = [1, 3, 4, 8]\n",
    "```\n",
    "\n",
    "We can define a list of numbers in a code cell and plot them with matplotlib using matplotlib's ```plt.plot()``` function. We pass in our list of numbers as an _argument_ of the ```plt.plot()``` function. To show the plot use the command ```plt.show()```. Make sure to include the double parenthesis ```()```"
   ]
  },
  {
   "cell_type": "code",
   "execution_count": 5,
   "metadata": {},
   "outputs": [
    {
     "data": {
      "image/png": "[encoded data removed]",
      "text/plain": [
       "<matplotlib.figure.Figure at 0x7f30e6f18a90>"
      ]
     },
     "metadata": {},
     "output_type": "display_data"
    }
   ],
   "source": [
    "a = [1, 3, 4, 8]\n",
    "plt.plot(a)\n",
    "plt.show()"
   ]
  },
  {
   "cell_type": "markdown",
   "metadata": {},
   "source": [
    "This produces a plot of our four points on a set of axes. Note that our points are the y-values on the plot. The x-axis starts at zero and ends at three. Matplotlib automatically put set the x-axis as we only specified one list. Let's specifiy two lists, one for the x-values on the plot called ```x``` and one for the y-values on the plot called ```y```. With these two lists created, we can call ```plt.plot(x,y)``` and ```plt.show()``` and we can see the changes in a new plot."
   ]
  },
  {
   "cell_type": "markdown",
   "metadata": {},
   "source": [
    "## Customizing matplotlib plots\n",
    "\n",
    "### Axis Labels, Title and Legend\n",
    "\n",
    "Matplotlib plots can be customized in a lot of ways. We are going to build upon our previous example and add a couple features to our plot. These additional plot features are: \n",
    "\n",
    " * axis labels\n",
    " * title\n",
    " * legend. \n",
    " \n",
    " Each of these features is specified by a different matplotlib command.\n",
    "\n",
    "| Plot feature | matplotlib command | Example |\n",
    "| --- | --- | --- |\n",
    "| x-axis label | ```plt.xlabel()``` | ```plt.xlabel('time in seconds')``` |\n",
    "| x-axis limits | ```plt.xlim()``` | ```plt.xlim([0, 10])``` |\n",
    "| y-axis label | ```plt.ylabel()``` | ```plt.ylabel('distance in meters')``` |\n",
    "| y-axis limits | ```plt.ylim()``` | ```plt.ylim([-5, 5])``` |\n",
    "| title | ```plt.title()``` | ```plt.title('distance vs. time')``` |\n",
    "| legend | ```plt.legend()``` | ```plt.legend(['run 1'])``` |\n",
    "\n",
    "Note the words passed into the ```plt.xlabel()```, ```plt.ylabel()``` and ```plt.title()``` need to be enclosed in quotation marks ```'  '```. In Python, quotation marks denote _strings_. A string is a data type which contains letter, numbers, punctuation, symbols and spaces. The ```plt.legend()``` function expects a list of strings. \n",
    "\n",
    "A list of strings is similar to a list of numbers. The list is defined using square brackets ```[ ]```. A list of strings needs to have each string enclosed in quotes ```'  '``` and separated by a comma ```,``` as in ```['string1','string2',string3']```. If there is only one line on a plot, only one string needs to be in the list strings passed to ```plt.legend()```. Even if there is only one string in a list, the square brackets used to define the list still need to be included (otherwise a simple string is defined, not a list of strings)."
   ]
  },
  {
   "cell_type": "code",
   "execution_count": 7,
   "metadata": {},
   "outputs": [
    {
     "data": {
      "image/png": "[encoded data removed]",
      "text/plain": [
       "<matplotlib.figure.Figure at 0x7f30e6f18940>"
      ]
     },
     "metadata": {},
     "output_type": "display_data"
    }
   ],
   "source": [
    "x = [0, 2, 4, 6]\n",
    "y = [1, 3, 4, 8]\n",
    "plt.plot(x,y)\n",
    "plt.xlabel('x values')\n",
    "plt.ylabel('y values')\n",
    "plt.title('plotted x and y values')\n",
    "plt.legend(['line 1'])\n",
    "plt.show()"
   ]
  },
  {
   "cell_type": "markdown",
   "metadata": {},
   "source": [
    "### Line Color, Line Width, Line Style, Line Opacity and Marker Options\n",
    "\n",
    "The color, width and style of lines and markers in a matplotlib plot can be customized. Line color, line width and line style are included as extra _key word arguments_ in the ```plt.plot()``` function call. A key word argument is a special type of argument passed into a function that must be stated explicitly by name. Regular arguments passed to functions are called _positional arguments_. Positional arguments need to be passed to the function in order, but their names do not need to be specified. In the code line below ```x``` and ```y``` are postional arguments and ```color``` is a key word argument.\n",
    "\n",
    "```\n",
    "plt.plot(x, y, color='r')\n",
    "```\n",
    "\n",
    "Examples of some of the keyword arguments that can be specified in a ```plt.plot()``` function call are in the table below:\n",
    "\n",
    "| Plot feature | plt.plot() keyword argument | Example |\n",
    "| --- | --- | --- |\n",
    "| width of line | ```linewidth``` | ```plt.plot(x, y, linewidth = 4)``` |\n",
    "| solid, dashed, dotted line | ```linestyle``` | ```plt.plot(x, y, linestyle = '-')``` |\n",
    "| line color | ```color``` | ```plt.plot(x, y, color = 'red')``` |\n",
    "| line opacity (transparency) | ```alpha``` | ```plt.plot(x, y, alpha = 0.5)``` |\n",
    "| marker shape | ```marker``` | ```plt.plot(x, y, marker = 'o')``` |\n",
    "\n",
    "\n",
    "The general format of a ```plt.plot()``` function call with lots of options specified is: \n",
    "\n",
    "```\n",
    "plt.plot(<x-data>,<y-data>,\n",
    "    linewideth=<float or int>,\n",
    "    linestyle='<linestyle abbreviation>',\n",
    "    color='<color abbreviation>', \n",
    "    marker='<marker abbreviation>')\n",
    "```\n",
    "\n",
    "An example ```plt.plot()``` line including line width, style, color, opacity  and marker type is: \n",
    "\n",
    "```\n",
    "plt.plot(x, y, linewidth=2.0, linestyle='+', color='b', alpha=0.5, marker='o')\n",
    "```\n",
    "\n",
    "#### linewidth\n",
    "Below is a list of linewidths (many other widths are also available)\n",
    "\n",
    "|```linewidth=<float or int>``` | Line Width |\n",
    "| --- | --- |\n",
    "| 0.5 | 0.5 pixels wide |\n",
    "| 1   | 1 pixel wide |\n",
    "| 1.5 | 1.5 pixels wide |\n",
    "| 2   | 2 pixels wide |\n",
    "| 3 | 3 pixels wide |\n",
    "\n",
    "#### line style\n",
    "Below is a list of line styles\n",
    "\n",
    "|```linestyle='<style abbreviation>'``` | Line Style |\n",
    "| --- | --- |\n",
    "|```'-'``` or ```'solid'``` | \tsolid line (default) |\n",
    "|```'--'``` or ```'dashed'``` | \tdashed line |\n",
    "|```'-.'``` or ```'dashdot'``` | \tdash-dot line |\n",
    "|```':'``` or ```'dotted'``` | \tdotted line |\n",
    "|```'None'``` or ```' '``` or ```''``` |\tno line |\n",
    "\n",
    "#### color\n",
    "Below is a list of color abbreviations. Note ```'b'``` is used for blue and ```'k'``` is used for black.\n",
    "\n",
    "| ```color ='<color abbreviation>'``` | Color Name |\n",
    "| --- | --- |\n",
    "| ```'b'``` | Blue\n",
    "| ```'c'``` | Cyan |\n",
    "| ```'g'``` | Green |\n",
    "| ```'k'``` | Black |\n",
    "| ```'m'``` | magenta |\n",
    "| ```'r'``` | Red |\n",
    "| ```'w'``` | White |\n",
    "| ```'y'``` | Yellow |\n",
    "\n",
    "Colors can also be specified in hexadecimal form surrounded by quotation marks like ```'#FF69B4'``` or in RGBA (red,green,blue,oppacity) color surounded by parenthesis like ```(255,182,193,0.5)```.\n",
    "\n",
    "| ```color ='<color abbreviation>'``` | Color Format |\n",
    "| --- | --- |\n",
    "| ```'#FF69B4'``` | hexadecimal |\n",
    "| ```(255,182,193,0.5)``` | RGBA |\n",
    "\n",
    "#### alpha\n",
    "Below is a list of alpha (opacity) values (any alpha value between 0.0 and 1.0 is possible)\n",
    "\n",
    "| ```alpha = <float or int>``` | Opacity |\n",
    "| --- | --- |\n",
    "| ```0``` | transparent |\n",
    "| ```0.5``` | Half transparent |\n",
    "| ```1.0``` | Opaque |\n",
    "\n",
    "#### marker shape\n",
    "Below is a list of maker styles\n",
    "\n",
    "|```marker='<marker abbreviation>'``` | Marker Style |\n",
    "| --- | --- |\n",
    "|```\".\"``` |\tpoint |\n",
    "|```\"o\"``` |\tcircle |\n",
    "|```\"v\"``` |\ttriangle_down |\n",
    "|```\"^\"``` |\ttriangle_up |\n",
    "|```\"s\"``` |\tsquare |\n",
    "|```\"*\"``` |\tstar |\n",
    "|```\"h\"``` |\thexagon |\n",
    "|```\"+\"``` |\tplus |\n",
    "|```\"P\"``` |\tfilled plus |\n",
    "|```\"x\"``` |\tx |\n",
    "|```\"X\"``` |\tfilled x|  \n",
    "|```\"D\"``` |\tdiamond |\n",
    "|```\"d\"```|\tthin diamond |\n",
    "\n",
    "In addition to ```marker='<marker style>'```, the color of the marker edge, the color of the marker face and the size of the marker can be specified with:\n",
    "\n",
    "```plt.plot( .... markeredgecolor='<color abbreviation>', markerfacecolor='<color abbreviation>', markersize=<float or int>....)```\n"
   ]
  },
  {
   "cell_type": "markdown",
   "metadata": {},
   "source": [
    "Let's customize our plot with:\n",
    "\n",
    " * line width of 0.5\n",
    " * dashed line\n",
    " * red line\n",
    " * circle markers\n",
    " * marker size of 10\n",
    " * marker face color mostly transparent (alpha = 0.1)\n",
    "\n",
    "We can do this with one ```plt.plot()``` function call:"
   ]
  },
  {
   "cell_type": "code",
   "execution_count": 8,
   "metadata": {},
   "outputs": [
    {
     "data": {
      "image/png": "[encoded data removed]",
      "text/plain": [
       "<matplotlib.figure.Figure at 0x7f30e44c2198>"
      ]
     },
     "metadata": {},
     "output_type": "display_data"
    }
   ],
   "source": [
    "x = [0, 2, 4, 6]\n",
    "y = [1, 3, 4, 8]\n",
    "\n",
    "plt.plot(x, y, linewidth=0.5, linestyle='--', color='r', marker='o', markersize=10, markerfacecolor=(1,0,0,0.1))\n",
    "plt.show()"
   ]
  },
  {
   "cell_type": "code",
   "execution_count": null,
   "metadata": {
    "collapsed": true
   },
   "outputs": [],
   "source": []
  }
 ],
 "metadata": {
  "kernelspec": {
   "display_name": "Python 3",
   "language": "python",
   "name": "python3"
  },
  "language_info": {
   "codemirror_mode": {
    "name": "ipython",
    "version": 3
   },
   "file_extension": ".py",
   "mimetype": "text/x-python",
   "name": "python",
   "nbconvert_exporter": "python",
   "pygments_lexer": "ipython3",
   "version": "3.6.4"
  }
 },
 "nbformat": 4,
 "nbformat_minor": 2
}
