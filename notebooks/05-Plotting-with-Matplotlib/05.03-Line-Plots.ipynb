{
 "cells": [
  {
   "cell_type": "markdown",
   "metadata": {},
   "source": [
    "## Line Plots"
   ]
  },
  {
   "cell_type": "markdown",
   "metadata": {},
   "source": [
    "Line plots in matplotlib can be created using matplotlib's pyplot library. To create a line plot with Python and matplotlib, first import matplotlib's pyplot library using the line:\n",
    "\n",
    "```python\n",
    "import matplot.pyplot as plt\n",
    "```\n",
    "\n",
    "It is common practice to use the alias ```plt``` for the ```matplotlib.pyplot``` library. Defining ```matplotlib.pyplot``` as ```plt``` allows us to use the syntax ```plt.<function name>``` instead of ```matplotlib.pyplot.<function name>``` in the rest of our code. See the differences below:\n",
    "\n",
    "Importing ```matplotlib.pyplot``` with no alias:\n",
    "\n",
    "```python\n",
    "import matplotlib.pyplot\n",
    "\n",
    "matplotlib.pyplot.plot(x, y)\n",
    "```\n",
    "\n",
    "Importing ```matplotlib.pyplot``` with the alias ```plt```:\n",
    "\n",
    "```python\n",
    "import matplotlib.pyplot as plt\n",
    "\n",
    "plt.plot(x, y)\n",
    "```\n",
    "\n",
    "Using the alias ```plt``` simplifies the code and cuts down the number of keystrokes needed to create a plot. Any alias can be used, such as ```import matplotlib.pyplot as RainbowUnicorn```, but the alias ```plt``` is the standard convention.\n",
    "\n",
    "\n",
    "If building matplotlib plots in a Jupyter notebook, include the line:\n",
    "\n",
    "```\n",
    "%matplotlib inline\n",
    "```\n",
    "\n",
    "Below the import line. The ```%matplotlib inline``` line will output matplotlib plots directly in Jupyter notebook output cells."
   ]
  },
  {
   "cell_type": "markdown",
   "metadata": {},
   "source": [
    "To build the first line plot, first import matplotlib. If using a jupyter notebook include the line ```%matplotlib inline```."
   ]
  },
  {
   "cell_type": "markdown",
   "metadata": {
    "collapsed": true
   },
   "source": [
    "```python\n",
    "import matplotlib.pyplot as plt\n",
    "# if using a Jupyter notebook, include:\n",
    "%matplotlib inline\n",
    "```"
   ]
  },
  {
   "cell_type": "markdown",
   "metadata": {},
   "source": [
    "Once matplotlib is imported, and plots are set to display in Jupyter notebook output cells, we need data to plot. We will create the data as a Python _list_. In Python, ```list``` is a built-in data structure which can store multiple values. Lists are defined in Python using square brackets ```[ ]```. The elements of a list are separated using commas ```[item1, item2, item 3]```.\n",
    "\n",
    "An example line of code to create a list of numbers in Python is below:\n",
    "\n",
    "```python\n",
    "a = [1, 3, 4, 8]\n",
    "```\n",
    "\n",
    "The numbers 1, 3, 4, and 8 are stored in a list. Once the list is defined, we can plot the values using matplotlib's ```plt.plot()``` function. To create a line plot, pass the list of numbers as an _argument_ to the ```plt.plot()``` function. Arguments are values passed to functions as input. The command ```plt.show()``` is needed at the end to show the plot. Make sure to include the double parenthesis ```()```."
   ]
  },
  {
   "cell_type": "code",
   "execution_count": 1,
   "metadata": {},
   "outputs": [
    {
     "data": {
      "image/png": "[encoded data removed]",
      "text/plain": [
       "<matplotlib.figure.Figure at 0x28271d30a58>"
      ]
     },
     "metadata": {},
     "output_type": "display_data"
    }
   ],
   "source": [
    "import matplotlib.pyplot as plt\n",
    "# if using a Jupyter notebook, include:\n",
    "%matplotlib inline\n",
    "\n",
    "a = [1, 3, 4, 8]\n",
    "plt.plot(a)\n",
    "plt.show()"
   ]
  },
  {
   "cell_type": "markdown",
   "metadata": {},
   "source": [
    "A line plot of the numbers 1, 3, 4, 8 is produced. Note the points 1, 3, 4, 8 are the y-values on the plot. The x-axis starts at zero and ends at three. Matplotlib automatically set the x-axis values, because only one list was supplied to ```plt.plot()```. Let's specify two lists, one for the x-values on the plot called ```x``` and one for the y-values on the plot called ```y```. With these two lists created, call ```plt.plot(x,y)``` and ```plt.show()``` and see the changes on a new plot."
   ]
  },
  {
   "cell_type": "code",
   "execution_count": 2,
   "metadata": {},
   "outputs": [
    {
     "data": {
      "image/png": "[encoded data removed]",
      "text/plain": [
       "<matplotlib.figure.Figure at 0x2827017c898>"
      ]
     },
     "metadata": {},
     "output_type": "display_data"
    }
   ],
   "source": [
    "import matplotlib.pyplot as plt\n",
    "# if using a Jupyter notebook, include:\n",
    "%matplotlib inline\n",
    "\n",
    "x = [0, 2, 4, 6]\n",
    "y = [1, 3, 4, 8]\n",
    "plt.plot(x,y)\n",
    "plt.show()"
   ]
  },
  {
   "cell_type": "markdown",
   "metadata": {},
   "source": [
    "A line plot with x-values 0, 2, 4, 6 is produced. By specifying two lists to ```plt.plot()```, we control both the x and y points shown in the line plot. The plot works, but it is pretty basic. In the next section, you will learn how to customize matplotlib plots."
   ]
  },
  {
   "cell_type": "markdown",
   "metadata": {},
   "source": [
    "## Customizing matplotlib plots\n",
    "\n",
    "Matplotlib plots can be customized in many ways. Let's build upon the previous example and add a couple of features to the line plot. These additional plot features include:\n",
    "\n",
    " * Axis Labels, Title, and Legend\n",
    " * Line Color, Line Width, Line Style, Line Opacity and Marker Options\n",
    "\n",
    "### Axis Labels, Title, and Legend\n",
    "\n",
    "Axis labels, a title, and a legend are added to line plots constructed with matplotlib. Each of these features is specified with a different matplotlib command.\n",
    "\n",
    "| Plot feature | matplotlib command | Example |\n",
    "| --- | --- | --- |\n",
    "| x-axis label | ```plt.xlabel()``` | ```plt.xlabel('time in seconds')``` |\n",
    "| x-axis limits | ```plt.xlim()``` | ```plt.xlim([0, 10])``` |\n",
    "| y-axis label | ```plt.ylabel()``` | ```plt.ylabel('distance in meters')``` |\n",
    "| y-axis limits | ```plt.ylim()``` | ```plt.ylim([-5, 5])``` |\n",
    "| title | ```plt.title()``` | ```plt.title('distance vs. time')``` |\n",
    "| legend | ```plt.legend()``` | ```plt.legend(['run 1'])``` |\n",
    "\n",
    "Note the words passed into the ```plt.xlabel()```, ```plt.ylabel()``` and ```plt.title()``` need to be enclosed in quotation marks ```'  '```. In Python, quotation marks denote _strings_. A string is a Python data type which contains letter, numbers, punctuation, symbols, and spaces. The ```plt.legend()``` function expects a _list of strings_. \n",
    "\n",
    "A list of strings is similar to a list of numbers. The list is defined using square brackets ```[ ]```. A list of strings needs to have each string enclosed in quotes ```'  '``` and separated by a comma ```,``` as in ```['string1','string2',string3']```. If there is only one line on a plot, only one string needs to be in the list strings passed to ```plt.legend()```. Even if there is only one string in a list, the square brackets used to define the list still need to be included (otherwise a simple string is defined, not a list of strings)."
   ]
  },
  {
   "cell_type": "code",
   "execution_count": 3,
   "metadata": {},
   "outputs": [
    {
     "data": {
      "image/png": "[encoded data removed]",
      "text/plain": [
       "<matplotlib.figure.Figure at 0x28270663358>"
      ]
     },
     "metadata": {},
     "output_type": "display_data"
    }
   ],
   "source": [
    "import matplotlib.pyplot as plt\n",
    "# if using a Jupyter notebook, include:\n",
    "%matplotlib inline\n",
    "\n",
    "x = [0, 2, 4, 6]\n",
    "y = [1, 3, 4, 8]\n",
    "plt.plot(x,y)\n",
    "plt.xlabel('x values')\n",
    "plt.xlim([-1,7])\n",
    "plt.ylabel('y values')\n",
    "plt.ylim([0,10])\n",
    "plt.title('plotted x and y values')\n",
    "plt.legend(['line 1'])\n",
    "plt.show()"
   ]
  },
  {
   "cell_type": "markdown",
   "metadata": {},
   "source": [
    "### Line Color, Line Width, Line Style, Line Opacity and Marker Options\n",
    "\n",
    "Line color, line width, line style, and markers options can be customized in a matplotlib plot. Line color, line width, and line style are included as extra _keyword arguments_ in the ```plt.plot()``` function call. A keyword argument is a special type of argument passed into a function that must be stated explicitly by name. Regular arguments passed to functions are called _positional arguments_. Positional arguments need to be passed to the function in order, but positional argument names do not need to be specified. In the code line below ```x``` and ```y``` are positional arguments and ```color='r'``` is a keyword argument. \n",
    "\n",
    "```python\n",
    "plt.plot(x, y, color='r')\n",
    "```\n",
    "\n",
    "Examples of some of the keyword arguments that can be specified in a ```plt.plot()``` function call are in the table below:\n",
    "\n",
    "| Plot feature | ```plt.plot()``` keyword argument | Example |\n",
    "| --- | --- | --- |\n",
    "| width of line | ```linewidth``` | ```plt.plot(x, y, linewidth = 4)``` |\n",
    "| solid, dashed, dotted line | ```linestyle``` | ```plt.plot(x, y, linestyle = '-')``` |\n",
    "| line color | ```color``` | ```plt.plot(x, y, color = 'red')``` |\n",
    "| line opacity (transparency) | ```alpha``` | ```plt.plot(x, y, alpha = 0.5)``` |\n",
    "| marker shape | ```marker``` | ```plt.plot(x, y, marker = 'o')``` |\n",
    "\n",
    "\n",
    "The general format of a ```plt.plot()``` function call with lots of options specified is: \n",
    "\n",
    "```python\n",
    "plt.plot(<x-data>,<y-data>,\n",
    "         linewideth=<float or int>,\n",
    "         linestyle='<linestyle abbreviation>',\n",
    "         color='<color abbreviation>', \n",
    "         marker='<marker abbreviation>')\n",
    "```\n",
    "\n",
    "An example ```plt.plot()``` line including line width, style, color, opacity  and marker type is: \n",
    "\n",
    "```python\n",
    "plt.plot(x, y, \n",
    "         linewidth=2.0,\n",
    "         linestyle='+',\n",
    "         color='b',\n",
    "         alpha=0.5,\n",
    "         marker='o')\n",
    "```\n",
    "\n",
    "#### line width\n",
    "Below is a list of line widths (many other widths are also available)\n",
    "\n",
    "|```linewidth=<float or int>``` | Line Width |\n",
    "| --- | --- |\n",
    "| 0.5 | 0.5 pixels wide |\n",
    "| 1   | 1 pixel wide |\n",
    "| 1.5 | 1.5 pixels wide |\n",
    "| 2   | 2 pixels wide |\n",
    "| 3 | 3 pixels wide |\n",
    "\n",
    "#### line style\n",
    "Below is a list of line styles\n",
    "\n",
    "|```linestyle='<style abbreviation>'``` | Line Style |\n",
    "| --- | --- |\n",
    "|```'-'``` or ```'solid'``` |     solid line (default) |\n",
    "|```'--'``` or ```'dashed'``` |     dashed line |\n",
    "|```'-.'``` or ```'dashdot'``` |     dash-dot line |\n",
    "|```':'``` or ```'dotted'``` |     dotted line |\n",
    "|```'None'``` or ```' '``` or ```''``` |    no line |\n",
    "\n",
    "#### color\n",
    "Below is a list of color abbreviations. Note ```'b'``` is the abbreviation for blue and ```'k'``` is the abbreviation for black.\n",
    "\n",
    "| ```color ='<color abbreviation>'``` | Color Name |\n",
    "| --- | --- |\n",
    "| ```'b'``` | Blue\n",
    "| ```'c'``` | Cyan |\n",
    "| ```'g'``` | Green |\n",
    "| ```'k'``` | Black |\n",
    "| ```'m'``` | magenta |\n",
    "| ```'r'``` | Red |\n",
    "| ```'w'``` | White |\n",
    "| ```'y'``` | Yellow |\n",
    "\n",
    "\n",
    "#### color format\n",
    "Colors can also be specified in hexadecimal form surrounded by quotation marks like ```'#FF69B4'``` or in RGBA (red,green,blue,opacity) color surrounded by parenthesis like ```(255,182,193,0.5)```.\n",
    "\n",
    "| ```color ='<color abbreviation>'``` | Color Format |\n",
    "| --- | --- |\n",
    "| ```'#FF69B4'``` | hexadecimal |\n",
    "| ```(255,182,193,0.5)``` | RGBA |\n",
    "\n",
    "#### alpha (opacity)\n",
    "Below is a list of alpha (opacity) values (any alpha value between 0.0 and 1.0 is possible)\n",
    "\n",
    "| ```alpha = <float or int>``` | Opacity |\n",
    "| --- | --- |\n",
    "| ```0``` | transparent |\n",
    "| ```0.5``` | Half transparent |\n",
    "| ```1.0``` | Opaque |\n",
    "\n",
    "#### marker shape\n",
    "Below is a list of maker styles\n",
    "\n",
    "|```marker='<marker abbreviation>'``` | Marker Style |\n",
    "| --- | --- |\n",
    "|```\".\"``` |    point |\n",
    "|```\"o\"``` |    circle |\n",
    "|```\"v\"``` |    triangle_down |\n",
    "|```\"^\"``` |    triangle_up |\n",
    "|```\"s\"``` |    square |\n",
    "|```\"*\"``` |    star |\n",
    "|```\"h\"``` |    hexagon |\n",
    "|```\"+\"``` |    plus |\n",
    "|```\"P\"``` |    filled plus |\n",
    "|```\"x\"``` |    x |\n",
    "|```\"X\"``` |    filled x|  \n",
    "|```\"D\"``` |    diamond |\n",
    "|```\"d\"```|    thin diamond |\n",
    "\n",
    "In addition to ```marker='<marker style>'```, marker edge color, marker face color, and marker size can be specified with:\n",
    "\n",
    "```python\n",
    "plt.plot(x,y,\n",
    "         ...\n",
    "         markeredgecolor='<color abbreviation>',\n",
    "         markerfacecolor='<color abbreviation>',\n",
    "         markersize=<float or int>)\n",
    "```\n"
   ]
  },
  {
   "cell_type": "markdown",
   "metadata": {},
   "source": [
    "To construct a matplotlib line plot with:\n",
    "\n",
    " * line width of 0.5\n",
    " * dashed line\n",
    " * red line\n",
    " * circle markers\n",
    " * marker size of 10\n",
    " * marker face color mostly transparent (alpha = 0.1)\n",
    "\n",
    "The one long ```plt.plot()``` function call is below. Note how the keyword arguments are separated by commas and are on different lines. Separate lines are not necessary but do improve the readability of the code."
   ]
  },
  {
   "cell_type": "code",
   "execution_count": 4,
   "metadata": {},
   "outputs": [
    {
     "data": {
      "image/png": "[encoded data removed]",
      "text/plain": [
       "<matplotlib.figure.Figure at 0x282726334a8>"
      ]
     },
     "metadata": {},
     "output_type": "display_data"
    }
   ],
   "source": [
    "import matplotlib.pyplot as plt\n",
    "# if using a Jupyter notebook, include:\n",
    "%matplotlib inline\n",
    "\n",
    "x = [0, 2, 4, 6]\n",
    "y = [1, 3, 4, 8]\n",
    "\n",
    "plt.plot(x, y,\n",
    "         linewidth=0.5,\n",
    "         linestyle='--',\n",
    "         color='r',\n",
    "         marker='o',\n",
    "         markersize=10,\n",
    "         markerfacecolor=(1,0,0,0.1))\n",
    "\n",
    "plt.show()"
   ]
  },
  {
   "cell_type": "markdown",
   "metadata": {},
   "source": [
    "The plot produced contains a thin 0.5 width dashed red line. The plot's line markers are 10pt in size, mostly transparent, and red. This plot looks good. However, to include the plot in a report or presentation, the plot must be saved as an image file. The next section details how matplotlib plots can be saved in a variety of file formats. "
   ]
  },
  {
   "cell_type": "code",
   "execution_count": null,
   "metadata": {
    "collapsed": true
   },
   "outputs": [],
   "source": []
  }
 ],
 "metadata": {
  "kernelspec": {
   "display_name": "Python 3",
   "language": "python",
   "name": "python3"
  },
  "language_info": {
   "codemirror_mode": {
    "name": "ipython",
    "version": 3
   },
   "file_extension": ".py",
   "mimetype": "text/x-python",
   "name": "python",
   "nbconvert_exporter": "python",
   "pygments_lexer": "ipython3",
   "version": "3.6.4"
  }
 },
 "nbformat": 4,
 "nbformat_minor": 2
}
