{
 "cells": [
  {
   "cell_type": "markdown",
   "metadata": {},
   "source": [
    "## Line Plots"
   ]
  },
  {
   "cell_type": "markdown",
   "metadata": {},
   "source": [
    "Line plots in Matplotlib can be created using Matplotlib's ```pyplot``` library. To create a line plot with Python and Matplotlib, first import Matplotlib's ```pyplot``` library using the line:\n",
    "\n",
    "```python\n",
    "import matplotlib.pyplot as plt\n",
    "```\n",
    "\n",
    "It is common practice to use the alias ```plt``` for the ```matplotlib.pyplot``` library. Defining ```matplotlib.pyplot``` as ```plt``` allows us to use the syntax ```plt.<function name>``` instead of ```matplotlib.pyplot.<function name>``` in the rest of our code. See the differences below:\n",
    "\n",
    "Importing ```matplotlib.pyplot``` with no alias:\n",
    "\n",
    "```python\n",
    "import matplotlib.pyplot\n",
    "\n",
    "matplotlib.pyplot.plot(x, y)\n",
    "```\n",
    "\n",
    "Importing ```matplotlib.pyplot``` with the alias ```plt```:\n",
    "\n",
    "```python\n",
    "import matplotlib.pyplot as plt\n",
    "\n",
    "plt.plot(x, y)\n",
    "```\n",
    "\n",
    "Using the alias ```plt``` simplifies the code and cuts down the number of keystrokes needed to create a plot. Any alias can be used, such as ```import matplotlib.pyplot as RainbowUnicorn```, but the alias ```plt``` is standard convention.\n",
    "\n",
    "\n",
    "If building Matplotlib plots in a Jupyter notebook, include the line:\n",
    "\n",
    "```python\n",
    "%matplotlib inline\n",
    "```\n",
    "\n",
    "below the import line. The ```%matplotlib inline``` command will output Matplotlib plots directly in Jupyter notebook output cells. Note that ```%matplotlib inline``` is not valid Python code and can only be used in a Jupyter notebook, not in a ```.py``` file. "
   ]
  },
  {
   "cell_type": "markdown",
   "metadata": {},
   "source": [
    "To build our the first line plot, first import Matplotlib. If using a jupyter notebook include the line ```%matplotlib inline```. Remember to only use ```%matplotlib inline``` if using a Jupyter notebook."
   ]
  },
  {
   "cell_type": "markdown",
   "metadata": {
    "collapsed": true
   },
   "source": [
    "```python\n",
    "import matplotlib.pyplot as plt\n",
    "# if using a Jupyter notebook, include:\n",
    "%matplotlib inline\n",
    "```"
   ]
  },
  {
   "cell_type": "markdown",
   "metadata": {},
   "source": [
    "After Matplotlib is imported, we need create data to plot. We will create the data as a Python _list_. In Python, a ```list``` is a built-in data structure which can store multiple values. Lists are defined in Python using square brackets ```[ ]```. The elements of a list are separated by commas ```[item1, item2, item 3]```.\n",
    "\n",
    "The line of Python code below creates a list of four numbers:\n",
    "\n",
    "```python\n",
    "a = [1, 3, 4, 8]\n",
    "```\n",
    "\n",
    "After the list of numbers is defined, we can plot the values using Matplotlib's ```plt.plot()``` function. To create a line plot, pass the list of numbers as an _argument_ to the ```plt.plot()``` function. Arguments are values passed to functions as input. The command ```plt.show()``` is needed at the end to show the plot. Make sure to include the double parenthesis ```()```."
   ]
  },
  {
   "cell_type": "code",
   "execution_count": 1,
   "metadata": {},
   "outputs": [
    {
     "data": {
      "image/png": "[encoded data removed]",
      "text/plain": [
       "<Figure size 432x288 with 1 Axes>"
      ]
     },
     "metadata": {
      "needs_background": "light"
     },
     "output_type": "display_data"
    }
   ],
   "source": [
    "import matplotlib.pyplot as plt\n",
    "# if using a Jupyter notebook, include:\n",
    "%matplotlib inline\n",
    "\n",
    "a = [1, 3, 4, 8]\n",
    "plt.plot(a)\n",
    "plt.show()"
   ]
  },
  {
   "cell_type": "markdown",
   "metadata": {},
   "source": [
    "A line plot of the numbers 1, 3, 4, 8 is produced. Note the points 1, 3, 4, 8 are the y-values on the plot. The x-axis starts at zero and ends at three. Matplotlib automatically set the x-axis values, because only one list was supplied to ```plt.plot()```. \n",
    "\n",
    "Let's specify two lists, one for the x-values on the plot called ```x``` and one for the y-values on the plot called ```y```. With these two lists created, call ```plt.plot(x,y)``` and ```plt.show()``` and see the changes on a new plot."
   ]
  },
  {
   "cell_type": "code",
   "execution_count": 2,
   "metadata": {},
   "outputs": [
    {
     "data": {
      "image/png": "[encoded data removed]",
      "text/plain": [
       "<Figure size 432x288 with 1 Axes>"
      ]
     },
     "metadata": {
      "needs_background": "light"
     },
     "output_type": "display_data"
    }
   ],
   "source": [
    "import matplotlib.pyplot as plt\n",
    "# if using a Jupyter notebook, include:\n",
    "%matplotlib inline\n",
    "\n",
    "x = [0, 2, 4, 6]\n",
    "y = [1, 3, 4, 8]\n",
    "\n",
    "plt.plot(x,y)\n",
    "plt.show()"
   ]
  },
  {
   "cell_type": "markdown",
   "metadata": {},
   "source": [
    "A line plot with x-values 0, 2, 4, 6 is produced. By specifying two lists to ```plt.plot()```, we control both the x and y points shown in the line plot."
   ]
  },
  {
   "cell_type": "markdown",
   "metadata": {},
   "source": [
    "So far, the two plots we made are pretty basic. Lucky for us, Matplotlib has a vast array of customization options. You can customize and modify almost every part of the Matplotlib plot. The next section addresses customizing Matplotlib plots."
   ]
  }
 ],
 "metadata": {
  "kernelspec": {
   "display_name": "Python 3",
   "language": "python",
   "name": "python3"
  },
  "language_info": {
   "codemirror_mode": {
    "name": "ipython",
    "version": 3
   },
   "file_extension": ".py",
   "mimetype": "text/x-python",
   "name": "python",
   "nbconvert_exporter": "python",
   "pygments_lexer": "ipython3",
   "version": "3.7.4"
  }
 },
 "nbformat": 4,
 "nbformat_minor": 2
}
