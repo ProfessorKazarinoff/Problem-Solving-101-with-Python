{
 "cells": [
  {
   "cell_type": "markdown",
   "metadata": {},
   "source": [
    "## Customizing Plots"
   ]
  },
  {
   "cell_type": "markdown",
   "metadata": {},
   "source": [
    "Matplotlib plots can be customized in many ways. Let's build upon the examples in the previous section and add a few features to our line plot. These additional plot features include:\n",
    "\n",
    " * Axis Labels, Title, and Legend\n",
    " * Line Color, Line Width, Line Style, Line Opacity and Marker Options\n",
    "\n",
    "### Axis Labels, Title, and Legend\n",
    "\n",
    "You can add axis labels, a title, and a legend to line plots constructed with Matplotlib. Each of these features is specified with a different Matplotlib command.\n",
    "\n",
    "| Plot feature | Matplotlib command | Example |\n",
    "| --- | --- | --- |\n",
    "| x-axis label | ```plt.xlabel()``` | ```plt.xlabel('time in seconds')``` |\n",
    "| x-axis limits | ```plt.xlim()``` | ```plt.xlim([0, 10])``` |\n",
    "| y-axis label | ```plt.ylabel()``` | ```plt.ylabel('distance in meters')``` |\n",
    "| y-axis limits | ```plt.ylim()``` | ```plt.ylim([-5, 5])``` |\n",
    "| title | ```plt.title()``` | ```plt.title('Distance vs. Time')``` |\n",
    "| legend | ```plt.legend()``` | ```plt.legend(['run 1'])``` |\n",
    "\n",
    "Note the words passed into the ```plt.xlabel()```, ```plt.ylabel()``` and ```plt.title()``` need to be enclosed in quotation marks ```'  '```. In Python, quotation marks denote _strings_. A string is a Python data type which contains letter, numbers, punctuation, symbols, and spaces. The ```plt.legend()``` function expects a _list of strings_. \n",
    "\n",
    "A list of strings is similar to a list of numbers. The list is defined using square brackets ```[ ]```. A list of strings needs to have each string enclosed in quotes ```'  '``` and separated by a comma. If there is only one line on a plot, only one string needs to be in the list of strings passed to ```plt.legend()```. Even if there is only one string in a list, the square brackets used to define the list still need to be included.\n",
    "\n",
    "The code section below creates a line plot that contains a title, axis labels, axis limits and a legend."
   ]
  },
  {
   "cell_type": "code",
   "execution_count": 1,
   "metadata": {},
   "outputs": [
    {
     "data": {
      "image/png": "[encoded data removed]",
      "text/plain": [
       "<Figure size 432x288 with 1 Axes>"
      ]
     },
     "metadata": {
      "needs_background": "light"
     },
     "output_type": "display_data"
    }
   ],
   "source": [
    "import matplotlib.pyplot as plt\n",
    "# if using a Jupyter notebook, include:\n",
    "%matplotlib inline\n",
    "\n",
    "x = [0, 2, 4, 6]\n",
    "y = [1, 3, 4, 8]\n",
    "\n",
    "plt.plot(x,y)\n",
    "plt.xlabel('x values')\n",
    "plt.xlim([-1,7])\n",
    "plt.ylabel('y values')\n",
    "plt.ylim([0,10])\n",
    "plt.title('plotted x and y values')\n",
    "plt.legend(['line 1'])\n",
    "\n",
    "plt.show()"
   ]
  },
  {
   "cell_type": "markdown",
   "metadata": {},
   "source": [
    "In the next section, we will discuss additional plot customization options."
   ]
  },
  {
   "cell_type": "markdown",
   "metadata": {},
   "source": [
    "### Line Color, Line Width, Line Style, Line Opacity and Marker Options\n",
    "\n",
    "Line color, line width, line style, and markers options can be customized in a Matplotlib plot. Line color, line width, and line style are included as extra _keyword arguments_ in the ```plt.plot()``` function call. A keyword argument is a special type of argument passed into a function that must be stated explicitly by name. Regular arguments passed to functions are called _positional arguments_. Positional arguments need to be passed to the function in the correct order, but positional argument names do not need to be specified.\n",
    "\n",
    "In the code line below ```x``` and ```y``` are positional arguments and ```color='r'``` is a keyword argument. \n",
    "\n",
    "```python\n",
    "plt.plot(x, y, color='r')\n",
    "```\n",
    "\n",
    "Examples of some of the keyword arguments that can be specified in a ```plt.plot()``` function call are in the table below:\n",
    "\n",
    "| Plot feature | ```plt.plot()``` keyword argument | Example |\n",
    "| --- | --- | --- |\n",
    "| width of line | ```linewidth=``` | ```plt.plot(x, y, linewidth = 4)``` |\n",
    "| solid, dashed, dotted line | ```linestyle=``` | ```plt.plot(x, y, linestyle = '-')``` |\n",
    "| line color | ```color=``` | ```plt.plot(x, y, color = 'red')``` |\n",
    "| line opacity (transparency) | ```alpha=``` | ```plt.plot(x, y, alpha = 0.5)``` |\n",
    "| marker shape | ```marker=``` | ```plt.plot(x, y, marker = 'o')``` |\n"
   ]
  },
  {
   "cell_type": "markdown",
   "metadata": {},
   "source": [
    "The general format of a ```plt.plot()``` function call with many customization options is below. \n",
    "\n",
    "```python\n",
    "plt.plot(<x-data>,<y-data>,\n",
    "         linewideth=<float or int>,\n",
    "         linestyle='<linestyle abbreviation>',\n",
    "         color='<color abbreviation>', \n",
    "         marker='<marker abbreviation>')\n",
    "```\n",
    "\n",
    "An example ```plt.plot()``` line including line width, style, color, opacity  and marker type is below. \n",
    "\n",
    "```python\n",
    "plt.plot(x, y, \n",
    "         linewidth=2.0,\n",
    "         linestyle='+',\n",
    "         color='b',\n",
    "         alpha=0.5,\n",
    "         marker='o')\n",
    "```\n",
    "\n",
    "#### line width\n",
    "Below is a list of line widths (many other widths are also available).\n",
    "\n",
    "|```linewidth=<float or int>``` | Line Width |\n",
    "| --- | --- |\n",
    "| 0.5 | 0.5 pixels wide |\n",
    "| 1   | 1 pixel wide |\n",
    "| 1.5 | 1.5 pixels wide |\n",
    "| 2   | 2 pixels wide |\n",
    "| 3 | 3 pixels wide |\n",
    "\n",
    "#### line style\n",
    "Below is a list of line styles.\n",
    "\n",
    "|```linestyle='<style abbreviation>'``` | Line Style |\n",
    "| --- | --- |\n",
    "|```'-'``` or ```'solid'``` |     solid line (default) |\n",
    "|```'--'``` or ```'dashed'``` |     dashed line |\n",
    "|```'-.'``` or ```'dashdot'``` |     dash-dot line |\n",
    "|```':'``` or ```'dotted'``` |     dotted line |\n",
    "|```'None'``` or ```' '``` or ```''``` |    no line |\n",
    "\n",
    "#### color\n",
    "Below is a list of color abbreviations. Note ```'b'``` is the abbreviation for blue and ```'k'``` is the abbreviation for black.\n",
    "\n",
    "| ```color='<color abbreviation>'``` | Color Name |\n",
    "| --- | --- |\n",
    "| ```'b'``` | Blue\n",
    "| ```'c'``` | Cyan |\n",
    "| ```'g'``` | Green |\n",
    "| ```'k'``` | Black |\n",
    "| ```'m'``` | magenta |\n",
    "| ```'r'``` | Red |\n",
    "| ```'w'``` | White |\n",
    "| ```'y'``` | Yellow |\n",
    "\n",
    "\n",
    "#### color format\n",
    "Colors can also be specified in hexadecimal form surrounded by quotation marks like ```'#FF69B4'``` or in RGBA (red,green,blue,opacity) color surrounded by parenthesis like ```(255,182,193,0.5)```.\n",
    "\n",
    "| ```color='<color abbreviation>'``` | Color Format |\n",
    "| --- | --- |\n",
    "| ```'#FF69B4'``` | hexadecimal |\n",
    "| ```(255,182,193,0.5)``` | RGBA |\n",
    "\n",
    "#### alpha (opacity)\n",
    "Below is a list of alpha (opacity) values (any alpha value between 0.0 and 1.0 is possible).\n",
    "\n",
    "| ```alpha=<float or int>``` | Opacity |\n",
    "| --- | --- |\n",
    "| ```0``` | transparent |\n",
    "| ```0.5``` | Half transparent |\n",
    "| ```1.0``` | Opaque |\n",
    "\n",
    "#### marker shape\n",
    "Below is a list of maker shapes.\n",
    "\n",
    "|```marker='<marker abbreviation>'``` | Marker Shape |\n",
    "| --- | --- |\n",
    "|```'.'``` | point |\n",
    "|```'o'``` | circle |\n",
    "|```'v'``` | triangle down |\n",
    "|```'^'``` | triangle up |\n",
    "|```'s'``` | square |\n",
    "|```'*'``` | star |\n",
    "|```'h'``` | hexagon |\n",
    "|```'+'``` | plus |\n",
    "|```'P'``` | filled plus |\n",
    "|```'x'``` | x |\n",
    "|```'X'``` | filled x|  \n",
    "|```'D'``` | diamond |\n",
    "|```'d'```| thin diamond |\n",
    "\n",
    "In addition to ```marker='<marker abbreviation>'```, marker edge color, marker face color, and marker size can be specified with:\n",
    "\n",
    "```python\n",
    "plt.plot(x,y,\n",
    "         ...\n",
    "         markeredgecolor='<color abbreviation>',\n",
    "         markerfacecolor='<color abbreviation>',\n",
    "         markersize=<float or int>)\n",
    "```\n",
    "\n",
    "Colors can be specified as strings (such as ```'red'```), RGBA format (such as ```(255,0,0,0)```) or hexadecimal (such as ```'FF69B4'```)\n"
   ]
  },
  {
   "cell_type": "markdown",
   "metadata": {},
   "source": [
    "### Customized Line Plot Example\n",
    "\n",
    "Next, let's construct a plot with Matplotlib that utilizes a couple of customization options. Our line plot will include the following options:\n",
    "\n",
    " * line width of 0.5\n",
    " * dashed line\n",
    " * red line\n",
    " * circle markers\n",
    " * marker size of 10\n",
    " * marker face mostly transparent (alpha = 0.1)\n",
    "\n",
    "The one long ```plt.plot()``` function call is below. Note how the keyword arguments are separated by commas and are on different lines. Separate lines are not necessary but do improve the readability of the code."
   ]
  },
  {
   "cell_type": "code",
   "execution_count": 2,
   "metadata": {},
   "outputs": [
    {
     "data": {
      "image/png": "[encoded data removed]",
      "text/plain": [
       "<Figure size 432x288 with 1 Axes>"
      ]
     },
     "metadata": {
      "needs_background": "light"
     },
     "output_type": "display_data"
    }
   ],
   "source": [
    "import matplotlib.pyplot as plt\n",
    "# if using a Jupyter notebook, include:\n",
    "%matplotlib inline\n",
    "\n",
    "x = [0, 2, 4, 6]\n",
    "y = [1, 3, 4, 8]\n",
    "\n",
    "plt.plot(x, y,\n",
    "         linewidth=0.5,\n",
    "         linestyle='--',\n",
    "         color='r',\n",
    "         marker='o',\n",
    "         markersize=10,\n",
    "         markerfacecolor=(1,0,0,0.1))\n",
    "\n",
    "plt.show()"
   ]
  },
  {
   "cell_type": "markdown",
   "metadata": {},
   "source": [
    "The plot produced contains a thin 0.5pt width dashed red line. The plot's line markers are 10pt in size, mostly transparent, and red. \n",
    "\n",
    "This plot looks good. However, if we want to include the plot in a report or presentation, the plot must be saved as an image file. The next section details how Matplotlib plots can be saved in a variety of file formats. "
   ]
  }
 ],
 "metadata": {
  "kernelspec": {
   "display_name": "Python 3",
   "language": "python",
   "name": "python3"
  },
  "language_info": {
   "codemirror_mode": {
    "name": "ipython",
    "version": 3
   },
   "file_extension": ".py",
   "mimetype": "text/x-python",
   "name": "python",
   "nbconvert_exporter": "python",
   "pygments_lexer": "ipython3",
   "version": "3.7.4"
  }
 },
 "nbformat": 4,
 "nbformat_minor": 2
}
