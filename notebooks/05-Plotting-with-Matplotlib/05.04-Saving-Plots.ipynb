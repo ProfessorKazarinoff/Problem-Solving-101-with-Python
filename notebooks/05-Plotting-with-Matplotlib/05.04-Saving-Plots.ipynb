{
 "cells": [
  {
   "cell_type": "markdown",
   "metadata": {},
   "source": [
    "## Saving plots"
   ]
  },
  {
   "cell_type": "markdown",
   "metadata": {},
   "source": [
    "Matplotlib plots can be saved with the ```plt.savefig()``` function. The ```plt.savefig()``` function needs to be called right above the ```plt.show()``` line. All the features of the plot must be specified before the plot is saved as an image file. If the figure is saved after the ```plt.show()``` command, the figure will not be saved until the plot window is closed. This can be problematic when building plots in a Jupyter notebook with ```%matplotlib inline``` enabled. \n",
    "\n",
    "A standard save fig command is:\n",
    "\n",
    "```\n",
    "plt.savefig('plot.png', dpi=300, bbox_inches='tight')\n",
    "```\n",
    "\n",
    "Where ```'plot.png'``` is the name of the saved image. Matplotlib will infer the image file format (.png, .jpg, etc) based on the extension specified as part of the file name. \n",
    "\n",
    "The keyword argument ```dpi=``` specifies how many dots per inch the saved (saved image resolution). ```dpi=72``` is fine for web images. ```dpi=300``` is probably better for an image designed to go in a written report or .pdf. \n",
    "\n",
    "The keyword argument ```bbox_inches='tight'``` is optional. If the axis labels in the plot are cut off in the saved image, set ```bbox_inches='tight'```.\n",
    "\n",
    "The following code saves one of the line plots from the previous section to the image file: **_plot.png_**"
   ]
  },
  {
   "cell_type": "code",
   "execution_count": 1,
   "metadata": {},
   "outputs": [
    {
     "data": {
      "image/png": "[encoded data removed]",
      "text/plain": [
       "<matplotlib.figure.Figure at 0x29a2fbad278>"
      ]
     },
     "metadata": {},
     "output_type": "display_data"
    }
   ],
   "source": [
    "import matplotlib.pyplot as plt\n",
    "# if using a Jupyter notebook, include:\n",
    "%matplotlib inline\n",
    "\n",
    "x = [0, 2, 4, 6]\n",
    "y = [1, 3, 4, 8]\n",
    "plt.plot(x,y)\n",
    "plt.xlabel('x values')\n",
    "plt.ylabel('y values')\n",
    "plt.title('plotted x and y values')\n",
    "plt.legend(['line 1'])\n",
    "\n",
    "#save the figure\n",
    "plt.savefig('plot.png', dpi=300, bbox_inches='tight')\n",
    "\n",
    "plt.show()"
   ]
  },
  {
   "cell_type": "code",
   "execution_count": null,
   "metadata": {
    "collapsed": true
   },
   "outputs": [],
   "source": []
  }
 ],
 "metadata": {
  "kernelspec": {
   "display_name": "Python 3",
   "language": "python",
   "name": "python3"
  },
  "language_info": {
   "codemirror_mode": {
    "name": "ipython",
    "version": 3
   },
   "file_extension": ".py",
   "mimetype": "text/x-python",
   "name": "python",
   "nbconvert_exporter": "python",
   "pygments_lexer": "ipython3",
   "version": "3.6.4"
  }
 },
 "nbformat": 4,
 "nbformat_minor": 2
}
