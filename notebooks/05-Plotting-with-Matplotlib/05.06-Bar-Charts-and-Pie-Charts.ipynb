{
 "cells": [
  {
   "cell_type": "markdown",
   "metadata": {},
   "source": [
    "## Bar Plots"
   ]
  },
  {
   "cell_type": "markdown",
   "metadata": {},
   "source": [
    "Bar plots in **matplotlib** can be created using **matplotlib's** **pyplot** library"
   ]
  },
  {
   "cell_type": "markdown",
   "metadata": {},
   "source": [
    "To contstruct a bar plot using **matplotlib**, first import matplotlib. If using a jupyter notebook include the line ```%matplotlib inline```"
   ]
  },
  {
   "cell_type": "code",
   "execution_count": 1,
   "metadata": {
    "collapsed": true
   },
   "outputs": [],
   "source": [
    "import matplotlib.pyplot as plt\n",
    "import numpy as np\n",
    "%matplotlib inline"
   ]
  },
  {
   "cell_type": "markdown",
   "metadata": {},
   "source": [
    "To create a bar chart using matplotlib, we need some data. In this case the data is from a set of __coefficient of thermal expansion__ measurements. The coefficient of thermal expansion (CTE) is a material property that describes how much a material will change in length as a result of a change in temperature. Different materials have different CTE's and we can use the data to determine which material will expand the most if all three are heated up to the same temperature (assuming all three start at the same temperature). Below is a list of 3 materials and their corresponding CTE.\n",
    "\n",
    " * Aluminum CTE ~ $24 \\times 10^{-6} \\  *C^{-1}$\n",
    " * Copper CTE ~ $17 \\times 10^{-6} \\  *C^{-1}$\n",
    " * Steel CTE ~ $12 \\times 10^{-6} \\  *C^{-1}$\n",
    "\n",
    "To build a bar chart, first we create a list of the names of the materials and a list of the coefficients of thermal expansion. We also need a list of bar positions. This seems sort of strange, but the ```plt.bar()``` method needs to know where along the x-axis to put the bars. The ```ax.bar()``` method requires two positional arguments:\n",
    "\n",
    "```\n",
    "plt.bar([list of bar positions],[list of bar heights])\n",
    "```\n",
    "\n",
    "If we just pass in the list of bar heights, we'll be thrown an error."
   ]
  },
  {
   "cell_type": "code",
   "execution_count": 1,
   "metadata": {
    "collapsed": true
   },
   "outputs": [],
   "source": [
    "# define the bar labels, heights, and postions\n",
    "materials = ['Aluminum', 'Copper', 'Steel']\n",
    "heights = [24e-6, 17e-6, 12e-6]\n",
    "x_pos = [1, 2, 3]"
   ]
  },
  {
   "cell_type": "markdown",
   "metadata": {},
   "source": [
    "Next we build the plot and pass in the list of bar position ```x_pos``` and list of bar heights ```heights``` as positional arguments (they have to be in the right order) to the ```plt.bar()``` function."
   ]
  },
  {
   "cell_type": "code",
   "execution_count": 31,
   "metadata": {},
   "outputs": [
    {
     "data": {
      "image/png": "[encoded data removed]",
      "text/plain": [
       "<matplotlib.figure.Figure at 0x7f30e462e3c8>"
      ]
     },
     "metadata": {},
     "output_type": "display_data"
    }
   ],
   "source": [
    "# Build the plot\n",
    "plt.bar(x_pos,heights)\n",
    "plt.show()"
   ]
  },
  {
   "cell_type": "markdown",
   "metadata": {},
   "source": [
    "Let's add some details to our bar plot by specifying the bar labels and where to put those labels. We'll also decrease the opacity of the bars to make the plot look slightly different.  Besides changing opacity, there are number of other keyword arguments we can add to the ```plt.bar()``` function call to modify the plot. A table of a few of the ```plt.bar()``` keyword arguments is below:\n",
    "\n",
    "| bar plot feature | plt.bar() keyword argument | Example |\n",
    "| --- | --- | --- |\n",
    "| color of the bars | ```color``` | ```plt.bar(x_pos, heights, color = 'g')``` |\n",
    "| color of bar outlines | ```edgecolor``` | ```plt.edgecolor(x_pos, heights, edgecolor = 'k')``` |\n",
    "| thickness of bar outlines | ```linewidth``` | ```plt.bar(x_pos, heights, linewidth = 3)``` |\n",
    "| y error bar heights  | ```yerr``` | ```plt.bar(x_pos, heights, yerr = [0.1, 0.3, 0.2])``` |\n",
    "| width of error bar caps | ```capsize``` | ```plt.bar(x_pos, heights, capsize = 5)``` |\n",
    "\n",
    "\n",
    "Assuming ```x_pos``` is a list of x-positions for the bars, and ```heights``` is a list of bar heights, an example ```plt.bar()``` function call might be:\n",
    "\n",
    "```\n",
    "plt.bar(x_pos, heights, color='b', edgecolor='k', linewidth=4, yerr=[0.1, 0.3, 0.1], capsize=5)\n",
    "```\n",
    "\n",
    "Labels can be added to the bar plot with the same ```plt``` functions used to customize line plots. These include\n"
   ]
  },
  {
   "cell_type": "code",
   "execution_count": 15,
   "metadata": {},
   "outputs": [
    {
     "data": {
      "image/png": "[encoded data removed]",
      "text/plain": [
       "<matplotlib.figure.Figure at 0x21bc8e3f860>"
      ]
     },
     "metadata": {},
     "output_type": "display_data"
    }
   ],
   "source": [
    "# bar plot\n",
    "import numpy as np\n",
    "import matplotlib.pyplot as plt\n",
    "%matplotlib inline\n",
    "\n",
    "materials = ['Aluminum', 'Copper', 'Steel']\n",
    "CTEs = [24e-6, 17e-6, 12e-6]\n",
    "bar_pos = [1,2,3]\n",
    "\n",
    "plt.bar(bar_pos, CTEs, alpha=0.5)\n",
    "plt.ylabel('CTE (1/*C)')\n",
    "plt.xlabel('Metals')\n",
    "plt.xticks([1,2,3], materials)\n",
    "plt.grid(axis='y')\n",
    "plt.title('Coefficients of Thermal Expanion of three metals')\n",
    "\n",
    "plt.show()"
   ]
  },
  {
   "cell_type": "markdown",
   "metadata": {},
   "source": [
    "## Pie Charts\n",
    "\n",
    "Matplotlib can produce pie charts with the ```plt.pie()``` function. Decimal percentages or any list of floats and integers can be used to make a pie chart."
   ]
  },
  {
   "cell_type": "markdown",
   "metadata": {},
   "source": [
    "For a manufactured item cost can be broken down to engineering (including design), manufacturing (including raw materials), sales (including marketing) and profit.\n",
    "\n",
    "If these costs for an $9.00 microcontroller are\n",
    "\n",
    " * Engineering 1.35\n",
    " * Manufacturing 3.60\n",
    " * Sales 2.25 \n",
    " * Profit 1.80\n",
    " \n",
    "We can build a pie chart that shows this breakdown with ```plt.pie()```. ```labels=``` is a keyword argument in the ```plt.pie()``` fuction call to show labels on our pie chart. The only required positional argument is a list of the sizes for the pie pieces.\n",
    "\n",
    "For pie charts in matplotlib, it is important to include the line ```plt.axis('equal')```. This sets the x and y axis scales as equal which forces the pie chart into a circle shape. Without that line, the pie chart will look like an oval. "
   ]
  },
  {
   "cell_type": "code",
   "execution_count": 39,
   "metadata": {},
   "outputs": [
    {
     "data": {
      "image/png": "[encoded data removed]",
      "text/plain": [
       "<matplotlib.figure.Figure at 0x7f30e43f9438>"
      ]
     },
     "metadata": {},
     "output_type": "display_data"
    }
   ],
   "source": [
    "import matplotlib.pyplot as plt\n",
    "\n",
    "# Pie chart, where the slices will be ordered and plotted counter-clockwise:\n",
    "labels = 'Engineering', 'Manufacturing', 'Sales', 'Profit'\n",
    "sizes = [1.35, 3.60, 2.25, 1.80]\n",
    "\n",
    "plt.pie(sizes, labels=labels)\n",
    "\n",
    "plt.axis('equal')\n",
    "plt.show()"
   ]
  },
  {
   "cell_type": "markdown",
   "metadata": {},
   "source": [
    "We can highlight the engineering cost by exploding out that piece of the pie chart. ```explode=``` is an example of a ```plt.pie()``` keyword argument. The table below shows a number of useful pie chart keyword arguments:\n",
    "\n",
    "| pie chart feature | plt.pie() keyword argument | Example |\n",
    "| --- | --- | --- |\n",
    "| labels of pieces | ```labels``` | ```plt.pie(sizes, labels = ['pigs','nats','elks'])``` |\n",
    "| show percentages | ```autopct``` | ```plt.pie(sizes, autopct = '%1.1f%%'])``` |\n",
    "| colors of pieces | ```colors``` | ```plt.pie(sizes, colors = ['red','green','blue'])``` |\n",
    "| explode out pieces | ```explode``` | ```plt.pie(sizes, explode = (0.1, 0, 0))``` |\n",
    "| starting angle of first piece | ```startangle``` | ```plt.pie(sizes, startangle=90)``` |\n",
    "| rotate labels with pieces | ```rotatelabels``` | ```plt.pie(sizes, rotatelabels = True)``` |\n",
    "| shadow behind pieces | ```shadow``` | ```plt.pie(sizes, shadow = True)``` |"
   ]
  },
  {
   "cell_type": "markdown",
   "metadata": {},
   "source": [
    "Let's build the following into our pie chart:\n",
    "\n",
    " * standard colors\n",
    " * Engineering piece is exploded outwards\n",
    " * percentages auto calculated and shown\n",
    " * shadow on each piece\n",
    " * Engineering piece start at zero degrees relative to the positive x-axis"
   ]
  },
  {
   "cell_type": "code",
   "execution_count": 38,
   "metadata": {},
   "outputs": [
    {
     "data": {
      "image/png": "[encoded data removed]",
      "text/plain": [
       "<matplotlib.figure.Figure at 0x7f30e4110ba8>"
      ]
     },
     "metadata": {},
     "output_type": "display_data"
    }
   ],
   "source": [
    "import matplotlib.pyplot as plt\n",
    "\n",
    "# Pie chart, where the slices will be ordered and plotted counter-clockwise:\n",
    "labels = 'Engineering', 'Manufacturing', 'Sales', 'Profit'\n",
    "sizes = [1.35, 3.60, 2.25, 1.80]\n",
    "explode = (0.1, 0, 0, 0)  # \"explode\" the 1st slice, 'Engineering'\n",
    "\n",
    "\n",
    "plt.pie(sizes, labels=labels, \n",
    "        explode=explode, autopct='%1.1f%%',shadow=True, startangle=0)\n",
    "\n",
    "plt.axis('equal')\n",
    "plt.show()"
   ]
  },
  {
   "cell_type": "code",
   "execution_count": 10,
   "metadata": {
    "collapsed": true
   },
   "outputs": [],
   "source": [
    "import matplotlib.pyplot as plt\n",
    "import numpy as np\n",
    "%matplotlib inline"
   ]
  }
 ],
 "metadata": {
  "kernelspec": {
   "display_name": "Python 3",
   "language": "python",
   "name": "python3"
  },
  "language_info": {
   "codemirror_mode": {
    "name": "ipython",
    "version": 3
   },
   "file_extension": ".py",
   "mimetype": "text/x-python",
   "name": "python",
   "nbconvert_exporter": "python",
   "pygments_lexer": "ipython3",
   "version": "3.6.4"
  }
 },
 "nbformat": 4,
 "nbformat_minor": 2
}
