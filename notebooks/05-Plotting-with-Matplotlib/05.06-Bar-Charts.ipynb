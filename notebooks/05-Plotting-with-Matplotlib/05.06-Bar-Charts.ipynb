{
 "cells": [
  {
   "cell_type": "markdown",
   "metadata": {},
   "source": [
    "## Bar Charts"
   ]
  },
  {
   "cell_type": "markdown",
   "metadata": {},
   "source": [
    "Bar charts, also called bar graphs, or bar plots are constructed with **matplotlib's** **pyplot** library."
   ]
  },
  {
   "cell_type": "markdown",
   "metadata": {},
   "source": [
    "To construct a bar chart with **matplotlib**, first import matplotlib. If using a Jupyter notebook include the line ```%matplotlib inline```."
   ]
  },
  {
   "cell_type": "code",
   "execution_count": 1,
   "metadata": {},
   "outputs": [],
   "source": [
    "import matplotlib.pyplot as plt\n",
    "# if using a Jupyter notebook, inlcude\n",
    "%matplotlib inline"
   ]
  },
  {
   "cell_type": "markdown",
   "metadata": {},
   "source": [
    "To create a bar chart with **matplotlib**, we need some data. In this example, the data is from a set of __tensile strength__ measurements. Tensile strength is a material property that describes how much stress a material withstand before fracture. Different materials have different tensile strengths. The higher the tensile strength, the stronger the material.  \n",
    "\n",
    "A list of 3 metals and their corresponding tensile strength is below:\n",
    "\n",
    " * Brass = 125 MPa\n",
    " * Aluminum = 276 MPa\n",
    " * Steel = 345 MPa\n",
    "\n",
    "To build the bar chart, we create a list of bar heights. The bar heights are the tensile strengths of the three metals. We also need a list of bar positions. Specifying bar positions seems strange, but the ```plt.bar()``` method needs to know where along the x-axis to put the bars. The ```plt.bar()``` method requires two positional arguments:\n",
    "\n",
    "```python\n",
    "plt.bar([list of bar positions], [list of bar heights])\n",
    "```\n",
    "\n",
    "An error results if only a list of bar heights is specified."
   ]
  },
  {
   "cell_type": "code",
   "execution_count": 2,
   "metadata": {},
   "outputs": [],
   "source": [
    "# define bar heights and bar positions\n",
    "heights = [125, 276, 345]\n",
    "x_pos = [1, 2, 3]"
   ]
  },
  {
   "cell_type": "markdown",
   "metadata": {},
   "source": [
    "Next, build the plot by passing in the list of bar position ```x_pos``` and list of bar heights ```heights``` as positional arguments to the ```plt.bar()``` function. These positional arguments must be specified in the proper order."
   ]
  },
  {
   "cell_type": "code",
   "execution_count": 3,
   "metadata": {},
   "outputs": [
    {
     "data": {
      "image/png": "[encoded data removed]",
      "text/plain": [
       "<Figure size 432x288 with 1 Axes>"
      ]
     },
     "metadata": {},
     "output_type": "display_data"
    }
   ],
   "source": [
    "# Build the plot\n",
    "plt.bar(x_pos,heights)\n",
    "\n",
    "plt.show()"
   ]
  },
  {
   "cell_type": "markdown",
   "metadata": {},
   "source": [
    "Let's add some details to the bar plot. We can specify bar labels and where to put the labels. The opacity of the bars can be decreased which makes the bars slightly transparent.  Besides changing opacity, many other keyword arguments can be included in ```plt.bar()``` function call. \n",
    "\n",
    "A table of a few of the ```plt.bar()``` keyword arguments is below:\n",
    "\n",
    "| bar plot feature | keyword argument | Example |\n",
    "| --- | --- | --- |\n",
    "| bar face color | ```color=``` | ```plt.bar(x_pos, heights, color='g')``` |\n",
    "| bar opacity | ```alpha=``` | ```plt.bar(x_pos, heights, alpha=0.5)``` |\n",
    "| bar outline color  | ```edgecolor=``` | ```plt.edgecolor(x_pos, heights, edgecolor='k')``` |\n",
    "| bar outline width | ```linewidth=``` | ```plt.bar(x_pos, heights, linewidth=3)``` |\n",
    "| y-error bar heights  | ```yerr=``` | ```plt.bar(x_pos, heights, yerr=[0.1, 0.3, 0.2])``` |\n",
    "| error bar cap width | ```capsize=``` | ```plt.bar(x_pos, heights, capsize=5)``` |\n",
    "\n",
    "\n",
    "Assuming ```x_pos``` is a list of x-positions for the bars, and ```heights``` is a list of bar heights, an example ```plt.bar()``` function call might be:\n",
    "\n",
    "```python\n",
    "plt.bar(x_pos, heights,\n",
    "        color='b',\n",
    "        edgecolor='k',\n",
    "        linewidth=4,\n",
    "        yerr=[0.1, 0.3, 0.1],\n",
    "        capsize=5)\n",
    "```\n",
    "\n",
    "Labels can be added to the bar plot with the same syntax used to customize line plots. These function calls include:\n",
    "\n",
    " * ```plt.title('Plot title')```\n",
    " * ```plt.xlabel('x-axis label')```\n",
    " * ```plt.ylabel('y-axis label')```\n",
    " * ```plt.grid(axis='y')```"
   ]
  },
  {
   "cell_type": "code",
   "execution_count": 4,
   "metadata": {},
   "outputs": [
    {
     "data": {
      "image/png": "[encoded data removed]",
      "text/plain": [
       "<Figure size 432x288 with 1 Axes>"
      ]
     },
     "metadata": {},
     "output_type": "display_data"
    }
   ],
   "source": [
    "import matplotlib.pyplot as plt\n",
    "# if using a Jupyter notebook, include:\n",
    "%matplotlib inline\n",
    "\n",
    "materials = ['Brass', 'Aluminum', 'Steel']\n",
    "heights = [125, 276, 345]\n",
    "x_pos = [1, 2, 3]\n",
    "\n",
    "plt.bar(x_pos, heights,\n",
    "        alpha=0.5)\n",
    "\n",
    "plt.title('Tensile Strength of Three Metals')\n",
    "plt.xlabel('Metals')\n",
    "plt.ylabel('Tensile Strength (MPa)')\n",
    "plt.xticks([1,2,3], materials)\n",
    "plt.grid(axis='y')\n",
    "\n",
    "plt.show()"
   ]
  },
  {
   "cell_type": "code",
   "execution_count": null,
   "metadata": {},
   "outputs": [],
   "source": []
  }
 ],
 "metadata": {
  "kernelspec": {
   "display_name": "Python 3",
   "language": "python",
   "name": "python3"
  },
  "language_info": {
   "codemirror_mode": {
    "name": "ipython",
    "version": 3
   },
   "file_extension": ".py",
   "mimetype": "text/x-python",
   "name": "python",
   "nbconvert_exporter": "python",
   "pygments_lexer": "ipython3",
   "version": "3.6.4"
  }
 },
 "nbformat": 4,
 "nbformat_minor": 2
}
