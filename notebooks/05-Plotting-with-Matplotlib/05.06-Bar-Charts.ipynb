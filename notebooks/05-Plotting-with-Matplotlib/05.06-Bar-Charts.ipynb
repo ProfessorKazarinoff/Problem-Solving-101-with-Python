{
 "cells": [
  {
   "cell_type": "markdown",
   "metadata": {},
   "source": [
    "## Bar Plots"
   ]
  },
  {
   "cell_type": "markdown",
   "metadata": {},
   "source": [
    "Bar plots in **matplotlib** can be created using **matplotlib's** **pyplot** library"
   ]
  },
  {
   "cell_type": "markdown",
   "metadata": {},
   "source": [
    "To contstruct a bar plot using **matplotlib**, first import matplotlib. If using a jupyter notebook include the line ```%matplotlib inline```"
   ]
  },
  {
   "cell_type": "code",
   "execution_count": 1,
   "metadata": {},
   "outputs": [],
   "source": [
    "import matplotlib.pyplot as plt\n",
    "import numpy as np\n",
    "%matplotlib inline"
   ]
  },
  {
   "cell_type": "markdown",
   "metadata": {},
   "source": [
    "To create a bar chart using matplotlib, we need some data. In this case the data is from a set of __coefficient of thermal expansion__ measurements. The coefficient of thermal expansion (CTE) is a material property that describes how much a material will change in length as a result of a change in temperature. Different materials have different CTE's and we can use the data to determine which material will expand the most if all three are heated up to the same temperature (assuming all three start at the same temperature). Below is a list of 3 materials and their corresponding CTE.\n",
    "\n",
    " * Aluminum CTE ~ $24 \\times 10^{-6} \\ * C^{-1}$\n",
    " * Copper CTE ~ $17 \\times 10^{-6} \\  *C^{-1}$\n",
    " * Steel CTE ~ $12 \\times 10^{-6} \\  *C^{-1}$\n",
    "\n",
    "To build a bar chart, first we create a list of the names of the materials and a list of the coefficients of thermal expansion. We also need a list of bar positions. This seems sort of strange, but the ```plt.bar()``` method needs to know where along the x-axis to put the bars. The ```ax.bar()``` method requires two positional arguments:\n",
    "\n",
    "```python\n",
    "plt.bar([list of bar positions], [list of bar heights])\n",
    "```\n",
    "\n",
    "An error will result if only a list of bar heights is specified."
   ]
  },
  {
   "cell_type": "code",
   "execution_count": 2,
   "metadata": {},
   "outputs": [],
   "source": [
    "# define the bar labels, heights, and postions\n",
    "materials = ['Aluminum', 'Copper', 'Steel']\n",
    "heights = [24e-6, 17e-6, 12e-6]\n",
    "x_pos = [1, 2, 3]"
   ]
  },
  {
   "cell_type": "markdown",
   "metadata": {},
   "source": [
    "Next build the plot by passing in the list of bar position ```x_pos``` and list of bar heights ```heights``` as positional arguments to the ```plt.bar()``` function. These positional arguments need to be in the correct order."
   ]
  },
  {
   "cell_type": "code",
   "execution_count": 3,
   "metadata": {},
   "outputs": [
    {
     "data": {
      "image/png": "[encoded data removed]",
      "text/plain": [
       "<Figure size 432x288 with 1 Axes>"
      ]
     },
     "metadata": {},
     "output_type": "display_data"
    }
   ],
   "source": [
    "# Build the plot\n",
    "plt.bar(x_pos,heights)\n",
    "\n",
    "plt.show()"
   ]
  },
  {
   "cell_type": "markdown",
   "metadata": {},
   "source": [
    "Add some details to the bar plot by specifying the bar labels and where to put those labels. The opacity of the bars is decreased to make the plot look slightly different.  Besides changing opacity, a number of other keyword arguments can included in ```plt.bar()``` function call. A table of a few of the ```plt.bar()``` keyword arguments is below:\n",
    "\n",
    "| bar plot feature | keyword argument | Example |\n",
    "| --- | --- | --- |\n",
    "| bar face color | ```color=``` | ```plt.bar(x_pos, heights, color='g')``` |\n",
    "| bar outline color  | ```edgecolor=``` | ```plt.edgecolor(x_pos, heights, edgecolor='k')``` |\n",
    "| bar outline width | ```linewidth=``` | ```plt.bar(x_pos, heights, linewidth=3)``` |\n",
    "| y-error bar heights  | ```yerr=``` | ```plt.bar(x_pos, heights, yerr=[0.1, 0.3, 0.2])``` |\n",
    "| error bar cap width | ```capsize=``` | ```plt.bar(x_pos, heights, capsize=5)``` |\n",
    "\n",
    "\n",
    "Assuming ```x_pos``` is a list of x-positions for the bars, and ```heights``` is a list of bar heights, an example ```plt.bar()``` function call might be:\n",
    "\n",
    "```python\n",
    "plt.bar(x_pos, heights,\n",
    "        color='b',\n",
    "        edgecolor='k',\n",
    "        linewidth=4,\n",
    "        yerr=[0.1, 0.3, 0.1],\n",
    "        capsize=5)\n",
    "```\n",
    "\n",
    "Labels can be added to the bar plot with the same ```plt``` functions used to customize line plots. These include\n"
   ]
  },
  {
   "cell_type": "code",
   "execution_count": 4,
   "metadata": {},
   "outputs": [
    {
     "data": {
      "image/png": "[encoded data removed]",
      "text/plain": [
       "<Figure size 432x288 with 1 Axes>"
      ]
     },
     "metadata": {},
     "output_type": "display_data"
    }
   ],
   "source": [
    "# bar plot\n",
    "import numpy as np\n",
    "import matplotlib.pyplot as plt\n",
    "%matplotlib inline\n",
    "\n",
    "materials = ['Aluminum', 'Copper', 'Steel']\n",
    "CTEs = [24e-6, 17e-6, 12e-6]\n",
    "bar_pos = [1,2,3]\n",
    "\n",
    "plt.bar(bar_pos, CTEs, alpha=0.5)\n",
    "plt.ylabel('CTE (1/*C)')\n",
    "plt.xlabel('Metals')\n",
    "plt.xticks([1,2,3], materials)\n",
    "plt.grid(axis='y')\n",
    "plt.title('Coefficients of Thermal Expanion of three metals')\n",
    "\n",
    "plt.show()"
   ]
  }
 ],
 "metadata": {
  "kernelspec": {
   "display_name": "Python 3",
   "language": "python",
   "name": "python3"
  },
  "language_info": {
   "codemirror_mode": {
    "name": "ipython",
    "version": 3
   },
   "file_extension": ".py",
   "mimetype": "text/x-python",
   "name": "python",
   "nbconvert_exporter": "python",
   "pygments_lexer": "ipython3",
   "version": "3.6.4"
  }
 },
 "nbformat": 4,
 "nbformat_minor": 2
}
