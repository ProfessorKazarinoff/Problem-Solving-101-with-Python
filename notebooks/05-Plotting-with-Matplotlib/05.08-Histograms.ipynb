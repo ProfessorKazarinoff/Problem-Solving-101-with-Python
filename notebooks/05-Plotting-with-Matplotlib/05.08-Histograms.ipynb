{
 "cells": [
  {
   "cell_type": "markdown",
   "metadata": {},
   "source": [
    "## Histograms"
   ]
  },
  {
   "cell_type": "markdown",
   "metadata": {},
   "source": [
    "Historgram plots can be created with **matplotlib**. The ```plt.hist()``` function creates histogram plots."
   ]
  },
  {
   "cell_type": "markdown",
   "metadata": {},
   "source": [
    "To create a histogram with **matplotlib**, first import **matplotlib** with the standard line:\n",
    "\n",
    "```python\n",
    "import matplotlib.pyplot as plt\n",
    "```\n",
    "\n",
    "In our first example, we will also import **numpy** with the line ```import numpy as np```. We'll use **numpy's** random number generator to create a dataset for the histogram. If using a Jupyter notebook, include the line ```%matplotlib inline``` below the imports."
   ]
  },
  {
   "cell_type": "code",
   "execution_count": 1,
   "metadata": {},
   "outputs": [],
   "source": [
    "import matplotlib.pyplot as plt\n",
    "import numpy as np\n",
    "# if using a Jupyter notebook, include:\n",
    "%matplotlib inline"
   ]
  },
  {
   "cell_type": "markdown",
   "metadata": {},
   "source": [
    "For the dataset, define a mean ```mu = 80``` and a standard deviation ```sigma = 7```. **numpy's** ```np.random.normal()``` function produces an array of random numbers with a normal distribution. 200 random numbers is a good amount of random numbers to plot. The general format of ```np.random.normal()``` is below:\n",
    "\n",
    "```python\n",
    "var = np.random.normal(mean, stdev, size=<number of values>)\n",
    "```"
   ]
  },
  {
   "cell_type": "code",
   "execution_count": 2,
   "metadata": {},
   "outputs": [],
   "source": [
    "mu = 80\n",
    "sigma = 7\n",
    "x = np.random.normal(mu, sigma, size=200)"
   ]
  },
  {
   "cell_type": "markdown",
   "metadata": {},
   "source": [
    "**Matplotlib's** ```plt.hist()``` function produces the histogram plot. The first positional argument passed to ```plt.hist()``` is a list or array of values, the second positional argument denotes the number of bins on the histogram. \n",
    "\n",
    "```python\n",
    "plt.hist(values, num_bins)\n",
    "```\n",
    "\n",
    "Similar to **matplotlib** line plots, bar plots and pie charts, a set of keyword arguments can be included in the ```plt.hist()``` function call. Specifying values for the keyword arguments customizes the histogram.\n",
    "\n",
    "Example keyword arguments which can be included with ```plt.hist()``` are:\n",
    "\n",
    " * ```density=```\n",
    " * ```histtype=```\n",
    " * ```facecolor=```\n",
    " * ```alpha=```(opacity)."
   ]
  },
  {
   "cell_type": "code",
   "execution_count": 3,
   "metadata": {},
   "outputs": [
    {
     "data": {
      "image/png": "[encoded data removed]",
      "text/plain": [
       "<Figure size 432x288 with 1 Axes>"
      ]
     },
     "metadata": {},
     "output_type": "display_data"
    }
   ],
   "source": [
    "plt.hist(x, 20,\n",
    "         density=True,\n",
    "         histtype='bar',\n",
    "         facecolor='b',\n",
    "         alpha=0.5)\n",
    "\n",
    "plt.title('Historgram')\n",
    "plt.xlabel('x-axis')\n",
    "plt.ylabel('y-axis')\n",
    "\n",
    "plt.show()"
   ]
  },
  {
   "cell_type": "markdown",
   "metadata": {
    "collapsed": true
   },
   "source": [
    "The next histogram example involves a list of commute times. Suppose the following commute times were recorded in a survey:\n",
    "\n",
    "```text\n",
    "23, 25, 40, 35, 36, 47, 33, 28, 48, 34,\n",
    "20, 37, 36, 23, 33, 36, 20, 27, 50, 34,\n",
    "47, 18, 28, 52, 21, 44, 34, 13, 40, 49\n",
    "```\n",
    "\n",
    "We will plot a histogram of these commute times. First, import **matplotlib** as in the previous example, and include ```%matplotib inline``` if using a Jupyter notebook. Then build a Python list of commute times from the survey data above."
   ]
  },
  {
   "cell_type": "code",
   "execution_count": 4,
   "metadata": {},
   "outputs": [],
   "source": [
    "import matplotlib.pyplot as plt\n",
    "#if using a Jupyter notebook, include:\n",
    "%matplotlib inline\n",
    "\n",
    "commute_times = [23, 25, 40, 35, 36, 47, 33, 28, 48, 34,\n",
    "                 20, 37, 36, 23, 33, 36, 20, 27, 50, 34,\n",
    "                 47, 18, 28, 52, 21, 44, 34, 13, 40, 49]"
   ]
  },
  {
   "cell_type": "markdown",
   "metadata": {},
   "source": [
    "```plt.hist()``` is called, and the ```commute_times``` list and ```5``` bins are included as positional arguments."
   ]
  },
  {
   "cell_type": "code",
   "execution_count": 5,
   "metadata": {},
   "outputs": [
    {
     "data": {
      "image/png": "[encoded data removed]",
      "text/plain": [
       "<Figure size 432x288 with 1 Axes>"
      ]
     },
     "metadata": {},
     "output_type": "display_data"
    }
   ],
   "source": [
    "plt.hist(commute_times, 5)\n",
    "\n",
    "plt.show()"
   ]
  },
  {
   "cell_type": "markdown",
   "metadata": {},
   "source": [
    "To custruct a histogram with specific bin ranges, a list or array of bin edges is supplied to the keyword argument ```bins=```. A table of select keyword arguments used with ```plt.hist()``` is below:\n",
    "\n",
    "| keyword argument | description | example |\n",
    "| --- | --- | --- |\n",
    "| ```bins=``` | list of bin edges | ```bins=[5, 10, 20, 30]``` |\n",
    "| ```density=``` | if ```true```, data is normalized | ```density=false``` |\n",
    "| ```histtype=``` | type of histogram | ```histtype='bar'``` |\n",
    "| ```color=``` | bar color | ```color='b'``` |\n",
    "| ```edgecolor=``` | bar edge color | ```color='k'``` |\n",
    "| ```alpha=``` | bar opacity | ```alpha=0.5``` |\n",
    "\n",
    "For the next histogram, we will specify bins in 15 min increments. This means our bin edges are ```[0,15,30,45,60]```. We will also specify ```density=False```, ```color='b'```(blue), ```edgecolor='k'```(black), and ```alpha=0.5```(half transparent). \n",
    "\n",
    "The lines ```plt.xlabel()```, ```plt.ylabel()```, and ```plt.title()``` give the histogram axis labels and a title. ```plt.xticks()``` specifies the location for the tick labels on the x-axis. Since the bin edges are in 15 minute intervals, it makes sense to space the tick labels in 15 minute intervals as well."
   ]
  },
  {
   "cell_type": "code",
   "execution_count": 6,
   "metadata": {},
   "outputs": [
    {
     "data": {
      "image/png": "[encoded data removed]",
      "text/plain": [
       "<Figure size 432x288 with 1 Axes>"
      ]
     },
     "metadata": {},
     "output_type": "display_data"
    }
   ],
   "source": [
    "bin_edges = [0,15,30,45,60]\n",
    "\n",
    "plt.hist(commute_times,\n",
    "         bins=bin_edges,\n",
    "         density=False,\n",
    "         histtype='bar',\n",
    "         color='b',\n",
    "         edgecolor='k',\n",
    "         alpha=0.5)\n",
    "\n",
    "plt.xlabel('Commute time range (min)')\n",
    "plt.xticks([0, 15, 30, 45,60])\n",
    "plt.ylabel('Number of commuters')\n",
    "plt.title('Histogram of commute times')\n",
    "\n",
    "plt.show()"
   ]
  },
  {
   "cell_type": "code",
   "execution_count": null,
   "metadata": {},
   "outputs": [],
   "source": []
  }
 ],
 "metadata": {
  "kernelspec": {
   "display_name": "Python 3",
   "language": "python",
   "name": "python3"
  },
  "language_info": {
   "codemirror_mode": {
    "name": "ipython",
    "version": 3
   },
   "file_extension": ".py",
   "mimetype": "text/x-python",
   "name": "python",
   "nbconvert_exporter": "python",
   "pygments_lexer": "ipython3",
   "version": "3.6.4"
  }
 },
 "nbformat": 4,
 "nbformat_minor": 2
}
