{
 "cells": [
  {
   "cell_type": "markdown",
   "metadata": {},
   "source": [
    "## Histograms"
   ]
  },
  {
   "cell_type": "markdown",
   "metadata": {},
   "source": [
    "Historgram plots can be created with **matplotlib**. The ```plt.hist()``` function creates histogram plots."
   ]
  },
  {
   "cell_type": "markdown",
   "metadata": {},
   "source": [
    "To create a histogram with matplotlib, first import matplotlib with the standard line ```import matplotlib.pyplot as plt```. In this example, we will also ```import numpy as np``` becuase we will use numpy's random number generator. If using a jupyter notebook, include the line ```%matplotlib inline```"
   ]
  },
  {
   "cell_type": "code",
   "execution_count": 1,
   "metadata": {},
   "outputs": [],
   "source": [
    "import matplotlib.pyplot as plt\n",
    "import numpy as np\n",
    "%matplotlib inline"
   ]
  },
  {
   "cell_type": "markdown",
   "metadata": {},
   "source": [
    "In our example, we'll set a mean of ```mu = 80``` and a standard deviation of ```sigma = 7```. Then use numpy's ```np.random.normal()``` function to produce a set of random data with a normal distribution. The general format is:\n",
    "\n",
    "```python\n",
    "var = np.random.normal(mean, stdev, size=<number of values>)\n",
    "```"
   ]
  },
  {
   "cell_type": "code",
   "execution_count": 2,
   "metadata": {},
   "outputs": [],
   "source": [
    "mu = 80\n",
    "sigma = 7\n",
    "x = np.random.normal(mu, sigma, size=200)"
   ]
  },
  {
   "cell_type": "markdown",
   "metadata": {},
   "source": [
    "The ```plt.hist()``` function produces a histogram plot. The first positional argument is a list or array of values, the second positional argument denotes the number of bins on the plot. \n",
    "\n",
    "```python\n",
    "plt.hist(values, num_bins)\n",
    "```\n",
    "\n",
    "Similar to matplotlib line plots, bar plots and pie charts, a set of keyword arguments can be included in the ```plt.hist()``` function call. A set of keyword arguments will customize the histogram plot."
   ]
  },
  {
   "cell_type": "code",
   "execution_count": 1,
   "metadata": {},
   "outputs": [
    {
     "ename": "NameError",
     "evalue": "name 'plt' is not defined",
     "output_type": "error",
     "traceback": [
      "\u001b[1;31m---------------------------------------------------------------------------\u001b[0m",
      "\u001b[1;31mNameError\u001b[0m                                 Traceback (most recent call last)",
      "\u001b[1;32m<ipython-input-1-af49e0fa53e7>\u001b[0m in \u001b[0;36m<module>\u001b[1;34m()\u001b[0m\n\u001b[1;32m----> 1\u001b[1;33m plt.hist(x, 20,\n\u001b[0m\u001b[0;32m      2\u001b[0m          \u001b[0mdensity\u001b[0m\u001b[1;33m=\u001b[0m\u001b[1;32mTrue\u001b[0m\u001b[1;33m,\u001b[0m\u001b[1;33m\u001b[0m\u001b[0m\n\u001b[0;32m      3\u001b[0m          \u001b[0mhisttype\u001b[0m\u001b[1;33m=\u001b[0m\u001b[1;34m'bar'\u001b[0m\u001b[1;33m,\u001b[0m\u001b[1;33m\u001b[0m\u001b[0m\n\u001b[0;32m      4\u001b[0m          \u001b[0mfacecolor\u001b[0m\u001b[1;33m=\u001b[0m\u001b[1;34m'b'\u001b[0m\u001b[1;33m,\u001b[0m\u001b[1;33m\u001b[0m\u001b[0m\n\u001b[0;32m      5\u001b[0m         alpha=0.5)\n",
      "\u001b[1;31mNameError\u001b[0m: name 'plt' is not defined"
     ]
    }
   ],
   "source": [
    "plt.hist(x, 20,\n",
    "         density=True,\n",
    "         histtype='bar',\n",
    "         facecolor='b',)\n",
    "\n",
    "plt.title('Historgram')\n",
    "plt.xlabel('x-axis')\n",
    "plt.ylabel('y-axis')\n",
    "\n",
    "plt.show()"
   ]
  },
  {
   "cell_type": "markdown",
   "metadata": {
    "collapsed": true
   },
   "source": [
    "A list of bin edges can be passed to the ```plt.hist()``` function as a key-word argument. Imagine a collection of commute times in minutes are:\n",
    "\n",
    "```text\n",
    "[20,  6, 14, 12, 17, 17, 13, 26, 32, 24, 22, 17, 31, 11, 17, 15, 19,\n",
    " 12, 19, 11, 10, 18, 25, 19, 24, 25, 10, 39, 29,  5,  5,  8, 24, 15,\n",
    " 24, 19,  2,  9, 19, 26, 32, 21, 18, 25, 26, 13,  2,  5,  4, 23]\n",
    "```\n",
    " \n",
    "To plot a histogram of commute times in 5 minute intervals, set ```bins=[0, 5, 10, 20, 25, 30, 40]```.\n",
    "\n",
    "\n",
    "The complete histogram is codded by:"
   ]
  },
  {
   "cell_type": "code",
   "execution_count": 4,
   "metadata": {},
   "outputs": [
    {
     "data": {
      "image/png": "[encoded data removed]",
      "text/plain": [
       "<matplotlib.figure.Figure at 0x199970b4c88>"
      ]
     },
     "metadata": {},
     "output_type": "display_data"
    }
   ],
   "source": [
    "import matplotlib.pyplot as plt\n",
    "import numpy as np\n",
    "%matplotlib inline\n",
    "\n",
    "cmt_times = [20,  6, 14, 12, 17, 17, 13, 26, 32, 24, 22, 17, 31, 11, 17, 15, 19,\n",
    "             12, 19, 11, 10, 18, 25, 19, 24, 25, 10, 39, 29,  5,  5,  8, 24, 15,\n",
    "             24, 19,  2,  9, 19, 26, 32, 21, 18, 25, 26, 13,  2,  5,  4, 23]\n",
    "\n",
    "plt.hist(cmt_times,\n",
    "         bins=[0, 5, 10, 15, 20, 30, 40],\n",
    "         density=None,\n",
    "         histtype='bar',\n",
    "         facecolor='g')\n",
    "\n",
    "plt.title('Historgram of commute times in 5 min increments')\n",
    "plt.xlabel('Commute time in minutes')\n",
    "plt.ylabel('Number of Commuters')\n",
    "\n",
    "plt.show()"
   ]
  },
  {
   "cell_type": "code",
   "execution_count": null,
   "metadata": {},
   "outputs": [],
   "source": []
  }
 ],
 "metadata": {
  "kernelspec": {
   "display_name": "Python 3",
   "language": "python",
   "name": "python3"
  },
  "language_info": {
   "codemirror_mode": {
    "name": "ipython",
    "version": 3
   },
   "file_extension": ".py",
   "mimetype": "text/x-python",
   "name": "python",
   "nbconvert_exporter": "python",
   "pygments_lexer": "ipython3",
   "version": "3.6.5"
  }
 },
 "nbformat": 4,
 "nbformat_minor": 2
}
