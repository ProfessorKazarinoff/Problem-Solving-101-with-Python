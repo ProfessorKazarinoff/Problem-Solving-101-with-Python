{
 "cells": [
  {
   "cell_type": "markdown",
   "metadata": {
    "latex": {
     "before_cell": "newpage"
    }
   },
   "source": [
    "## Summary"
   ]
  },
  {
   "cell_type": "markdown",
   "metadata": {},
   "source": [
    "In this chapter, you learned how to create plots using Python and **matplotlib**. **Matplotlib** and Python can be used to build a variety of plot types."
   ]
  },
  {
   "cell_type": "markdown",
   "metadata": {},
   "source": [
    "Types of charts built with **matplotlib** in this chapter:\n",
    "\n",
    "| plot type | function call |\n",
    "| --- | --- |\n",
    "| line plots | ```plt.plot(x,y)``` |\n",
    "| muiltline plots | ```plt.plot(x1,y1,x2,y2)``` |\n",
    "| bar graphs | ```plt.bar([locations],[sizes])``` |\n",
    "| pie charts | ```plt.pie([sizes])```\n",
    "| histograms | ```plt.hist(data)``` |\n",
    "| scatter plots | ```plt.scatter``` |"
   ]
  },
  {
   "cell_type": "markdown",
   "metadata": {},
   "source": [
    "Each of the **matplotlib** plot types accepts a different set of _positional arguments_ and _keyword arguments_. Positional arguments must be passed in order, keyword arguments must be passed including the keyword, and an equals sign. "
   ]
  },
  {
   "cell_type": "markdown",
   "metadata": {},
   "source": [
    "### plt.plot() functions\n",
    "\n",
    "| plot type | matplotlib function | example |\n",
    "| --- | --- | --- |\n",
    "| line plot | ```plt.plot()``` | ```plt.plot([1, 4, 5])``` |\n",
    "| multiline plot | ```plt.plot()``` | ```plt.plot(x1,y1,x2,y2)``` |\n",
    "| bar chart | ```plt.bar()``` | ```plt.bar(x_pos, heights)``` |\n",
    "| pie chart | ```plt.pie()``` | ```plt.pie(slices_list)``` |\n",
    "| histogram | ```plt.hist()``` | ```plt.hist(x, 20, density=True, histtype='bar')```\n",
    "| scatter plot | ```plt.scatter()``` | ```plt.scatter(x, y, s=area, c=colors, alpha=0.5)``` |"
   ]
  },
  {
   "cell_type": "markdown",
   "metadata": {},
   "source": [
    "### Key Terms and Concepts"
   ]
  },
  {
   "cell_type": "markdown",
   "metadata": {
    "latex": {
     "environment": "key_terms"
    }
   },
   "source": [
    "plot\n",
    "\n",
    "graph\n",
    "\n",
    "histogram\n",
    "\n",
    "scatter plot\n",
    "\n",
    "error bars\n",
    "\n",
    "annotation\n",
    "\n",
    "arguments\n",
    "\n",
    "keyword arguments\n",
    "\n",
    "positional arguments\n",
    "\n",
    "function\n",
    "\n",
    "method\n",
    "\n",
    "object\n",
    "\n",
    "array\n",
    "\n",
    "matrix\n",
    "\n",
    "list\n",
    "\n",
    "data structure\n",
    "\n",
    "homogeneous array\n",
    "\n",
    "heterogeneous array\n",
    "\n",
    "dimension\n",
    "\n",
    "tick labels"
   ]
  },
  {
   "cell_type": "markdown",
   "metadata": {},
   "source": [
    "### Additional Resources"
   ]
  },
  {
   "cell_type": "markdown",
   "metadata": {},
   "source": [
    "**Matplotlib** official documentation: \n",
    "\n",
    " > [https://matplotlib.org/contents.html](https://matplotlib.org/contents.html)\n",
    "\n",
    "**Matplotlib** summary notebook on Kaggle:\n",
    "\n",
    " > [https://www.kaggle.com/grroverpr/matplotlib-plotting-guide/notebook](https://www.kaggle.com/grroverpr/matplotlib-plotting-guide/notebook)\n",
    "\n",
    "Python Plotting With Matplotlib (Guide) on Real Python:\n",
    "\n",
    " > [https://realpython.com/python-matplotlib-guide/#why-can-matplotlib-be-confusing](https://realpython.com/python-matplotlib-guide/#why-can-matplotlib-be-confusing)\n",
    "\n",
    "Python For Data Science: Matplotlib Cheat Sheet from DataCamp:\n",
    "\n",
    " > [https://s3.amazonaws.com/assets.datacamp.com/blog_assets/Python_Matplotlib_Cheat_Sheet.pdf](https://s3.amazonaws.com/assets.datacamp.com/blog_assets/Python_Matplotlib_Cheat_Sheet.pdf)"
   ]
  },
  {
   "cell_type": "code",
   "execution_count": null,
   "metadata": {},
   "outputs": [],
   "source": []
  }
 ],
 "metadata": {
  "celltoolbar": "Edit Metadata",
  "kernelspec": {
   "display_name": "Python 3",
   "language": "python",
   "name": "python3"
  },
  "language_info": {
   "codemirror_mode": {
    "name": "ipython",
    "version": 3
   },
   "file_extension": ".py",
   "mimetype": "text/x-python",
   "name": "python",
   "nbconvert_exporter": "python",
   "pygments_lexer": "ipython3",
   "version": "3.6.5"
  }
 },
 "nbformat": 4,
 "nbformat_minor": 2
}
