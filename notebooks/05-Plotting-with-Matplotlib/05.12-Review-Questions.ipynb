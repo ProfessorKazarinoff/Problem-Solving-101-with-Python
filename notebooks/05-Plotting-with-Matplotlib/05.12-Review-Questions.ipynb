{
 "cells": [
  {
   "cell_type": "markdown",
   "metadata": {},
   "source": [
    "## Review Questions"
   ]
  },
  {
   "cell_type": "markdown",
   "metadata": {
    "latex": {
     "environment": "problems"
    }
   },
   "source": [
    "5.01 Create a line plot with y-values equal to ```y = [1, 4, 12, 23]``` and x-values set to the default values by Matplotlib\n",
    "\n",
    "5.02 Create a line plot with x-values equal to ```x = [0, 3, 6, 9, 12, 15]``` and y-values equal to ```y = [-6, -1, 0, 4, 10, 8]```\n",
    "\n",
    "5.03 Create a plot of the function $y=\\cos(x)$ from $x = -2\\pi$ to $2\\pi$\n",
    "\n",
    "5.04 Plot the two functions $y_1$ and $y_2$ below on the same set of axis. Use a different color line for each function.\n",
    "\n",
    "$$ y_1 = \\cos(x) $$\n",
    "\n",
    "$$ y_2 = \\cos(x/2) $$\n",
    "\n",
    "Set values of $x =-4\\pi$ to $4\\pi$ in increments of 0.1 radians.\n",
    "\n",
    "5.05 A list of grades in a college programming course and the corresponding number of students who earned each grade is shown below:\n",
    "\n",
    "```text\n",
    "grades = ['A','B','C','D','F']\n",
    "\n",
    "number_of_students =[8, 12, 19, 1, 2]\n",
    "```\n",
    "\n",
    "Build a bar plot of the grade distribution from the college engineering class. Include ```grades``` on the x-axis and ```number_of_students``` on the y-axis.\n",
    "\n",
    "5.06 The tensile strength of four steel heat treatments and the corresponding tensile strength is below.\n",
    "\n",
    "| Heat Treatment | Tensile Strength (MPa) |\n",
    "| --- | --- |\n",
    "| Annealed | 390 MPa |\n",
    "| Normalized | 452 MPa |\n",
    "| Oil Quench | 734 MPa\n",
    "| Oil Quench and Temper | 422 MPa |\n",
    "\n",
    "Build a bar plot of tensile strength vs. heat treatment using the data above.\n",
    "\n",
    "5.07 According to the University of Waterloo, world energy consumption in 2006 from the 5 top energy resources were:\n",
    "\n",
    "$$ Natural \\ Gas = 24\\% $$\n",
    "\n",
    "$$ Hydro = 6\\% $$\n",
    "\n",
    "$$ Nuclear = 6\\% $$\n",
    "\n",
    "$$ Oil = 36\\% $$\n",
    "\n",
    "$$ Coal = 28\\% $$\n",
    "\n",
    "Build a pie chart of distribution of world energy consumption based on the data above. Include the energy type (Hydro, Nuclear, Oil, etc) as labels. Include the percentage contributed by each energy title on the pie chart.\n",
    "\n",
    "5.08 Use the code below to build an array ```x``` of 100 random numbers with a normal distribution with a mean of 15 and a standard deviation of 2.\n",
    "\n",
    "```python\n",
    "mu = 15\n",
    "sigma = 2\n",
    "x = np.random.normal(mu, sigma, size=100)\n",
    "```\n",
    "\n",
    "Build a histogram of the array ```x``` using Matplotlib's ```plt.hist()``` function. Include the title ```'Histogram'``` and  make the bars in the histogram green and half-transparent (```alpha = 0.5```).\n",
    "\n",
    "5.09 Create a scatter plot with the following lists of x points and y points.\n",
    "\n",
    "```text\n",
    "x = [0, 5, 10, 15, 20]\n",
    "y = [-80, -24, 0, 40, 65]\n",
    "```\n",
    "\n",
    "Label the x-axis ```'x-axis'``` and label the y-axis ```'y-axis'```. Include the title ```'Scatter Plot'```.\n",
    "\n",
    "5.10 Use the code below to create two arrays of semi-focused random points.\n",
    "\n",
    "```python\n",
    "x1 = 1.5 * np.random.randn(150) + 8\n",
    "y1 = 1.5 * np.random.randn(150) + 8\n",
    "x2 = 1.5 * np.random.randn(150) + 2\n",
    "y2 = 1.5 * np.random.randn(150) + 2\n",
    "x = np.append(x1,x2)\n",
    "y = np.append(y1,y2)\n",
    "```\n",
    "\n",
    "Plot the arrays ```x``` and ```y``` on a scatter plot. Make the marker color on the scatter plot red (```color = 'r'```). Set the marker size to 20 pt (```size=20```), and set the marker opacity to 50% (```alpha=0.5```)."
   ]
  },
  {
   "cell_type": "code",
   "execution_count": null,
   "metadata": {},
   "outputs": [],
   "source": []
  }
 ],
 "metadata": {
  "celltoolbar": "Edit Metadata",
  "kernelspec": {
   "display_name": "Python 3",
   "language": "python",
   "name": "python3"
  },
  "language_info": {
   "codemirror_mode": {
    "name": "ipython",
    "version": 3
   },
   "file_extension": ".py",
   "mimetype": "text/x-python",
   "name": "python",
   "nbconvert_exporter": "python",
   "pygments_lexer": "ipython3",
   "version": "3.6.8"
  }
 },
 "nbformat": 4,
 "nbformat_minor": 2
}
