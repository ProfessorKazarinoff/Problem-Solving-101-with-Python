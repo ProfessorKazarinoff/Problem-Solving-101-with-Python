{
 "cells": [
  {
   "cell_type": "markdown",
   "metadata": {},
   "source": [
    "## Summary"
   ]
  },
  {
   "cell_type": "markdown",
   "metadata": {},
   "source": [
    "In this chapter you learned how to create plots using Python and **matplotlib**. "
   ]
  },
  {
   "cell_type": "markdown",
   "metadata": {},
   "source": [
    "Types of charts:\n",
    " * line graphs\n",
    " * bar graphs\n",
    " * pie charts\n",
    " * bar and line graphs with error bars\n",
    " * scatter plots\n",
    " * histograms\n",
    " * box plots and violin plots\n",
    " * quiver plots\n",
    " * heat maps"
   ]
  },
  {
   "cell_type": "markdown",
   "metadata": {},
   "source": [
    "### Additional Resources"
   ]
  },
  {
   "cell_type": "markdown",
   "metadata": {},
   "source": [
    "Matplotlib official documentation: [https://matplotlib.org/contents.html](https://matplotlib.org/contents.html)\n",
    "\n",
    "Matplotlib summary notebook on Kaggle: [https://www.kaggle.com/grroverpr/matplotlib-plotting-guide/notebook](https://www.kaggle.com/grroverpr/matplotlib-plotting-guide/notebook)\n",
    "\n",
    "Python Plotting With Matplotlib (Guide) on Real Python: [https://realpython.com/python-matplotlib-guide/#why-can-matplotlib-be-confusing](https://realpython.com/python-matplotlib-guide/#why-can-matplotlib-be-confusing)\n",
    "\n",
    "Python For Data Science: Matplotlib Cheat Sheet from DataCamp: [https://s3.amazonaws.com/assets.datacamp.com/blog_assets/Python_Matplotlib_Cheat_Sheet.pdf](https://s3.amazonaws.com/assets.datacamp.com/blog_assets/Python_Matplotlib_Cheat_Sheet.pdf)"
   ]
  },
  {
   "cell_type": "code",
   "execution_count": null,
   "metadata": {},
   "outputs": [],
   "source": []
  }
 ],
 "metadata": {
  "kernelspec": {
   "display_name": "Python 3",
   "language": "python",
   "name": "python3"
  },
  "language_info": {
   "codemirror_mode": {
    "name": "ipython",
    "version": 3
   },
   "file_extension": ".py",
   "mimetype": "text/x-python",
   "name": "python",
   "nbconvert_exporter": "python",
   "pygments_lexer": "ipython3",
   "version": "3.6.3"
  }
 },
 "nbformat": 4,
 "nbformat_minor": 2
}
