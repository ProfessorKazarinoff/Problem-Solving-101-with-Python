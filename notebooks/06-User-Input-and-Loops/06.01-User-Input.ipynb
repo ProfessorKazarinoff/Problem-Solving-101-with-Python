{
 "cells": [
  {
   "cell_type": "markdown",
   "metadata": {},
   "source": [
    "## User Input"
   ]
  },
  {
   "cell_type": "markdown",
   "metadata": {},
   "source": [
    "Python can be used to as users for input and then calculate something with the resulting input. The input function is written below:\n",
    "\n",
    "```\n",
    "<var> = input('<message>')\n",
    "```\n",
    "\n",
    "Where ```<var>``` is the variable that stores the user's input and <message> is the message the user sees at the prompt. Let's ask a user for their age."
   ]
  },
  {
   "cell_type": "code",
   "execution_count": 2,
   "metadata": {},
   "outputs": [],
   "source": [
    "age = input('how old are you?')"
   ]
  },
  {
   "cell_type": "markdown",
   "metadata": {},
   "source": [
    "Now we can do something with the input. Let's print the user's age back to them. Note the ```f' '``` before the string. The ```f``` does not get printed. It indicates to Python that variables are going to be inserted in the string. A set of curley braces ```{  }``` need to surround the variable name."
   ]
  },
  {
   "cell_type": "code",
   "execution_count": 3,
   "metadata": {},
   "outputs": [
    {
     "name": "stdout",
     "output_type": "stream",
     "text": [
      "you are 10 years old\n"
     ]
    }
   ],
   "source": [
    "age = input('how old are you?')\n",
    "print(f'you are {age} years old')"
   ]
  },
  {
   "cell_type": "markdown",
   "metadata": {},
   "source": [
    "Let's do something more useful. How about we ask for the base and height of a triagble and print back the area of the triangle"
   ]
  },
  {
   "cell_type": "code",
   "execution_count": 6,
   "metadata": {},
   "outputs": [
    {
     "name": "stdout",
     "output_type": "stream",
     "text": [
      "The area of the triangle is: 15.0\n"
     ]
    }
   ],
   "source": [
    "b = input('base of triangle: ')\n",
    "h = input('height of triangle: ')\n",
    "A = 0.5*float(b)*float(h)\n",
    "print(f'The area of the triangle is: {A}')"
   ]
  },
  {
   "cell_type": "code",
   "execution_count": null,
   "metadata": {},
   "outputs": [],
   "source": []
  }
 ],
 "metadata": {
  "kernelspec": {
   "display_name": "Python 3",
   "language": "python",
   "name": "python3"
  },
  "language_info": {
   "codemirror_mode": {
    "name": "ipython",
    "version": 3
   },
   "file_extension": ".py",
   "mimetype": "text/x-python",
   "name": "python",
   "nbconvert_exporter": "python",
   "pygments_lexer": "ipython3",
   "version": "3.6.3"
  }
 },
 "nbformat": 4,
 "nbformat_minor": 2
}
