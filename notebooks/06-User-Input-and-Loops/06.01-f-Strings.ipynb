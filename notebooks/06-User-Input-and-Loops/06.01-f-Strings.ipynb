{
 "cells": [
  {
   "cell_type": "markdown",
   "metadata": {},
   "source": [
    "## f-Strings"
   ]
  },
  {
   "cell_type": "markdown",
   "metadata": {},
   "source": [
    "Python can print data back to a user in a number of ways. One of these ways is using _f-strings_.  An f-string is a string pre-pended with an ```f``` that can include variables enclosed in curly braces ```{ }```."
   ]
  },
  {
   "cell_type": "code",
   "execution_count": 1,
   "metadata": {},
   "outputs": [
    {
     "name": "stdout",
     "output_type": "stream",
     "text": [
      "the number is 5\n"
     ]
    }
   ],
   "source": [
    "a = 5\n",
    "f_string = f'the number is {a}'\n",
    "print(f_string)"
   ]
  },
  {
   "cell_type": "markdown",
   "metadata": {},
   "source": [
    "There are a number of things going on in the short example above. First a variable, called ```a``` is assigned the value ```5```. Next a new variable ```f_string``` is assigned the value ```f'the number is {a}'```. This is an f-string. Notice how the letter ```f``` comes before the quotation mark that denotes the string. Inside the f-string there is a variable enclosed in curly braces ```{a}```. Using curly braces within an f-string inserts the value of a pre-defined variable into the string. Since ```a``` was assigned a value of ```5```, when ```f'the number is {a}'``` is printed, the output seen is ```the number is 5```. Note how ```{a}``` was replaced with ```5``` and the output does not contain curly braces ```{ }```."
   ]
  },
  {
   "cell_type": "markdown",
   "metadata": {},
   "source": [
    "We can compare the difference between a regular string and an f-string by printing out two different statements:"
   ]
  },
  {
   "cell_type": "code",
   "execution_count": 1,
   "metadata": {},
   "outputs": [
    {
     "name": "stdout",
     "output_type": "stream",
     "text": [
      "The f-string says a is equal to 5\n",
      "The regular string says a is equal to {a}\n"
     ]
    }
   ],
   "source": [
    "a = 5\n",
    "print(f'The f-string says a is equal to {a}')\n",
    "print('The regular string says a is equal to {a}')"
   ]
  },
  {
   "cell_type": "markdown",
   "metadata": {},
   "source": [
    "Note how the first line printed shows ```a is equal to 5``` and the second line shows ```a is equal to {a}```. The first print line contains an f-string, so the value of ```a```, which is ```5```, is shown. The second print line contained a regular string, so the value of ```a``` is not inserted, and instead we see ```{a}```."
   ]
  },
  {
   "cell_type": "markdown",
   "metadata": {},
   "source": [
    "Multiple variables can be inserted into an f-string simultaneously. These variables can be assigned integers, floats, or strings. All of these variable types will print out when an f-string is used."
   ]
  },
  {
   "cell_type": "code",
   "execution_count": 2,
   "metadata": {},
   "outputs": [
    {
     "name": "stdout",
     "output_type": "stream",
     "text": [
      "An integer is 5, a float is 6.02, and a string is show me\n"
     ]
    }
   ],
   "source": [
    "a = 5\n",
    "b = 6.02\n",
    "c = 'show me'\n",
    "print(f'An integer is {a}, a float is {b}, and a string is {c}')"
   ]
  },
  {
   "cell_type": "markdown",
   "metadata": {},
   "source": [
    "Expressions like ```2+2``` can also be put inside of f-strings. When the f-string prints, the expression will be evaluated (you will see ```4``` instead of ```2 + 2```). Functions can also be called on the inside of f-strings. The function output will be shown when the f-string is printed."
   ]
  },
  {
   "cell_type": "code",
   "execution_count": 4,
   "metadata": {},
   "outputs": [
    {
     "name": "stdout",
     "output_type": "stream",
     "text": [
      "An expression 4, and what is lowest of [1,2,3]? It is 1\n"
     ]
    }
   ],
   "source": [
    "print(f'An expression {2+2}, and what is lowest of [1,2,3]? It is {min([1,2,3])}')"
   ]
  },
  {
   "cell_type": "markdown",
   "metadata": {},
   "source": [
    "We can also run operations, methods and functions inside the curly braces contained within an f-strings. The str.upper() method converts a string to all uppercase. We can use this method on the inside of an f-string."
   ]
  },
  {
   "cell_type": "code",
   "execution_count": 5,
   "metadata": {},
   "outputs": [
    {
     "name": "stdout",
     "output_type": "stream",
     "text": [
      "nice to meet you uppercase GABBY\n"
     ]
    }
   ],
   "source": [
    "name = 'Gabby'\n",
    "print(f'nice to meet you uppercase {name.upper()}')"
   ]
  },
  {
   "cell_type": "code",
   "execution_count": null,
   "metadata": {},
   "outputs": [],
   "source": []
  }
 ],
 "metadata": {
  "kernelspec": {
   "display_name": "Python 3",
   "language": "python",
   "name": "python3"
  },
  "language_info": {
   "codemirror_mode": {
    "name": "ipython",
    "version": 3
   },
   "file_extension": ".py",
   "mimetype": "text/x-python",
   "name": "python",
   "nbconvert_exporter": "python",
   "pygments_lexer": "ipython3",
   "version": "3.6.4"
  }
 },
 "nbformat": 4,
 "nbformat_minor": 2
}
