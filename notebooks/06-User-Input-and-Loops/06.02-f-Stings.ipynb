{
 "cells": [
  {
   "cell_type": "markdown",
   "metadata": {},
   "source": [
    "### f-Strings"
   ]
  },
  {
   "cell_type": "markdown",
   "metadata": {},
   "source": [
    "Python can print data back to a user in a number of ways. One of these ways is using _f-strings_.  An f-string is a string pre-pended with an ```f``` that can include variables in curley braces."
   ]
  },
  {
   "cell_type": "code",
   "execution_count": 1,
   "metadata": {},
   "outputs": [
    {
     "name": "stdout",
     "output_type": "stream",
     "text": [
      "the number is 5\n"
     ]
    }
   ],
   "source": [
    "a = 5\n",
    "f_string = f'the number is {a}'\n",
    "print(f_string)"
   ]
  },
  {
   "cell_type": "markdown",
   "metadata": {},
   "source": [
    "There are a number of things going on in the short example above. First a variable, called ```a``` is assigned the value ```5```. Next a new variable ```f_string``` is assigned the value ```f'the number is {a}```. This is an f-string. Notice how the letter ```f``` comes before the quotation mark to denote the string. Inside the f-string there is a variable in curely braces ```{a}```. Using curley braces in an f-string inserts the value of a pre-defined variable into the string. Since ```a``` was assigned a value of ```5```, when ```f'the number is {a}'``` is printed, the output seen is ```the number is 5```. Note how ```{a}``` was replaced with ```5```."
   ]
  },
  {
   "cell_type": "code",
   "execution_count": null,
   "metadata": {},
   "outputs": [],
   "source": []
  }
 ],
 "metadata": {
  "kernelspec": {
   "display_name": "Python 3",
   "language": "python",
   "name": "python3"
  },
  "language_info": {
   "codemirror_mode": {
    "name": "ipython",
    "version": 3
   },
   "file_extension": ".py",
   "mimetype": "text/x-python",
   "name": "python",
   "nbconvert_exporter": "python",
   "pygments_lexer": "ipython3",
   "version": "3.6.4"
  }
 },
 "nbformat": 4,
 "nbformat_minor": 2
}
