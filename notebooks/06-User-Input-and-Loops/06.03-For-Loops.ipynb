{
 "cells": [
  {
   "cell_type": "markdown",
   "metadata": {},
   "source": [
    "## For Loops"
   ]
  },
  {
   "cell_type": "markdown",
   "metadata": {},
   "source": [
    "_For Loops_ are a component of many programming languages. A _For Loop_ is a programming structure where a section of code is run a specified number of times.\n",
    "\n",
    "Say we want to print out the statement:\n",
    "\n",
    "```\n",
    "Engineers solve problems in teams\n",
    "Engineers solve problems in teams\n",
    "Engineers solve problems in teams\n",
    "```\n",
    "\n",
    "We want to see the statement printed three times. One way to do accomplish this is with three print statments in a row:"
   ]
  },
  {
   "cell_type": "code",
   "execution_count": 1,
   "metadata": {},
   "outputs": [
    {
     "name": "stdout",
     "output_type": "stream",
     "text": [
      "Engineers solve problems in teams\n",
      "Engineers solve problems in teams\n",
      "Engineers solve problems in teams\n"
     ]
    }
   ],
   "source": [
    "print('Engineers solve problems in teams')\n",
    "print('Engineers solve problems in teams')\n",
    "print('Engineers solve problems in teams')"
   ]
  },
  {
   "cell_type": "markdown",
   "metadata": {},
   "source": [
    "### For Loops with ```range()```\n",
    "\n",
    "\n",
    "Another way to accomplish the same thing is to use a for loop. The basic structure of a for loop is below:\n",
    "    \n",
    "```\n",
    "for <var> in range(<num>):\n",
    "    <statements>\n",
    "    \n",
    "```\n",
    "\n",
    "Where ```<var>``` can be any variable name, ```range(<num>)``` is the number of times the for loop will run and ```<statements>``` are the lines of code that execute each time the loop runs. Note the for loop starts with the keyword ```for``` and includes a colon ```:```. Both ```for``` and the colon ```:``` are required. Also note that ```<statements>``` was indented. Each statement that will run in the for loop need to be indented the same amount. The standard indentation is 4 spaces. Let's rewrite our example above using a for loop:"
   ]
  },
  {
   "cell_type": "code",
   "execution_count": 2,
   "metadata": {},
   "outputs": [
    {
     "name": "stdout",
     "output_type": "stream",
     "text": [
      "Engineers solve problems in teams\n",
      "Engineers solve problems in teams\n",
      "Engineers solve problems in teams\n"
     ]
    }
   ],
   "source": [
    "for i in range(3):\n",
    "    print('Engineers solve problems in teams')"
   ]
  },
  {
   "cell_type": "markdown",
   "metadata": {},
   "source": [
    "The Python ```range()``` function will return a interable list of values starting from zero and ending at ```n-1```. For instance, when ```range(3)``` is called, the values ```0, 1, 2``` are returned. Note that ```3``` is not part of the iterable, even though the function input was ```range(3)```. This can be confirmed with a for loop:"
   ]
  },
  {
   "cell_type": "code",
   "execution_count": 3,
   "metadata": {},
   "outputs": [
    {
     "name": "stdout",
     "output_type": "stream",
     "text": [
      "This is range number: 0\n",
      "This is range number: 1\n",
      "This is range number: 2\n"
     ]
    }
   ],
   "source": [
    "for i in range(3):\n",
    "    print(f'This is range number: {i}')"
   ]
  },
  {
   "cell_type": "markdown",
   "metadata": {},
   "source": [
    "### For loops with lists\n",
    "\n",
    "For loops can also be run using lists. If a list is used, the loop will run as many times as there are items in the list. The general structure is:\n",
    "\n",
    "```\n",
    "for <var> in <list>:\n",
    "    <statements>\n",
    "```\n",
    " \n",
    "Where ```<var>``` is a variable name assigned to the item in the list, ```<list>``` is the list object and ```<statements>``` are the programming statements that run for each item in the list. An example is below:\n",
    "       "
   ]
  },
  {
   "cell_type": "code",
   "execution_count": 5,
   "metadata": {},
   "outputs": [
    {
     "name": "stdout",
     "output_type": "stream",
     "text": [
      "electical\n",
      "mechanical\n",
      "civil\n"
     ]
    }
   ],
   "source": [
    "my_list = ['electical','mechanical','civil']\n",
    "for item in my_list:\n",
    "    print(item)"
   ]
  },
  {
   "cell_type": "markdown",
   "metadata": {},
   "source": [
    "Note how the loop ran three times, becuase there were three items in the list. Each time through the loop the variable ```item``` was set to one particular item in the list. The first time through the loop, ```item='electrical'```. The second time through the loop ```item='mechanical'``` and the third time through the loop ```item='civil'```. "
   ]
  },
  {
   "cell_type": "code",
   "execution_count": null,
   "metadata": {},
   "outputs": [],
   "source": []
  }
 ],
 "metadata": {
  "kernelspec": {
   "display_name": "Python 3",
   "language": "python",
   "name": "python3"
  },
  "language_info": {
   "codemirror_mode": {
    "name": "ipython",
    "version": 3
   },
   "file_extension": ".py",
   "mimetype": "text/x-python",
   "name": "python",
   "nbconvert_exporter": "python",
   "pygments_lexer": "ipython3",
   "version": "3.6.4"
  }
 },
 "nbformat": 4,
 "nbformat_minor": 2
}
