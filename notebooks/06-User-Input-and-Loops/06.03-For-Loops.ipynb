{
 "cells": [
  {
   "cell_type": "markdown",
   "metadata": {},
   "source": [
    "## For Loops"
   ]
  },
  {
   "cell_type": "markdown",
   "metadata": {},
   "source": [
    "_For loops_ are a component of many programming languages. A _for loop_ is a programming structure where a section of code is run a specified number of times.\n",
    "\n",
    "Say we want to print out the statements:\n",
    "\n",
    "```\n",
    "Engineers solve problems in teams\n",
    "Engineers solve problems in teams\n",
    "Engineers solve problems in teams\n",
    "```\n",
    "\n",
    "We want to see the statement printed three times. One way to do accomplish this is with three print statments in a row:"
   ]
  },
  {
   "cell_type": "code",
   "execution_count": 1,
   "metadata": {},
   "outputs": [
    {
     "name": "stdout",
     "output_type": "stream",
     "text": [
      "Engineers solve problems in teams\n",
      "Engineers solve problems in teams\n",
      "Engineers solve problems in teams\n"
     ]
    }
   ],
   "source": [
    "print('Engineers solve problems in teams')\n",
    "print('Engineers solve problems in teams')\n",
    "print('Engineers solve problems in teams')"
   ]
  },
  {
   "cell_type": "markdown",
   "metadata": {},
   "source": [
    "But coding the same print statement three times is inefficient and repetitive. Another way to accomplish the same task is to use a _for loop_."
   ]
  },
  {
   "cell_type": "markdown",
   "metadata": {},
   "source": [
    "### For Loops with ```range()```\n",
    "\n",
    "\n",
    "Another method to print the same statement three times is to use a _for loop_. A for loop is a programming structure where a user-defined block of code runs a specified number of times. The basic structure of a for loop in Python is below:\n",
    "    \n",
    "```\n",
    "for var in range(num):\n",
    "    code\n",
    "    \n",
    "```\n",
    "\n",
    "Where ```var``` can be any variable name, ```range(num)``` is the number of times the for loop will run, and ```code``` are the lines of code that execute each time the loop runs. Note the for loop starts with the keyword ```for``` and includes a colon ```:```. Both ```for``` and the colon ```:``` are required. Also note that ```code``` was indented. Each statement that runs as part of the for loop needs to be indented the same number of spaces. The standard indentation is 4 spaces. Jupyter notebooks and most code editors automatically indent lines of code after a for loop is initiated. \n",
    "\n",
    "Let's rewrite the previous example using a for loop:"
   ]
  },
  {
   "cell_type": "code",
   "execution_count": 2,
   "metadata": {},
   "outputs": [
    {
     "name": "stdout",
     "output_type": "stream",
     "text": [
      "Engineers solve problems in teams\n",
      "Engineers solve problems in teams\n",
      "Engineers solve problems in teams\n"
     ]
    }
   ],
   "source": [
    "for i in range(3):\n",
    "    print('Engineers solve problems in teams')"
   ]
  },
  {
   "cell_type": "markdown",
   "metadata": {},
   "source": [
    "Python's ```range()``` function returns an an iterable list of values starting from zero and ending at ```n-1```. For instance, when ```range(3)``` is called, the values ```0, 1, 2``` are returned. Note the number ```3``` is not part of the values ```range(3)``` returns, even though the function input was ```(3)```. Python's counting starts at  can be confirmed with a for loop:"
   ]
  },
  {
   "cell_type": "code",
   "execution_count": 3,
   "metadata": {},
   "outputs": [
    {
     "name": "stdout",
     "output_type": "stream",
     "text": [
      "This is range number: 0\n",
      "This is range number: 1\n",
      "This is range number: 2\n"
     ]
    }
   ],
   "source": [
    "for i in range(3):\n",
    "    print(f'This is range number: {i}')"
   ]
  },
  {
   "cell_type": "markdown",
   "metadata": {},
   "source": [
    "### For loops with lists\n",
    "\n",
    "For loops can also be run using Python lists. If a list is used, the loop will run as many times as there are items in the list. The general structure is:\n",
    "\n",
    "```\n",
    "for <var> in <list>:\n",
    "    <statements>\n",
    "```\n",
    " \n",
    "Where ```<var>``` is a variable name assigned to the item in the list, ```<list>``` is the list object and ```<statements>``` are the programming statements that run for each item in the list. \n",
    "\n",
    "An example of a for loop using a list is below:\n",
    "       "
   ]
  },
  {
   "cell_type": "code",
   "execution_count": 4,
   "metadata": {},
   "outputs": [
    {
     "name": "stdout",
     "output_type": "stream",
     "text": [
      "electical\n",
      "mechanical\n",
      "civil\n"
     ]
    }
   ],
   "source": [
    "my_list = ['electical','mechanical','civil']\n",
    "for item in my_list:\n",
    "    print(item)"
   ]
  },
  {
   "cell_type": "markdown",
   "metadata": {},
   "source": [
    "The for loop ran three times, because there are three items in the list. Each time through the loop the variable ```item``` was set to one particular item in the list. The first time through the loop, ```item='electrical'```. The second time through the loop ```item='mechanical'``` and the third time through the loop ```item='civil'```. "
   ]
  },
  {
   "cell_type": "markdown",
   "metadata": {},
   "source": [
    "### For loops in iterative calculations"
   ]
  },
  {
   "cell_type": "markdown",
   "metadata": {},
   "source": [
    "For loops can be used to make _iterative calculations_. An iterative calculation is a calculation repeats over and over, using the returns from a previous calculation in the next calculation. An example of an iterative calculation is calculating factorials. \n",
    "\n",
    "$$n! = 1\\times2 \\ \\times...\\times \\ n$$\n",
    "\n",
    "To calculate five factorial, $5!$, we can repeat the same calculation over and over, using the result of the previous calculation in the next calculation:\n",
    "\n",
    "$$1$$\n",
    "\n",
    "$$1\\times2=2$$\n",
    "\n",
    "$$2\\times3=6$$\n",
    "\n",
    "$$6\\times4=24$$\n",
    "\n",
    "$$24\\times5=120$$\n",
    "\n",
    "This iterative calculation can be coded with a for loop. In the body of the loop, set ```n=n*(i+1)``` where ```n``` on the right-hand side of the assignment operator(```=```) is the result of the previous calculation. ```n``` on the left-hand side of the assignment operator is the new value of ```n``` that will be used in the next calculation- the next time through the for loop. \n",
    "\n",
    "Note we are using ```i+1``` instead of ```i``` as the increment in our calculation because Python numbering starts at ```0``` and ends at ```n-1```. The line ```print(f'5 factorial = {n}')``` does not run until the for loop completes because the print line is not indented. The line ```n = n * (i+1)``` runs ```5``` times because it is indented."
   ]
  },
  {
   "cell_type": "code",
   "execution_count": 5,
   "metadata": {},
   "outputs": [
    {
     "name": "stdout",
     "output_type": "stream",
     "text": [
      "5 factorial = 120\n"
     ]
    }
   ],
   "source": [
    "n = 1\n",
    "\n",
    "for i in range(5):\n",
    "    n = n * (i+1)\n",
    "    \n",
    "print(f'5 factorial = {n}')"
   ]
  },
  {
   "cell_type": "markdown",
   "metadata": {},
   "source": [
    "Let's try another iterative calculation. The Fibonacci sequence is a sequence of numbers where the next number in the sequence is equal to the sum of the two previous numbers in the sequence. For example the Fibonacci sequence to seven terms long is:\n",
    "\n",
    "$$ 1, \\ 1, \\ 2, \\ 3, \\ 5,\\ 8,\\ 13$$\n",
    "\n",
    "The next number in the Fibonacci sequence, $F_n$, can be calculated in terms of the previous two numbers in the sequence $F_{n-1}$ and $F_{n-2}$.\n",
    "\n",
    "$$ F_n = F_{n-1} + F_{n-2} $$\n",
    "\n",
    "We can code the Fibonacci sequence eight terms long using a for loop. The first two terms of the Fibonacci sequence ```F_1``` and ```F_2``` need to be defined before the loops starts. \n",
    "\n",
    "Then each time through the loop:\n",
    " * the next term in the sequence ```F``` equals ```F_1``` (the last number) and ```F_2``` (the second to last number). \n",
    " * ```F_2``` becomes the second to last number (the value of the number ```F_1```)\n",
    " * ```F_1``` becomes the last number (the value of ```F```).    "
   ]
  },
  {
   "cell_type": "code",
   "execution_count": 6,
   "metadata": {},
   "outputs": [
    {
     "name": "stdout",
     "output_type": "stream",
     "text": [
      "1 1 2 3 5 8 13 "
     ]
    }
   ],
   "source": [
    "F_1 = 1\n",
    "F_2 = 1\n",
    "\n",
    "for i in range(7):\n",
    "    print(F_2, end=' ')\n",
    "    F = F_1 + F_2\n",
    "    F_2 = F_1\n",
    "    F_1 = F\n",
    "    "
   ]
  }
 ],
 "metadata": {
  "kernelspec": {
   "display_name": "Python 3",
   "language": "python",
   "name": "python3"
  },
  "language_info": {
   "codemirror_mode": {
    "name": "ipython",
    "version": 3
   },
   "file_extension": ".py",
   "mimetype": "text/x-python",
   "name": "python",
   "nbconvert_exporter": "python",
   "pygments_lexer": "ipython3",
   "version": "3.6.5"
  }
 },
 "nbformat": 4,
 "nbformat_minor": 2
}
