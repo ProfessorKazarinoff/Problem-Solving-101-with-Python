{
 "cells": [
  {
   "cell_type": "markdown",
   "metadata": {},
   "source": [
    "## While Loops"
   ]
  },
  {
   "cell_type": "markdown",
   "metadata": {},
   "source": [
    "A _While Loop_ is a type of loop that will continue running as long as a condition is ```True```. When the condition becomes ```False``` the loop will stop running. The general form of a while loop is below:\n",
    "\n",
    "```\n",
    "while <true_statement>:\n",
    "    <statements>\n",
    "```\n",
    "\n",
    "The keyword ```while``` must be included, as well as a ```<true_statment>``` that can be evaluated as ```True``` or ```False```. An example is below:"
   ]
  },
  {
   "cell_type": "code",
   "execution_count": 1,
   "metadata": {},
   "outputs": [
    {
     "name": "stdout",
     "output_type": "stream",
     "text": [
      "0\n",
      "1\n",
      "2\n",
      "3\n"
     ]
    }
   ],
   "source": [
    "i = 0\n",
    "while i<4:\n",
    "    print(i)\n",
    "    i = i+1"
   ]
  },
  {
   "cell_type": "markdown",
   "metadata": {},
   "source": [
    "The first line ```i=0``` created a variable ```i``` and assigned it the value ```1```. Then the while loop was declared. The statement ```i<4``` will be ```True``` or ```False``` depending on the variable ```i```. Since ```i=0```, the statment ```i<4``` is ```True``` and the for loop starts to run. Then the value of ```i``` is printed followed by the value of ```i``` increasing by ```1```. When ```i=4```, the statment ```i<4``` is ```False``` and the while loop ends."
   ]
  },
  {
   "cell_type": "markdown",
   "metadata": {},
   "source": [
    "### Using a ```while``` loop to validate user input\n",
    "\n",
    "While loops can be utilized to validate user input. Say we want to insist that a user inputs positive number. We can write this into a while loop that will keep on running until the user enters in valid input. "
   ]
  },
  {
   "cell_type": "code",
   "execution_count": 5,
   "metadata": {},
   "outputs": [
    {
     "name": "stdout",
     "output_type": "stream",
     "text": [
      "Enter a positive number: -5\n",
      "Enter a positive number: -9\n",
      "Enter a positive number: -15\n",
      "Enter a positive number: 3\n"
     ]
    }
   ],
   "source": [
    "num_input = -1\n",
    "while num_input < 0:\n",
    "    str_input = input('Enter a positive number: ')\n",
    "    num_input = float(str_input)"
   ]
  },
  {
   "cell_type": "markdown",
   "metadata": {},
   "source": [
    "In the section of code above, it is important to initialize the variable ```num_input``` with a value that causes the while statement ```num_input < 0``` to evaluate as ```True```. Any negative number would have worked. ```num_input = -1``` causes the statement ```num_input < 0``` to evaluate as ```True```. If the while statment can't be evaluated as ```True``` or ```False```, Python will throw an error."
   ]
  },
  {
   "cell_type": "code",
   "execution_count": null,
   "metadata": {},
   "outputs": [],
   "source": []
  }
 ],
 "metadata": {
  "kernelspec": {
   "display_name": "Python 3",
   "language": "python",
   "name": "python3"
  },
  "language_info": {
   "codemirror_mode": {
    "name": "ipython",
    "version": 3
   },
   "file_extension": ".py",
   "mimetype": "text/x-python",
   "name": "python",
   "nbconvert_exporter": "python",
   "pygments_lexer": "ipython3",
   "version": "3.6.4"
  }
 },
 "nbformat": 4,
 "nbformat_minor": 2
}
