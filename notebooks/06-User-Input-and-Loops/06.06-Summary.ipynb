{
 "cells": [
  {
   "cell_type": "markdown",
   "metadata": {
    "latex": {
     "before_cell": "newpage"
    }
   },
   "source": [
    "## Summary"
   ]
  },
  {
   "cell_type": "markdown",
   "metadata": {},
   "source": [
    "In this chapter you learned ...\n",
    "\n",
    "Lorem ipsum dolor sit amet, consectetur adipiscing elit. Nam faucibus neque a ex aliquet, eget accumsan lectus semper. Nam posuere venenatis tincidunt. Duis finibus diam massa, commodo pellentesque orci interdum nec. Nulla dignissim libero quam, eu posuere ligula semper at. Pellentesque et vehicula lorem, nec posuere metus. Suspendisse potenti. Mauris facilisis, justo in blandit ultricies, turpis velit varius lacus, ac semper ipsum diam ut ante. Etiam eleifend lobortis lectus, eget volutpat velit mattis consequat. Morbi convallis eu erat ac aliquet. Praesent in pretium sem, eu malesuada erat. Vestibulum sit amet lacus ac eros venenatis condimentum sed et ante. Class aptent taciti sociosqu ad litora torquent per conubia nostra, per inceptos himenaeos. Mauris scelerisque erat mauris. Quisque dolor lacus, efficitur ac turpis ultricies, congue sagittis odio. Nam eleifend cursus purus, vel placerat sapien ultrices eu. |"
   ]
  },
  {
   "cell_type": "markdown",
   "metadata": {},
   "source": [
    "### Key Terms and Concepts"
   ]
  },
  {
   "cell_type": "markdown",
   "metadata": {
    "latex": {
     "environment": "key_terms"
    }
   },
   "source": [
    "loop\n",
    "\n",
    "for loop\n",
    "\n",
    "while loop\n",
    "\n",
    "selection statement\n",
    "\n",
    "if\n",
    "\n",
    "repetition structure\n",
    "\n",
    "f-string\n",
    "\n",
    "iterable\n",
    "\n",
    "input"
   ]
  },
  {
   "cell_type": "markdown",
   "metadata": {},
   "source": [
    "### Additional Resources"
   ]
  },
  {
   "cell_type": "markdown",
   "metadata": {},
   "source": [
    "The ```input()``` function official documentation on Python.org: \n",
    "\n",
    " > [https://docs.python.org/3/library/functions.html#input](https://docs.python.org/3/library/functions.html#input)\n",
    "\n",
    "_Python 3's f-Strings: An Improved String Formatting Syntax (Guide)_ by Joanna Jablonski on RealPython.com:\n",
    "\n",
    " > [https://realpython.com/python-f-strings/](https://realpython.com/python-f-strings/)\n",
    "\n",
    "_Python Loops Tutorial_ by Satyabrata Pal  on DataCamp.com:\n",
    "\n",
    " > [https://www.datacamp.com/community/tutorials/loops-python-tutorial](https://www.datacamp.com/community/tutorials/loops-python-tutorial)\n",
    "\n",
    "_If Statements_ from the **Hands-on Python Tutorial** by Dr. Andrew N. Harrington, Loyola University:\n",
    "\n",
    " > [http://anh.cs.luc.edu/handsonPythonTutorial/ifstatements.html](http://anh.cs.luc.edu/handsonPythonTutorial/ifstatements.html)"
   ]
  },
  {
   "cell_type": "code",
   "execution_count": null,
   "metadata": {},
   "outputs": [],
   "source": []
  }
 ],
 "metadata": {
  "celltoolbar": "Edit Metadata",
  "kernelspec": {
   "display_name": "Python 3",
   "language": "python",
   "name": "python3"
  },
  "language_info": {
   "codemirror_mode": {
    "name": "ipython",
    "version": 3
   },
   "file_extension": ".py",
   "mimetype": "text/x-python",
   "name": "python",
   "nbconvert_exporter": "python",
   "pygments_lexer": "ipython3",
   "version": "3.6.5"
  }
 },
 "nbformat": 4,
 "nbformat_minor": 2
}
