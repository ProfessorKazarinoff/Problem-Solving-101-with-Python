{
 "cells": [
  {
   "cell_type": "markdown",
   "metadata": {
    "latex": {
     "before_cell": "newpage"
    }
   },
   "source": [
    "## Summary"
   ]
  },
  {
   "cell_type": "markdown",
   "metadata": {},
   "source": [
    "In this chapter, you learned about user input and loops in Python.\n",
    "\n",
    "The chapter started out with a discussion _f-strings_ in Python. f-strings are one way of inserting variables into strings and ```print()``` statements. In Python, f-strings are prepended with the letter ```f```. variables and expression inside of f-strings are enclosed in curly braces ```{ }```.\n",
    "\n",
    "The general form of an f-string is below.\n",
    "\n",
    "```python\n",
    "fstring = f'Insert {variable}'\n",
    "```\n",
    "\n",
    "The next part of the chapter was user input and Python's ```input()``` function. Remember that the ```input()``` function outputs a string, not a float or integer. \n",
    "\n",
    "Selection structures and ```if``` statements were discussed next. In Python, ```if``` statements can be used to run a block of code if a certain logical condition is ```True```. The general form of an ```if``` statement in Python is below.\n",
    "\n",
    "```python\n",
    "if <logical condition>:\n",
    "    <code>\n",
    "```\n",
    "\n",
    "Remember that any code that runs if the ```<logical condition>``` is ```True``` must be indented the same number of spaces. \n",
    "\n",
    "The final part of the chapter involved the repetion structures ```for``` loops and ```while``` loops. ```for``` loops run for a defined number of times and can be defined in the following way:\n",
    "\n",
    "```python\n",
    "for i in range(<num>):\n",
    "    <code>\n",
    "```\n",
    "\n",
    "Strings and lists can also be used in ```for``` loops. \n",
    "\n",
    "The last part the chapter discussed ```while``` loops While loops run as long as a certain logical condition remains ```True```. The general structure of a ```while``` loop in Python is below:\n",
    "    \n",
    "```python\n",
    "while <logical condition>:\n",
    "    <code>\n",
    "```\n",
    "\n",
    "Just like in ```for``` loops, any code to run as part of the ```while``` loop must be indented the name number of spaces."
   ]
  },
  {
   "cell_type": "markdown",
   "metadata": {},
   "source": [
    "### Key Terms and Concepts"
   ]
  },
  {
   "cell_type": "markdown",
   "metadata": {
    "latex": {
     "environment": "key_terms"
    }
   },
   "source": [
    "loop\n",
    "\n",
    "for loop\n",
    "\n",
    "while loop\n",
    "\n",
    "selection statement\n",
    "\n",
    "if\n",
    "\n",
    "repetition structure\n",
    "\n",
    "f-string\n",
    "\n",
    "iterable\n",
    "\n",
    "input"
   ]
  },
  {
   "cell_type": "markdown",
   "metadata": {},
   "source": [
    "### Additional Resources"
   ]
  },
  {
   "cell_type": "markdown",
   "metadata": {},
   "source": [
    "The ```input()``` function official documentation on Python.org: \n",
    "\n",
    " > [https://docs.python.org/3/library/functions.html#input](https://docs.python.org/3/library/functions.html#input)\n",
    "\n",
    "_Python 3's f-Strings: An Improved String Formatting Syntax (Guide)_ by Joanna Jablonski on RealPython.com:\n",
    "\n",
    " > [https://realpython.com/python-f-strings/](https://realpython.com/python-f-strings/)\n",
    "\n",
    "_Python Loops Tutorial_ by Satyabrata Pal  on DataCamp.com:\n",
    "\n",
    " > [https://www.datacamp.com/community/tutorials/loops-python-tutorial](https://www.datacamp.com/community/tutorials/loops-python-tutorial)\n",
    "\n",
    "_If Statements_ from the **Hands-on Python Tutorial** by Dr. Andrew N. Harrington, Loyola University:\n",
    "\n",
    " > [http://anh.cs.luc.edu/handsonPythonTutorial/ifstatements.html](http://anh.cs.luc.edu/handsonPythonTutorial/ifstatements.html)"
   ]
  },
  {
   "cell_type": "code",
   "execution_count": null,
   "metadata": {},
   "outputs": [],
   "source": []
  }
 ],
 "metadata": {
  "celltoolbar": "Edit Metadata",
  "kernelspec": {
   "display_name": "Python 3",
   "language": "python",
   "name": "python3"
  },
  "language_info": {
   "codemirror_mode": {
    "name": "ipython",
    "version": 3
   },
   "file_extension": ".py",
   "mimetype": "text/x-python",
   "name": "python",
   "nbconvert_exporter": "python",
   "pygments_lexer": "ipython3",
   "version": "3.6.4"
  }
 },
 "nbformat": 4,
 "nbformat_minor": 2
}
