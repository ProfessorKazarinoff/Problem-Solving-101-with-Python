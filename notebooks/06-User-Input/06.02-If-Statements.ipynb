{
 "cells": [
  {
   "cell_type": "markdown",
   "metadata": {},
   "source": [
    "## If statements"
   ]
  },
  {
   "cell_type": "markdown",
   "metadata": {},
   "source": [
    "Another piece of programming logic is the _if_ statement. An if statement is a selection structure that will run a section of code if a condition is ```True``` and ignore that section of code if the condition is ```False```. In Python, if statements take the following form:\n",
    "\n",
    "```\n",
    "if <true_condition>:\n",
    "    <code>\n",
    "```\n",
    "\n",
    "The ```<true_condition>``` is a statement that must evaluate as either ```True``` or ```False```. If the condition is ```True``` the ```<code>``` indented below the if statement will run. If the condition is ```False``` the code indented below that if statement will be skipped. Note the colon ```:``` after the if statement and the indentation of the ```<code>``` block. An example of an if statement is below:"
   ]
  },
  {
   "cell_type": "code",
   "execution_count": 2,
   "metadata": {},
   "outputs": [
    {
     "name": "stdout",
     "output_type": "stream",
     "text": [
      "a is less than 10\n"
     ]
    }
   ],
   "source": [
    "a = 5\n",
    "if a<10:\n",
    "    print('a is less than 10')"
   ]
  },
  {
   "cell_type": "markdown",
   "metadata": {},
   "source": [
    "In the first line of code, the variable ```a``` was assigned the value ```5```. The if statement in the second line of code included the Python keyword ```if``` and a condition that can be evaluated as ```True``` or ```False```. The condition ```a<10``` evaluates to ```True``` and therefore the line ```print('a is less than 10')``` is run. If we modify the code to assign ```a=20```, then the ```print()``` line will not run."
   ]
  },
  {
   "cell_type": "code",
   "execution_count": 3,
   "metadata": {},
   "outputs": [],
   "source": [
    "a = 20\n",
    "if a<10:\n",
    "    print('a is less than 10')"
   ]
  },
  {
   "cell_type": "markdown",
   "metadata": {},
   "source": [
    "### Else"
   ]
  },
  {
   "cell_type": "markdown",
   "metadata": {},
   "source": [
    "If statements can include _else_ clauses. An _else_ clause is a section of code that run if the if statement is ```False```.  The general form is:\n",
    "\n",
    "```\n",
    "if <true_condition>:\n",
    "    <code block 1>\n",
    "else:\n",
    "    <code block 2>\n",
    "```\n",
    "\n",
    "The ```else``` key word needs to be on it's own line and be at the same indentation level as the ```if``` keyword that it corresponds to. ```else``` needs to be followed by a colon ```:``` and any code that is to run as part of the else statement must be indented the same amount. A sample if/else code section is below:"
   ]
  },
  {
   "cell_type": "code",
   "execution_count": 4,
   "metadata": {},
   "outputs": [
    {
     "name": "stdout",
     "output_type": "stream",
     "text": [
      "a is less than 10\n"
     ]
    }
   ],
   "source": [
    "a = 5\n",
    "if a>10:\n",
    "    print('a is greater than 10')\n",
    "else:\n",
    "    print('a is less than 10')"
   ]
  },
  {
   "cell_type": "markdown",
   "metadata": {},
   "source": [
    "Since ```a=5``` assigns a value to ```a``` that is less than 10, the code under the ```if``` statement does not run. Therefore the code under the ```else``` statement does run and ```a is less than 10``` is printed. If the value of a is modified so that it is greater than 10, the code under the ```if``` statement will run, and the code under the ```else``` keyword will not."
   ]
  },
  {
   "cell_type": "code",
   "execution_count": 5,
   "metadata": {},
   "outputs": [
    {
     "name": "stdout",
     "output_type": "stream",
     "text": [
      "a is greater than 10\n"
     ]
    }
   ],
   "source": [
    "a = 20\n",
    "if a>10:\n",
    "    print('a is greater than 10')\n",
    "else:\n",
    "    print('a is less than 10')"
   ]
  },
  {
   "cell_type": "markdown",
   "metadata": {},
   "source": [
    "### elif"
   ]
  },
  {
   "cell_type": "markdown",
   "metadata": {},
   "source": [
    "The _else if_ statement can be added to an if statement to run different sections of code depending on which one of many conditions are ```True```. The basic syntax of an else if section of code is:\n",
    "\n",
    "```\n",
    "if <true_condition>:\n",
    "    <code block 1>\n",
    "elif <true_condition>:\n",
    "    <code block 2>\n",
    "else:\n",
    "    <code block 3>\n",
    "```\n",
    "\n",
    "The keyword ```elif``` must be followed by a logical statement that evaluates to ```True``` or ```False``` followed by a colon ```:```. The ```<code block>``` will run if the else if condition is ```True``` and will be skipped if the else if condition is ```False```. An example section of code if below:"
   ]
  },
  {
   "cell_type": "code",
   "execution_count": 7,
   "metadata": {},
   "outputs": [
    {
     "name": "stdout",
     "output_type": "stream",
     "text": [
      "The color is green\n"
     ]
    }
   ],
   "source": [
    "color = 'green'\n",
    "if color == 'red':\n",
    "    print('The color is red')\n",
    "elif color == 'green':\n",
    "    print('The color is green')\n",
    "else:\n",
    "    print('The color is not red or green')"
   ]
  },
  {
   "cell_type": "markdown",
   "metadata": {},
   "source": [
    "If we modify the code to assign the string ```'orange'``` to the variable ```color```, the code under the ```if``` will not run and the code under the elif will not run either. Only the code under the ```else``` will be executed."
   ]
  },
  {
   "cell_type": "code",
   "execution_count": 8,
   "metadata": {},
   "outputs": [
    {
     "name": "stdout",
     "output_type": "stream",
     "text": [
      "The color is not red or green\n"
     ]
    }
   ],
   "source": [
    "color = 'orange'\n",
    "if color == 'red':\n",
    "    print('The color is red')\n",
    "elif color == 'green':\n",
    "    print('The color is green')\n",
    "else:\n",
    "    print('The color is not red or green')"
   ]
  },
  {
   "cell_type": "code",
   "execution_count": null,
   "metadata": {},
   "outputs": [],
   "source": []
  }
 ],
 "metadata": {
  "kernelspec": {
   "display_name": "Python 3",
   "language": "python",
   "name": "python3"
  },
  "language_info": {
   "codemirror_mode": {
    "name": "ipython",
    "version": 3
   },
   "file_extension": ".py",
   "mimetype": "text/x-python",
   "name": "python",
   "nbconvert_exporter": "python",
   "pygments_lexer": "ipython3",
   "version": "3.6.4"
  }
 },
 "nbformat": 4,
 "nbformat_minor": 2
}
