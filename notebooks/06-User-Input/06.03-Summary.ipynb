{
 "cells": [
  {
   "cell_type": "markdown",
   "metadata": {
    "latex": {
     "before_cell": "newpage"
    }
   },
   "source": [
    "## Summary"
   ]
  },
  {
   "cell_type": "markdown",
   "metadata": {},
   "source": [
    "In this chapter, you learned about user input and if statements in Python."
   ]
  },
  {
   "cell_type": "markdown",
   "metadata": {},
   "source": [
    "The chapter started out with a discussion _f-strings_ in Python. f-strings are one way of inserting variables into strings and ```print()``` statements. In Python, f-strings are prepended with the letter ```f```. variables and expression inside of f-strings are enclosed in curly braces ```{ }```.\n",
    "\n",
    "The general form of an f-string is below.\n",
    "\n",
    "```python\n",
    "fstring = f'Insert {variable}'\n",
    "```\n",
    "\n",
    "The next part of the chapter was user input and Python's ```input()``` function. Remember that the ```input()``` function outputs a string, not a float or integer. \n",
    "\n",
    "Selection structures and ```if``` statements were discussed next. In Python, ```if``` statements can be used to run a block of code if a certain logical condition is ```True```. The general form of an ```if``` statement in Python is below.\n",
    "\n",
    "```python\n",
    "if <logical condition>:\n",
    "    <code>\n",
    "```\n",
    "\n",
    "Remember that any code that runs if the ```<logical condition>``` is ```True``` must be indented the same number of spaces.\n",
    "\n",
    "The next chapter is about for loops and while loops."
   ]
  },
  {
   "cell_type": "markdown",
   "metadata": {},
   "source": [
    "### Key Terms and Concepts"
   ]
  },
  {
   "cell_type": "markdown",
   "metadata": {
    "latex": {
     "environment": "key_terms"
    }
   },
   "source": [
    "input\n",
    "\n",
    "selection statement\n",
    "\n",
    "if\n",
    "\n",
    "string\n",
    "\n",
    "f-string\n",
    "\n",
    "expression\n",
    "input"
   ]
  },
  {
   "cell_type": "markdown",
   "metadata": {},
   "source": [
    "### Additional Resources"
   ]
  },
  {
   "cell_type": "markdown",
   "metadata": {},
   "source": [
    "The ```input()``` function official documentation on Python.org: \n",
    "\n",
    " > [https://docs.python.org/3/library/functions.html#input](https://docs.python.org/3/library/functions.html#input)\n",
    "\n",
    "_Python 3's f-Strings: An Improved String Formatting Syntax (Guide)_ by Joanna Jablonski on RealPython.com:\n",
    "\n",
    " > [https://realpython.com/python-f-strings/](https://realpython.com/python-f-strings/)\n",
    "\n",
    "_If Statements_ from the **Hands-on Python Tutorial** by Dr. Andrew N. Harrington, Loyola University:\n",
    "\n",
    " > [http://anh.cs.luc.edu/handsonPythonTutorial/ifstatements.html](http://anh.cs.luc.edu/handsonPythonTutorial/ifstatements.html)"
   ]
  },
  {
   "cell_type": "code",
   "execution_count": null,
   "metadata": {},
   "outputs": [],
   "source": []
  }
 ],
 "metadata": {
  "celltoolbar": "Edit Metadata",
  "kernelspec": {
   "display_name": "Python 3",
   "language": "python",
   "name": "python3"
  },
  "language_info": {
   "codemirror_mode": {
    "name": "ipython",
    "version": 3
   },
   "file_extension": ".py",
   "mimetype": "text/x-python",
   "name": "python",
   "nbconvert_exporter": "python",
   "pygments_lexer": "ipython3",
   "version": "3.6.8"
  }
 },
 "nbformat": 4,
 "nbformat_minor": 2
}
