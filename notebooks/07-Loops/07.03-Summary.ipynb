{
 "cells": [
  {
   "cell_type": "markdown",
   "metadata": {
    "latex": {
     "before_cell": "newpage"
    }
   },
   "source": [
    "## Summary"
   ]
  },
  {
   "cell_type": "markdown",
   "metadata": {},
   "source": [
    "In this chapter, you learned about loops in Python. The two types of loops discussed were ```for``` loops and ```while``` loops. ```for``` loops and ```while``` loops are two repetion structures in Python.\n",
    "\n",
    "```for``` loops run for a defined number of times and can be defined in the following way:\n",
    "\n",
    "```python\n",
    "for i in range(<num>):\n",
    "    <code>\n",
    "```\n",
    "\n",
    "Strings and lists can also be used in ```for``` loops. \n",
    "\n",
    "The last part the chapter discussed ```while``` loops. ```while``` loops run as long as a certain logical condition remains ```True```. The general structure of a ```while``` loop in Python is below:\n",
    "    \n",
    "```python\n",
    "while <logical condition>:\n",
    "    <code>\n",
    "```\n",
    "\n",
    "Just like in ```for``` loops, any code to run as part of the ```while``` loop must be indented the name number of spaces."
   ]
  },
  {
   "cell_type": "markdown",
   "metadata": {},
   "source": [
    "### Key Terms and Concepts"
   ]
  },
  {
   "cell_type": "markdown",
   "metadata": {
    "latex": {
     "environment": "key_terms"
    }
   },
   "source": [
    "loop\n",
    "\n",
    "for loop\n",
    "\n",
    "while loop\n",
    "\n",
    "repetition structure\n",
    "\n",
    "iterable\n",
    "\n",
    "validate"
   ]
  },
  {
   "cell_type": "markdown",
   "metadata": {},
   "source": [
    "### Additional Resources"
   ]
  },
  {
   "cell_type": "markdown",
   "metadata": {},
   "source": [
    "_Python Loops Tutorial_ by Satyabrata Pal  on DataCamp.com:\n",
    "\n",
    " > [https://www.datacamp.com/community/tutorials/loops-python-tutorial](https://www.datacamp.com/community/tutorials/loops-python-tutorial)\n",
    "\n",
    "_If Statements_ from the **Hands-on Python Tutorial** by Dr. Andrew N. Harrington, Loyola University:\n",
    "\n",
    " > [http://anh.cs.luc.edu/handsonPythonTutorial/ifstatements.html](http://anh.cs.luc.edu/handsonPythonTutorial/ifstatements.html)"
   ]
  },
  {
   "cell_type": "code",
   "execution_count": null,
   "metadata": {},
   "outputs": [],
   "source": []
  }
 ],
 "metadata": {
  "kernelspec": {
   "display_name": "Python 3",
   "language": "python",
   "name": "python3"
  },
  "language_info": {
   "codemirror_mode": {
    "name": "ipython",
    "version": 3
   },
   "file_extension": ".py",
   "mimetype": "text/x-python",
   "name": "python",
   "nbconvert_exporter": "python",
   "pygments_lexer": "ipython3",
   "version": "3.6.8"
  }
 },
 "nbformat": 4,
 "nbformat_minor": 2
}
