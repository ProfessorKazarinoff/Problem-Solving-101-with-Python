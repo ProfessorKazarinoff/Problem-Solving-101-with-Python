{
 "cells": [
  {
   "cell_type": "markdown",
   "metadata": {},
   "source": [
    "# Python Data Types and Variables"
   ]
  },
  {
   "cell_type": "markdown",
   "metadata": {},
   "source": [
    "## Introduction\n",
    "\n",
    "Python has many builtin data types. These include integers, floats, boolean, strings, and lists. \n",
    "\n",
    "By the end of this chapter you will be able to:\n",
    "\n",
    " * use the ```type()``` function to determine an objects type\n",
    " \n",
    " * define variables in Python with the assignment opperator ```=```\n",
    " \n",
    " * Complete mathmatical calculations with variables\n",
    " \n",
    " * Complete logical evaluations with variables\n",
    " \n",
    " * Convert variables from one data type to another"
   ]
  },
  {
   "cell_type": "code",
   "execution_count": null,
   "metadata": {},
   "outputs": [],
   "source": []
  }
 ],
 "metadata": {
  "kernelspec": {
   "display_name": "Python 3",
   "language": "python",
   "name": "python3"
  },
  "language_info": {
   "codemirror_mode": {
    "name": "ipython",
    "version": 3
   },
   "file_extension": ".py",
   "mimetype": "text/x-python",
   "name": "python",
   "nbconvert_exporter": "python",
   "pygments_lexer": "ipython3",
   "version": "3.6.4"
  }
 },
 "nbformat": 4,
 "nbformat_minor": 2
}
