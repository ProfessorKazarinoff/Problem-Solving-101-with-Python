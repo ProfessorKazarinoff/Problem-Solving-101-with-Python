{
 "cells": [
  {
   "cell_type": "markdown",
   "metadata": {},
   "source": [
    "## Numeric Data Types"
   ]
  },
  {
   "cell_type": "markdown",
   "metadata": {},
   "source": [
    "Python has many useful built in data types. Python variables can store different types of data and can be created dynamically, without first defining a data type. It's useful for engineers to understand a couple of Python's core data types in order to write well constructed code. Below we will discuss a few different data types."
   ]
  },
  {
   "cell_type": "markdown",
   "metadata": {},
   "source": [
    "### Integers\n",
    "\n",
    "Integers are one of the Python data types. An integer is a whole number, negative, positive or zero. In Python, integer variables can be defined by simply assigning a whole number to a variable name. We can determine data type of a variable using the ```type()``` function.\n",
    "\n",
    "```python\n",
    ">>> a = 5\n",
    ">>> type(a)\n",
    "<class 'int'>\n",
    ">>> b = -2\n",
    ">>> type(b)\n",
    "<class 'int'>\n",
    ">>> z = 0\n",
    ">>> type(z)\n",
    "<class 'int'>\n",
    "```"
   ]
  },
  {
   "cell_type": "markdown",
   "metadata": {},
   "source": [
    "### Floating Point Numbers\n",
    "\n",
    "Floating point numbers or _floats_ are another Python data type. Floats are decimals, positive, negative and zero. Floats can also be numbers in scientific notation which contain exponents. In Python, a float can be defined using a decimal point ```.``` when a variable is assigned.\n",
    "\n",
    "```python\n",
    ">>> c = 6.2\n",
    ">>> type(c)\n",
    "<class 'float'>\n",
    ">>> d = -0.03\n",
    ">>> type(d)\n",
    "<class 'float'>\n",
    ">>> e = 6.02e23\n",
    ">>> e\n",
    "6.02e+23\n",
    ">>> type(e)\n",
    "<class 'float'>\n",
    "```\n",
    "\n",
    "To make sure a variable is a float instead of an integer even if it is a whole number, a trailing decimal point ```.``` is used. Note the difference when a decimal point comes after the a whole number:\n",
    "\n",
    "```python\n",
    ">>> g = 5     # no decimal point\n",
    ">>> type(g)\n",
    "<class 'int'>\n",
    ">>> g = 5.    # decimal point\n",
    ">>> type(g)\n",
    "<class 'float'>\n",
    "```"
   ]
  },
  {
   "cell_type": "markdown",
   "metadata": {},
   "source": [
    "#### Complex numbers\n",
    "\n",
    "Another data type useful to engineers are complex numbers. A complex number is defined in Python using a real component ```+``` imaginary component```j```. The letter ```j``` must be used in the imaginary component. Using the letter ```i``` will return an error. Note how imaginary numbers can be added to integers and floats.\n",
    "\n",
    "```python\n",
    "comp = 4 + 2j\n",
    "type(comp)\n",
    "<class 'complex'>\n",
    "comp2 = 4 + 2i\n",
    "              ^\n",
    "SyntaxError: invalid syntax\n",
    "```\n",
    "\n",
    "```python\n",
    "intgr = 3\n",
    "type(intgr)\n",
    "<class 'int'>\n",
    "comp_sum = comp + intgr\n",
    "print(comp_sum)\n",
    "(7+2j)\n",
    "flt = 2.1\n",
    "comp_sum = comp + flt\n",
    "print(comp_sum)\n",
    "(6.1+2j)\n",
    "```"
   ]
  }
 ],
 "metadata": {
  "kernelspec": {
   "display_name": "Python 3",
   "language": "python",
   "name": "python3"
  },
  "language_info": {
   "codemirror_mode": {
    "name": "ipython",
    "version": 3
   },
   "file_extension": ".py",
   "mimetype": "text/x-python",
   "name": "python",
   "nbconvert_exporter": "python",
   "pygments_lexer": "ipython3",
   "version": "3.6.4"
  }
 },
 "nbformat": 4,
 "nbformat_minor": 2
}
