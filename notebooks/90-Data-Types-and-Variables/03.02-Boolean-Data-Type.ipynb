{
 "cells": [
  {
   "cell_type": "markdown",
   "metadata": {},
   "source": [
    "## Boolean Data Type"
   ]
  },
  {
   "cell_type": "markdown",
   "metadata": {},
   "source": [
    "The _boolean_ data type is either True or False. In Python, boolean variables are defined by the ```True``` and ```False``` key words. \n",
    "\n",
    "```\n",
    "a = True\n",
    "type(a)\n",
    "<class 'bool'>\n",
    "b = False\n",
    "type(b)\n",
    "<class 'bool'>\n",
    "```\n",
    "\n",
    "Note that ```True``` and ```False``` must have an Upper Case first letter. Using a lowercase ```true``` returns an error.\n",
    "\n",
    "```\n",
    "c = true\n",
    "Traceback (most recent call last):\n",
    "  File \"<input>\", line 1, in <module>\n",
    "NameError: name 'true' is not defined\n",
    "d = false\n",
    "Traceback (most recent call last):\n",
    "  File \"<input>\", line 1, in <module>\n",
    "NameError: name 'false' is not defined\n",
    "```"
   ]
  },
  {
   "cell_type": "markdown",
   "metadata": {},
   "source": [
    "### Ints and Floats as Bools\n",
    "\n",
    "An int, float or complex number set to zero will always return ```False```, an int, float or complex number set to any other number positive or negative besides zero will return ```True```\n",
    "\n",
    "```\n",
    ">>> zero_int = 0\n",
    ">>> bool(zero_int)\n",
    "False\n",
    "```\n",
    "\n",
    "```\n",
    ">>> pos_int = 1\n",
    ">>> bool(pos_int)\n",
    "True\n",
    "```\n",
    "\n",
    "```\n",
    ">>> neg_flt = -5\n",
    ">>> bool(neg_flt)\n",
    "True\n",
    "```"
   ]
  },
  {
   "cell_type": "code",
   "execution_count": null,
   "metadata": {},
   "outputs": [],
   "source": []
  }
 ],
 "metadata": {
  "kernelspec": {
   "display_name": "Python 3",
   "language": "python",
   "name": "python3"
  },
  "language_info": {
   "codemirror_mode": {
    "name": "ipython",
    "version": 3
   },
   "file_extension": ".py",
   "mimetype": "text/x-python",
   "name": "python",
   "nbconvert_exporter": "python",
   "pygments_lexer": "ipython3",
   "version": "3.6.4"
  }
 },
 "nbformat": 4,
 "nbformat_minor": 2
}
