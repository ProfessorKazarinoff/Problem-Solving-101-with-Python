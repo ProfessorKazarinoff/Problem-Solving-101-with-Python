{
 "cells": [
  {
   "cell_type": "markdown",
   "metadata": {},
   "source": [
    "## Strings"
   ]
  },
  {
   "cell_type": "markdown",
   "metadata": {},
   "source": [
    "Strings are sequences of letters, numbers, spaces and symbols. In Python, strings can be almost any length and can contain spaces. String variables are assigned in Python using quotation marks ```'   '```. Strings can contain blank spaces. A blank space is a valid string character in Python.\n",
    "\n",
    "```\n",
    ">>> string = 'z'\n",
    ">>>> type(string)\n",
    "<class 'str'>\n",
    ">>> string = 'Engineers'\n",
    ">>> type(string)\n",
    "<class 'str'>\n",
    "```"
   ]
  },
  {
   "cell_type": "markdown",
   "metadata": {},
   "source": [
    "### Numbers as Strings\n",
    "\n",
    "Numbers and decimals can be defined as strings too. If a decimal number is defined using quotes ```'   '```, it will be saved as a string rather than as a float. Integers defined using quotes will become strings as well if surrounded with quotes.\n",
    "\n",
    "```\n",
    ">>> num = '5.2'\n",
    ">>> type(num)\n",
    "<class 'str'>\n",
    ">>> num = '2'\n",
    ">>> type(num)\n",
    "<class 'str'>\n",
    "```"
   ]
  },
  {
   "cell_type": "code",
   "execution_count": null,
   "metadata": {},
   "outputs": [],
   "source": []
  }
 ],
 "metadata": {
  "kernelspec": {
   "display_name": "Python 3",
   "language": "python",
   "name": "python3"
  },
  "language_info": {
   "codemirror_mode": {
    "name": "ipython",
    "version": 3
   },
   "file_extension": ".py",
   "mimetype": "text/x-python",
   "name": "python",
   "nbconvert_exporter": "python",
   "pygments_lexer": "ipython3",
   "version": "3.6.4"
  }
 },
 "nbformat": 4,
 "nbformat_minor": 2
}
