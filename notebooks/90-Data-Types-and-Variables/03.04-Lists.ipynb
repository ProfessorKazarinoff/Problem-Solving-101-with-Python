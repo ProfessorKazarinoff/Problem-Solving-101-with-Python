{
 "cells": [
  {
   "cell_type": "markdown",
   "metadata": {},
   "source": [
    "## Lists"
   ]
  },
  {
   "cell_type": "markdown",
   "metadata": {},
   "source": [
    "Lists is a data structure in Python that can contain multiple elements of any of the other data types. A list is defined with square brackets ```[ ]``` and commas ``` , ``` between elements.\n",
    "\n",
    "```\n",
    ">>> lst = [ 1, 2, 3 ]\n",
    ">>> type(lst)\n",
    "list\n",
    "```\n",
    "\n",
    "```\n",
    ">>> lst = [ 1, 5.3, '3rd Element']\n",
    ">>> type(lst)\n",
    "list\n",
    "```"
   ]
  },
  {
   "cell_type": "markdown",
   "metadata": {},
   "source": [
    "### Indexing Lists\n",
    "\n",
    "You can pull individual elements out of a list using bracket ```[ ]``` notation. Note that Python lists start with the index zero, not the index 1. For example:\n",
    "\n",
    "```\n",
    "lst = ['statics', 'strengths', 'dynamics']\n",
    "lst[0]\n",
    "'statics'\n",
    "lst[1]\n",
    "'strengths'\n",
    "lst[2]\n",
    "'dynamics'\n",
    "```\n",
    "\n",
    "!!! warning\n",
    "    Python lists start indexing at [0] not at [1]. To call the elements in a list with 3 values: lst[0], lst[1], lst[2]. \n",
    "\n",
    "You can use colons ``` : ``` inside the brackets to denote _all_\n",
    "\n",
    "```\n",
    "lst = [2 , 4, 6]\n",
    "lst[:]\n",
    "[2, 4, 6]\n",
    "```\n",
    "\n",
    "Negative numbers can be used as indexes to call the last number of elements in the list\n",
    "\n",
    "```\n",
    "lst = [2 , 4, 6]\n",
    "lst[-1]\n",
    "```\n",
    "\n",
    "The colon opperator can also be used to denote _all upto_ and _from thru end_.\n",
    "\n",
    "```\n",
    "lst = [2 , 4, 6]\n",
    "lst[:2]\n",
    "```\n",
    "\n",
    "```\n",
    "lst = [2 , 4, 6]\n",
    "lst[2:]\n",
    "[6]\n",
    "```\n",
    "\n",
    "The colon opperator can also be used to denote _from thru to_. Note that the indexing here in not inclusive. ```lst[1:3]``` will return the 2nd element, and 3rd element but not the fourth even though the ```3``` is used in the index.\n",
    "\n",
    "!!! warning\n",
    "    Python indexing is not inclusive the last element called in an index will not be returned\n"
   ]
  },
  {
   "cell_type": "code",
   "execution_count": null,
   "metadata": {},
   "outputs": [],
   "source": []
  }
 ],
 "metadata": {
  "kernelspec": {
   "display_name": "Python 3",
   "language": "python",
   "name": "python3"
  },
  "language_info": {
   "codemirror_mode": {
    "name": "ipython",
    "version": 3
   },
   "file_extension": ".py",
   "mimetype": "text/x-python",
   "name": "python",
   "nbconvert_exporter": "python",
   "pygments_lexer": "ipython3",
   "version": "3.6.4"
  }
 },
 "nbformat": 4,
 "nbformat_minor": 2
}
