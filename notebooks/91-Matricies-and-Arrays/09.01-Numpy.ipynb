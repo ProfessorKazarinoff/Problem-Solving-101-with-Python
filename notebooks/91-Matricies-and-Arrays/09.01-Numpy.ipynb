{
 "cells": [
  {
   "cell_type": "markdown",
   "metadata": {},
   "source": [
    "## Numpy"
   ]
  },
  {
   "cell_type": "markdown",
   "metadata": {},
   "source": [
    "**Numpy** is a Python package that has been used in previous chapters for the different functions and methods it contains. In addition to **numpy** functions such as:\n",
    "\n",
    "```\n",
    "np.sin()\n",
    "```\n",
    "\n",
    "**Numpy** can also build arrays and preform mathematical opperations on them. A numpy array is different from a Python list in that the data types within a Python list can all be different:\n",
    "\n",
    "lst =[ 1, -0.038, 'gear', True]\n",
    "\n",
    "The list above contains four different data types ```1``` is an integer, ```-0.038``` is a float, ```'gear'``` is a string, and ```'True'``` is a boolean. If we try the same thing in numpy, numpy will force all of the different data types to conform to the same data type. In this case the items are all converted to ```'<U32'```, which is a string data type"
   ]
  },
  {
   "cell_type": "code",
   "execution_count": 3,
   "metadata": {},
   "outputs": [],
   "source": [
    "lst =[ 1, -0.038, 'gear', True]"
   ]
  },
  {
   "cell_type": "code",
   "execution_count": 4,
   "metadata": {},
   "outputs": [
    {
     "data": {
      "text/plain": [
       "array(['1', '-0.038', 'gear', 'True'], dtype='<U32')"
      ]
     },
     "execution_count": 4,
     "metadata": {},
     "output_type": "execute_result"
    }
   ],
   "source": [
    "import numpy as np\n",
    "np.array([ 1, -0.038, 'gear', True])"
   ]
  },
  {
   "cell_type": "code",
   "execution_count": null,
   "metadata": {},
   "outputs": [],
   "source": []
  }
 ],
 "metadata": {
  "kernelspec": {
   "display_name": "Python 3",
   "language": "python",
   "name": "python3"
  },
  "language_info": {
   "codemirror_mode": {
    "name": "ipython",
    "version": 3
   },
   "file_extension": ".py",
   "mimetype": "text/x-python",
   "name": "python",
   "nbconvert_exporter": "python",
   "pygments_lexer": "ipython3",
   "version": "3.6.5"
  }
 },
 "nbformat": 4,
 "nbformat_minor": 2
}
