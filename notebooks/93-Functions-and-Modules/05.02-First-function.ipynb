{
 "cells": [
  {
   "cell_type": "markdown",
   "metadata": {},
   "source": [
    "## First Function"
   ]
  },
  {
   "cell_type": "markdown",
   "metadata": {},
   "source": [
    "For the first function will create a simple function that adds two to any number. Functions in Python typically contain at least two lines. The first line defines the function name and arguments.\n",
    "\n",
    "```\n",
    "def function_name(argument):\n",
    "```\n",
    "\n",
    "This line contains a couple parts:\n",
    "\n",
    "```\n",
    "def\n",
    "```\n",
    "\n",
    "The key word ```def``` needs to be the start of the line. It stands for _definition_ and indicates to the Python interpreter that a function definition will follow\n",
    "\n",
    "```\n",
    "function_name\n",
    "```\n",
    "\n",
    "Each function needs a name. The function name should start with a letter and is typically all lowercase (in **Python** names that start with Uppercase are usually used to define Classes).\n",
    "\n",
    "```\n",
    "(argument):\n",
    "```\n",
    "\n",
    "Function names are followed by a set of parenthesis ```( )```. Many functions have variable names, called _arguments_ in between the parenthesis. The name used for the function argument should be used in the body of the function. After the parenthesis comes a ```:``` colon. A colon is required to end the first line of a function.\n",
    "\n",
    "<div class=\"alert alert-warning\" role=\"alert\">\n",
    "  <strong>A colon :</strong> is required at the end of the first line of every function. If the <strong>:</strong> is not present the code will not run.\n",
    "</div>"
   ]
  },
  {
   "cell_type": "code",
   "execution_count": 1,
   "metadata": {},
   "outputs": [],
   "source": [
    "def plustwo(n):\n",
    "    n = n + 2\n",
    "    return n"
   ]
  },
  {
   "cell_type": "code",
   "execution_count": 2,
   "metadata": {},
   "outputs": [
    {
     "data": {
      "text/plain": [
       "5"
      ]
     },
     "execution_count": 2,
     "metadata": {},
     "output_type": "execute_result"
    }
   ],
   "source": [
    "plustwo(3)"
   ]
  },
  {
   "cell_type": "code",
   "execution_count": 4,
   "metadata": {},
   "outputs": [
    {
     "data": {
      "text/plain": [
       "12"
      ]
     },
     "execution_count": 4,
     "metadata": {},
     "output_type": "execute_result"
    }
   ],
   "source": [
    "plustwo(10)"
   ]
  },
  {
   "cell_type": "code",
   "execution_count": null,
   "metadata": {},
   "outputs": [],
   "source": []
  }
 ],
 "metadata": {
  "kernelspec": {
   "display_name": "Python 3",
   "language": "python",
   "name": "python3"
  },
  "language_info": {
   "codemirror_mode": {
    "name": "ipython",
    "version": 3
   },
   "file_extension": ".py",
   "mimetype": "text/x-python",
   "name": "python",
   "nbconvert_exporter": "python",
   "pygments_lexer": "ipython3",
   "version": "3.6.4"
  }
 },
 "nbformat": 4,
 "nbformat_minor": 2
}
