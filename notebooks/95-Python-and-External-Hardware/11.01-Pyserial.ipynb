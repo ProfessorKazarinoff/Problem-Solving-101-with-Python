{
 "cells": [
  {
   "cell_type": "markdown",
   "metadata": {},
   "source": [
    "## Pyserial"
   ]
  },
  {
   "cell_type": "markdown",
   "metadata": {},
   "source": [
    "**Pyserial** is a **Python** package that is used to assist in communication between external hardware and a computer using **Python**.  **Pyserial** is a useful package for engineers because it allows engineers to exchange data between a computer and pieces of hardware such as voltmeters, oscillascopes, strain gauges, flow meters etc.\n",
    "\n",
    "**Pyserial** provides an interface to communicate over the _serial_ communication protocal. _Serial_ communication is one of the oldest computer communication protocals and predates the kind of communication now typical used between computers and other pieces of hardware such as USB and HDMI. USB stands for Universal Serial Bus and is built upon and extends the serial communication interface."
   ]
  },
  {
   "cell_type": "markdown",
   "metadata": {},
   "source": [
    "### Installing pyserial"
   ]
  },
  {
   "cell_type": "markdown",
   "metadata": {},
   "source": [
    "To use **Pyserial** with **Python** it needs to be installed over the commandline using **pip** or installed using the **Anaconda Prompt**:\n",
    "\n",
    "```\n",
    "> conda install pyserial\n",
    "```\n",
    "\n",
    "or \n",
    "\n",
    "```\n",
    "$ pip install pyserial\n",
    "```\n",
    "\n",
    "After installation, you should be able to bring up the Python REPL and type:"
   ]
  },
  {
   "cell_type": "code",
   "execution_count": 3,
   "metadata": {},
   "outputs": [
    {
     "name": "stdout",
     "output_type": "stream",
     "text": [
      "3.4\n"
     ]
    }
   ],
   "source": [
    "import serial\n",
    "print(serial.__version__)"
   ]
  },
  {
   "cell_type": "markdown",
   "metadata": {},
   "source": [
    "<div class=\"alert alert-info\">\n",
    "Note: even though **pyserial** is installed with ```conda install pyserial```, the module is imported with the line ```import serial```.\n",
    "</div>"
   ]
  },
  {
   "cell_type": "code",
   "execution_count": null,
   "metadata": {},
   "outputs": [],
   "source": []
  }
 ],
 "metadata": {
  "kernelspec": {
   "display_name": "Python 3",
   "language": "python",
   "name": "python3"
  },
  "language_info": {
   "codemirror_mode": {
    "name": "ipython",
    "version": 3
   },
   "file_extension": ".py",
   "mimetype": "text/x-python",
   "name": "python",
   "nbconvert_exporter": "python",
   "pygments_lexer": "ipython3",
   "version": "3.6.3"
  }
 },
 "nbformat": 4,
 "nbformat_minor": 2
}
