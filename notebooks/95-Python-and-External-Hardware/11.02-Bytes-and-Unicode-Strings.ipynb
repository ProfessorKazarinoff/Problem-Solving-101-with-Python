{
 "cells": [
  {
   "cell_type": "markdown",
   "metadata": {},
   "source": [
    "## Bytes and Unicode Strings"
   ]
  },
  {
   "cell_type": "markdown",
   "metadata": {},
   "source": [
    "Before using **pyserial** it is import to understand the difference between _bytes_ and _unicode strings_ in **Python**. This is important because strings in python are _unicode_, but external hardware like Arduino's transmit characters as _bytes_."
   ]
  },
  {
   "cell_type": "markdown",
   "metadata": {},
   "source": [
    "### Unicode Strings"
   ]
  },
  {
   "cell_type": "markdown",
   "metadata": {},
   "source": [
    "In **Python** when you define a new string, the syntax is:"
   ]
  },
  {
   "cell_type": "code",
   "execution_count": 5,
   "metadata": {},
   "outputs": [],
   "source": [
    "ustring = 'A unicode string'"
   ]
  },
  {
   "cell_type": "markdown",
   "metadata": {},
   "source": [
    "We can view the type of our ```ustring``` variable using the ```type``` function"
   ]
  },
  {
   "cell_type": "code",
   "execution_count": 6,
   "metadata": {},
   "outputs": [
    {
     "name": "stdout",
     "output_type": "stream",
     "text": [
      "<class 'str'>\n"
     ]
    }
   ],
   "source": [
    "print(type(ustring))"
   ]
  },
  {
   "cell_type": "markdown",
   "metadata": {},
   "source": [
    "When **Python** shows us the variable ```ustring``` is of ```<class 'str'>```, it finds ```ustring``` is a _unicode string_. In **Python 3**, all strings are _unicode strings_ by defaut. This is useful because there are many letter and letter-like characters that are not part of the the set of letters, numbers and symbols on a regular computer keyboard.  For instance, English is not the most widely spoken language on the plannet. In Spanish, the accecent character is used over certain vowels. Letters with accents can't be represed by the letters on a standard keyboard.  But those accent letters are part of a set of letters, numbers and symbols."
   ]
  },
  {
   "cell_type": "markdown",
   "metadata": {},
   "source": [
    "To define a _byte string_ in Python, a letter ```b``` is placed before the quotation marks when a string is created. "
   ]
  },
  {
   "cell_type": "code",
   "execution_count": 7,
   "metadata": {},
   "outputs": [],
   "source": [
    "bstring = b'bstring'"
   ]
  },
  {
   "cell_type": "markdown",
   "metadata": {},
   "source": [
    "We can view the type of our ```bstring``` variable using the ```type``` function"
   ]
  },
  {
   "cell_type": "code",
   "execution_count": 8,
   "metadata": {},
   "outputs": [
    {
     "name": "stdout",
     "output_type": "stream",
     "text": [
      "<class 'bytes'>\n"
     ]
    }
   ],
   "source": [
    "print(type(bstring))"
   ]
  },
  {
   "cell_type": "markdown",
   "metadata": {},
   "source": [
    "To convert between _unicode strings_ and _byte strings_, use the ```.encode()``` and ```.decode()``` methods."
   ]
  },
  {
   "cell_type": "code",
   "execution_count": 11,
   "metadata": {},
   "outputs": [
    {
     "data": {
      "text/plain": [
       "bytes"
      ]
     },
     "execution_count": 11,
     "metadata": {},
     "output_type": "execute_result"
    }
   ],
   "source": [
    "new_bstring = ustring.encode()\n",
    "type(new_bstring)"
   ]
  },
  {
   "cell_type": "code",
   "execution_count": 13,
   "metadata": {},
   "outputs": [
    {
     "data": {
      "text/plain": [
       "str"
      ]
     },
     "execution_count": 13,
     "metadata": {},
     "output_type": "execute_result"
    }
   ],
   "source": [
    "new_ustring = bstring.decode()\n",
    "type(new_ustring)"
   ]
  },
  {
   "cell_type": "markdown",
   "metadata": {},
   "source": [
    "If a command from Python (a unicode string) is sent to a piece of extrnal hardware (that read bytes), the ```.encode()``` method should be applied to the unicode string before being sent.\n",
    "\n",
    "If a piece of data is coming in from a piece of extrnal hardware (a byte string) and read by Python (that speaks _unicode_), the ```.decode()``` method should be applied to the byte string before processed further by Python."
   ]
  },
  {
   "cell_type": "code",
   "execution_count": null,
   "metadata": {},
   "outputs": [],
   "source": []
  }
 ],
 "metadata": {
  "kernelspec": {
   "display_name": "Python 3",
   "language": "python",
   "name": "python3"
  },
  "language_info": {
   "codemirror_mode": {
    "name": "ipython",
    "version": 3
   },
   "file_extension": ".py",
   "mimetype": "text/x-python",
   "name": "python",
   "nbconvert_exporter": "python",
   "pygments_lexer": "ipython3",
   "version": "3.6.3"
  }
 },
 "nbformat": 4,
 "nbformat_minor": 2
}
