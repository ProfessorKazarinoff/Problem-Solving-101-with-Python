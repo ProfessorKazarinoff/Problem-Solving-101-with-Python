{
 "cells": [
  {
   "cell_type": "code",
   "execution_count": 1,
   "metadata": {},
   "outputs": [],
   "source": [
    "## Micropython REPL"
   ]
  },
  {
   "cell_type": "markdown",
   "metadata": {},
   "source": [
    "The last section detailed the installation of Micropython on an Adafruit Feather Huzzah ESP8266 microcontroller using Python and a package called **esptool**. In this section, we are going to write commands to the Micropython REPL (the Micropython prompt) to turn on and off an LED connected to the Feather Huzzah board. The posts in this series:\n",
    "\n",
    "Before you can use the Micropython REPL (the Microython prompt) running on the Adafruit Feather Huzzah ESP8266, Micropython needs to be installed on the board and Putty needs to be installed to communicate with the board over serial. See the [previous post]({filename}micropython_install.md) on how to install Micropython on the board and install [Putty](https://www.putty.org/) on a Windows 10 machine."
   ]
  },
  {
   "cell_type": "markdown",
   "metadata": {},
   "source": [
    "### Summary of Steps"
   ]
  },
  {
   "cell_type": "markdown",
   "metadata": {},
   "source": [
    "1. Connect the Adafruit Feather Huzzah ESP8266 using a USB cable\n",
    "2. Determine which COM port the board is connected to using the Windows Device Manager \n",
    "3. Open Putty and connect to the board at 115200 baud\n",
    "4. Run commands at the prompt to turn the builtin LED on the Adafruit Feather Huzzah ESP8266 on and off"
   ]
  },
  {
   "cell_type": "markdown",
   "metadata": {},
   "source": [
    "### Connect the Adafruit Feather Huzzah ESP8266 board to the laptop"
   ]
  },
  {
   "cell_type": "markdown",
   "metadata": {},
   "source": [
    "Use a microUSB cable to connect the Feather Huzzah to the computer. Make sure that the microUSB cable is a full USB data cable and not just a simple power cable. The first cable I tried was just a charging mobile phones and I couldn't figure out why Putty wasn't working. Switching out the cable was all it took to get it to work. "
   ]
  },
  {
   "cell_type": "markdown",
   "metadata": {},
   "source": [
    "### Determine which serial port the Feather Huzzah is connected to"
   ]
  },
  {
   "cell_type": "markdown",
   "metadata": {},
   "source": [
    "Use Windows Device Manager to determine which serial port the Feather Huzzah is connected to. On my Windows 10 laptop, it usually comes up as ```COM4```. You can find the serial port by looking in the Ports (COM & LPT) category of the Windows Device Manager. Look for something like **Silicon Labs CP210x USB to UART Bridge (COM4)** in the **Ports (COM & LPT)** menu. It is the **COM#** that you are looking for.\n",
    "\n",
    "![Find Device Manager]({filename}/posts/micropython/find_device_manager.png)\n",
    "\n",
    "![Device Manager Menu]({filename}/posts/micropython/device_manager_menu.png)"
   ]
  },
  {
   "cell_type": "markdown",
   "metadata": {},
   "source": [
    "### Use Putty to connect to the Feather Huzzah"
   ]
  },
  {
   "cell_type": "markdown",
   "metadata": {},
   "source": [
    "Ensure the Feather Huzzah board is connected with a USB cable, then connect to it with Putty using the proper serial port (COM#) and 115200 baud. Remember to use the **Serial** radio button under **Connection Type:** to select serial communication or you will be trying to communicate with the Feather Huzzah over SSH which won't work. \n",
    "\n",
    "![Putty in start menu]({filename}/posts/micropython/putty_in_start_menu.png)\n",
    "\n",
    "![Putty config]({filename}/posts/micropython/putty_config.PNG)\n",
    "\n",
    "This should bring up the Micropython REPL prompt ```>>>```. If you can't see the ```>>>``` prompt, try typing [Enter], Ctrl-D, pushing the RESET button on the Feather Huzzah or unplugging then replugging the USB cable.\n",
    "\n",
    "![REPL prompt]({filename}/posts/micropython/REPL_prompt.PNG)"
   ]
  },
  {
   "cell_type": "markdown",
   "metadata": {},
   "source": [
    "### Run commands at the prompt to turn the built-in LED on the Adafruit Feather Huzzah ESP8266 on and off"
   ]
  },
  {
   "cell_type": "markdown",
   "metadata": {},
   "source": [
    "At the micropython REPL (the Micropython command promt ```>>>```) try the following commands:\n",
    "\n",
    "```\n",
    ">>> print('Micropython for Engineers!')\n",
    "Micropython for Engineers\n",
    "```\n",
    "\n",
    "If we import the ```sys``` module, we can see the Micropython implementation and platform. \n",
    "\n",
    "```\n",
    ">>> import sys\n",
    ">>> sys.implementation\n",
    "(name='micropython', version=(1, 9, 3))\n",
    ">>> sys.platform\n",
    "'esp8266'\n",
    "```\n",
    "\n",
    "![REPL prompt]({filename}/posts/micropython/sys_dot_implementation_and_platform.PNG)\n",
    "\n",
    "If you see similar output, that means Micropython is working on the Feather Huzzah. We can also view the flash memory size of our Feather Huzzah and the size of the Micropyton firmware we installed. Try this at the Micropython prompt:\n",
    "\n",
    "```\n",
    ">>> import port_diag\n",
    "```\n",
    "\n",
    "![REPL prompt]({filename}/posts/micropython/import_port_diag.PNG)\n",
    "\n",
    "We can see the flash memory size is 4 MB. Below the label ```Firmware checksum:``` we can see a line for ```size: 600872```. This means the size of our Micropythpon installation is about 600 KB or 0.6 MB. Just over half a megabyte and we are running a working version of Python!\n",
    "\n",
    "Now let's turn the Feather Huzzah's built-in LED on and off. The Feather Huzzah has a built-in red LED connected to Pin 0. We can access this LED with Micropython's ```machine``` module. First we use the ```machine``` module to create a ```Pin``` object. The first argument when we instantiate the ```Pin``` object is the pin number on the board (in this case ```0```). Pin zero on the Feather Huzzah is connected to the built-in red LED. The second argument is the pin type. We want Pin 0 to act as an ouput pin (```machine.Pin.OUT```). We are going to assign our ```pin``` the attribute ```.on()``` or ```.off()```. This will cause the Feather board to output a positive voltage or no voltage to Pin 0 to turn the built-in red LED on and off. You can also connect Pin 0 to an LED through a resistor (then to ground) and have this LED turn on and off.\n",
    "\n",
    "```\n",
    ">>> import machine\n",
    ">>> pin = machine.Pin(0, machine.Pin.OUT)\n",
    "```\n",
    "\n",
    "Note that Pin 0 on the Adafruit Feather Huzzah is kind of wired \"backwards\". We call ```pin.off()``` and the built-in LED turns **on** and call ```pin.on()``` and the built-in LED turns **off**.  \n",
    "\n",
    "```\n",
    ">>> pin.on()\n",
    ">>> pin.off()\n",
    ">>> pin.on()\n",
    ">>> pin.off()\n",
    "```\n",
    "\n",
    "Now let's see if we can make the LED blink. We'll do this with a simple ```for``` loop. At the micropython REPL, initiating a loop will automatically indent the next line, so a tab is not needed before the ```pin.on()``` statement. To run the loop, we type backspace on an empty line (to backspace from an indented line) and hit return.\n",
    "\n",
    "```\n",
    ">>> import time\n",
    ">>> for i in range(10):\n",
    "...     pin.on()\n",
    "...     time.sleep(1)\n",
    "...     pin.off()\n",
    "...     time.sleep(1)\n",
    "...\n",
    "```\n",
    "\n",
    "This will blink the LED on and off for a total of 20 seconds."
   ]
  }
 ],
 "metadata": {
  "kernelspec": {
   "display_name": "Python 3",
   "language": "python",
   "name": "python3"
  },
  "language_info": {
   "codemirror_mode": {
    "name": "ipython",
    "version": 3
   },
   "file_extension": ".py",
   "mimetype": "text/x-python",
   "name": "python",
   "nbconvert_exporter": "python",
   "pygments_lexer": "ipython3",
   "version": "3.6.3"
  }
 },
 "nbformat": 4,
 "nbformat_minor": 2
}
