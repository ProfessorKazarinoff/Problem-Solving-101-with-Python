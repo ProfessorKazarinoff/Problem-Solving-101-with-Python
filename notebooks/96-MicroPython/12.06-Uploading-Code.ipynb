{
 "cells": [
  {
   "cell_type": "markdown",
   "metadata": {},
   "source": [
    "## Uploading code"
   ]
  },
  {
   "cell_type": "markdown",
   "metadata": {},
   "source": [
    "This is the sixth part of a multipart series on Micropython. At the end of this section we will have a working WiFi Weather station that will post the temperature to ThingSpeak.com\n",
    "\n",
    "Before we can use the Python REPL (the Python prompt) running on the Adafruit Feather Huzzah ESP8266, micropython needs to be installed on the board and Putty needs to be installed to communicate with the board over serial. See the previous section on how to install micropython on your board and Putty on a Windows machine."
   ]
  },
  {
   "cell_type": "markdown",
   "metadata": {},
   "source": [
    "### Summary of Steps"
   ]
  },
  {
   "cell_type": "markdown",
   "metadata": {},
   "source": [
    "1. Install ampy with pip\n",
    "2. Write python code \n",
    "3. Put the code on the board with ampy\n",
    "4. Run functions from the micropyton REPL\n",
    "5. Run a program"
   ]
  },
  {
   "cell_type": "markdown",
   "metadata": {},
   "source": [
    "### Install ampy with pip"
   ]
  },
  {
   "cell_type": "markdown",
   "metadata": {},
   "source": [
    "```\n",
    "conda activate micropython\n",
    "(micropython) pip install ampy-adafruit\n",
    "(micropython) ampy --help\n",
    "```"
   ]
  },
  {
   "cell_type": "markdown",
   "metadata": {},
   "source": [
    "### Write Python Code"
   ]
  },
  {
   "cell_type": "markdown",
   "metadata": {},
   "source": [
    "Now we need to write the Python code that we are going to put on the board. The board has two main Python files: **boot.py** and **main.py**. We can also add additional files to the board. **boot.py** is the file that runs first when the board is powered up. After **boot.py** runs, then **main.py** will run. We can add other **.py** files to the board to provide **main.py** some functions and classes to work with. We have two general things to do with our Feather board, reading temperature and posting it to the ThingSpeak. So let's use two different **.py** files for each of these general functionalities. \n",
    "\n",
    "The first **MCP9808.py** file will simplify reading temperature data off of the Adafruit MCP9808 temperature breakout. We will write a function that parses out the temperature data from the I2C bus and return it as the output for our **readtemp** function. The function needs to import the ```machine``` module to use the I2C bus. The machine module will allow us to create a new i2c object. When we create the object, we need to specify the ```scl``` and ```sda``` pins that the sensor is connected to. ```scl``` is the i2c clock line and ```sda``` is the i2c data line. These are pins 5 and 4 on the Adafruit Feather Huzzah. Then a new byte array variable needs to be created, so that we can later write data from the sensor into it.  Next we need to read the sensor data using the ```i2c.readfrom_mem_into()``` function. The first argument is the I2C bus address for the sensor. In this case the sensor is at I2C bus address ```24```. You can use the line ```>>> i2c.scan()``` in the micropython REPL to see this value.  The next function argument is the register on the MCP9808 temperature sensor where the temperature value is stored, which happens to be register ```5```. If we access register ```5``` on the MCP, we will read in the temperature. The third arguments is the variable that we store the temperature data into. The ```i2c.readfrom_mem_into``` function changes the variable that is a function argument, rather than changing a variable which is the function output as most functions do. This is why we need to first create the ```byte_data``` variable before calling the function. Next we need to do some post processing of the byte array to transform it into a temperature in degrees C.\n",
    "\n",
    "```python\n",
    "# MCP9808.py\n",
    "\n",
    "# Functions for the  MCP9808 temperature sensor\n",
    "# https://learn.adafruit.com/micropython-hardware-i2c-devices/i2c-master\n",
    "\n",
    "def readtemp():\n",
    "    import machine\n",
    "    i2c = machine.I2C(scl=machine.Pin(5), sda=machine.Pin(4))\n",
    "    byte_data = bytearray(2)\n",
    "    i2c.readfrom_mem_into(24, 5, byte_data)\n",
    "    value = byte_data[0] << 8 | byte_data[1]\n",
    "    temp = (value & 0xFFF) / 16.0\n",
    "    if value & 0x1000:\n",
    "        temp -= 256.0\n",
    "    return temp\n",
    "```\n",
    "\n",
    "Now we'll build a Python file for the set of WiFi functions. \n",
    "\n",
    "```python\n",
    "#wifitools.py\n",
    "\n",
    "# Wifi connection and post functions for an ESP8266 board running micropython\n",
    "#https://docs.micropython.org/en/v1.8.6/esp8266/esp8266/tutorial/network_basics.html\n",
    "\n",
    "def connect(SSID,password):\n",
    "    import network\n",
    "    sta_if = network.WLAN(network.STA_IF)\n",
    "    if not sta_if.isconnected():\n",
    "        print('connecting to network...')\n",
    "        sta_if.active(True)\n",
    "        sta_if.connect(SSID, password)\n",
    "        while not sta_if.isconnected():\n",
    "            pass\n",
    "    print('network config:', sta_if.ifconfig())\n",
    "\n",
    "#https://docs.micropython.org/en/v1.8.6/esp8266/esp8266/tutorial/network_tcp.html\n",
    "def http_get(url):\n",
    "    import socket\n",
    "    _, _, host, path = url.split('/', 3)\n",
    "    addr = socket.getaddrinfo(host, 80)[0][-1]\n",
    "    s = socket.socket()\n",
    "    s.connect(addr)\n",
    "    s.send(bytes('GET /%s HTTP/1.0\\r\\nHost: %s\\r\\n\\r\\n' % (path, host), 'utf8'))\n",
    "    while True:\n",
    "        data = s.recv(100)\n",
    "        if data:\n",
    "            print(str(data, 'utf8'), end='')\n",
    "        else:\n",
    "            break\n",
    "\n",
    "def thingspeak_post(API_key,data):\n",
    "    if not isinstance(data, str):\n",
    "        data = str(data)\n",
    "    #base_url = 'https://api.thingspeak.com/update?api_key=THECLASSAPIKEY&field1=87'\n",
    "    base_url = 'https://api.thingspeak.com/update?api_key='\n",
    "    mid_url = '&field1='\n",
    "    url = base_url + API_key + mid_url + data\n",
    "    http_get(url)\n",
    "\n",
    "```\n",
    "\n",
    "Now let's write a script in a file called **main.py** which will use these functions. This script will import our MCP9808 and wifitools modules and use the ```wifitools.connect()``` function to connect to the WiFi network. There is a ```time.sleep(5)``` line to allow the board time to connect. Next we'll run a loop for a total of 8 hours at 60 minutes in each hour. Inside the loop, we'll read in the temperature from the MCP9808 using the ```MCP9808.readtemp()``` function and post it to ThingSpeak.com using the ```wifitools.thingspeak_post()``` function. To take the temperature once a minute, we need to ```time.sleep(60)``` (wait 60 seconds) between each measurement.\n",
    "\n",
    "```python\n",
    "# main.py\n",
    "# ESP8266 Feather Huzzah Weather Station\n",
    "\n",
    "import wifitools\n",
    "import MCP9808\n",
    "import time\n",
    "import config\n",
    "\n",
    "api_key = config.API_KEY\n",
    "ssid = config.SSID\n",
    "password = config.WIFI_PASSWORD\n",
    "\n",
    "wifitools.connect(ssid,password)\n",
    "time.sleep(5)\n",
    "\n",
    "for i in range(8*60):\n",
    "    data = MCP9808.readtemp()\n",
    "    wifitools.thingspeak_post(api_key,data)\n",
    "    time.sleep(60)\n",
    "\n",
    "```"
   ]
  },
  {
   "cell_type": "markdown",
   "metadata": {},
   "source": [
    "### Upload Python Code to the Feather Huzzah with ampy"
   ]
  },
  {
   "cell_type": "markdown",
   "metadata": {},
   "source": [
    "Once all the **.py** files are created, ensure the Feather is connected with a USB cable, and you know what serial port the feather is connected to. We'll upload the code files to the board using ```ampy```. Make sure that you are in the directory with the **.py** files and that you are working in the ```(micropython)``` environment that has ```ampy``` installed in it.\n",
    "\n",
    "```\n",
    "(micropython) ampy --port COM4 put MCP9808.py\n",
    "(micropython) ampy --port COM4 put wifitools.py\n",
    "(micropython) ampy --port COM4 put main.py\n",
    "(micropython) ampy --port COM4 ls\n",
    "boot.py\n",
    "wifitools.py\n",
    "MCP9808.py\n",
    "config.py\n",
    "main.py\n",
    "```"
   ]
  },
  {
   "cell_type": "markdown",
   "metadata": {},
   "source": [
    "### Unplug and power up the Feather Huzzah and watch the data on ThingSpeak"
   ]
  },
  {
   "cell_type": "markdown",
   "metadata": {},
   "source": [
    "The Feather Huzzah needs to be restarted to run the code we just uploaded. To restart the board unplug and then replug the board's power. Once power is restored, the board will run through the **boot.py** script then start the **main.py** script. When it runs the **main.py** script, the board will connect to the WiFi network, read the temperature and upload the data to ThingSpeak.com. If we go to ThingSpeak.com, we should see the temperature plotted on our Channel's page."
   ]
  },
  {
   "cell_type": "code",
   "execution_count": null,
   "metadata": {},
   "outputs": [],
   "source": []
  }
 ],
 "metadata": {
  "kernelspec": {
   "display_name": "Python 3",
   "language": "python",
   "name": "python3"
  },
  "language_info": {
   "codemirror_mode": {
    "name": "ipython",
    "version": 3
   },
   "file_extension": ".py",
   "mimetype": "text/x-python",
   "name": "python",
   "nbconvert_exporter": "python",
   "pygments_lexer": "ipython3",
   "version": "3.6.3"
  }
 },
 "nbformat": 4,
 "nbformat_minor": 2
}
