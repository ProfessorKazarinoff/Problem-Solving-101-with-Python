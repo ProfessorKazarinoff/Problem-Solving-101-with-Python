{
 "cells": [
  {
   "cell_type": "markdown",
   "metadata": {},
   "source": [
    "# Appendix"
   ]
  },
  {
   "cell_type": "markdown",
   "metadata": {},
   "source": [
    "## Contents"
   ]
  },
  {
   "cell_type": "markdown",
   "metadata": {
    "latex": {
     "after_cell": "newpage"
    }
   },
   "source": [
    "The following is detailed in the appendix:\n",
    "\n",
    " * Reserved and key words in Python\n",
    " \n",
    " * Python's Built-in functions\n",
    " \n",
    " * ```math``` and ```statistics``` module functions\n",
    " \n",
    " * NumPy math functions\n",
    " \n",
    " * Virtual Environments\n",
    " \n",
    " * Problem Solving 101 with Python book construction\n",
    " \n",
    " * Contributions\n",
    " \n",
    " * About the author"
   ]
  }
 ],
 "metadata": {
  "celltoolbar": "Edit Metadata",
  "kernelspec": {
   "display_name": "Python 3",
   "language": "python",
   "name": "python3"
  },
  "language_info": {
   "codemirror_mode": {
    "name": "ipython",
    "version": 3
   },
   "file_extension": ".py",
   "mimetype": "text/x-python",
   "name": "python",
   "nbconvert_exporter": "python",
   "pygments_lexer": "ipython3",
   "version": "3.6.4"
  }
 },
 "nbformat": 4,
 "nbformat_minor": 2
}
