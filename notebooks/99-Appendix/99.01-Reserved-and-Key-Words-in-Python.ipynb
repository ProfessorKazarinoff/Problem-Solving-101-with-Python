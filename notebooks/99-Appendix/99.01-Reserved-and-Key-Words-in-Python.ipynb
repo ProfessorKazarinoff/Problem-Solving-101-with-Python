{
 "cells": [
  {
   "cell_type": "markdown",
   "metadata": {},
   "source": [
    "## Reserved and Key Words in Python"
   ]
  },
  {
   "cell_type": "markdown",
   "metadata": {},
   "source": [
    "The following are reserved and keywords in Python. These keywords should not be used as the names for user-defined functions, classes, methods or modules. The keywords can be accessed with the following code:"
   ]
  },
  {
   "cell_type": "code",
   "execution_count": 3,
   "metadata": {},
   "outputs": [
    {
     "name": "stdout",
     "output_type": "stream",
     "text": [
      "There are 33 key words:\n",
      "False\n",
      "None\n",
      "True\n",
      "and\n",
      "as\n",
      "assert\n",
      "break\n",
      "class\n",
      "continue\n",
      "def\n",
      "del\n",
      "elif\n",
      "else\n",
      "except\n",
      "finally\n",
      "for\n",
      "from\n",
      "global\n",
      "if\n",
      "import\n",
      "in\n",
      "is\n",
      "lambda\n",
      "nonlocal\n",
      "not\n",
      "or\n",
      "pass\n",
      "raise\n",
      "return\n",
      "try\n",
      "while\n",
      "with\n",
      "yield\n"
     ]
    }
   ],
   "source": [
    "import keyword\n",
    "print(f'There are {len(keyword.kwlist)} key words:')\n",
    "for keywrd in keyword.kwlist:\n",
    "    print(keywrd)"
   ]
  },
  {
   "cell_type": "markdown",
   "metadata": {},
   "source": [
    "### Logical Key Words"
   ]
  },
  {
   "cell_type": "markdown",
   "metadata": {},
   "source": [
    "|  | | |\n",
    "| --- | --- | --- |\n",
    "| ```True``` | ```False``` | ```not``` |\n",
    "| ```and```| ```or``` | ```is``` |\n",
    "| ```None``` | ```in```| |"
   ]
  },
  {
   "cell_type": "markdown",
   "metadata": {},
   "source": [
    "### Control Flow Key Words"
   ]
  },
  {
   "cell_type": "markdown",
   "metadata": {},
   "source": [
    "|  | | |\n",
    "| --- | --- | --- |\n",
    "| ```if``` | ```else``` | ```elif``` |\n",
    "| ```for``` | ```while``` | ```break``` |\n",
    "| ```continue``` | ```pass``` | ```try``` |\n",
    "| ```except``` | ```finally``` | ```raise``` |\n",
    "| ```return``` | ```yield``` | |"
   ]
  },
  {
   "cell_type": "markdown",
   "metadata": {},
   "source": [
    "### Definition Key Words"
   ]
  },
  {
   "cell_type": "markdown",
   "metadata": {},
   "source": [
    "|  | | |\n",
    "| --- | --- | --- |\n",
    "| ```def``` | ```nonlocal``` | ```class``` |\n",
    "| ```lambda``` | ```with``` | ```assert``` |\n",
    "| ```del``` | ```global``` |  |"
   ]
  },
  {
   "cell_type": "markdown",
   "metadata": {},
   "source": [
    "### Module Key Words"
   ]
  },
  {
   "cell_type": "markdown",
   "metadata": {},
   "source": [
    "|  | | |\n",
    "| --- | --- | --- |\n",
    "| ```import``` | ```from``` | ```as``` |\n",
    "\n",
    "\n",
    "\n"
   ]
  },
  {
   "cell_type": "code",
   "execution_count": null,
   "metadata": {
    "collapsed": true
   },
   "outputs": [],
   "source": []
  }
 ],
 "metadata": {
  "kernelspec": {
   "display_name": "Python 3",
   "language": "python",
   "name": "python3"
  },
  "language_info": {
   "codemirror_mode": {
    "name": "ipython",
    "version": 3
   },
   "file_extension": ".py",
   "mimetype": "text/x-python",
   "name": "python",
   "nbconvert_exporter": "python",
   "pygments_lexer": "ipython3",
   "version": "3.6.4"
  }
 },
 "nbformat": 4,
 "nbformat_minor": 2
}
