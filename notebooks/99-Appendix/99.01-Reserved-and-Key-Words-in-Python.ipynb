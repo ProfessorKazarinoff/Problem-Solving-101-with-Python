{
 "cells": [
  {
   "cell_type": "markdown",
   "metadata": {
    "latex": {
     "before_cell": "new_page"
    }
   },
   "source": [
    "## Reserved and Key Words in Python"
   ]
  },
  {
   "cell_type": "markdown",
   "metadata": {},
   "source": [
    "The following are reserved keywords in Python. Reserved keywords should not be used as names for user-defined functions, classes, methods or modules. The list of keywords can be accessed with the following code:"
   ]
  },
  {
   "cell_type": "markdown",
   "metadata": {},
   "source": [
    "```python\n",
    "import keyword\n",
    "print(f'There are {len(keyword.kwlist)} key words:')\n",
    "for keywrd in keyword.kwlist:\n",
    "    print(keywrd)\n",
    "```"
   ]
  },
  {
   "cell_type": "markdown",
   "metadata": {},
   "source": [
    "There are 33 key words:"
   ]
  },
  {
   "cell_type": "markdown",
   "metadata": {
    "latex": {
     "environment": "function_listing"
    }
   },
   "source": [
    "False\n",
    "\n",
    "None\n",
    "\n",
    "True\n",
    "\n",
    "and\n",
    "\n",
    "as\n",
    "\n",
    "assert\n",
    "\n",
    "break\n",
    "\n",
    "class\n",
    "\n",
    "continue\n",
    "\n",
    "def\n",
    "\n",
    "del\n",
    "\n",
    "elif\n",
    "\n",
    "else\n",
    "\n",
    "except\n",
    "\n",
    "finally\n",
    "\n",
    "for\n",
    "\n",
    "from\n",
    "\n",
    "global\n",
    "\n",
    "if\n",
    "\n",
    "import\n",
    "\n",
    "in\n",
    "\n",
    "is\n",
    "\n",
    "lambda\n",
    "\n",
    "nonlocal\n",
    "\n",
    "not\n",
    "\n",
    "or\n",
    "\n",
    "pass\n",
    "\n",
    "raise\n",
    "\n",
    "return\n",
    "\n",
    "try\n",
    "\n",
    "while\n",
    "\n",
    "with\n",
    "\n",
    "yield"
   ]
  },
  {
   "cell_type": "code",
   "execution_count": null,
   "metadata": {},
   "outputs": [],
   "source": []
  }
 ],
 "metadata": {
  "celltoolbar": "Edit Metadata",
  "kernelspec": {
   "display_name": "Python 3",
   "language": "python",
   "name": "python3"
  },
  "language_info": {
   "codemirror_mode": {
    "name": "ipython",
    "version": 3
   },
   "file_extension": ".py",
   "mimetype": "text/x-python",
   "name": "python",
   "nbconvert_exporter": "python",
   "pygments_lexer": "ipython3",
   "version": "3.6.4"
  }
 },
 "nbformat": 4,
 "nbformat_minor": 2
}
