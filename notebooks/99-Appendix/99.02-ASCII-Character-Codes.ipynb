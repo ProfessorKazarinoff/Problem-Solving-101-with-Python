{
 "cells": [
  {
   "cell_type": "markdown",
   "metadata": {},
   "source": [
    "## ASCII Character Codes"
   ]
  },
  {
   "cell_type": "markdown",
   "metadata": {},
   "source": [
    "The following is a list of ASCII character codes. These character codes can also be acccessed using the following code:"
   ]
  },
  {
   "cell_type": "code",
   "execution_count": 2,
   "metadata": {},
   "outputs": [
    {
     "name": "stdout",
     "output_type": "stream",
     "text": [
      "ASCII code: 32    Character:  \n",
      "ASCII code: 33    Character: !\n",
      "ASCII code: 34    Character: \"\n",
      "ASCII code: 35    Character: #\n",
      "ASCII code: 36    Character: $\n",
      "ASCII code: 37    Character: %\n",
      "ASCII code: 38    Character: &\n",
      "ASCII code: 39    Character: '\n",
      "ASCII code: 40    Character: (\n",
      "ASCII code: 41    Character: )\n",
      "ASCII code: 42    Character: *\n",
      "ASCII code: 43    Character: +\n",
      "ASCII code: 44    Character: ,\n",
      "ASCII code: 45    Character: -\n",
      "ASCII code: 46    Character: .\n",
      "ASCII code: 47    Character: /\n",
      "ASCII code: 48    Character: 0\n",
      "ASCII code: 49    Character: 1\n",
      "ASCII code: 50    Character: 2\n",
      "ASCII code: 51    Character: 3\n",
      "ASCII code: 52    Character: 4\n",
      "ASCII code: 53    Character: 5\n",
      "ASCII code: 54    Character: 6\n",
      "ASCII code: 55    Character: 7\n",
      "ASCII code: 56    Character: 8\n",
      "ASCII code: 57    Character: 9\n",
      "ASCII code: 58    Character: :\n",
      "ASCII code: 59    Character: ;\n",
      "ASCII code: 60    Character: <\n",
      "ASCII code: 61    Character: =\n",
      "ASCII code: 62    Character: >\n",
      "ASCII code: 63    Character: ?\n",
      "ASCII code: 64    Character: @\n",
      "ASCII code: 65    Character: A\n",
      "ASCII code: 66    Character: B\n",
      "ASCII code: 67    Character: C\n",
      "ASCII code: 68    Character: D\n",
      "ASCII code: 69    Character: E\n",
      "ASCII code: 70    Character: F\n",
      "ASCII code: 71    Character: G\n",
      "ASCII code: 72    Character: H\n",
      "ASCII code: 73    Character: I\n",
      "ASCII code: 74    Character: J\n",
      "ASCII code: 75    Character: K\n",
      "ASCII code: 76    Character: L\n",
      "ASCII code: 77    Character: M\n",
      "ASCII code: 78    Character: N\n",
      "ASCII code: 79    Character: O\n",
      "ASCII code: 80    Character: P\n",
      "ASCII code: 81    Character: Q\n",
      "ASCII code: 82    Character: R\n",
      "ASCII code: 83    Character: S\n",
      "ASCII code: 84    Character: T\n",
      "ASCII code: 85    Character: U\n",
      "ASCII code: 86    Character: V\n",
      "ASCII code: 87    Character: W\n",
      "ASCII code: 88    Character: X\n",
      "ASCII code: 89    Character: Y\n",
      "ASCII code: 90    Character: Z\n",
      "ASCII code: 91    Character: [\n",
      "ASCII code: 92    Character: \\\n",
      "ASCII code: 93    Character: ]\n",
      "ASCII code: 94    Character: ^\n",
      "ASCII code: 95    Character: _\n",
      "ASCII code: 96    Character: `\n",
      "ASCII code: 97    Character: a\n",
      "ASCII code: 98    Character: b\n",
      "ASCII code: 99    Character: c\n",
      "ASCII code: 100    Character: d\n",
      "ASCII code: 101    Character: e\n",
      "ASCII code: 102    Character: f\n",
      "ASCII code: 103    Character: g\n",
      "ASCII code: 104    Character: h\n",
      "ASCII code: 105    Character: i\n",
      "ASCII code: 106    Character: j\n",
      "ASCII code: 107    Character: k\n",
      "ASCII code: 108    Character: l\n",
      "ASCII code: 109    Character: m\n",
      "ASCII code: 110    Character: n\n",
      "ASCII code: 111    Character: o\n",
      "ASCII code: 112    Character: p\n",
      "ASCII code: 113    Character: q\n",
      "ASCII code: 114    Character: r\n",
      "ASCII code: 115    Character: s\n",
      "ASCII code: 116    Character: t\n",
      "ASCII code: 117    Character: u\n",
      "ASCII code: 118    Character: v\n",
      "ASCII code: 119    Character: w\n",
      "ASCII code: 120    Character: x\n",
      "ASCII code: 121    Character: y\n",
      "ASCII code: 122    Character: z\n",
      "ASCII code: 123    Character: {\n",
      "ASCII code: 124    Character: |\n",
      "ASCII code: 125    Character: }\n",
      "ASCII code: 126    Character: ~\n"
     ]
    }
   ],
   "source": [
    "for ASCIIcode in range(32,127):\n",
    "    print('ASCII code: {}    Character: {}'.format(ASCIIcode,chr(ASCIIcode)))"
   ]
  },
  {
   "cell_type": "code",
   "execution_count": null,
   "metadata": {},
   "outputs": [],
   "source": []
  }
 ],
 "metadata": {
  "kernelspec": {
   "display_name": "Python 3",
   "language": "python",
   "name": "python3"
  },
  "language_info": {
   "codemirror_mode": {
    "name": "ipython",
    "version": 3
   },
   "file_extension": ".py",
   "mimetype": "text/x-python",
   "name": "python",
   "nbconvert_exporter": "python",
   "pygments_lexer": "ipython3",
   "version": "3.6.5"
  }
 },
 "nbformat": 4,
 "nbformat_minor": 2
}
