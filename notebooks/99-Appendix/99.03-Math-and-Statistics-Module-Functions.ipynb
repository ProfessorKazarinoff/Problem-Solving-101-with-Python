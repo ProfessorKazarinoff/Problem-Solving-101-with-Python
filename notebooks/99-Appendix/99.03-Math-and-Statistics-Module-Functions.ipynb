{
 "cells": [
  {
   "cell_type": "markdown",
   "metadata": {},
   "source": [
    "## Math and Statistics Module Functions"
   ]
  },
  {
   "cell_type": "markdown",
   "metadata": {},
   "source": [
    "### Math module functions\n",
    "\n",
    "The following are the functions in the Python's built-in **math** module:"
   ]
  },
  {
   "cell_type": "markdown",
   "metadata": {},
   "source": [
    "#### math trig functions"
   ]
  },
  {
   "cell_type": "markdown",
   "metadata": {
    "latex": {
     "environment": "function_listing"
    }
   },
   "source": [
    "acos()\n",
    "\n",
    "acosh()\n",
    "\n",
    "asin()\n",
    "\n",
    "asinh()\n",
    "\n",
    "atan()\n",
    "\n",
    "atan2()\n",
    "\n",
    "atanh()\n",
    "\n",
    "cos()\n",
    "\n",
    "cosh()\n",
    "\n",
    "degrees()\n",
    "\n",
    "hypot()\n",
    "\n",
    "pi()\n",
    "\n",
    "radians()\n",
    "\n",
    "sin()\n",
    "\n",
    "sinh()\n",
    "\n",
    "tan()\n",
    "\n",
    "tanh()\n",
    "\n",
    "tau()"
   ]
  },
  {
   "cell_type": "markdown",
   "metadata": {},
   "source": [
    "#### math power, exponent and logarithm functions"
   ]
  },
  {
   "cell_type": "markdown",
   "metadata": {
    "latex": {
     "environment": "function_listing"
    }
   },
   "source": [
    "e()\n",
    "\n",
    "exp()\n",
    "\n",
    "expm1()\n",
    "\n",
    "frexp()\n",
    "\n",
    "factorial()\n",
    "\n",
    "ldexp()\n",
    "\n",
    "lgamma()\n",
    "\n",
    "log()\n",
    "\n",
    "log10()\n",
    "\n",
    "log1p()\n",
    "\n",
    "log2()\n",
    "\n",
    "pow()\n",
    "\n",
    "sqrt()"
   ]
  },
  {
   "cell_type": "markdown",
   "metadata": {
    "latex": {
     "environment": "key_terms"
    }
   },
   "source": [
    "#### math miscellaneous functions"
   ]
  },
  {
   "cell_type": "markdown",
   "metadata": {
    "latex": {
     "environment": "function_listing"
    }
   },
   "source": [
    "ceil()\n",
    "\n",
    "copysign()\n",
    "\n",
    "erf()\n",
    "\n",
    "erfc()\n",
    "\n",
    "abs()\n",
    "\n",
    "floor()\n",
    "\n",
    "fmod()\n",
    "\n",
    "fsum()\n",
    "\n",
    "gamma()\n",
    "\n",
    "gcd()\n",
    "\n",
    "inf()\n",
    "\n",
    "isclose()\n",
    "\n",
    "isfinite()\n",
    "\n",
    "isinf()\n",
    "\n",
    "isnan()\n",
    "\n",
    "modf()\n",
    "\n",
    "nan()\n",
    "\n",
    "trunc()"
   ]
  },
  {
   "cell_type": "markdown",
   "metadata": {},
   "source": [
    "### Statistics module functions\n",
    "\n",
    "The following are the functions and classes in Python's built-in **statistics** module:"
   ]
  },
  {
   "cell_type": "markdown",
   "metadata": {},
   "source": [
    "#### statistics functions"
   ]
  },
  {
   "cell_type": "markdown",
   "metadata": {
    "latex": {
     "environment": "function_listing"
    }
   },
   "source": [
    "bisect_left()\n",
    "\n",
    "bisect_right()\n",
    "\n",
    "chain()\n",
    "\n",
    "collections()\n",
    "\n",
    "decimal()\n",
    "\n",
    "groupby()\n",
    "\n",
    "harmonic_mean()\n",
    "\n",
    "math()\n",
    "\n",
    "mean()\n",
    "\n",
    "median()\n",
    "\n",
    "median_grouped()\n",
    "\n",
    "median_high()\n",
    "\n",
    "median_low()\n",
    "\n",
    "mode()\n",
    "\n",
    "numbers()\n",
    "\n",
    "pstdev()\n",
    "\n",
    "pvariance()\n",
    "\n",
    "stdev()\n",
    "\n",
    "variance()"
   ]
  },
  {
   "cell_type": "markdown",
   "metadata": {},
   "source": [
    "#### statistics classes"
   ]
  },
  {
   "cell_type": "markdown",
   "metadata": {
    "latex": {
     "environment": "function_listing"
    }
   },
   "source": [
    "Decimal\n",
    "\n",
    "Fraction\n",
    "\n",
    "StatisticsError"
   ]
  }
 ],
 "metadata": {
  "celltoolbar": "Edit Metadata",
  "kernelspec": {
   "display_name": "Python 3",
   "language": "python",
   "name": "python3"
  },
  "language_info": {
   "codemirror_mode": {
    "name": "ipython",
    "version": 3
   },
   "file_extension": ".py",
   "mimetype": "text/x-python",
   "name": "python",
   "nbconvert_exporter": "python",
   "pygments_lexer": "ipython3",
   "version": "3.6.4"
  }
 },
 "nbformat": 4,
 "nbformat_minor": 2
}
