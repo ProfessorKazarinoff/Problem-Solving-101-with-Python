{
 "cells": [
  {
   "cell_type": "markdown",
   "metadata": {},
   "source": [
    "## Math and Statistics Module Functions"
   ]
  },
  {
   "cell_type": "markdown",
   "metadata": {},
   "source": [
    "### Math module functions\n",
    "\n",
    "The following are the functions in the Python's built-in **math** module:"
   ]
  },
  {
   "cell_type": "markdown",
   "metadata": {},
   "source": [
    "#### math trig functions\n",
    "\n",
    "```\n",
    "acos\n",
    "acosh\n",
    "asin\n",
    "asinh\n",
    "atan\n",
    "atan2\n",
    "atanh\n",
    "cos\n",
    "cosh\n",
    "degrees\n",
    "hypot\n",
    "pi\n",
    "radians\n",
    "sin\n",
    "sinh\n",
    "tan\n",
    "tanh\n",
    "tau\n",
    "```\n",
    "\n",
    "#### math power, exponent and logarithm functions\n",
    "\n",
    "```\n",
    "e\n",
    "exp\n",
    "expm1\n",
    "frexp\n",
    "factorial\n",
    "ldexp\n",
    "lgamma\n",
    "log\n",
    "log10\n",
    "log1p\n",
    "log2\n",
    "pow\n",
    "sqrt\n",
    "```\n",
    "\n",
    "#### math miscillanous fuctions\n",
    "\n",
    "```\n",
    "ceil\n",
    "copysign\n",
    "erf\n",
    "erfc\n",
    "fabs\n",
    "floor\n",
    "fmod\n",
    "fsum\n",
    "gamma\n",
    "gcd\n",
    "inf\n",
    "isclose\n",
    "isfinite\n",
    "isinf\n",
    "isnan\n",
    "modf\n",
    "nan\n",
    "trunc\n",
    "```"
   ]
  },
  {
   "cell_type": "markdown",
   "metadata": {},
   "source": [
    "### Statistics module functions\n",
    "\n",
    "The following are the functions and classes in Python's built-in **statistics** module:"
   ]
  },
  {
   "cell_type": "markdown",
   "metadata": {},
   "source": [
    "#### staticstics functions\n",
    "\n",
    "```\n",
    "bisect_left\n",
    "bisect_right\n",
    "chain\n",
    "collections\n",
    "decimal\n",
    "groupby\n",
    "harmonic_mean\n",
    "math\n",
    "mean\n",
    "median\n",
    "median_grouped\n",
    "median_high\n",
    "median_low\n",
    "mode\n",
    "numbers\n",
    "pstdev\n",
    "pvariance\n",
    "stdev\n",
    "variance\n",
    " ```\n",
    " "
   ]
  },
  {
   "cell_type": "markdown",
   "metadata": {},
   "source": [
    "#### statistics classes\n",
    "\n",
    "```\n",
    "Decimal\n",
    "Fraction\n",
    "StatisticsError\n",
    "```"
   ]
  }
 ],
 "metadata": {
  "kernelspec": {
   "display_name": "Python 3",
   "language": "python",
   "name": "python3"
  },
  "language_info": {
   "codemirror_mode": {
    "name": "ipython",
    "version": 3
   },
   "file_extension": ".py",
   "mimetype": "text/x-python",
   "name": "python",
   "nbconvert_exporter": "python",
   "pygments_lexer": "ipython3",
   "version": "3.6.4"
  }
 },
 "nbformat": 4,
 "nbformat_minor": 2
}
