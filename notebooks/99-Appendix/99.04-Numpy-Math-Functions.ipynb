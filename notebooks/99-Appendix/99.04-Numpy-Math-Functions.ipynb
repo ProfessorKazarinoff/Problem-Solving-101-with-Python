{
 "cells": [
  {
   "cell_type": "markdown",
   "metadata": {},
   "source": [
    "## Numpy Math Functions"
   ]
  },
  {
   "cell_type": "markdown",
   "metadata": {},
   "source": [
    "Below is a selection of **numpy** math functions and methods divided into categories:"
   ]
  },
  {
   "cell_type": "markdown",
   "metadata": {},
   "source": [
    "### Numpy Statistics Fuctions and Methods"
   ]
  },
  {
   "cell_type": "markdown",
   "metadata": {
    "latex": {
     "environment": "function_listing"
    }
   },
   "source": [
    "np.mean()\n",
    "\n",
    "np.median()\n",
    "\n",
    "np.std()\n",
    "\n",
    "np.var()\n",
    "\n",
    "np.erf()"
   ]
  },
  {
   "cell_type": "markdown",
   "metadata": {},
   "source": [
    "### Numpy Trigonometric Functions and Methods"
   ]
  },
  {
   "cell_type": "markdown",
   "metadata": {
    "latex": {
     "environment": "function_listing"
    }
   },
   "source": [
    "np.pi()\n",
    "\n",
    "np.sin()\n",
    "\n",
    "np.cos()\n",
    "\n",
    "np.tan()\n",
    "\n",
    "np.arcsin()\n",
    "\n",
    "np.arccos()\n",
    "\n",
    "np.arctan()\n",
    "\n",
    "np.arcsinh()\n",
    "\n",
    "np.arccosh()\n",
    "\n",
    "np.arctanh()\n",
    "\n",
    "np.arctan2()\n",
    "\n",
    "np.radians()\n",
    "\n",
    "np.rad2deg()\n",
    "\n",
    "np.deg2rad()\n",
    "\n",
    "np.radians()\n",
    "\n",
    "np.sinc()\n",
    "\n",
    "np.sinh()\n",
    "\n",
    "np.tanh()\n",
    "\n",
    "np.angle()"
   ]
  },
  {
   "cell_type": "markdown",
   "metadata": {},
   "source": [
    "### Numpy Exponential and Logrithmic Functions and Methods"
   ]
  },
  {
   "cell_type": "markdown",
   "metadata": {
    "latex": {
     "environment": "function_listing"
    }
   },
   "source": [
    "np.log()\n",
    "\n",
    "np.log10()\n",
    "\n",
    "np.log1p()\n",
    "\n",
    "np.log2()\n",
    "\n",
    "np.logaddexp()\n",
    "\n",
    "np.logaddexp2()\n",
    "\n",
    "np.exp()\n",
    "\n",
    "np.exp2()\n",
    "\n",
    "np.sqrt()\n",
    "\n",
    "np.power()\n",
    "\n",
    "np.e()"
   ]
  },
  {
   "cell_type": "markdown",
   "metadata": {},
   "source": [
    "### Numpy Matrix Creation and Manipulation Functions and Methods"
   ]
  },
  {
   "cell_type": "markdown",
   "metadata": {
    "latex": {
     "environment": "function_listing"
    }
   },
   "source": [
    "np.linspace()\n",
    "\n",
    "np.zeros()\n",
    "\n",
    "np.ones()\n",
    "\n",
    "np.ndarray()\n",
    "\n",
    "np.matrix()\n",
    "\n",
    "np.traspose()\n",
    "\n",
    "np.size()\n",
    "\n",
    "np.shape()\n",
    "\n",
    "np.reshape()\n",
    "\n",
    "np.meshgrid()\n",
    "\n",
    "np.dot()\n",
    "\n",
    "np.asmatrix()\n",
    "\n",
    "np.asarray()\n",
    "\n",
    "np.arange()\n",
    "\n",
    "np.array()"
   ]
  },
  {
   "cell_type": "code",
   "execution_count": null,
   "metadata": {},
   "outputs": [],
   "source": []
  }
 ],
 "metadata": {
  "celltoolbar": "Edit Metadata",
  "kernelspec": {
   "display_name": "Python 3",
   "language": "python",
   "name": "python3"
  },
  "language_info": {
   "codemirror_mode": {
    "name": "ipython",
    "version": 3
   },
   "file_extension": ".py",
   "mimetype": "text/x-python",
   "name": "python",
   "nbconvert_exporter": "python",
   "pygments_lexer": "ipython3",
   "version": "3.6.4"
  }
 },
 "nbformat": 4,
 "nbformat_minor": 2
}
