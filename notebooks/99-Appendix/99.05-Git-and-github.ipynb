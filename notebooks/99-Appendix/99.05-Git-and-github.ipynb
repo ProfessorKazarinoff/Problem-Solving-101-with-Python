{
 "cells": [
  {
   "cell_type": "markdown",
   "metadata": {},
   "source": [
    "## Git and github.com"
   ]
  },
  {
   "cell_type": "markdown",
   "metadata": {},
   "source": [
    "**Git** is a common version control tool used by computer program developers to save code and work on code as a team. **Git** is a program run from the command line or **Anaconda Prompt**."
   ]
  },
  {
   "cell_type": "markdown",
   "metadata": {},
   "source": [
    "**github.com** is a website and service used by open source projects to share code and allow other users to make changes to exhisting code."
   ]
  },
  {
   "cell_type": "markdown",
   "metadata": {},
   "source": [
    "Both **git** and **github.com** are useful of engineers working in teams."
   ]
  },
  {
   "cell_type": "markdown",
   "metadata": {},
   "source": [
    "To use git and github the understanding of a few terms is import:\n",
    "\n",
    " * **git** - a command line program used to track file changes and colaborate on code with others\n",
    " * **repo** - short name for \"repository\". A repo is a directory that contains files and other subfolders with files\n",
    " * **local repo** -  a directory that contains files and subfolders on your computer that git knows about\n",
    " * **remote repo** - a set of files and subfolders stored in the cloud that git knows about"
   ]
  },
  {
   "cell_type": "markdown",
   "metadata": {},
   "source": [
    "The useful git commands are summarized below:\n",
    "\n",
    "| command | description |\n",
    "| --- | --- |\n",
    "| git init | initialize a new repository |\n",
    "| git remote add origin https://github.com/username/reponame.git | links a local git repo with a remote git repo on github.com |\n",
    "| git add . | adds all the files and changes to the local git repo |\n",
    "| git commit -m \"commit message\" | commits the changes in the local repo |\n",
    "| git push origin master | pushes the changes up to the remote repo on github.com |\n",
    "| git pull origin master | pulls the version in the remote repo down to the local repo |\n",
    "| git clone https://github.com/username/reponame.git | copies a remote repo on github.com to a local directory |\n"
   ]
  },
  {
   "cell_type": "code",
   "execution_count": null,
   "metadata": {},
   "outputs": [],
   "source": []
  }
 ],
 "metadata": {
  "kernelspec": {
   "display_name": "Python 3",
   "language": "python",
   "name": "python3"
  },
  "language_info": {
   "codemirror_mode": {
    "name": "ipython",
    "version": 3
   },
   "file_extension": ".py",
   "mimetype": "text/x-python",
   "name": "python",
   "nbconvert_exporter": "python",
   "pygments_lexer": "ipython3",
   "version": "3.6.3"
  }
 },
 "nbformat": 4,
 "nbformat_minor": 2
}
