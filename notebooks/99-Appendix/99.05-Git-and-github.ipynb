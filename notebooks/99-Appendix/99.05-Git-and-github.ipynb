{
 "cells": [
  {
   "cell_type": "markdown",
   "metadata": {},
   "source": [
    "## Git and github.com"
   ]
  },
  {
   "cell_type": "markdown",
   "metadata": {},
   "source": [
    "**Git** is a common version control tool used by computer program developers to save code and work on code as a team. **Git** is a program run from the command line or **Anaconda Prompt**."
   ]
  },
  {
   "cell_type": "markdown",
   "metadata": {},
   "source": [
    "**github.com** is a website and service used by open source projects to share code and allow other users to make changes to exhisting code."
   ]
  },
  {
   "cell_type": "markdown",
   "metadata": {},
   "source": [
    "Both **git** and **github.com** are useful of engineers working in teams."
   ]
  },
  {
   "cell_type": "markdown",
   "metadata": {},
   "source": [
    "To use git and github it is helpful to understanding a few key terms:\n",
    "\n",
    " * **git** - a command line program used to track file changes and colaborate building code with others\n",
    " * **repo** - short name for \"repository\". A repo is a directory that contains files and other subfolders with files\n",
    " * **local repo** -  a directory that contains files and subfolders on your computer that git knows about\n",
    " * **remote repo** - a set of files and subfolders stored in the cloud, often on github.com, that git knows about"
   ]
  },
  {
   "cell_type": "markdown",
   "metadata": {},
   "source": [
    "The useful git commands are summarized below:\n",
    "\n",
    "| command | description |\n",
    "| --- | --- |\n",
    "| git init | initialize a new repository |\n",
    "| git remote add origin https://github.com/username/reponame.git | links a local git repo with a remote git repo on github.com |\n",
    "| git add . | adds all the files and changes to the local git repo |\n",
    "| git commit -m \"commit message\" | commits the changes in the local repo |\n",
    "| git push origin master | pushes the changes up to the remote repo on github.com |\n",
    "| git pull origin master | pulls the version in the remote repo down to the local repo |\n",
    "| git clone https://github.com/username/reponame.git | copies a remote repo on github.com to a local directory |\n"
   ]
  },
  {
   "cell_type": "markdown",
   "metadata": {},
   "source": [
    "To use github.com and git to mange a project, there are three basic steps:\n",
    "\n",
    "1. create an account on github.com\n",
    "2. create a remote repo on github.com\n",
    "3. create a project directory and link to the remote repo. Sych the local repo with the remote rep.\n",
    "    \n",
    "    "
   ]
  },
  {
   "cell_type": "markdown",
   "metadata": {},
   "source": [
    "### Create a github.com account"
   ]
  },
  {
   "cell_type": "markdown",
   "metadata": {},
   "source": [
    "To sign up for a github.com account go here:\n",
    "\n",
    "[https://github.com/join](https://github.com/join)\n",
    "\n",
    "The account activation screen looks something like:\n",
    "\n",
    "![Github.com Join](images/join_github.png)"
   ]
  },
  {
   "cell_type": "markdown",
   "metadata": {},
   "source": [
    "### Create a remote repo on github.com"
   ]
  },
  {
   "cell_type": "markdown",
   "metadata": {},
   "source": [
    "Once the github.com account is set up, log in and create a new repository. Use the + button on the upper right-hand menu:\n",
    "\n",
    "![new github repo](images/new_github_repo.png)\n",
    "\n",
    "I named the new repository: **staticsite** and included both a **README.md** and a **GNU General Public License v3.0**. It is also a good idea to add a ```.gitignore``` file. This file lists the folders and files that will be ignored by git. \n",
    "\n",
    "![new github repo details](images/create_a_new_repo_details.png)"
   ]
  },
  {
   "cell_type": "markdown",
   "metadata": {},
   "source": [
    "### Make a project directory and link it to github"
   ]
  },
  {
   "cell_type": "markdown",
   "metadata": {},
   "source": [
    "Once the github repo (short for repository, basically a folder with files on github.com) is set up, the last step to complete the development environment is to link the remote repo on github to the local version of the site on the local computer. \n",
    "\n",
    "The local version is in a folder call ```staticsite``` in the ```Documents``` folder. The ```staticsite``` folder will contain all the files used to build the site and the output files created by Pelican that _are_ the site.\n",
    "\n",
    "```text\n",
    "$ cd ~\n",
    "$ cd Documents\n",
    "$ mkdir staticsite\n",
    "$ cd staticsite\n",
    "```\n",
    "\n",
    "We can set up git to keep the contents of the local staticsite folder in sync with the contents of the staticsite repo on github.com. The command ```git init``` will initiate or create the local repository. The command ```git remote add origin``` followed by the url of our github repo links local folder to the remote repo on github. Note the web address ends in ```.git```. If you are following along and want to build your own static site, make sure to change ```username``` to your github username and ```reponame``` to your github repo name.\n",
    "\n",
    "```text\n",
    "$ git init\n",
    "$ git remote add origin https://github.com/username/reponame.git\n",
    "```\n",
    "\n",
    "Now for the git magic. On github.com we have a README.md file and a licence. But the local staticsite folder on the computer is empty. So the two folders aren't in sync. To make the contents of each folder identical, we **_pull_** the files from github onto the local computer. A **_pull_** \"pulls\" or gets the files from github and copies them to the local staticsite folder.\n",
    "\n",
    "```\n",
    "(staticsite)$ git pull origin master\n",
    "```\n",
    "\n",
    "If you look in the local staticsite folder you should now see the following two files:\n",
    "\n",
    "```\n",
    "staticsite\n",
    "├── .gitignore\n",
    "├── LICENSE\n",
    "├── README.md\n",
    "```\n",
    "\n",
    "Now each time the project is worked on, navigate to the **staticsite** folder on the local computer. Before any editing, key in the command:\n",
    "\n",
    "```\n",
    "$ git pull origin master\n",
    "```\n",
    "\n",
    "After the _pull_, the staticsite folder is up-to-date with the newest version of all the files on github. Then go about editing files, adding files, deleting files, etc. After the edits, the last thing to do before shutting down the computer for the day is add all the changes to git with ```git add .``` (note there is a space between the ```add``` and the period ```.```). Then commit those changes locally with the line ```git commit -m \"commit message\"``` (note there are double quotes ```\"commit message\"``` used around the commit message), and finally push the changes up to github.com with ```git push origin master```. Now the version of the site up on github.com is the same as the version of the project on the local machine.\n",
    "\n",
    "```\n",
    "git add .\n",
    "git commit -m \"commit message\"\n",
    "git push origin master\n",
    "```\n",
    "\n",
    "This ensures the local computer and the github.com repo contain the same version of the project."
   ]
  },
  {
   "cell_type": "code",
   "execution_count": null,
   "metadata": {},
   "outputs": [],
   "source": []
  }
 ],
 "metadata": {
  "kernelspec": {
   "display_name": "Python 3",
   "language": "python",
   "name": "python3"
  },
  "language_info": {
   "codemirror_mode": {
    "name": "ipython",
    "version": 3
   },
   "file_extension": ".py",
   "mimetype": "text/x-python",
   "name": "python",
   "nbconvert_exporter": "python",
   "pygments_lexer": "ipython3",
   "version": "3.6.4"
  }
 },
 "nbformat": 4,
 "nbformat_minor": 2
}
