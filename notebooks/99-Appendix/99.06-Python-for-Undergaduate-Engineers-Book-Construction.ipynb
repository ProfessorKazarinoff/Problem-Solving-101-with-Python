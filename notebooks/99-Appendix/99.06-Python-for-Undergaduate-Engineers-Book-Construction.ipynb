{
 "cells": [
  {
   "cell_type": "markdown",
   "metadata": {},
   "source": [
    "## Python for Undergraduate Engineers Book Construction"
   ]
  },
  {
   "cell_type": "markdown",
   "metadata": {},
   "source": [
    "### Jupyter Notebooks"
   ]
  },
  {
   "cell_type": "markdown",
   "metadata": {},
   "source": [
    "This book was constructed using **jupyter notebooks** saved on github.com. The github repo for the books can be found at:\n",
    "    \n",
    "[https://github.com/ProfessorKazarinoff/PythonForUndergraduateEngineers](https://github.com/ProfessorKazarinoff/PythonForUndergraduateEngineers)"
   ]
  },
  {
   "cell_type": "markdown",
   "metadata": {},
   "source": [
    "The directory structure of the github repo contains the **jupyter notebooks** that were use the write the book, a set of conversion tools and the output of these conversion tools, the book website and pdf's that make the hard copy of the book"
   ]
  },
  {
   "cell_type": "markdown",
   "metadata": {},
   "source": [
    "```\n",
    "PythonForUndergraduateEngineers/\n",
    "|-- conversion_tools/\n",
    "|-- notebooks/\n",
    "|-- LICENSE\n",
    "|-- notebooks/\n",
    "|-- pdf/\n",
    "|-- README.md\n",
    "|-- website/\n",
    "```"
   ]
  },
  {
   "cell_type": "markdown",
   "metadata": {},
   "source": [
    "The notebooks directory contains a folder for each chapter of the book:"
   ]
  },
  {
   "cell_type": "markdown",
   "metadata": {},
   "source": [
    "```\n",
    "Notebooks/\n",
    "|-- 00-Preface/\n",
    "|-- 01-Orientation/\n",
    "|-- 02-The-Python-REPL/\n",
    "|-- 03-Data-Types-and-Variables/\n",
    "|-- 04-Jupyter-Notebooks/\n",
    "|-- 05-Functions-and-Modules/\n",
    "|-- 06-Plotting-with-Matplotlib/\n",
    "|-- 07-If-Else-Try-Except/\n",
    "|-- 08-Loops/\n",
    "|-- 09-Linear-Algebra/\n",
    "|-- 10-Symbolic-Math/\n",
    "|-- 11-Python-and-External-Hardware/\n",
    "|-- 12-MicroPython/\n",
    "|-- 99-Appendix/\n",
    "|-- figures/\n",
    "`-- TOC.ipynb\n",
    "```"
   ]
  },
  {
   "cell_type": "markdown",
   "metadata": {},
   "source": [
    "Within each chapter directory there is a **jupyter notebook** for each section and an images directory for any images used in the markdown sections of the notebooks\n",
    "\n",
    "```\n",
    "01-Orientation/\n",
    "|-- 01.00-Welcome.ipynb\n",
    "|-- 01.01-Why-Python.ipynb\n",
    "|-- 01.02-Installing-Python.ipynb\n",
    "|-- 01.03-Installing-Anaconda.ipynb\n",
    "|-- 01.04-Installing-Anaconda-on-OSX.ipynb\n",
    "|-- 01.05-Summary.ipynb\n",
    "|-- 01.06-Review-Questions.ipynb\n",
    "`-- images/\n",
    "```"
   ]
  },
  {
   "cell_type": "markdown",
   "metadata": {},
   "source": [
    "### Website"
   ]
  },
  {
   "cell_type": "markdown",
   "metadata": {},
   "source": [
    "The website for the book was constructed using mkdocs. Jupyter noteboks were exported to html with the markdown cells unformatted. "
   ]
  },
  {
   "cell_type": "markdown",
   "metadata": {},
   "source": [
    "### Hardcopy"
   ]
  },
  {
   "cell_type": "markdown",
   "metadata": {},
   "source": [
    "The hard copy of the book was constructed using **LateX** and **nbconvert**. A conversion script combined all of the notebooks into one BIG notebook and converted the one BIG notebook to **LaTeX** using a custom template."
   ]
  },
  {
   "cell_type": "code",
   "execution_count": null,
   "metadata": {
    "collapsed": true
   },
   "outputs": [],
   "source": []
  }
 ],
 "metadata": {
  "kernelspec": {
   "display_name": "Python 3",
   "language": "python",
   "name": "python3"
  },
  "language_info": {
   "codemirror_mode": {
    "name": "ipython",
    "version": 3
   },
   "file_extension": ".py",
   "mimetype": "text/x-python",
   "name": "python",
   "nbconvert_exporter": "python",
   "pygments_lexer": "ipython3",
   "version": "3.6.4"
  }
 },
 "nbformat": 4,
 "nbformat_minor": 2
}
