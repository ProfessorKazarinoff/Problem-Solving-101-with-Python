{
 "cells": [
  {
   "cell_type": "markdown",
   "metadata": {},
   "source": [
    "## Virtual Environments"
   ]
  },
  {
   "cell_type": "markdown",
   "metadata": {},
   "source": [
    "Using __virtual environments__ is good standard practice when using Python. A virtual environment is a standalone Python interpreter and isolated installed packages unique to that environment. "
   ]
  },
  {
   "cell_type": "markdown",
   "metadata": {},
   "source": [
    "### Benefits of Virtual Environments"
   ]
  },
  {
   "cell_type": "markdown",
   "metadata": {},
   "source": [
    "Virtual environments keep the Python version and stand-alone package versions all in the same place. If two different projects use two different versions of Python or use two different versions of an installed 3rd-party package, virtual environments separates these two installations separate. \n",
    "\n",
    "The Python version and installed packages in a virtual environment can be shared with others in the form of a **_requirements.txt_** or **_environment.yml_** file. These files can be shared to produce the same environment on another machine or so the same environment can be reproduced by another programmer."
   ]
  },
  {
   "cell_type": "markdown",
   "metadata": {},
   "source": [
    "### Get the current Python interpreter"
   ]
  },
  {
   "cell_type": "markdown",
   "metadata": {},
   "source": [
    "The file path to the current running Python interpreter can be accessed using the **sys** module. ```sys.prefix``` will output the system path for the running Python interpreter"
   ]
  },
  {
   "cell_type": "code",
   "execution_count": 1,
   "metadata": {},
   "outputs": [
    {
     "data": {
      "text/plain": [
       "'/home/tribilium/anaconda3/envs/book'"
      ]
     },
     "execution_count": 1,
     "metadata": {},
     "output_type": "execute_result"
    }
   ],
   "source": [
    "import sys\n",
    "sys.prefix"
   ]
  },
  {
   "cell_type": "markdown",
   "metadata": {},
   "source": [
    "### Get a list of installed packages"
   ]
  },
  {
   "cell_type": "markdown",
   "metadata": {},
   "source": [
    "A list of installed packages in the current environment can be accessed using the **site** module. ```site.getsitepackages()``` will return the file path where the site-packages are stored. The code below will lists all of the installed packages using the **os** module and ```os.listdir()``` to list the contents of the directory where the site-packages are stored."
   ]
  },
  {
   "cell_type": "markdown",
   "metadata": {},
   "source": [
    "```python\n",
    "import os\n",
    "import site\n",
    "print(site.getsitepackages())\n",
    "os.listdir(site.getsitepackages()[0])\n",
    "```\n",
    "\n",
    "```python\n",
    "['/home/tribilium/anaconda3/envs/book/lib/python3.6/site-packages']\n",
    "\n",
    "['jinja2',\n",
    " 'asn1crypto',\n",
    " 'ipython_genutils-0.2.0-py3.6.egg-info',\n",
    " 'alabaster',\n",
    " 'yapf-0.22.0-py2.7.egg-info',\n",
    " 'requests',\n",
    " 'Pygments-2.2.0-py3.6.egg-info',\n",
    " 'urllib3',\n",
    " ...]\n",
    "```"
   ]
  },
  {
   "cell_type": "markdown",
   "metadata": {},
   "source": [
    "### Virtual environments with conda"
   ]
  },
  {
   "cell_type": "markdown",
   "metadata": {},
   "source": [
    "The **Anaconda Prompt** is useful for installing third party packages and creating virtual environments. To create the new virtual environment, issue the following command at the **Anaconda Prompt**:\n",
    "\n",
    "```text\n",
    "> conda create --name <env_name> python=3.6\n",
    "```\n",
    "\n",
    "The ```conda create``` command builds the new virtual environment. The ```--name <env_name>``` flag gives the new virtual environment the name ```<env_name>```. Replace ```<env_name>``` with the name of the new virtual environment. Including ```python=3.6``` ensures the virtual environment has an up to date version of Python. \n",
    "\n",
    "After issuing the command, the output will be something like:\n",
    "\n",
    "```text\n",
    "The following NEW packages will be INSTALLED:\n",
    "\n",
    "    certifi:        2016.2.28-py36_0\n",
    "    pip:            9.0.1-py36_1\n",
    "    python:         3.6.2-0\n",
    "    setuptools:     36.4.0-py36_0\n",
    "    vs2015_runtime: 14.0.25420-0\n",
    "    wheel:          0.29.0-py36_0\n",
    "    wincertstore:   0.2-py36_0\n",
    "\n",
    "Proceed ([y]/n)? y\n",
    "```\n",
    "\n",
    "Type ```y``` to confirm and create the new virtual environment. To use the new virtual environment, it needs to be  _activated_. A virtual environment is activated by typing the command below. Note that ```<env_name>``` needs to be replaced by the name of the virtual environment.\n",
    "\n",
    "```text\n",
    ">  conda activate <env_name>\n",
    "```\n",
    "\n",
    "You know you are in your virtual environment ```<env_name>``` when ```(<env_name>)``` is in parenthesis at the start of the **Anaconda Prompt**:\n",
    "\n",
    "```text\n",
    "> (webscrape)\n",
    "```\n",
    "\n",
    "To deactivate an active environment, type:\n",
    "\n",
    "```text\n",
    "> conda deactivate\n",
    "```\n",
    "\n",
    "If you see the ```(<env_name>)``` in parenthesis before the command prompt, that means the new virtual environment is set up and active. A list of your virtual environments installed on your machine can be accessed using the ```conda info --envs``` or ```conda env list``` commands.\n",
    "\n",
    "```text\n",
    "> conda info --envs\n",
    "\n",
    "# conda environments:\n",
    "#\n",
    "matplotlib               /home/tribilium/anaconda3/envs/matplotlib\n",
    "webscrape              * /home/tribilium/anaconda3/envs/webscrape\n",
    "base                     /home/tribilium/anaconda3\n",
    "```\n",
    "\n",
    "Notice the ``` * ``` asterisk on the line with ```webscrape```. The virtual environment with the ``` * ``` is currently active. \n",
    "\n",
    "To exit the virtual environment, use the command ```conda deactivate```. If ```conda env list``` is run again, there will  not be an asterisk ```*``` in front of ```webscrape```. That's because ```webscrape``` is not the active virtual environment.\n",
    "\n",
    "```text\n",
    "> conda env list\n",
    "\n",
    "# conda environments:\n",
    "#\n",
    "matplotlib               /home/tribilium/anaconda3/envs/matplotlib\n",
    "webscrape                /home/tribilium/anaconda3/envs/webscrape\n",
    "base                  *  /home/tribilium/anaconda3\n",
    "```"
   ]
  },
  {
   "cell_type": "markdown",
   "metadata": {},
   "source": [
    "### Virtual environments with pip and virtualenv"
   ]
  },
  {
   "cell_type": "markdown",
   "metadata": {},
   "source": [
    "Virtual environments can also be created with **pip**, and a 3rd-party python environment manager **virtualenv**. **virtualenv** is a Python package used to create and manage virtual environments. To use **virtualenv**, first make sure it is installed using **pip** at the commandline.\n",
    "\n",
    "```text\n",
    "$ pip install virtualenv\n",
    "```\n",
    "\n",
    "Once installed, **virtualenv** will create a new virtual environment with the command below. Note ```<env_name>``` needs to be replaced by the name of the new virtual environment.\n",
    "\n",
    "```text\n",
    "$ virtualenv <env_name>\n",
    "```\n",
    "\n",
    "To activate the virtual environment use the command:\n",
    "\n",
    "```text\n",
    "$ source bin/activate\n",
    "```\n",
    "\n",
    "Once active, the virtual environment name will be shown in parenthesis ```()``` before the command prompt\n",
    "\n",
    "```text\n",
    "(<env_name>)$\n",
    "```\n",
    "\n",
    "The location of the Python interpreter being used by the currenly active virtual environment can be found with:\n",
    "\n",
    "```text\n",
    "(<env_name>)$ which python\n",
    "/Users/peter/<env_name>/bin/python\n",
    "```\n",
    "\n",
    "To exit the virtual environment use the command ```deactivate```:\n",
    "\n",
    "```text\n",
    "(<env_name>)$ deactivate\n",
    "```\n",
    "\n",
    "When the virtual environment is no longer active, there will be no environment name before the command prompt. A check for the current Python interpreter will return a different path than before when the virtual environment was active\n",
    "\n",
    "```text\n",
    "$ which python\n",
    "/usr/bin/python\n",
    "```\n"
   ]
  },
  {
   "cell_type": "code",
   "execution_count": null,
   "metadata": {},
   "outputs": [],
   "source": []
  }
 ],
 "metadata": {
  "kernelspec": {
   "display_name": "Python 3",
   "language": "python",
   "name": "python3"
  },
  "language_info": {
   "codemirror_mode": {
    "name": "ipython",
    "version": 3
   },
   "file_extension": ".py",
   "mimetype": "text/x-python",
   "name": "python",
   "nbconvert_exporter": "python",
   "pygments_lexer": "ipython3",
   "version": "3.6.4"
  }
 },
 "nbformat": 4,
 "nbformat_minor": 2
}
