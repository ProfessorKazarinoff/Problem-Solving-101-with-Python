{
 "cells": [
  {
   "cell_type": "markdown",
   "metadata": {},
   "source": [
    "## Problem Solving 101 with Python Book Construction"
   ]
  },
  {
   "cell_type": "markdown",
   "metadata": {},
   "source": [
    "### Jupyter Notebooks"
   ]
  },
  {
   "cell_type": "markdown",
   "metadata": {},
   "source": [
    "_Problem Solving 101 with Python_ was written in **jupyter notebooks** on a variety of computers. The GitHub repo for the Jupyter notebooks that make up the book can be found at:\n",
    "    \n",
    "[https://github.com/ProfessorKazarinoff/Problem-Solving-101-with-Python](https://github.com/ProfessorKazarinoff/Problem-Solving-101-with-Python)"
   ]
  },
  {
   "cell_type": "markdown",
   "metadata": {},
   "source": [
    "The directory structure of the GitHub repo contains the **jupyter notebooks** that were use the write the book, a set of conversion tools, and the files used to build the book website. The conversion tools allow the same source notebooks to be converted into three formats: LaTeX, website, and PDF. "
   ]
  },
  {
   "cell_type": "markdown",
   "metadata": {},
   "source": [
    "```\n",
    "Problem-Solving-101-with-Python/\n",
    "|-- conversion_tools/\n",
    "|-- notebooks/\n",
    "|-- website/\n",
    "|-- .gitignore\n",
    "|-- LICENSE\n",
    "|-- README.md\n",
    "|-- runtime.txt/\n",
    "|-- requirements.txt\n",
    "```"
   ]
  },
  {
   "cell_type": "markdown",
   "metadata": {},
   "source": [
    "The notebooks directory contains a folder for each chapter of the book:"
   ]
  },
  {
   "cell_type": "markdown",
   "metadata": {},
   "source": [
    "```\n",
    "notebooks/\n",
    "|-- 00-Preface/\n",
    "|-- 01-What-is-Python/\n",
    "|-- 02-Installing-Python/\n",
    "|-- 03-Jupyter-Notebooks/\n",
    "|-- 04-The-Python-REPL/\n",
    "|-- 05-Plotting-with-Matplotlib/\n",
    "|-- 06-User-Input-and-Loops/\n",
    "|-- 99-Appendix/\n",
    "|-- figures/\n",
    "`-- TOC.ipynb\n",
    "```"
   ]
  },
  {
   "cell_type": "markdown",
   "metadata": {},
   "source": [
    "Within each chapter directory, there is a **jupyter notebook** for each section and an images directory for any images used in the markdown sections of the notebooks.\n",
    "\n",
    "```\n",
    "01-What-is-Python/\n",
    "|-- 01.00-Introduction.ipynb\n",
    "|-- 01.01-What-is-Python.ipynb\n",
    "|-- 01.02-Why-Python.ipynb\n",
    "|-- 01.03-What-is-Anaconda.ipynb\n",
    "|-- 01.04-Summary.ipynb\n",
    "|-- 01.05-Review-Questions.ipynb\n",
    "`-- images/\n",
    "```"
   ]
  },
  {
   "cell_type": "markdown",
   "metadata": {},
   "source": [
    "### Website"
   ]
  },
  {
   "cell_type": "markdown",
   "metadata": {},
   "source": [
    "The website for the book was constructed using **mkdocs** [https://www.mkdocs.org/](https://www.mkdocs.org/) and the **mkdocs-material** theme [https://squidfunk.github.io/mkdocs-material/](https://squidfunk.github.io/mkdocs-material/). \n",
    "\n",
    "**Jupyter noteboks** were exported to html with the markdown cells unformatted using **nbconvert**. A custom script constructed the **_mkdocs.yml_** file which contains the table of contents for the website. The static files produced by **mkdocs** are hosted on GitHub Pages [(https://pages.github.com/)](https://pages.github.com/)"
   ]
  },
  {
   "cell_type": "markdown",
   "metadata": {},
   "source": [
    "### Hardcopy"
   ]
  },
  {
   "cell_type": "markdown",
   "metadata": {},
   "source": [
    "The hard copy of the book was constructed using **LaTeX** and **nbconvert**. A conversion script combined all of the notebooks into one BIG notebook. The conversion script then converted the one BIG combined notebook to **LaTeX** using a **nbconvert** and a custom template. **TeXworks** was used to compile the LaTeX to PDF prior to printing."
   ]
  },
  {
   "cell_type": "code",
   "execution_count": null,
   "metadata": {},
   "outputs": [],
   "source": []
  }
 ],
 "metadata": {
  "kernelspec": {
   "display_name": "Python 3",
   "language": "python",
   "name": "python3"
  },
  "language_info": {
   "codemirror_mode": {
    "name": "ipython",
    "version": 3
   },
   "file_extension": ".py",
   "mimetype": "text/x-python",
   "name": "python",
   "nbconvert_exporter": "python",
   "pygments_lexer": "ipython3",
   "version": "3.6.4"
  }
 },
 "nbformat": 4,
 "nbformat_minor": 2
}
