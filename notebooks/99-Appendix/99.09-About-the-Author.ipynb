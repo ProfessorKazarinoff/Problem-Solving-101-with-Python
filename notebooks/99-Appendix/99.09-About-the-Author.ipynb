{
 "cells": [
  {
   "cell_type": "markdown",
   "metadata": {},
   "source": [
    "## About the Author"
   ]
  },
  {
   "cell_type": "markdown",
   "metadata": {},
   "source": [
    "Peter D. Kazarinoff, PhD is a full-time faculty member in Engineering and Engineering Technology at Portland Community College in Portland, OR. Peter earned a PhD in Materials Science and Engineering from the University of Washington and a BA in Chemistry from Cornell University.\n",
    "\n",
    "Peter teaches Engineering Programming and Mechanical Engineering courses. He strives to make Engineering Programming accessible to all students and build a welcoming environment for all learners.\n",
    "\n",
    "Peter is the author of over 30 repos on github.com, he can be found on GitHub at \n",
    "\n",
    "[https://github.com/professorkazarinoff](https://github.com/professorkazarinoff)\n",
    "\n",
    "Peter runs and maintains the blog **Python for Undergraduate Engineers** at\n",
    "\n",
    "[http://pythonforundergradengineers.com/](http://pythonforundergradengineers.com/)\n",
    "\n",
    "Peter lives in beautiful Portland, OR with his wife and two kids."
   ]
  },
  {
   "cell_type": "code",
   "execution_count": null,
   "metadata": {
    "collapsed": true
   },
   "outputs": [],
   "source": []
  }
 ],
 "metadata": {
  "kernelspec": {
   "display_name": "Python 3",
   "language": "python",
   "name": "python3"
  },
  "language_info": {
   "codemirror_mode": {
    "name": "ipython",
    "version": 3
   },
   "file_extension": ".py",
   "mimetype": "text/x-python",
   "name": "python",
   "nbconvert_exporter": "python",
   "pygments_lexer": "ipython3",
   "version": "3.6.5"
  }
 },
 "nbformat": 4,
 "nbformat_minor": 2
}
