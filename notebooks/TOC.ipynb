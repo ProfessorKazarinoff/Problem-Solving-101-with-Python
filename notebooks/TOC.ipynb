{
 "cells": [
  {
   "cell_type": "markdown",
   "metadata": {},
   "source": [
    "# Python for Undergraduate Engineers\n",
    "\n",
    "# Table of Contents\n",
    "\n",
    "## Preface\n",
    "\n",
    "## Chapter 1. Orientation\n",
    " + ### 1.1 Why Python?\n",
    " + ### 1.2 Installing Python\n",
    " + ### 1.3 Installing Anaconda\n",
    "\n",
    "## Chapter 2. Engineering 101 - the Python REPL\n",
    " + ### 2.1 Starting the Python REPL\n",
    " + ### 2.2 Python as a fancy calculator\n",
    " + ### 2.3 Boolean Arithmetic\n",
    " \n",
    "## Chapter 3. Statics - Python data types and variables\n",
    "\n",
    "## Chapter 4. Circuits I - Functions\n",
    "\n",
    "## Chapter 5. Strengths - Plotting with matplotlib\n",
    "\n",
    "## Chapter 6. Circuits II - If / elseif/ else\n",
    "\n",
    "## Chapter 7. Dynamics - For and While loops\n",
    "\n",
    "## Chapter 8. Circuits III - Python Classes\n",
    "\n",
    "## Chapter 9. Capstone - Python and Arduino\n",
    "\n",
    "## Chapter 10. Independant Project - Micropython\n",
    "\n"
   ]
  },
  {
   "cell_type": "code",
   "execution_count": null,
   "metadata": {},
   "outputs": [],
   "source": []
  }
 ],
 "metadata": {
  "kernelspec": {
   "display_name": "Python 3",
   "language": "python",
   "name": "python3"
  },
  "language_info": {
   "codemirror_mode": {
    "name": "ipython",
    "version": 3
   },
   "file_extension": ".py",
   "mimetype": "text/x-python",
   "name": "python",
   "nbconvert_exporter": "python",
   "pygments_lexer": "ipython3",
   "version": "3.6.4"
  }
 },
 "nbformat": 4,
 "nbformat_minor": 2
}
