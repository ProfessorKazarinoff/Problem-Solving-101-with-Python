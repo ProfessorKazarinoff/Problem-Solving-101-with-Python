{
 "cells": [
  {
   "cell_type": "markdown",
   "metadata": {},
   "source": [
    "# Problem Solving 101 with Python 3.7 Edition\n",
    "\n",
    "# Table of Contents\n",
    "\n",
    "## Preface\n",
    " + ### 0.00 Motivation\n",
    " + ### 0.01 Acknowledgments\n",
    " + ### 0.02 Supporting Materials\n",
    " + ### 0.03 Formatting Conventions\n",
    " + ### 0.04 Errata\n",
    "\n",
    "## Chapter 1. What is Python\n",
    " + ### 1.00 Introduction\n",
    " + ### 1.01 What is Python?\n",
    " + ### 1.02 Why Python?\n",
    " + ### 1.03 What is Anaconda?\n",
    " + ### 1.04 Summary\n",
    " + ### 1.05 Review Questions\n",
    "\n",
    "## Chapter 2. Installing Python\n",
    " + ### 2.00 Introduction\n",
    " + ### 2.01 Installing Anaconda on Windows\n",
    " + ### 2.02 Installing Anaconda on MacOS\n",
    " + ### 2.03 Installing Anaconda on Linux\n",
    " + ### 2.04 Installing Python\n",
    " + ### 2.05 Summary\n",
    " \n",
    "## Chapter 3. Jupyter Notebooks\n",
    " + ### 3.00 Introduction\n",
    " + ### 3.01 What is a Jupyter Notebook?\n",
    " + ### 3.02 Why Jupyter Notebooks?\n",
    " + ### 3.03 Installing Jupyter\n",
    " + ### 3.04 Opening a Jupyter Notebook\n",
    " + ### 3.05 The Jupyter Notebook Interface\n",
    " + ### 3.06 Magic Cells\n",
    " + ### 3.07 Getting Help in a Jupyter Notebook\n",
    " + ### 3.08 Summary\n",
    " + ### 3.09 Review Questions\n",
    "\n",
    "## Chapter 4. The Python REPL\n",
    "\n",
    "## Chapter 5. Plotting with Matplotlib\n",
    "\n",
    "## Chapter 6. User Input\n",
    "\n",
    "## Chapter 7. Loops\n",
    "\n",
    "## Appendix"
   ]
  },
  {
   "cell_type": "code",
   "execution_count": null,
   "metadata": {},
   "outputs": [],
   "source": []
  }
 ],
 "metadata": {
  "kernelspec": {
   "display_name": "Python 3",
   "language": "python",
   "name": "python3"
  },
  "language_info": {
   "codemirror_mode": {
    "name": "ipython",
    "version": 3
   },
   "file_extension": ".py",
   "mimetype": "text/x-python",
   "name": "python",
   "nbconvert_exporter": "python",
   "pygments_lexer": "ipython3",
   "version": "3.6.4"
  }
 },
 "nbformat": 4,
 "nbformat_minor": 2
}
