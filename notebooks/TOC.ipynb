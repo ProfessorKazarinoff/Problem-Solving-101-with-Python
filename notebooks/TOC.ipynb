{
 "cells": [
  {
   "cell_type": "markdown",
   "metadata": {},
   "source": [
    "# Problem Solving 101 with Python\n",
    "\n",
    "An introductory text about solving problems with Python for undergraduate engineers new to Python and computer programming.\n",
    "\n",
    "by Peter D. Kazarinoff, PhD\n",
    "\n",
    "# Table of Contents\n",
    "\n",
    "## Preface\n",
    "\n",
    "## Chapter 1 What is Python?\n",
    "\n",
    "## Chapter 2 Installing Python\n",
    "\n",
    "## Chapter 3 Jupyter Notebooks\n",
    "\n",
    "## Chapter 4 The Python REPL\n",
    "\n",
    "## Chapter 5 Plotting with Matplotlib\n",
    "\n",
    "## Chapter 6 User Input and Loops\n",
    "\n",
    "## Appendix\n"
   ]
  },
  {
   "cell_type": "code",
   "execution_count": null,
   "metadata": {},
   "outputs": [],
   "source": []
  }
 ],
 "metadata": {
  "kernelspec": {
   "display_name": "Python 3",
   "language": "python",
   "name": "python3"
  },
  "language_info": {
   "codemirror_mode": {
    "name": "ipython",
    "version": 3
   },
   "file_extension": ".py",
   "mimetype": "text/x-python",
   "name": "python",
   "nbconvert_exporter": "python",
   "pygments_lexer": "ipython3",
   "version": "3.6.4"
  }
 },
 "nbformat": 4,
 "nbformat_minor": 2
}
